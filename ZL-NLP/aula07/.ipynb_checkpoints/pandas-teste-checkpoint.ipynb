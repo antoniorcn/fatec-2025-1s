{
 "cells": [
  {
   "cell_type": "code",
   "execution_count": null,
   "id": "6b36ba41-5014-4605-bf6f-5c63ab54ff96",
   "metadata": {},
   "outputs": [],
   "source": [
    "#   !pip install pandas"
   ]
  },
  {
   "cell_type": "code",
   "execution_count": 1,
   "id": "2dd7cda3-6411-4eee-8c68-e7ebf104ead2",
   "metadata": {},
   "outputs": [],
   "source": [
    "import pandas as pd"
   ]
  },
  {
   "cell_type": "code",
   "execution_count": 13,
   "id": "d3f72d6b-9a66-4753-a57c-ac699e30b929",
   "metadata": {},
   "outputs": [],
   "source": [
    "# cliente          A  B  C  D  E\n",
    "loja = { \n",
    "    \"notebooks\" : [2, 5, 1, 7, 3],\n",
    "    \"celulares\" : [6, 10, 7, 8, 9]\n",
    "}"
   ]
  },
  {
   "cell_type": "code",
   "execution_count": 15,
   "id": "c9aa290b-87bf-4db7-8a1f-de21eb9029bb",
   "metadata": {},
   "outputs": [],
   "source": [
    "df_loja = pd.DataFrame( loja )"
   ]
  },
  {
   "cell_type": "code",
   "execution_count": 19,
   "id": "34c4c744-22dd-42d8-85e3-84eadbedc33a",
   "metadata": {},
   "outputs": [
    {
     "data": {
      "text/plain": [
       "7"
      ]
     },
     "execution_count": 19,
     "metadata": {},
     "output_type": "execute_result"
    }
   ],
   "source": [
    "df_loja[\"notebooks\"][3]"
   ]
  },
  {
   "cell_type": "code",
   "execution_count": 23,
   "id": "e2af9a42-86da-461c-b2a6-18c549ac146e",
   "metadata": {},
   "outputs": [],
   "source": [
    "df_loja = pd.DataFrame( loja, index=['A', 'B', 'C', 'D', 'E'] )"
   ]
  },
  {
   "cell_type": "code",
   "execution_count": 25,
   "id": "e0fffba9-b85c-434a-a80d-059c36b21592",
   "metadata": {},
   "outputs": [
    {
     "data": {
      "text/html": [
       "<div>\n",
       "<style scoped>\n",
       "    .dataframe tbody tr th:only-of-type {\n",
       "        vertical-align: middle;\n",
       "    }\n",
       "\n",
       "    .dataframe tbody tr th {\n",
       "        vertical-align: top;\n",
       "    }\n",
       "\n",
       "    .dataframe thead th {\n",
       "        text-align: right;\n",
       "    }\n",
       "</style>\n",
       "<table border=\"1\" class=\"dataframe\">\n",
       "  <thead>\n",
       "    <tr style=\"text-align: right;\">\n",
       "      <th></th>\n",
       "      <th>notebooks</th>\n",
       "      <th>celulares</th>\n",
       "    </tr>\n",
       "  </thead>\n",
       "  <tbody>\n",
       "    <tr>\n",
       "      <th>A</th>\n",
       "      <td>2</td>\n",
       "      <td>6</td>\n",
       "    </tr>\n",
       "    <tr>\n",
       "      <th>B</th>\n",
       "      <td>5</td>\n",
       "      <td>10</td>\n",
       "    </tr>\n",
       "    <tr>\n",
       "      <th>C</th>\n",
       "      <td>1</td>\n",
       "      <td>7</td>\n",
       "    </tr>\n",
       "    <tr>\n",
       "      <th>D</th>\n",
       "      <td>7</td>\n",
       "      <td>8</td>\n",
       "    </tr>\n",
       "    <tr>\n",
       "      <th>E</th>\n",
       "      <td>3</td>\n",
       "      <td>9</td>\n",
       "    </tr>\n",
       "  </tbody>\n",
       "</table>\n",
       "</div>"
      ],
      "text/plain": [
       "   notebooks  celulares\n",
       "A          2          6\n",
       "B          5         10\n",
       "C          1          7\n",
       "D          7          8\n",
       "E          3          9"
      ]
     },
     "execution_count": 25,
     "metadata": {},
     "output_type": "execute_result"
    }
   ],
   "source": [
    "df_loja"
   ]
  },
  {
   "cell_type": "code",
   "execution_count": 27,
   "id": "9f8062d5-a92d-4849-a251-b2faaf2a1e99",
   "metadata": {},
   "outputs": [
    {
     "data": {
      "text/plain": [
       "7"
      ]
     },
     "execution_count": 27,
     "metadata": {},
     "output_type": "execute_result"
    }
   ],
   "source": [
    "df_loja[\"celulares\"][\"C\"]"
   ]
  },
  {
   "cell_type": "code",
   "execution_count": 37,
   "id": "1e9d94f0-6ba6-45a2-8a33-134b6384e7a4",
   "metadata": {},
   "outputs": [],
   "source": [
    "df_loja = pd.DataFrame.from_dict( loja, orient=\"index\", columns=['A', 'B', 'C', 'D', 'E'] )"
   ]
  },
  {
   "cell_type": "code",
   "execution_count": 39,
   "id": "99e4156f-8de0-4ad4-82e9-849b60cf8a62",
   "metadata": {},
   "outputs": [
    {
     "data": {
      "text/html": [
       "<div>\n",
       "<style scoped>\n",
       "    .dataframe tbody tr th:only-of-type {\n",
       "        vertical-align: middle;\n",
       "    }\n",
       "\n",
       "    .dataframe tbody tr th {\n",
       "        vertical-align: top;\n",
       "    }\n",
       "\n",
       "    .dataframe thead th {\n",
       "        text-align: right;\n",
       "    }\n",
       "</style>\n",
       "<table border=\"1\" class=\"dataframe\">\n",
       "  <thead>\n",
       "    <tr style=\"text-align: right;\">\n",
       "      <th></th>\n",
       "      <th>A</th>\n",
       "      <th>B</th>\n",
       "      <th>C</th>\n",
       "      <th>D</th>\n",
       "      <th>E</th>\n",
       "    </tr>\n",
       "  </thead>\n",
       "  <tbody>\n",
       "    <tr>\n",
       "      <th>notebooks</th>\n",
       "      <td>2</td>\n",
       "      <td>5</td>\n",
       "      <td>1</td>\n",
       "      <td>7</td>\n",
       "      <td>3</td>\n",
       "    </tr>\n",
       "    <tr>\n",
       "      <th>celulares</th>\n",
       "      <td>6</td>\n",
       "      <td>10</td>\n",
       "      <td>7</td>\n",
       "      <td>8</td>\n",
       "      <td>9</td>\n",
       "    </tr>\n",
       "  </tbody>\n",
       "</table>\n",
       "</div>"
      ],
      "text/plain": [
       "           A   B  C  D  E\n",
       "notebooks  2   5  1  7  3\n",
       "celulares  6  10  7  8  9"
      ]
     },
     "execution_count": 39,
     "metadata": {},
     "output_type": "execute_result"
    }
   ],
   "source": [
    "df_loja"
   ]
  },
  {
   "cell_type": "code",
   "execution_count": 41,
   "id": "578ee313-53c7-4052-9268-39d7fde5f350",
   "metadata": {},
   "outputs": [
    {
     "data": {
      "text/plain": [
       "6"
      ]
     },
     "execution_count": 41,
     "metadata": {},
     "output_type": "execute_result"
    }
   ],
   "source": [
    "df_loja[\"A\"][\"celulares\"]"
   ]
  },
  {
   "cell_type": "code",
   "execution_count": 47,
   "id": "83229247-7d40-4e33-bf1d-aa4af279f589",
   "metadata": {},
   "outputs": [],
   "source": [
    "df_sentimentos = pd.read_csv( \"../../../dados/nlp/analise_sentimento_portugues.csv\", encoding=\"utf-8\" )"
   ]
  },
  {
   "cell_type": "code",
   "execution_count": 49,
   "id": "a52124cd-701a-4734-8091-703e6bda9710",
   "metadata": {},
   "outputs": [
    {
     "data": {
      "text/html": [
       "<div>\n",
       "<style scoped>\n",
       "    .dataframe tbody tr th:only-of-type {\n",
       "        vertical-align: middle;\n",
       "    }\n",
       "\n",
       "    .dataframe tbody tr th {\n",
       "        vertical-align: top;\n",
       "    }\n",
       "\n",
       "    .dataframe thead th {\n",
       "        text-align: right;\n",
       "    }\n",
       "</style>\n",
       "<table border=\"1\" class=\"dataframe\">\n",
       "  <thead>\n",
       "    <tr style=\"text-align: right;\">\n",
       "      <th></th>\n",
       "      <th>sentimento</th>\n",
       "      <th>paragrafo</th>\n",
       "    </tr>\n",
       "  </thead>\n",
       "  <tbody>\n",
       "    <tr>\n",
       "      <th>0</th>\n",
       "      <td>positivo</td>\n",
       "      <td>Hoje o dia está ensolarado e perfeito para um ...</td>\n",
       "    </tr>\n",
       "    <tr>\n",
       "      <th>1</th>\n",
       "      <td>negativo</td>\n",
       "      <td>Infelizmente, o ônibus atrasou e cheguei tarde...</td>\n",
       "    </tr>\n",
       "    <tr>\n",
       "      <th>2</th>\n",
       "      <td>neutro</td>\n",
       "      <td>O café na cozinha acabou e preciso comprar mais.</td>\n",
       "    </tr>\n",
       "    <tr>\n",
       "      <th>3</th>\n",
       "      <td>positivo</td>\n",
       "      <td>Recebi uma promoção no trabalho e estou muito ...</td>\n",
       "    </tr>\n",
       "    <tr>\n",
       "      <th>4</th>\n",
       "      <td>negativo</td>\n",
       "      <td>Perdi meu celular e estou me sentindo frustrado.</td>\n",
       "    </tr>\n",
       "    <tr>\n",
       "      <th>5</th>\n",
       "      <td>neutro</td>\n",
       "      <td>O jantar foi servido às sete da noite como de ...</td>\n",
       "    </tr>\n",
       "    <tr>\n",
       "      <th>6</th>\n",
       "      <td>positivo</td>\n",
       "      <td>Passei no exame final e agora posso me formar.</td>\n",
       "    </tr>\n",
       "    <tr>\n",
       "      <th>7</th>\n",
       "      <td>negativo</td>\n",
       "      <td>A chuva forte causou muitos transtornos no trâ...</td>\n",
       "    </tr>\n",
       "    <tr>\n",
       "      <th>8</th>\n",
       "      <td>neutro</td>\n",
       "      <td>A reunião foi agendada para a próxima quarta-f...</td>\n",
       "    </tr>\n",
       "    <tr>\n",
       "      <th>9</th>\n",
       "      <td>positivo</td>\n",
       "      <td>Ganhei um presente maravilhoso de aniversário ...</td>\n",
       "    </tr>\n",
       "    <tr>\n",
       "      <th>10</th>\n",
       "      <td>negativo</td>\n",
       "      <td>Briguei com um amigo e agora estou me sentindo...</td>\n",
       "    </tr>\n",
       "    <tr>\n",
       "      <th>11</th>\n",
       "      <td>neutro</td>\n",
       "      <td>Fui ao supermercado e comprei frutas e vegetai...</td>\n",
       "    </tr>\n",
       "    <tr>\n",
       "      <th>12</th>\n",
       "      <td>positivo</td>\n",
       "      <td>O show da minha banda favorita foi incrível e ...</td>\n",
       "    </tr>\n",
       "    <tr>\n",
       "      <th>13</th>\n",
       "      <td>negativo</td>\n",
       "      <td>Estou doente e preciso descansar em casa.</td>\n",
       "    </tr>\n",
       "    <tr>\n",
       "      <th>14</th>\n",
       "      <td>neutro</td>\n",
       "      <td>O correio entregou a correspondência hoje pela...</td>\n",
       "    </tr>\n",
       "    <tr>\n",
       "      <th>15</th>\n",
       "      <td>positivo</td>\n",
       "      <td>Recebi elogios do chefe pelo excelente trabalh...</td>\n",
       "    </tr>\n",
       "    <tr>\n",
       "      <th>16</th>\n",
       "      <td>negativo</td>\n",
       "      <td>O computador está lento e atrapalha meu trabalho.</td>\n",
       "    </tr>\n",
       "    <tr>\n",
       "      <th>17</th>\n",
       "      <td>neutro</td>\n",
       "      <td>A previsão do tempo para amanhã é de sol e céu...</td>\n",
       "    </tr>\n",
       "    <tr>\n",
       "      <th>18</th>\n",
       "      <td>positivo</td>\n",
       "      <td>A festa de casamento foi maravilhosa e todos s...</td>\n",
       "    </tr>\n",
       "    <tr>\n",
       "      <th>19</th>\n",
       "      <td>negativo</td>\n",
       "      <td>A reunião foi cansativa e durou o dia todo.</td>\n",
       "    </tr>\n",
       "    <tr>\n",
       "      <th>20</th>\n",
       "      <td>neutro</td>\n",
       "      <td>A entrega dos produtos ocorreu conforme o plan...</td>\n",
       "    </tr>\n",
       "    <tr>\n",
       "      <th>21</th>\n",
       "      <td>positivo</td>\n",
       "      <td>Ganhei na loteria e estou muito animado!</td>\n",
       "    </tr>\n",
       "    <tr>\n",
       "      <th>22</th>\n",
       "      <td>negativo</td>\n",
       "      <td>O carro quebrou no meio da estrada e foi um gr...</td>\n",
       "    </tr>\n",
       "    <tr>\n",
       "      <th>23</th>\n",
       "      <td>neutro</td>\n",
       "      <td>A biblioteca está aberta das nove às cinco tod...</td>\n",
       "    </tr>\n",
       "    <tr>\n",
       "      <th>24</th>\n",
       "      <td>positivo</td>\n",
       "      <td>Passei um tempo agradável com minha família no...</td>\n",
       "    </tr>\n",
       "    <tr>\n",
       "      <th>25</th>\n",
       "      <td>negativo</td>\n",
       "      <td>Perdi meu voo e agora preciso esperar pelo pró...</td>\n",
       "    </tr>\n",
       "    <tr>\n",
       "      <th>26</th>\n",
       "      <td>neutro</td>\n",
       "      <td>O relatório foi enviado para revisão ontem à t...</td>\n",
       "    </tr>\n",
       "    <tr>\n",
       "      <th>27</th>\n",
       "      <td>positivo</td>\n",
       "      <td>A performance no teatro foi incrível e cheia d...</td>\n",
       "    </tr>\n",
       "    <tr>\n",
       "      <th>28</th>\n",
       "      <td>negativo</td>\n",
       "      <td>Estou decepcionado com o resultado do jogo de ...</td>\n",
       "    </tr>\n",
       "    <tr>\n",
       "      <th>29</th>\n",
       "      <td>neutro</td>\n",
       "      <td>O ônibus passa a cada meia hora durante o dia.</td>\n",
       "    </tr>\n",
       "  </tbody>\n",
       "</table>\n",
       "</div>"
      ],
      "text/plain": [
       "   sentimento                                          paragrafo\n",
       "0    positivo  Hoje o dia está ensolarado e perfeito para um ...\n",
       "1    negativo  Infelizmente, o ônibus atrasou e cheguei tarde...\n",
       "2      neutro   O café na cozinha acabou e preciso comprar mais.\n",
       "3    positivo  Recebi uma promoção no trabalho e estou muito ...\n",
       "4    negativo   Perdi meu celular e estou me sentindo frustrado.\n",
       "5      neutro  O jantar foi servido às sete da noite como de ...\n",
       "6    positivo     Passei no exame final e agora posso me formar.\n",
       "7    negativo  A chuva forte causou muitos transtornos no trâ...\n",
       "8      neutro  A reunião foi agendada para a próxima quarta-f...\n",
       "9    positivo  Ganhei um presente maravilhoso de aniversário ...\n",
       "10   negativo  Briguei com um amigo e agora estou me sentindo...\n",
       "11     neutro  Fui ao supermercado e comprei frutas e vegetai...\n",
       "12   positivo  O show da minha banda favorita foi incrível e ...\n",
       "13   negativo          Estou doente e preciso descansar em casa.\n",
       "14     neutro  O correio entregou a correspondência hoje pela...\n",
       "15   positivo  Recebi elogios do chefe pelo excelente trabalh...\n",
       "16   negativo  O computador está lento e atrapalha meu trabalho.\n",
       "17     neutro  A previsão do tempo para amanhã é de sol e céu...\n",
       "18   positivo  A festa de casamento foi maravilhosa e todos s...\n",
       "19   negativo        A reunião foi cansativa e durou o dia todo.\n",
       "20     neutro  A entrega dos produtos ocorreu conforme o plan...\n",
       "21   positivo           Ganhei na loteria e estou muito animado!\n",
       "22   negativo  O carro quebrou no meio da estrada e foi um gr...\n",
       "23     neutro  A biblioteca está aberta das nove às cinco tod...\n",
       "24   positivo  Passei um tempo agradável com minha família no...\n",
       "25   negativo  Perdi meu voo e agora preciso esperar pelo pró...\n",
       "26     neutro  O relatório foi enviado para revisão ontem à t...\n",
       "27   positivo  A performance no teatro foi incrível e cheia d...\n",
       "28   negativo  Estou decepcionado com o resultado do jogo de ...\n",
       "29     neutro     O ônibus passa a cada meia hora durante o dia."
      ]
     },
     "execution_count": 49,
     "metadata": {},
     "output_type": "execute_result"
    }
   ],
   "source": [
    "df_sentimentos"
   ]
  },
  {
   "cell_type": "code",
   "execution_count": 55,
   "id": "087e5d82-4c2c-4408-b230-37fd53f2c04e",
   "metadata": {},
   "outputs": [
    {
     "data": {
      "text/html": [
       "<div>\n",
       "<style scoped>\n",
       "    .dataframe tbody tr th:only-of-type {\n",
       "        vertical-align: middle;\n",
       "    }\n",
       "\n",
       "    .dataframe tbody tr th {\n",
       "        vertical-align: top;\n",
       "    }\n",
       "\n",
       "    .dataframe thead th {\n",
       "        text-align: right;\n",
       "    }\n",
       "</style>\n",
       "<table border=\"1\" class=\"dataframe\">\n",
       "  <thead>\n",
       "    <tr style=\"text-align: right;\">\n",
       "      <th></th>\n",
       "      <th>sentimento</th>\n",
       "      <th>paragrafo</th>\n",
       "    </tr>\n",
       "  </thead>\n",
       "  <tbody>\n",
       "    <tr>\n",
       "      <th>0</th>\n",
       "      <td>positivo</td>\n",
       "      <td>Hoje o dia está ensolarado e perfeito para um ...</td>\n",
       "    </tr>\n",
       "    <tr>\n",
       "      <th>1</th>\n",
       "      <td>negativo</td>\n",
       "      <td>Infelizmente, o ônibus atrasou e cheguei tarde...</td>\n",
       "    </tr>\n",
       "    <tr>\n",
       "      <th>2</th>\n",
       "      <td>neutro</td>\n",
       "      <td>O café na cozinha acabou e preciso comprar mais.</td>\n",
       "    </tr>\n",
       "    <tr>\n",
       "      <th>3</th>\n",
       "      <td>positivo</td>\n",
       "      <td>Recebi uma promoção no trabalho e estou muito ...</td>\n",
       "    </tr>\n",
       "    <tr>\n",
       "      <th>4</th>\n",
       "      <td>negativo</td>\n",
       "      <td>Perdi meu celular e estou me sentindo frustrado.</td>\n",
       "    </tr>\n",
       "    <tr>\n",
       "      <th>5</th>\n",
       "      <td>neutro</td>\n",
       "      <td>O jantar foi servido às sete da noite como de ...</td>\n",
       "    </tr>\n",
       "    <tr>\n",
       "      <th>6</th>\n",
       "      <td>positivo</td>\n",
       "      <td>Passei no exame final e agora posso me formar.</td>\n",
       "    </tr>\n",
       "    <tr>\n",
       "      <th>7</th>\n",
       "      <td>negativo</td>\n",
       "      <td>A chuva forte causou muitos transtornos no trâ...</td>\n",
       "    </tr>\n",
       "    <tr>\n",
       "      <th>8</th>\n",
       "      <td>neutro</td>\n",
       "      <td>A reunião foi agendada para a próxima quarta-f...</td>\n",
       "    </tr>\n",
       "    <tr>\n",
       "      <th>9</th>\n",
       "      <td>positivo</td>\n",
       "      <td>Ganhei um presente maravilhoso de aniversário ...</td>\n",
       "    </tr>\n",
       "  </tbody>\n",
       "</table>\n",
       "</div>"
      ],
      "text/plain": [
       "  sentimento                                          paragrafo\n",
       "0   positivo  Hoje o dia está ensolarado e perfeito para um ...\n",
       "1   negativo  Infelizmente, o ônibus atrasou e cheguei tarde...\n",
       "2     neutro   O café na cozinha acabou e preciso comprar mais.\n",
       "3   positivo  Recebi uma promoção no trabalho e estou muito ...\n",
       "4   negativo   Perdi meu celular e estou me sentindo frustrado.\n",
       "5     neutro  O jantar foi servido às sete da noite como de ...\n",
       "6   positivo     Passei no exame final e agora posso me formar.\n",
       "7   negativo  A chuva forte causou muitos transtornos no trâ...\n",
       "8     neutro  A reunião foi agendada para a próxima quarta-f...\n",
       "9   positivo  Ganhei um presente maravilhoso de aniversário ..."
      ]
     },
     "execution_count": 55,
     "metadata": {},
     "output_type": "execute_result"
    }
   ],
   "source": [
    "df_sentimentos.head(10)"
   ]
  },
  {
   "cell_type": "code",
   "execution_count": 59,
   "id": "299b9528-58eb-40ca-9e26-4985f4581415",
   "metadata": {},
   "outputs": [
    {
     "data": {
      "text/html": [
       "<div>\n",
       "<style scoped>\n",
       "    .dataframe tbody tr th:only-of-type {\n",
       "        vertical-align: middle;\n",
       "    }\n",
       "\n",
       "    .dataframe tbody tr th {\n",
       "        vertical-align: top;\n",
       "    }\n",
       "\n",
       "    .dataframe thead th {\n",
       "        text-align: right;\n",
       "    }\n",
       "</style>\n",
       "<table border=\"1\" class=\"dataframe\">\n",
       "  <thead>\n",
       "    <tr style=\"text-align: right;\">\n",
       "      <th></th>\n",
       "      <th>sentimento</th>\n",
       "      <th>paragrafo</th>\n",
       "    </tr>\n",
       "  </thead>\n",
       "  <tbody>\n",
       "    <tr>\n",
       "      <th>23</th>\n",
       "      <td>neutro</td>\n",
       "      <td>A biblioteca está aberta das nove às cinco tod...</td>\n",
       "    </tr>\n",
       "    <tr>\n",
       "      <th>24</th>\n",
       "      <td>positivo</td>\n",
       "      <td>Passei um tempo agradável com minha família no...</td>\n",
       "    </tr>\n",
       "    <tr>\n",
       "      <th>25</th>\n",
       "      <td>negativo</td>\n",
       "      <td>Perdi meu voo e agora preciso esperar pelo pró...</td>\n",
       "    </tr>\n",
       "    <tr>\n",
       "      <th>26</th>\n",
       "      <td>neutro</td>\n",
       "      <td>O relatório foi enviado para revisão ontem à t...</td>\n",
       "    </tr>\n",
       "    <tr>\n",
       "      <th>27</th>\n",
       "      <td>positivo</td>\n",
       "      <td>A performance no teatro foi incrível e cheia d...</td>\n",
       "    </tr>\n",
       "    <tr>\n",
       "      <th>28</th>\n",
       "      <td>negativo</td>\n",
       "      <td>Estou decepcionado com o resultado do jogo de ...</td>\n",
       "    </tr>\n",
       "    <tr>\n",
       "      <th>29</th>\n",
       "      <td>neutro</td>\n",
       "      <td>O ônibus passa a cada meia hora durante o dia.</td>\n",
       "    </tr>\n",
       "  </tbody>\n",
       "</table>\n",
       "</div>"
      ],
      "text/plain": [
       "   sentimento                                          paragrafo\n",
       "23     neutro  A biblioteca está aberta das nove às cinco tod...\n",
       "24   positivo  Passei um tempo agradável com minha família no...\n",
       "25   negativo  Perdi meu voo e agora preciso esperar pelo pró...\n",
       "26     neutro  O relatório foi enviado para revisão ontem à t...\n",
       "27   positivo  A performance no teatro foi incrível e cheia d...\n",
       "28   negativo  Estou decepcionado com o resultado do jogo de ...\n",
       "29     neutro     O ônibus passa a cada meia hora durante o dia."
      ]
     },
     "execution_count": 59,
     "metadata": {},
     "output_type": "execute_result"
    }
   ],
   "source": [
    "df_sentimentos.tail(7)"
   ]
  },
  {
   "cell_type": "code",
   "execution_count": 61,
   "id": "d807abdb-cc18-418f-9f7c-0ecd9e7a8b6b",
   "metadata": {},
   "outputs": [
    {
     "name": "stdout",
     "output_type": "stream",
     "text": [
      "<class 'pandas.core.frame.DataFrame'>\n",
      "RangeIndex: 30 entries, 0 to 29\n",
      "Data columns (total 2 columns):\n",
      " #   Column      Non-Null Count  Dtype \n",
      "---  ------      --------------  ----- \n",
      " 0   sentimento  30 non-null     object\n",
      " 1   paragrafo   30 non-null     object\n",
      "dtypes: object(2)\n",
      "memory usage: 612.0+ bytes\n"
     ]
    }
   ],
   "source": [
    "df_sentimentos.info()"
   ]
  },
  {
   "cell_type": "code",
   "execution_count": 63,
   "id": "e8173595-446f-41b9-b0af-87c2c4ef9e6b",
   "metadata": {},
   "outputs": [
    {
     "data": {
      "text/plain": [
       "(30, 2)"
      ]
     },
     "execution_count": 63,
     "metadata": {},
     "output_type": "execute_result"
    }
   ],
   "source": [
    "df_sentimentos.shape"
   ]
  },
  {
   "cell_type": "code",
   "execution_count": 69,
   "id": "bd9139a9-1412-4b55-b22f-602dcc6ff7a9",
   "metadata": {},
   "outputs": [],
   "source": [
    "novo_df = pd.concat( [df_sentimentos, df_sentimentos] )"
   ]
  },
  {
   "cell_type": "code",
   "execution_count": 71,
   "id": "c483bad0-251e-44d4-91b9-792e6151871a",
   "metadata": {},
   "outputs": [
    {
     "data": {
      "text/plain": [
       "(60, 2)"
      ]
     },
     "execution_count": 71,
     "metadata": {},
     "output_type": "execute_result"
    }
   ],
   "source": [
    "novo_df.shape"
   ]
  },
  {
   "cell_type": "code",
   "execution_count": 75,
   "id": "16cbd7f8-ce52-4e43-984b-dc16a1b81c9e",
   "metadata": {},
   "outputs": [],
   "source": [
    "nao_duplicados_df = novo_df.drop_duplicates()\n",
    "nao_duplicados_df.shape"
   ]
  },
  {
   "cell_type": "code",
   "execution_count": 79,
   "id": "2b56678e-bb27-4de9-b501-75f7c04e8ce9",
   "metadata": {},
   "outputs": [
    {
     "data": {
      "text/plain": [
       "(60, 2)"
      ]
     },
     "execution_count": 79,
     "metadata": {},
     "output_type": "execute_result"
    }
   ],
   "source": [
    "novo_df.shape"
   ]
  },
  {
   "cell_type": "code",
   "execution_count": 83,
   "id": "9b691f3d-add6-46d1-85b8-a69576bce24a",
   "metadata": {},
   "outputs": [
    {
     "data": {
      "text/plain": [
       "(30, 2)"
      ]
     },
     "execution_count": 83,
     "metadata": {},
     "output_type": "execute_result"
    }
   ],
   "source": [
    "novo_df.drop_duplicates(inplace=True)\n",
    "novo_df.shape"
   ]
  },
  {
   "cell_type": "code",
   "execution_count": 85,
   "id": "aad8c8cd-a6a5-4089-b2c5-38cdc0e79396",
   "metadata": {},
   "outputs": [
    {
     "data": {
      "text/html": [
       "<div>\n",
       "<style scoped>\n",
       "    .dataframe tbody tr th:only-of-type {\n",
       "        vertical-align: middle;\n",
       "    }\n",
       "\n",
       "    .dataframe tbody tr th {\n",
       "        vertical-align: top;\n",
       "    }\n",
       "\n",
       "    .dataframe thead th {\n",
       "        text-align: right;\n",
       "    }\n",
       "</style>\n",
       "<table border=\"1\" class=\"dataframe\">\n",
       "  <thead>\n",
       "    <tr style=\"text-align: right;\">\n",
       "      <th></th>\n",
       "      <th>sentimento</th>\n",
       "      <th>paragrafo</th>\n",
       "    </tr>\n",
       "  </thead>\n",
       "  <tbody>\n",
       "    <tr>\n",
       "      <th>count</th>\n",
       "      <td>30</td>\n",
       "      <td>30</td>\n",
       "    </tr>\n",
       "    <tr>\n",
       "      <th>unique</th>\n",
       "      <td>3</td>\n",
       "      <td>30</td>\n",
       "    </tr>\n",
       "    <tr>\n",
       "      <th>top</th>\n",
       "      <td>positivo</td>\n",
       "      <td>Hoje o dia está ensolarado e perfeito para um ...</td>\n",
       "    </tr>\n",
       "    <tr>\n",
       "      <th>freq</th>\n",
       "      <td>10</td>\n",
       "      <td>1</td>\n",
       "    </tr>\n",
       "  </tbody>\n",
       "</table>\n",
       "</div>"
      ],
      "text/plain": [
       "       sentimento                                          paragrafo\n",
       "count          30                                                 30\n",
       "unique          3                                                 30\n",
       "top      positivo  Hoje o dia está ensolarado e perfeito para um ...\n",
       "freq           10                                                  1"
      ]
     },
     "execution_count": 85,
     "metadata": {},
     "output_type": "execute_result"
    }
   ],
   "source": [
    "novo_df.describe()"
   ]
  },
  {
   "cell_type": "code",
   "execution_count": 93,
   "id": "5ff088b9-7b39-4d62-a42d-7d06af705f1d",
   "metadata": {},
   "outputs": [],
   "source": [
    "serie = pd.Series([10, 20, 30, 40, 50], name=\"Valores\")"
   ]
  },
  {
   "cell_type": "code",
   "execution_count": 95,
   "id": "17b8d3b1-f82b-4156-841f-b033305f4f4a",
   "metadata": {},
   "outputs": [
    {
     "data": {
      "text/plain": [
       "count     5.000000\n",
       "mean     30.000000\n",
       "std      15.811388\n",
       "min      10.000000\n",
       "25%      20.000000\n",
       "50%      30.000000\n",
       "75%      40.000000\n",
       "max      50.000000\n",
       "Name: Valores, dtype: float64"
      ]
     },
     "execution_count": 95,
     "metadata": {},
     "output_type": "execute_result"
    }
   ],
   "source": [
    "serie.describe()"
   ]
  },
  {
   "cell_type": "code",
   "execution_count": 101,
   "id": "60acb908-d7fe-445a-96a0-c7c2b522d007",
   "metadata": {},
   "outputs": [],
   "source": [
    "novo_df[\"valores\"] = serie"
   ]
  },
  {
   "cell_type": "code",
   "execution_count": 107,
   "id": "e9a46dc7-ef45-4980-a224-304ef5324b9b",
   "metadata": {},
   "outputs": [],
   "source": [
    "atualizado_df = novo_df[ [\"sentimento\", \"valores\"] ]"
   ]
  },
  {
   "cell_type": "code",
   "execution_count": 119,
   "id": "9999c18c-6676-4fe3-9098-1a31b9a398ff",
   "metadata": {},
   "outputs": [
    {
     "data": {
      "text/html": [
       "<div>\n",
       "<style scoped>\n",
       "    .dataframe tbody tr th:only-of-type {\n",
       "        vertical-align: middle;\n",
       "    }\n",
       "\n",
       "    .dataframe tbody tr th {\n",
       "        vertical-align: top;\n",
       "    }\n",
       "\n",
       "    .dataframe thead th {\n",
       "        text-align: right;\n",
       "    }\n",
       "</style>\n",
       "<table border=\"1\" class=\"dataframe\">\n",
       "  <thead>\n",
       "    <tr style=\"text-align: right;\">\n",
       "      <th></th>\n",
       "      <th>sentimento</th>\n",
       "      <th>valores</th>\n",
       "    </tr>\n",
       "  </thead>\n",
       "  <tbody>\n",
       "    <tr>\n",
       "      <th>29</th>\n",
       "      <td>neutro</td>\n",
       "      <td>NaN</td>\n",
       "    </tr>\n",
       "    <tr>\n",
       "      <th>28</th>\n",
       "      <td>negativo</td>\n",
       "      <td>NaN</td>\n",
       "    </tr>\n",
       "    <tr>\n",
       "      <th>27</th>\n",
       "      <td>positivo</td>\n",
       "      <td>NaN</td>\n",
       "    </tr>\n",
       "    <tr>\n",
       "      <th>26</th>\n",
       "      <td>neutro</td>\n",
       "      <td>NaN</td>\n",
       "    </tr>\n",
       "    <tr>\n",
       "      <th>25</th>\n",
       "      <td>negativo</td>\n",
       "      <td>NaN</td>\n",
       "    </tr>\n",
       "  </tbody>\n",
       "</table>\n",
       "</div>"
      ],
      "text/plain": [
       "   sentimento  valores\n",
       "29     neutro      NaN\n",
       "28   negativo      NaN\n",
       "27   positivo      NaN\n",
       "26     neutro      NaN\n",
       "25   negativo      NaN"
      ]
     },
     "execution_count": 119,
     "metadata": {},
     "output_type": "execute_result"
    }
   ],
   "source": [
    "atualizado_df[: -6: -1]"
   ]
  },
  {
   "cell_type": "code",
   "execution_count": null,
   "id": "eec4a1bb-5b76-4b9e-94ef-5cd76bef4882",
   "metadata": {},
   "outputs": [],
   "source": []
  }
 ],
 "metadata": {
  "kernelspec": {
   "display_name": "Python [conda env:base] *",
   "language": "python",
   "name": "conda-base-py"
  },
  "language_info": {
   "codemirror_mode": {
    "name": "ipython",
    "version": 3
   },
   "file_extension": ".py",
   "mimetype": "text/x-python",
   "name": "python",
   "nbconvert_exporter": "python",
   "pygments_lexer": "ipython3",
   "version": "3.12.7"
  }
 },
 "nbformat": 4,
 "nbformat_minor": 5
}
