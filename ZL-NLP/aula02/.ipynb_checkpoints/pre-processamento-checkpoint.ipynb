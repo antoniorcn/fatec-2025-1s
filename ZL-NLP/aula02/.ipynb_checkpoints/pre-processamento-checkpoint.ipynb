{
 "cells": [
  {
   "cell_type": "code",
   "execution_count": 44,
   "id": "bc4b8f89-4fd6-434b-b34a-e6df3e0767f8",
   "metadata": {},
   "outputs": [],
   "source": [
    "# !pip install nltk"
   ]
  },
  {
   "cell_type": "code",
   "execution_count": 46,
   "id": "1ecfe106-b742-4918-b5e7-d56a85d7c4db",
   "metadata": {},
   "outputs": [],
   "source": [
    "import nltk   # Natural Language Toolkit"
   ]
  },
  {
   "cell_type": "code",
   "execution_count": 64,
   "id": "43bf8fb6-3383-49e9-bea5-a409858e45ac",
   "metadata": {},
   "outputs": [],
   "source": [
    "from nltk.tokenize.destructive import NLTKWordTokenizer"
   ]
  },
  {
   "cell_type": "code",
   "execution_count": 48,
   "id": "022d5f70-e35b-451e-9b27-0995767c0f61",
   "metadata": {},
   "outputs": [
    {
     "name": "stderr",
     "output_type": "stream",
     "text": [
      "[nltk_data] Downloading package stopwords to\n",
      "[nltk_data]     C:\\Users\\anton\\AppData\\Roaming\\nltk_data...\n",
      "[nltk_data]   Package stopwords is already up-to-date!\n"
     ]
    },
    {
     "data": {
      "text/plain": [
       "True"
      ]
     },
     "execution_count": 48,
     "metadata": {},
     "output_type": "execute_result"
    }
   ],
   "source": [
    "nltk.download(\"stopwords\")"
   ]
  },
  {
   "cell_type": "code",
   "execution_count": 50,
   "id": "fd34ebe8-30d1-4870-a3c9-a0d3fc23eea2",
   "metadata": {},
   "outputs": [],
   "source": [
    "nltk_stopwords = nltk.corpus.stopwords.words(\"portuguese\")"
   ]
  },
  {
   "cell_type": "code",
   "execution_count": 52,
   "id": "37fc3f04-6cac-4cb0-99d3-ce08ffb3dea4",
   "metadata": {},
   "outputs": [
    {
     "name": "stdout",
     "output_type": "stream",
     "text": [
      "['a', 'à', 'ao', 'aos', 'aquela', 'aquelas', 'aquele', 'aqueles', 'aquilo', 'as', 'às', 'até', 'com', 'como', 'da', 'das', 'de', 'dela', 'delas', 'dele', 'deles', 'depois', 'do', 'dos', 'e', 'é', 'ela', 'elas', 'ele', 'eles', 'em', 'entre', 'era', 'eram', 'éramos', 'essa', 'essas', 'esse', 'esses', 'esta', 'está', 'estamos', 'estão', 'estar', 'estas', 'estava', 'estavam', 'estávamos', 'este', 'esteja', 'estejam', 'estejamos', 'estes', 'esteve', 'estive', 'estivemos', 'estiver', 'estivera', 'estiveram', 'estivéramos', 'estiverem', 'estivermos', 'estivesse', 'estivessem', 'estivéssemos', 'estou', 'eu', 'foi', 'fomos', 'for', 'fora', 'foram', 'fôramos', 'forem', 'formos', 'fosse', 'fossem', 'fôssemos', 'fui', 'há', 'haja', 'hajam', 'hajamos', 'hão', 'havemos', 'haver', 'hei', 'houve', 'houvemos', 'houver', 'houvera', 'houverá', 'houveram', 'houvéramos', 'houverão', 'houverei', 'houverem', 'houveremos', 'houveria', 'houveriam', 'houveríamos', 'houvermos', 'houvesse', 'houvessem', 'houvéssemos', 'isso', 'isto', 'já', 'lhe', 'lhes', 'mais', 'mas', 'me', 'mesmo', 'meu', 'meus', 'minha', 'minhas', 'muito', 'na', 'não', 'nas', 'nem', 'no', 'nos', 'nós', 'nossa', 'nossas', 'nosso', 'nossos', 'num', 'numa', 'o', 'os', 'ou', 'para', 'pela', 'pelas', 'pelo', 'pelos', 'por', 'qual', 'quando', 'que', 'quem', 'são', 'se', 'seja', 'sejam', 'sejamos', 'sem', 'ser', 'será', 'serão', 'serei', 'seremos', 'seria', 'seriam', 'seríamos', 'seu', 'seus', 'só', 'somos', 'sou', 'sua', 'suas', 'também', 'te', 'tem', 'tém', 'temos', 'tenha', 'tenham', 'tenhamos', 'tenho', 'terá', 'terão', 'terei', 'teremos', 'teria', 'teriam', 'teríamos', 'teu', 'teus', 'teve', 'tinha', 'tinham', 'tínhamos', 'tive', 'tivemos', 'tiver', 'tivera', 'tiveram', 'tivéramos', 'tiverem', 'tivermos', 'tivesse', 'tivessem', 'tivéssemos', 'tu', 'tua', 'tuas', 'um', 'uma', 'você', 'vocês', 'vos']\n"
     ]
    }
   ],
   "source": [
    "print(nltk_stopwords)"
   ]
  },
  {
   "cell_type": "code",
   "execution_count": 6,
   "id": "dd24732d-aa55-405c-99ed-531d8a6634de",
   "metadata": {},
   "outputs": [],
   "source": [
    "texto = \"\"\"rato roeu a roupa do rei de Roma,\n",
    "O rato roeu a roupa do rei da Rússia,\n",
    "O rato roeu a roupa do RodovaIho...\n",
    "O rato a roer roía\n",
    "E a rosa Rita Ramalho do rato a roer se ria.\n",
    "O rato roeu a roupa do rei de roma\n",
    "a rainha com raiva roeu o resto.\"\"\""
   ]
  },
  {
   "cell_type": "code",
   "execution_count": 18,
   "id": "9a46a7df-6254-4264-901e-3ff7ae0b3c80",
   "metadata": {},
   "outputs": [],
   "source": [
    "texto_limpo = texto.lower().replace(\".\", \"\").replace(\",\", \"\").replace(\"\\n\",\" \")"
   ]
  },
  {
   "cell_type": "code",
   "execution_count": 72,
   "id": "4f2ab307-cfc3-432d-98e0-5c5a431bcf91",
   "metadata": {},
   "outputs": [
    {
     "name": "stdout",
     "output_type": "stream",
     "text": [
      "['rato', 'roeu', 'a', 'roupa', 'do', 'rei', 'de', 'roma', 'o', 'rato', 'roeu', 'a', 'roupa', 'do', 'rei', 'da', 'rússia', 'o', 'rato', 'roeu', 'a', 'roupa', 'do', 'rodovaiho', 'o', 'rato', 'a', 'roer', 'roía', 'e', 'a', 'rosa', 'rita', 'ramalho', 'do', 'rato', 'a', 'roer', 'se', 'ria', 'o', 'rato', 'roeu', 'a', 'roupa', 'do', 'rei', 'de', 'roma', 'a', 'rainha', 'com', 'raiva', 'roeu', 'o', 'resto']\n"
     ]
    }
   ],
   "source": [
    "tokenizer = NLTKWordTokenizer()\n",
    "tokens = tokenizer.tokenize(texto_limpo)\n",
    "print(tokens)"
   ]
  },
  {
   "cell_type": "code",
   "execution_count": 68,
   "id": "843576ed-4ef2-487b-b639-e1d44e3df853",
   "metadata": {},
   "outputs": [],
   "source": [
    "# tokens = texto_limpo.split(\" \")\n",
    "# print(\"Tokens: \", tokens)"
   ]
  },
  {
   "cell_type": "code",
   "execution_count": 26,
   "id": "11f1cb25-6eb2-49e3-9e3f-f38be6bcb306",
   "metadata": {},
   "outputs": [],
   "source": [
    "vocabulario = []\n",
    "for token in tokens:\n",
    "    if token not in vocabulario:\n",
    "        vocabulario.append( token )"
   ]
  },
  {
   "cell_type": "code",
   "execution_count": 28,
   "id": "2754dba3-e5ee-4d55-bd56-93f30d32c52e",
   "metadata": {},
   "outputs": [
    {
     "name": "stdout",
     "output_type": "stream",
     "text": [
      "Vocabulario:  ['rato', 'roeu', 'a', 'roupa', 'do', 'rei', 'de', 'roma', 'o', 'da', 'rússia', 'rodovaiho', 'roer', 'roía', 'e', 'rosa', 'rita', 'ramalho', 'se', 'ria', 'rainha', 'com', 'raiva', 'resto']\n"
     ]
    }
   ],
   "source": [
    "print(\"Vocabulario: \", vocabulario)"
   ]
  },
  {
   "cell_type": "code",
   "execution_count": 30,
   "id": "fc042bd9-c377-46c0-99e7-7af5a8d17e1e",
   "metadata": {},
   "outputs": [
    {
     "data": {
      "text/plain": [
       "0.42857142857142855"
      ]
     },
     "execution_count": 30,
     "metadata": {},
     "output_type": "execute_result"
    }
   ],
   "source": [
    "riqueza = len(vocabulario) / len(tokens)\n",
    "riqueza"
   ]
  },
  {
   "cell_type": "code",
   "execution_count": 32,
   "id": "cf7108c9-10b8-4a97-89ba-a71f952e1a7c",
   "metadata": {},
   "outputs": [],
   "source": [
    "stopwords = [\"o\", \"a\", \"do\", \"de\", \"da\", \"e\", \"com\"] "
   ]
  },
  {
   "cell_type": "code",
   "execution_count": 54,
   "id": "cc566d5c-841d-4bb2-b523-a5ba49b667b8",
   "metadata": {},
   "outputs": [],
   "source": [
    "tokens_limpos = []\n",
    "for token in tokens:\n",
    "    if token not in nltk_stopwords:\n",
    "        tokens_limpos.append(token)"
   ]
  },
  {
   "cell_type": "code",
   "execution_count": 56,
   "id": "35590c49-e4ff-4811-85b9-4c076dd67ab4",
   "metadata": {},
   "outputs": [
    {
     "name": "stdout",
     "output_type": "stream",
     "text": [
      "['rato', 'roeu', 'roupa', 'rei', 'roma', 'rato', 'roeu', 'roupa', 'rei', 'rússia', 'rato', 'roeu', 'roupa', 'rodovaiho', 'rato', 'roer', 'roía', 'rosa', 'rita', 'ramalho', 'rato', 'roer', 'ria', 'rato', 'roeu', 'roupa', 'rei', 'roma', 'rainha', 'raiva', 'roeu', 'resto']\n"
     ]
    }
   ],
   "source": [
    "print(tokens_limpos)"
   ]
  },
  {
   "cell_type": "code",
   "execution_count": 40,
   "id": "72d3c5e3-77fa-4bc8-a477-31204541b8ff",
   "metadata": {},
   "outputs": [
    {
     "data": {
      "text/plain": [
       "0.7272727272727273"
      ]
     },
     "execution_count": 40,
     "metadata": {},
     "output_type": "execute_result"
    }
   ],
   "source": [
    "riqueza = len(vocabulario) / len(tokens_limpos)\n",
    "riqueza"
   ]
  },
  {
   "cell_type": "code",
   "execution_count": null,
   "id": "c4ce39f6-0fb8-4e4d-abe6-7da37b506cbd",
   "metadata": {},
   "outputs": [],
   "source": []
  }
 ],
 "metadata": {
  "kernelspec": {
   "display_name": "Python [conda env:base] *",
   "language": "python",
   "name": "conda-base-py"
  },
  "language_info": {
   "codemirror_mode": {
    "name": "ipython",
    "version": 3
   },
   "file_extension": ".py",
   "mimetype": "text/x-python",
   "name": "python",
   "nbconvert_exporter": "python",
   "pygments_lexer": "ipython3",
   "version": "3.12.7"
  }
 },
 "nbformat": 4,
 "nbformat_minor": 5
}
