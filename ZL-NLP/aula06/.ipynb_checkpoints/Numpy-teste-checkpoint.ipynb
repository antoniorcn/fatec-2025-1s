{
 "cells": [
  {
   "cell_type": "code",
   "execution_count": null,
   "id": "69d74e21-d071-401c-b1de-6642e3ab701d",
   "metadata": {},
   "outputs": [],
   "source": [
    "#   ! pip install numpy"
   ]
  },
  {
   "cell_type": "code",
   "execution_count": 3,
   "id": "a43d16c2-230d-412c-836c-c9b2ea5c5868",
   "metadata": {},
   "outputs": [],
   "source": [
    "import numpy as np"
   ]
  },
  {
   "cell_type": "code",
   "execution_count": 4,
   "id": "0f3da0f3-680b-4f97-9a46-945df1599eb8",
   "metadata": {},
   "outputs": [],
   "source": [
    "matriz1 = [\n",
    "    [10, 20, 30],\n",
    "    [40, 50, 60]\n",
    "]  # Matriz 2 x 3"
   ]
  },
  {
   "cell_type": "code",
   "execution_count": 43,
   "id": "d28c23ad-a2ff-4b0f-bdd3-26e0988c97b2",
   "metadata": {},
   "outputs": [
    {
     "data": {
      "text/plain": [
       "array([[10, 20, 30],\n",
       "       [40, 50, 60]], dtype=int8)"
      ]
     },
     "execution_count": 43,
     "metadata": {},
     "output_type": "execute_result"
    }
   ],
   "source": [
    "matriz2 = np.array( matriz1, dtype=np.int8 )\n",
    "matriz2"
   ]
  },
  {
   "cell_type": "code",
   "execution_count": 47,
   "id": "ba117b0a-2cc6-44af-b027-0db2a2084bb6",
   "metadata": {},
   "outputs": [
    {
     "data": {
      "text/plain": [
       "array([  0, 130, 129], dtype=uint8)"
      ]
     },
     "execution_count": 47,
     "metadata": {},
     "output_type": "execute_result"
    }
   ],
   "source": [
    "matriz3 = np.array( [254, 128, 127], dtype=np.uint8 )  \n",
    "matriz3 + 2"
   ]
  },
  {
   "cell_type": "code",
   "execution_count": 53,
   "id": "513d6f51-714c-46c5-bd3d-ab2debb84fab",
   "metadata": {},
   "outputs": [
    {
     "data": {
      "text/plain": [
       "2"
      ]
     },
     "execution_count": 53,
     "metadata": {},
     "output_type": "execute_result"
    }
   ],
   "source": [
    "matriz2.ndim"
   ]
  },
  {
   "cell_type": "code",
   "execution_count": 55,
   "id": "8fa26593-e030-4606-a073-08f6b05ffcd3",
   "metadata": {},
   "outputs": [
    {
     "data": {
      "text/plain": [
       "(2, 3)"
      ]
     },
     "execution_count": 55,
     "metadata": {},
     "output_type": "execute_result"
    }
   ],
   "source": [
    "matriz2.shape"
   ]
  },
  {
   "cell_type": "code",
   "execution_count": 57,
   "id": "0f055c7c-0f0c-48f4-8b6d-0cc55b5c84c8",
   "metadata": {},
   "outputs": [
    {
     "data": {
      "text/plain": [
       "dtype('int8')"
      ]
     },
     "execution_count": 57,
     "metadata": {},
     "output_type": "execute_result"
    }
   ],
   "source": [
    "matriz2.dtype"
   ]
  },
  {
   "cell_type": "raw",
   "id": "1983b8d9-3bc2-41af-8c4e-01b687691f30",
   "metadata": {},
   "source": [
    "### Diferenças entre os tipos\n",
    "\n",
    "int8\n",
    "# Pesos\n",
    "#   +/-  64 32 16  8  4  2  1   = 128 (-128 .. 0 .. 127)\n",
    "   [    |  |  |  |  |  |  |  ] \n",
    "\n",
    "uint8 = (unsigned int8) \n",
    "# Pesos\n",
    "#   128  64 32 16  8  4  2  1   = 256 (0..255)\n",
    "   [    |  |  |  |  |  |  |  ] \n",
    "\n",
    "\n",
    "int16\n",
    "# Pesos\n",
    "#    +/-     16384  8192 4096 2048 1024 512   256 128  64  32  16  8   4   2   1   = 32768 (-32768 .. 0 .. 32767)\n",
    "   [        |      |    |    |    |    |    |    |   |   |   |   |   |   |   |   ] \n",
    "\n",
    "\n",
    "uint16\n",
    "# Pesos\n",
    "#    32768    16384  8192 4096 2048 1024 512   256 128  64  32  16  8   4   2   1   = 65536 (0 .. 65535)\n",
    "   [        |      |    |    |    |    |    |    |   |   |   |   |   |   |   |   ] \n",
    "\n"
   ]
  },
  {
   "cell_type": "code",
   "execution_count": 67,
   "id": "c85576f2-8212-4446-8128-583b8a9437d3",
   "metadata": {},
   "outputs": [
    {
     "data": {
      "text/plain": [
       "array([[0., 0., 0., 0.],\n",
       "       [0., 0., 0., 0.],\n",
       "       [0., 0., 0., 0.],\n",
       "       [0., 0., 0., 0.],\n",
       "       [0., 0., 0., 0.]])"
      ]
     },
     "execution_count": 67,
     "metadata": {},
     "output_type": "execute_result"
    }
   ],
   "source": [
    "matriz_zeros = np.zeros([5, 4])\n",
    "matriz_zeros"
   ]
  },
  {
   "cell_type": "code",
   "execution_count": 65,
   "id": "c431c6a7-708d-4efd-bc76-c708922fa03f",
   "metadata": {},
   "outputs": [
    {
     "data": {
      "text/plain": [
       "array([[1., 1., 1., 1., 1.],\n",
       "       [1., 1., 1., 1., 1.],\n",
       "       [1., 1., 1., 1., 1.],\n",
       "       [1., 1., 1., 1., 1.]])"
      ]
     },
     "execution_count": 65,
     "metadata": {},
     "output_type": "execute_result"
    }
   ],
   "source": [
    "matriz_uns = np.ones([4, 5])\n",
    "matriz_uns"
   ]
  },
  {
   "cell_type": "code",
   "execution_count": 69,
   "id": "1d7f8a61-db2f-41d2-8ccb-abd32ddc0559",
   "metadata": {},
   "outputs": [
    {
     "data": {
      "text/plain": [
       "array([[1., 0., 0., 0., 0.],\n",
       "       [0., 1., 0., 0., 0.],\n",
       "       [0., 0., 1., 0., 0.],\n",
       "       [0., 0., 0., 1., 0.],\n",
       "       [0., 0., 0., 0., 1.]])"
      ]
     },
     "execution_count": 69,
     "metadata": {},
     "output_type": "execute_result"
    }
   ],
   "source": [
    "matriz_eye = np.eye(5)\n",
    "matriz_eye"
   ]
  },
  {
   "cell_type": "code",
   "execution_count": 75,
   "id": "9af5be39-f5ec-4e7f-a001-5dc89f706491",
   "metadata": {},
   "outputs": [
    {
     "data": {
      "text/plain": [
       "array([ 1. ,  1.6,  2.2,  2.8,  3.4,  4. ,  4.6,  5.2,  5.8,  6.4,  7. ,\n",
       "        7.6,  8.2,  8.8,  9.4, 10. , 10.6, 11.2, 11.8, 12.4, 13. , 13.6,\n",
       "       14.2, 14.8, 15.4, 16. , 16.6, 17.2, 17.8, 18.4, 19. , 19.6, 20.2,\n",
       "       20.8, 21.4, 22. , 22.6, 23.2, 23.8, 24.4, 25. , 25.6, 26.2, 26.8,\n",
       "       27.4, 28. , 28.6, 29.2, 29.8])"
      ]
     },
     "execution_count": 75,
     "metadata": {},
     "output_type": "execute_result"
    }
   ],
   "source": [
    "vetor_1_30 = np.arange(1, 30, 0.6)\n",
    "vetor_1_30"
   ]
  },
  {
   "cell_type": "code",
   "execution_count": 83,
   "id": "adfc1153-d231-4c52-882b-744b2f7d9114",
   "metadata": {},
   "outputs": [
    {
     "name": "stdout",
     "output_type": "stream",
     "text": [
      "[[1. 1. 1. 1. 1.]\n",
      " [1. 1. 1. 1. 1.]\n",
      " [1. 1. 1. 1. 1.]\n",
      " [1. 1. 1. 1. 1.]\n",
      " [1. 0. 0. 0. 0.]\n",
      " [0. 1. 0. 0. 0.]\n",
      " [0. 0. 1. 0. 0.]\n",
      " [0. 0. 0. 1. 0.]\n",
      " [0. 0. 0. 0. 1.]]\n"
     ]
    }
   ],
   "source": [
    "matriz_concatenada = np.concatenate( [matriz_uns, matriz_eye])\n",
    "print(matriz_concatenada)"
   ]
  },
  {
   "cell_type": "code",
   "execution_count": 85,
   "id": "ee775fdd-6792-46c5-8b30-1c7622cadf1d",
   "metadata": {},
   "outputs": [
    {
     "data": {
      "text/plain": [
       "array([[0., 0., 0., 0., 1., 0., 0., 0., 0.],\n",
       "       [0., 0., 0., 0., 0., 1., 0., 0., 0.],\n",
       "       [0., 0., 0., 0., 0., 0., 1., 0., 0.],\n",
       "       [0., 0., 0., 0., 0., 0., 0., 1., 0.],\n",
       "       [0., 0., 0., 0., 0., 0., 0., 0., 1.]])"
      ]
     },
     "execution_count": 85,
     "metadata": {},
     "output_type": "execute_result"
    }
   ],
   "source": [
    "matriz_concatenada = np.concatenate( [matriz_zeros, matriz_eye], axis=1 )\n",
    "matriz_concatenada"
   ]
  },
  {
   "cell_type": "code",
   "execution_count": 97,
   "id": "9178417a-ab13-4bb8-a99b-c862b30e60f2",
   "metadata": {},
   "outputs": [
    {
     "data": {
      "text/plain": [
       "array([[0., 0., 0., 0., 0., 0., 0., 0., 0.],\n",
       "       [0., 0., 0., 0., 0., 0., 0., 0., 0.],\n",
       "       [0., 0., 0., 0., 0., 0., 0., 0., 0.],\n",
       "       [0., 0., 0., 0., 0., 0., 0., 0., 0.],\n",
       "       [0., 0., 0., 0., 0., 0., 0., 0., 0.]])"
      ]
     },
     "execution_count": 97,
     "metadata": {},
     "output_type": "execute_result"
    }
   ],
   "source": [
    "np.zeros_like( matriz_concatenada ) "
   ]
  },
  {
   "cell_type": "code",
   "execution_count": 93,
   "id": "5e1551af-9ad7-41aa-952f-eab08d3eba20",
   "metadata": {},
   "outputs": [
    {
     "data": {
      "text/plain": [
       "array([[False, False, False, False,  True, False, False, False, False],\n",
       "       [False, False, False, False, False,  True, False, False, False],\n",
       "       [False, False, False, False, False, False,  True, False, False],\n",
       "       [False, False, False, False, False, False, False,  True, False],\n",
       "       [False, False, False, False, False, False, False, False,  True]])"
      ]
     },
     "execution_count": 93,
     "metadata": {},
     "output_type": "execute_result"
    }
   ],
   "source": [
    "matriz_concatenada.astype(bool)"
   ]
  },
  {
   "cell_type": "code",
   "execution_count": 99,
   "id": "6e8fefe3-3cbc-43d7-adb1-7598988f9384",
   "metadata": {},
   "outputs": [
    {
     "data": {
      "text/plain": [
       "array([[0.51329138, 0.84035704, 0.49613473, 0.28743275, 0.3145437 ],\n",
       "       [0.09780818, 0.73728524, 0.39200705, 0.90893922, 0.64887474],\n",
       "       [0.26638184, 0.95079145, 0.90651834, 0.76308161, 0.5454314 ],\n",
       "       [0.09386463, 0.62694553, 0.82960959, 0.98780011, 0.45482505],\n",
       "       [0.04009618, 0.20095665, 0.54179085, 0.06595998, 0.76226719],\n",
       "       [0.00530071, 0.37513405, 0.29752482, 0.70727476, 0.86645824],\n",
       "       [0.19377796, 0.14039887, 0.2222272 , 0.71219119, 0.61672692]])"
      ]
     },
     "execution_count": 99,
     "metadata": {},
     "output_type": "execute_result"
    }
   ],
   "source": [
    "np.random.random( [7,5] ) "
   ]
  },
  {
   "cell_type": "code",
   "execution_count": 101,
   "id": "4f5f2dad-b47b-4871-85c8-d83cbc53ece6",
   "metadata": {},
   "outputs": [
    {
     "data": {
      "text/plain": [
       "array([[11, 13, 19, 13, 11],\n",
       "       [12, 19, 13, 19, 15],\n",
       "       [15, 10, 19, 13, 11],\n",
       "       [12, 14, 16, 12, 16],\n",
       "       [18, 11, 11, 18, 14],\n",
       "       [19, 10, 14, 12, 17],\n",
       "       [19, 19, 15, 12, 18]])"
      ]
     },
     "execution_count": 101,
     "metadata": {},
     "output_type": "execute_result"
    }
   ],
   "source": [
    "np.random.randint( 10, 20, [7,5] ) "
   ]
  },
  {
   "cell_type": "code",
   "execution_count": 105,
   "id": "e9ba33dc-14df-4ada-9479-90ae58282cba",
   "metadata": {},
   "outputs": [
    {
     "data": {
      "text/plain": [
       "array([100, 105, 110, 115, 120, 125, 130, 135, 140, 145, 150, 155, 160,\n",
       "       165, 170, 175, 180, 185, 190, 195])"
      ]
     },
     "execution_count": 105,
     "metadata": {},
     "output_type": "execute_result"
    }
   ],
   "source": [
    "array1 = np.arange(100, 200, 5)\n",
    "array1"
   ]
  },
  {
   "cell_type": "code",
   "execution_count": 107,
   "id": "ea2060e8-9586-4eb9-b4f1-682ef777d7c7",
   "metadata": {},
   "outputs": [
    {
     "data": {
      "text/plain": [
       "(20,)"
      ]
     },
     "execution_count": 107,
     "metadata": {},
     "output_type": "execute_result"
    }
   ],
   "source": [
    "array1.shape"
   ]
  },
  {
   "cell_type": "code",
   "execution_count": 109,
   "id": "5e0bbe0f-a937-451e-8f68-40629dbc07e7",
   "metadata": {},
   "outputs": [
    {
     "data": {
      "text/plain": [
       "array([[100, 105, 110, 115, 120],\n",
       "       [125, 130, 135, 140, 145],\n",
       "       [150, 155, 160, 165, 170],\n",
       "       [175, 180, 185, 190, 195]])"
      ]
     },
     "execution_count": 109,
     "metadata": {},
     "output_type": "execute_result"
    }
   ],
   "source": [
    "array1.reshape([4, 5])"
   ]
  },
  {
   "cell_type": "code",
   "execution_count": 119,
   "id": "0823e772-fdac-48f3-9ab8-2fa2bf4fd096",
   "metadata": {},
   "outputs": [
    {
     "data": {
      "text/plain": [
       "array([[[100, 105],\n",
       "        [110, 115]],\n",
       "\n",
       "       [[120, 125],\n",
       "        [130, 135]],\n",
       "\n",
       "       [[140, 145],\n",
       "        [150, 155]],\n",
       "\n",
       "       [[160, 165],\n",
       "        [170, 175]],\n",
       "\n",
       "       [[180, 185],\n",
       "        [190, 195]]])"
      ]
     },
     "execution_count": 119,
     "metadata": {},
     "output_type": "execute_result"
    }
   ],
   "source": [
    "array2 = array1.reshape([5, 2, -1])\n",
    "array2"
   ]
  },
  {
   "cell_type": "code",
   "execution_count": 123,
   "id": "6e94a06f-33ba-44aa-bc53-d1874f71766b",
   "metadata": {},
   "outputs": [
    {
     "data": {
      "text/plain": [
       "array([100, 105, 110, 115, 120, 125, 130, 135, 140, 145, 150, 155, 160,\n",
       "       165, 170, 175, 180, 185, 190, 195])"
      ]
     },
     "execution_count": 123,
     "metadata": {},
     "output_type": "execute_result"
    }
   ],
   "source": [
    "array2.ravel()"
   ]
  },
  {
   "cell_type": "code",
   "execution_count": 139,
   "id": "df116e8c-442a-445a-9fbf-7433fa428f0f",
   "metadata": {},
   "outputs": [
    {
     "data": {
      "text/plain": [
       "array([[[100, 105],\n",
       "        [110, 105]],\n",
       "\n",
       "       [[120, 125],\n",
       "        [130, 135]],\n",
       "\n",
       "       [[140, 145],\n",
       "        [150, 155]],\n",
       "\n",
       "       [[160, 165],\n",
       "        [170, 175]],\n",
       "\n",
       "       [[180, 185],\n",
       "        [190, 195]]])"
      ]
     },
     "execution_count": 139,
     "metadata": {},
     "output_type": "execute_result"
    }
   ],
   "source": [
    "array3 = array2.copy()\n",
    "array3"
   ]
  },
  {
   "cell_type": "code",
   "execution_count": 141,
   "id": "d58d2f56-4568-47d2-9382-b4d24e9b4d80",
   "metadata": {},
   "outputs": [],
   "source": [
    "array3[0, 1, 1] = 130"
   ]
  },
  {
   "cell_type": "code",
   "execution_count": 143,
   "id": "b0d26624-f8bd-40ec-b589-53113252e922",
   "metadata": {},
   "outputs": [
    {
     "data": {
      "text/plain": [
       "array([[[100, 105],\n",
       "        [110, 130]],\n",
       "\n",
       "       [[120, 125],\n",
       "        [130, 135]],\n",
       "\n",
       "       [[140, 145],\n",
       "        [150, 155]],\n",
       "\n",
       "       [[160, 165],\n",
       "        [170, 175]],\n",
       "\n",
       "       [[180, 185],\n",
       "        [190, 195]]])"
      ]
     },
     "execution_count": 143,
     "metadata": {},
     "output_type": "execute_result"
    }
   ],
   "source": [
    "array3"
   ]
  },
  {
   "cell_type": "code",
   "execution_count": 145,
   "id": "824f7e24-260a-47d0-94fd-0f4dcf5eacab",
   "metadata": {},
   "outputs": [
    {
     "data": {
      "text/plain": [
       "array([[[100, 105],\n",
       "        [110, 105]],\n",
       "\n",
       "       [[120, 125],\n",
       "        [130, 135]],\n",
       "\n",
       "       [[140, 145],\n",
       "        [150, 155]],\n",
       "\n",
       "       [[160, 165],\n",
       "        [170, 175]],\n",
       "\n",
       "       [[180, 185],\n",
       "        [190, 195]]])"
      ]
     },
     "execution_count": 145,
     "metadata": {},
     "output_type": "execute_result"
    }
   ],
   "source": [
    "array2"
   ]
  },
  {
   "cell_type": "code",
   "execution_count": 147,
   "id": "b43bf953-a6c7-41c9-8b1f-b65e3bb9834c",
   "metadata": {},
   "outputs": [
    {
     "data": {
      "text/plain": [
       "array([100, 105, 110, 105, 120, 125, 130, 135, 140, 145, 150, 155, 160,\n",
       "       165, 170, 175, 180, 185, 190, 195])"
      ]
     },
     "execution_count": 147,
     "metadata": {},
     "output_type": "execute_result"
    }
   ],
   "source": [
    "array1"
   ]
  },
  {
   "cell_type": "code",
   "execution_count": 149,
   "id": "db2d49db-c8fb-4587-8aca-768bfcc8d78d",
   "metadata": {},
   "outputs": [],
   "source": [
    "array4 = array1.reshape([4, 5])"
   ]
  },
  {
   "cell_type": "code",
   "execution_count": 151,
   "id": "89b7daa9-83cf-4e0c-9523-9a109a0f2c9e",
   "metadata": {},
   "outputs": [
    {
     "data": {
      "text/plain": [
       "array([[100, 105, 110, 105, 120],\n",
       "       [125, 130, 135, 140, 145],\n",
       "       [150, 155, 160, 165, 170],\n",
       "       [175, 180, 185, 190, 195]])"
      ]
     },
     "execution_count": 151,
     "metadata": {},
     "output_type": "execute_result"
    }
   ],
   "source": [
    "array4"
   ]
  },
  {
   "cell_type": "code",
   "execution_count": 165,
   "id": "99627c1d-3224-4b27-9722-952204076ade",
   "metadata": {},
   "outputs": [
    {
     "data": {
      "text/plain": [
       "array([[4, 3, 3, 7, 4],\n",
       "       [7, 3, 5, 6, 4],\n",
       "       [7, 3, 2, 6, 7],\n",
       "       [4, 6, 3, 3, 3]])"
      ]
     },
     "execution_count": 165,
     "metadata": {},
     "output_type": "execute_result"
    }
   ],
   "source": [
    "# array5 = np.eye(5)\n",
    "array5 = np.random.randint(2, 8, [4, 5]) \n",
    "array5"
   ]
  },
  {
   "cell_type": "code",
   "execution_count": 167,
   "id": "c7831ba1-984f-425a-ba33-93a681644b2e",
   "metadata": {},
   "outputs": [
    {
     "ename": "ValueError",
     "evalue": "matmul: Input operand 1 has a mismatch in its core dimension 0, with gufunc signature (n?,k),(k,m?)->(n?,m?) (size 4 is different from 5)",
     "output_type": "error",
     "traceback": [
      "\u001b[1;31m---------------------------------------------------------------------------\u001b[0m",
      "\u001b[1;31mValueError\u001b[0m                                Traceback (most recent call last)",
      "Cell \u001b[1;32mIn[167], line 1\u001b[0m\n\u001b[1;32m----> 1\u001b[0m np\u001b[38;5;241m.\u001b[39mmatmul(array4, array5)\n",
      "\u001b[1;31mValueError\u001b[0m: matmul: Input operand 1 has a mismatch in its core dimension 0, with gufunc signature (n?,k),(k,m?)->(n?,m?) (size 4 is different from 5)"
     ]
    }
   ],
   "source": [
    "np.matmul(array4, array5)"
   ]
  },
  {
   "cell_type": "code",
   "execution_count": 171,
   "id": "132e4308-391e-4fab-822a-28275ca72b90",
   "metadata": {},
   "outputs": [
    {
     "data": {
      "text/plain": [
       "(4, 5)"
      ]
     },
     "execution_count": 171,
     "metadata": {},
     "output_type": "execute_result"
    }
   ],
   "source": [
    "array4.shape"
   ]
  },
  {
   "cell_type": "code",
   "execution_count": 175,
   "id": "9b8b1b7f-b49d-4fe7-a169-a065ce5017fc",
   "metadata": {},
   "outputs": [
    {
     "data": {
      "text/plain": [
       "array([[4, 3, 3, 7, 4],\n",
       "       [7, 3, 5, 6, 4],\n",
       "       [7, 3, 2, 6, 7],\n",
       "       [4, 6, 3, 3, 3]])"
      ]
     },
     "execution_count": 175,
     "metadata": {},
     "output_type": "execute_result"
    }
   ],
   "source": [
    "array5"
   ]
  },
  {
   "cell_type": "code",
   "execution_count": 191,
   "id": "46933112-37c2-470d-a563-3c3397e2ed34",
   "metadata": {
    "scrolled": true
   },
   "outputs": [
    {
     "data": {
      "text/plain": [
       "array([[4, 7, 7, 4],\n",
       "       [3, 3, 3, 6],\n",
       "       [3, 5, 2, 3],\n",
       "       [7, 6, 6, 3],\n",
       "       [4, 4, 7, 3]])"
      ]
     },
     "execution_count": 191,
     "metadata": {},
     "output_type": "execute_result"
    }
   ],
   "source": [
    "array6 = array5.T\n",
    "array6"
   ]
  },
  {
   "cell_type": "code",
   "execution_count": 193,
   "id": "44f5d775-3b1f-469b-a610-ce2b603cac2c",
   "metadata": {},
   "outputs": [
    {
     "data": {
      "text/plain": [
       "array([[4, 3, 3, 7],\n",
       "       [4, 7, 3, 5],\n",
       "       [6, 4, 7, 3],\n",
       "       [2, 6, 7, 4],\n",
       "       [6, 3, 3, 3]])"
      ]
     },
     "execution_count": 193,
     "metadata": {},
     "output_type": "execute_result"
    }
   ],
   "source": [
    "array5.reshape(5, 4)"
   ]
  },
  {
   "cell_type": "code",
   "execution_count": 187,
   "id": "8691b56d-9dc4-438b-a2d2-3b955dd39b31",
   "metadata": {},
   "outputs": [],
   "source": [
    "# (4, 5) X (5, 4)"
   ]
  },
  {
   "cell_type": "code",
   "execution_count": 197,
   "id": "bfaccc40-f695-4580-bb46-442e0bad0b59",
   "metadata": {},
   "outputs": [
    {
     "data": {
      "text/plain": [
       "array([[2260, 2675, 2705, 2035],\n",
       "       [2855, 3360, 3390, 2540],\n",
       "       [3380, 3985, 4015, 3015],\n",
       "       [3905, 4610, 4640, 3490]])"
      ]
     },
     "execution_count": 197,
     "metadata": {},
     "output_type": "execute_result"
    }
   ],
   "source": [
    "array7 = np.matmul(array4, array6)\n",
    "array7"
   ]
  },
  {
   "cell_type": "code",
   "execution_count": 199,
   "id": "daa119f8-10f8-450b-aa53-7fe6c0c4f348",
   "metadata": {},
   "outputs": [],
   "source": [
    "np.savez(\"array_multiplicado.npz\", matriz=array7)"
   ]
  },
  {
   "cell_type": "code",
   "execution_count": 201,
   "id": "a09ccb88-9ac6-48c7-9ff3-fd0a71509a64",
   "metadata": {},
   "outputs": [
    {
     "data": {
      "text/plain": [
       "array([[2260, 2675, 2705, 2035],\n",
       "       [2855, 3360, 3390, 2540],\n",
       "       [3380, 3985, 4015, 3015],\n",
       "       [3905, 4610, 4640, 3490]])"
      ]
     },
     "execution_count": 201,
     "metadata": {},
     "output_type": "execute_result"
    }
   ],
   "source": [
    "arquivo = np.load(\"array_multiplicado.npz\")\n",
    "array8 = arquivo[\"matriz\"]\n",
    "array8"
   ]
  },
  {
   "cell_type": "code",
   "execution_count": 213,
   "id": "94024c98-b570-468e-b633-f3f3992f663c",
   "metadata": {},
   "outputs": [
    {
     "data": {
      "text/plain": [
       "array([[False, False, False, False],\n",
       "       [False,  True,  True, False],\n",
       "       [ True,  True,  True,  True],\n",
       "       [ True,  True,  True,  True]])"
      ]
     },
     "execution_count": 213,
     "metadata": {},
     "output_type": "execute_result"
    }
   ],
   "source": [
    "array8 > 3000"
   ]
  },
  {
   "cell_type": "code",
   "execution_count": 221,
   "id": "076eabb5-e480-467c-b185-6af3e2e0e4a8",
   "metadata": {},
   "outputs": [],
   "source": [
    "array8 **= 2"
   ]
  },
  {
   "cell_type": "code",
   "execution_count": 223,
   "id": "c9f65ea9-5b94-4bba-92d2-5936d381dc96",
   "metadata": {},
   "outputs": [
    {
     "data": {
      "text/plain": [
       "array([[ 5107600,  7155625,  7317025,  4141225],\n",
       "       [ 8151025, 11289600, 11492100,  6451600],\n",
       "       [11424400, 15880225, 16120225,  9090225],\n",
       "       [15249025, 21252100, 21529600, 12180100]])"
      ]
     },
     "execution_count": 223,
     "metadata": {},
     "output_type": "execute_result"
    }
   ],
   "source": [
    "array8"
   ]
  },
  {
   "cell_type": "code",
   "execution_count": 241,
   "id": "8bc313b5-1ab4-4405-a49f-2d9f829fe88d",
   "metadata": {},
   "outputs": [
    {
     "data": {
      "text/plain": [
       "array([[108.44133847, 127.3459994 , 128.73176669,  98.39060467],\n",
       "       [135.70035734, 159.6581494 , 161.10587749, 121.14245149],\n",
       "       [160.62299328, 190.39671976, 191.90289792, 143.20736025],\n",
       "       [186.39407504, 222.36254958, 223.92803456, 165.95170224]])"
      ]
     },
     "execution_count": 241,
     "metadata": {},
     "output_type": "execute_result"
    }
   ],
   "source": [
    "np.exp(array8 ** (1/10))"
   ]
  },
  {
   "cell_type": "code",
   "execution_count": 263,
   "id": "61a3d2e6-e1d4-4d19-b882-b46849634aef",
   "metadata": {},
   "outputs": [
    {
     "data": {
      "text/plain": [
       "array([[ 5107600],\n",
       "       [11424400]])"
      ]
     },
     "execution_count": 263,
     "metadata": {},
     "output_type": "execute_result"
    }
   ],
   "source": [
    "array8[::2, 0:1:1]"
   ]
  },
  {
   "cell_type": "code",
   "execution_count": 245,
   "id": "1dca1351-df12-44aa-9ad4-22394cd9a3ae",
   "metadata": {},
   "outputs": [
    {
     "data": {
      "text/plain": [
       "array([[ 4141225],\n",
       "       [ 6451600],\n",
       "       [ 9090225],\n",
       "       [12180100]])"
      ]
     },
     "execution_count": 245,
     "metadata": {},
     "output_type": "execute_result"
    }
   ],
   "source": [
    "array8[:, -1:]"
   ]
  },
  {
   "cell_type": "code",
   "execution_count": 249,
   "id": "3a17b641-1d29-41f6-94c4-c832b5b41d25",
   "metadata": {},
   "outputs": [
    {
     "data": {
      "text/plain": [
       "array([[ 5107600, 11289600, 11492100,  6451600],\n",
       "       [11424400, 21252100, 21529600, 12180100]])"
      ]
     },
     "execution_count": 249,
     "metadata": {},
     "output_type": "execute_result"
    }
   ],
   "source": [
    "array8[ array8 % 2 == 0  ].reshape(2, -1)"
   ]
  },
  {
   "cell_type": "code",
   "execution_count": 265,
   "id": "507ee73e-8aa5-4a2d-8615-f20600dd516a",
   "metadata": {},
   "outputs": [
    {
     "data": {
      "text/plain": [
       "array([[ 5107600,  7155625,  7317025,  4141225],\n",
       "       [ 8151025, 11289600, 11492100,  6451600],\n",
       "       [11424400, 15880225, 16120225,  9090225],\n",
       "       [15249025, 21252100, 21529600, 12180100]])"
      ]
     },
     "execution_count": 265,
     "metadata": {},
     "output_type": "execute_result"
    }
   ],
   "source": [
    "array8"
   ]
  },
  {
   "cell_type": "code",
   "execution_count": 273,
   "id": "11639564-07b0-4b3f-a3d7-ee53b77e8c5b",
   "metadata": {},
   "outputs": [
    {
     "data": {
      "text/plain": [
       "array([39932050, 55577550, 56458950, 31863150])"
      ]
     },
     "execution_count": 273,
     "metadata": {},
     "output_type": "execute_result"
    }
   ],
   "source": [
    "array8.sum(axis=0)"
   ]
  },
  {
   "cell_type": "code",
   "execution_count": 275,
   "id": "abd6e811-3ef1-4061-983d-72d714a881a2",
   "metadata": {},
   "outputs": [
    {
     "data": {
      "text/plain": [
       "39932050"
      ]
     },
     "execution_count": 275,
     "metadata": {},
     "output_type": "execute_result"
    }
   ],
   "source": [
    " 5107600 + 8151025 + 11424400 + 15249025"
   ]
  },
  {
   "cell_type": "code",
   "execution_count": null,
   "id": "bc3c046e-b2cc-4a13-a837-7fff3f131674",
   "metadata": {},
   "outputs": [],
   "source": []
  }
 ],
 "metadata": {
  "kernelspec": {
   "display_name": "Python [conda env:base] *",
   "language": "python",
   "name": "conda-base-py"
  },
  "language_info": {
   "codemirror_mode": {
    "name": "ipython",
    "version": 3
   },
   "file_extension": ".py",
   "mimetype": "text/x-python",
   "name": "python",
   "nbconvert_exporter": "python",
   "pygments_lexer": "ipython3",
   "version": "3.12.7"
  }
 },
 "nbformat": 4,
 "nbformat_minor": 5
}
