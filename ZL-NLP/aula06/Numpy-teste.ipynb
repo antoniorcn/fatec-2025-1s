{
 "cells": [
  {
   "cell_type": "code",
   "execution_count": null,
   "id": "69d74e21-d071-401c-b1de-6642e3ab701d",
   "metadata": {},
   "outputs": [],
   "source": [
    "#   ! pip install numpy"
   ]
  },
  {
   "cell_type": "code",
   "execution_count": 3,
   "id": "a43d16c2-230d-412c-836c-c9b2ea5c5868",
   "metadata": {},
   "outputs": [],
   "source": [
    "import numpy as np"
   ]
  },
  {
   "cell_type": "code",
   "execution_count": 4,
   "id": "0f3da0f3-680b-4f97-9a46-945df1599eb8",
   "metadata": {},
   "outputs": [],
   "source": [
    "matriz1 = [\n",
    "    [10, 20, 30],\n",
    "    [40, 50, 60]\n",
    "]  # Matriz 2 x 3"
   ]
  },
  {
   "cell_type": "code",
   "execution_count": 43,
   "id": "d28c23ad-a2ff-4b0f-bdd3-26e0988c97b2",
   "metadata": {},
   "outputs": [
    {
     "data": {
      "text/plain": [
       "array([[10, 20, 30],\n",
       "       [40, 50, 60]], dtype=int8)"
      ]
     },
     "execution_count": 43,
     "metadata": {},
     "output_type": "execute_result"
    }
   ],
   "source": [
    "matriz2 = np.array( matriz1, dtype=np.int8 )\n",
    "matriz2"
   ]
  },
  {
   "cell_type": "code",
   "execution_count": 47,
   "id": "ba117b0a-2cc6-44af-b027-0db2a2084bb6",
   "metadata": {},
   "outputs": [
    {
     "data": {
      "text/plain": [
       "array([  0, 130, 129], dtype=uint8)"
      ]
     },
     "execution_count": 47,
     "metadata": {},
     "output_type": "execute_result"
    }
   ],
   "source": [
    "matriz3 = np.array( [254, 128, 127], dtype=np.uint8 )  \n",
    "matriz3 + 2"
   ]
  },
  {
   "cell_type": "code",
   "execution_count": 53,
   "id": "513d6f51-714c-46c5-bd3d-ab2debb84fab",
   "metadata": {},
   "outputs": [
    {
     "data": {
      "text/plain": [
       "2"
      ]
     },
     "execution_count": 53,
     "metadata": {},
     "output_type": "execute_result"
    }
   ],
   "source": [
    "matriz2.ndim"
   ]
  },
  {
   "cell_type": "code",
   "execution_count": 55,
   "id": "8fa26593-e030-4606-a073-08f6b05ffcd3",
   "metadata": {},
   "outputs": [
    {
     "data": {
      "text/plain": [
       "(2, 3)"
      ]
     },
     "execution_count": 55,
     "metadata": {},
     "output_type": "execute_result"
    }
   ],
   "source": [
    "matriz2.shape"
   ]
  },
  {
   "cell_type": "code",
   "execution_count": 57,
   "id": "0f055c7c-0f0c-48f4-8b6d-0cc55b5c84c8",
   "metadata": {},
   "outputs": [
    {
     "data": {
      "text/plain": [
       "dtype('int8')"
      ]
     },
     "execution_count": 57,
     "metadata": {},
     "output_type": "execute_result"
    }
   ],
   "source": [
    "matriz2.dtype"
   ]
  },
  {
   "cell_type": "raw",
   "id": "1983b8d9-3bc2-41af-8c4e-01b687691f30",
   "metadata": {},
   "source": [
    "### Diferenças entre os tipos\n",
    "\n",
    "int8\n",
    "# Pesos\n",
    "#   +/-  64 32 16  8  4  2  1   = 128 (-128 .. 0 .. 127)\n",
    "   [    |  |  |  |  |  |  |  ] \n",
    "\n",
    "uint8 = (unsigned int8) \n",
    "# Pesos\n",
    "#   128  64 32 16  8  4  2  1   = 256 (0..255)\n",
    "   [    |  |  |  |  |  |  |  ] \n",
    "\n",
    "\n",
    "int16\n",
    "# Pesos\n",
    "#    +/-     16384  8192 4096 2048 1024 512   256 128  64  32  16  8   4   2   1   = 32768 (-32768 .. 0 .. 32767)\n",
    "   [        |      |    |    |    |    |    |    |   |   |   |   |   |   |   |   ] \n",
    "\n",
    "\n",
    "uint16\n",
    "# Pesos\n",
    "#    32768    16384  8192 4096 2048 1024 512   256 128  64  32  16  8   4   2   1   = 65536 (0 .. 65535)\n",
    "   [        |      |    |    |    |    |    |    |   |   |   |   |   |   |   |   ] \n",
    "\n"
   ]
  },
  {
   "cell_type": "code",
   "execution_count": 67,
   "id": "c85576f2-8212-4446-8128-583b8a9437d3",
   "metadata": {},
   "outputs": [
    {
     "data": {
      "text/plain": [
       "array([[0., 0., 0., 0.],\n",
       "       [0., 0., 0., 0.],\n",
       "       [0., 0., 0., 0.],\n",
       "       [0., 0., 0., 0.],\n",
       "       [0., 0., 0., 0.]])"
      ]
     },
     "execution_count": 67,
     "metadata": {},
     "output_type": "execute_result"
    }
   ],
   "source": [
    "matriz_zeros = np.zeros([5, 4])\n",
    "matriz_zeros"
   ]
  },
  {
   "cell_type": "code",
   "execution_count": 65,
   "id": "c431c6a7-708d-4efd-bc76-c708922fa03f",
   "metadata": {},
   "outputs": [
    {
     "data": {
      "text/plain": [
       "array([[1., 1., 1., 1., 1.],\n",
       "       [1., 1., 1., 1., 1.],\n",
       "       [1., 1., 1., 1., 1.],\n",
       "       [1., 1., 1., 1., 1.]])"
      ]
     },
     "execution_count": 65,
     "metadata": {},
     "output_type": "execute_result"
    }
   ],
   "source": [
    "matriz_uns = np.ones([4, 5])\n",
    "matriz_uns"
   ]
  },
  {
   "cell_type": "code",
   "execution_count": 69,
   "id": "1d7f8a61-db2f-41d2-8ccb-abd32ddc0559",
   "metadata": {},
   "outputs": [
    {
     "data": {
      "text/plain": [
       "array([[1., 0., 0., 0., 0.],\n",
       "       [0., 1., 0., 0., 0.],\n",
       "       [0., 0., 1., 0., 0.],\n",
       "       [0., 0., 0., 1., 0.],\n",
       "       [0., 0., 0., 0., 1.]])"
      ]
     },
     "execution_count": 69,
     "metadata": {},
     "output_type": "execute_result"
    }
   ],
   "source": [
    "matriz_eye = np.eye(5)\n",
    "matriz_eye"
   ]
  },
  {
   "cell_type": "code",
   "execution_count": 75,
   "id": "9af5be39-f5ec-4e7f-a001-5dc89f706491",
   "metadata": {},
   "outputs": [
    {
     "data": {
      "text/plain": [
       "array([ 1. ,  1.6,  2.2,  2.8,  3.4,  4. ,  4.6,  5.2,  5.8,  6.4,  7. ,\n",
       "        7.6,  8.2,  8.8,  9.4, 10. , 10.6, 11.2, 11.8, 12.4, 13. , 13.6,\n",
       "       14.2, 14.8, 15.4, 16. , 16.6, 17.2, 17.8, 18.4, 19. , 19.6, 20.2,\n",
       "       20.8, 21.4, 22. , 22.6, 23.2, 23.8, 24.4, 25. , 25.6, 26.2, 26.8,\n",
       "       27.4, 28. , 28.6, 29.2, 29.8])"
      ]
     },
     "execution_count": 75,
     "metadata": {},
     "output_type": "execute_result"
    }
   ],
   "source": [
    "vetor_1_30 = np.arange(1, 30, 0.6)\n",
    "vetor_1_30"
   ]
  },
  {
   "cell_type": "code",
   "execution_count": 83,
   "id": "adfc1153-d231-4c52-882b-744b2f7d9114",
   "metadata": {},
   "outputs": [
    {
     "name": "stdout",
     "output_type": "stream",
     "text": [
      "[[1. 1. 1. 1. 1.]\n",
      " [1. 1. 1. 1. 1.]\n",
      " [1. 1. 1. 1. 1.]\n",
      " [1. 1. 1. 1. 1.]\n",
      " [1. 0. 0. 0. 0.]\n",
      " [0. 1. 0. 0. 0.]\n",
      " [0. 0. 1. 0. 0.]\n",
      " [0. 0. 0. 1. 0.]\n",
      " [0. 0. 0. 0. 1.]]\n"
     ]
    }
   ],
   "source": [
    "matriz_concatenada = np.concatenate( [matriz_uns, matriz_eye])\n",
    "print(matriz_concatenada)"
   ]
  },
  {
   "cell_type": "code",
   "execution_count": 85,
   "id": "ee775fdd-6792-46c5-8b30-1c7622cadf1d",
   "metadata": {},
   "outputs": [
    {
     "data": {
      "text/plain": [
       "array([[0., 0., 0., 0., 1., 0., 0., 0., 0.],\n",
       "       [0., 0., 0., 0., 0., 1., 0., 0., 0.],\n",
       "       [0., 0., 0., 0., 0., 0., 1., 0., 0.],\n",
       "       [0., 0., 0., 0., 0., 0., 0., 1., 0.],\n",
       "       [0., 0., 0., 0., 0., 0., 0., 0., 1.]])"
      ]
     },
     "execution_count": 85,
     "metadata": {},
     "output_type": "execute_result"
    }
   ],
   "source": [
    "matriz_concatenada = np.concatenate( [matriz_zeros, matriz_eye], axis=1 )\n",
    "matriz_concatenada"
   ]
  },
  {
   "cell_type": "code",
   "execution_count": 97,
   "id": "9178417a-ab13-4bb8-a99b-c862b30e60f2",
   "metadata": {},
   "outputs": [
    {
     "data": {
      "text/plain": [
       "array([[0., 0., 0., 0., 0., 0., 0., 0., 0.],\n",
       "       [0., 0., 0., 0., 0., 0., 0., 0., 0.],\n",
       "       [0., 0., 0., 0., 0., 0., 0., 0., 0.],\n",
       "       [0., 0., 0., 0., 0., 0., 0., 0., 0.],\n",
       "       [0., 0., 0., 0., 0., 0., 0., 0., 0.]])"
      ]
     },
     "execution_count": 97,
     "metadata": {},
     "output_type": "execute_result"
    }
   ],
   "source": [
    "np.zeros_like( matriz_concatenada ) "
   ]
  },
  {
   "cell_type": "code",
   "execution_count": 93,
   "id": "5e1551af-9ad7-41aa-952f-eab08d3eba20",
   "metadata": {},
   "outputs": [
    {
     "data": {
      "text/plain": [
       "array([[False, False, False, False,  True, False, False, False, False],\n",
       "       [False, False, False, False, False,  True, False, False, False],\n",
       "       [False, False, False, False, False, False,  True, False, False],\n",
       "       [False, False, False, False, False, False, False,  True, False],\n",
       "       [False, False, False, False, False, False, False, False,  True]])"
      ]
     },
     "execution_count": 93,
     "metadata": {},
     "output_type": "execute_result"
    }
   ],
   "source": [
    "matriz_concatenada.astype(bool)"
   ]
  },
  {
   "cell_type": "code",
   "execution_count": 99,
   "id": "6e8fefe3-3cbc-43d7-adb1-7598988f9384",
   "metadata": {},
   "outputs": [
    {
     "data": {
      "text/plain": [
       "array([[0.51329138, 0.84035704, 0.49613473, 0.28743275, 0.3145437 ],\n",
       "       [0.09780818, 0.73728524, 0.39200705, 0.90893922, 0.64887474],\n",
       "       [0.26638184, 0.95079145, 0.90651834, 0.76308161, 0.5454314 ],\n",
       "       [0.09386463, 0.62694553, 0.82960959, 0.98780011, 0.45482505],\n",
       "       [0.04009618, 0.20095665, 0.54179085, 0.06595998, 0.76226719],\n",
       "       [0.00530071, 0.37513405, 0.29752482, 0.70727476, 0.86645824],\n",
       "       [0.19377796, 0.14039887, 0.2222272 , 0.71219119, 0.61672692]])"
      ]
     },
     "execution_count": 99,
     "metadata": {},
     "output_type": "execute_result"
    }
   ],
   "source": [
    "np.random.random( [7,5] ) "
   ]
  },
  {
   "cell_type": "code",
   "execution_count": 101,
   "id": "4f5f2dad-b47b-4871-85c8-d83cbc53ece6",
   "metadata": {},
   "outputs": [
    {
     "data": {
      "text/plain": [
       "array([[11, 13, 19, 13, 11],\n",
       "       [12, 19, 13, 19, 15],\n",
       "       [15, 10, 19, 13, 11],\n",
       "       [12, 14, 16, 12, 16],\n",
       "       [18, 11, 11, 18, 14],\n",
       "       [19, 10, 14, 12, 17],\n",
       "       [19, 19, 15, 12, 18]])"
      ]
     },
     "execution_count": 101,
     "metadata": {},
     "output_type": "execute_result"
    }
   ],
   "source": [
    "np.random.randint( 10, 20, [7,5] ) "
   ]
  },
  {
   "cell_type": "code",
   "execution_count": null,
   "id": "e9ba33dc-14df-4ada-9479-90ae58282cba",
   "metadata": {},
   "outputs": [],
   "source": []
  }
 ],
 "metadata": {
  "kernelspec": {
   "display_name": "Python [conda env:base] *",
   "language": "python",
   "name": "conda-base-py"
  },
  "language_info": {
   "codemirror_mode": {
    "name": "ipython",
    "version": 3
   },
   "file_extension": ".py",
   "mimetype": "text/x-python",
   "name": "python",
   "nbconvert_exporter": "python",
   "pygments_lexer": "ipython3",
   "version": "3.12.7"
  }
 },
 "nbformat": 4,
 "nbformat_minor": 5
}
