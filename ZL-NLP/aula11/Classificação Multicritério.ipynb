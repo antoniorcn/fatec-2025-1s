{
 "cells": [
  {
   "cell_type": "code",
   "execution_count": 1,
   "id": "94233857-95f6-4a3c-a5f9-ce059713dbbb",
   "metadata": {},
   "outputs": [],
   "source": [
    "import numpy as np"
   ]
  },
  {
   "cell_type": "code",
   "execution_count": 2,
   "id": "ed878041-8e02-469e-aa31-827952b119f3",
   "metadata": {},
   "outputs": [],
   "source": [
    "import tensorflow as tf"
   ]
  },
  {
   "cell_type": "code",
   "execution_count": 6,
   "id": "738576fc-b80c-4fd1-a3d3-45e73d97bfe2",
   "metadata": {},
   "outputs": [],
   "source": [
    "import pandas as pd"
   ]
  },
  {
   "cell_type": "code",
   "execution_count": 19,
   "id": "9fa67632-40c3-4e4a-afa2-32da4364fb67",
   "metadata": {},
   "outputs": [],
   "source": [
    "from tensorflow.keras.preprocessing.text import Tokenizer"
   ]
  },
  {
   "cell_type": "code",
   "execution_count": 87,
   "id": "8725c2a8-6bd5-4246-b8b7-f1dc1b4c6545",
   "metadata": {},
   "outputs": [],
   "source": [
    "from tensorflow.keras.preprocessing.sequence import pad_sequences"
   ]
  },
  {
   "cell_type": "markdown",
   "id": "aee7a0e5-1d97-466c-8459-4dc872cfb6c9",
   "metadata": {},
   "source": [
    "## Importar os dados"
   ]
  },
  {
   "cell_type": "code",
   "execution_count": 9,
   "id": "ef00271d-121f-4d3d-a05d-820baa2a019e",
   "metadata": {},
   "outputs": [],
   "source": [
    "df = pd.read_csv(\"../../../dados/nlp/news_sentiment_analysis.csv\", encoding=\"utf-8\")"
   ]
  },
  {
   "cell_type": "code",
   "execution_count": 91,
   "id": "359907e4-f5d4-42e2-9fa2-7b46dd3ce04f",
   "metadata": {},
   "outputs": [],
   "source": [
    "# df"
   ]
  },
  {
   "cell_type": "code",
   "execution_count": 13,
   "id": "b1709e21-1651-4238-8519-9a3480b5f198",
   "metadata": {},
   "outputs": [],
   "source": [
    "news_df = df[ [\"Description\", \"Type\"] ] "
   ]
  },
  {
   "cell_type": "code",
   "execution_count": 89,
   "id": "642d977e-b5bf-4372-9f8f-210d4d380af8",
   "metadata": {
    "scrolled": true
   },
   "outputs": [],
   "source": [
    "# news_df"
   ]
  },
  {
   "cell_type": "code",
   "execution_count": 49,
   "id": "a5f5a70c-f0c0-4c3b-987d-2e811b1cf676",
   "metadata": {},
   "outputs": [],
   "source": [
    "tokenizer = Tokenizer()"
   ]
  },
  {
   "cell_type": "code",
   "execution_count": 51,
   "id": "00719d56-a610-48a4-b6c0-5eaa122aa960",
   "metadata": {},
   "outputs": [],
   "source": [
    "tokenizer.fit_on_texts( news_df[\"Description\"] )"
   ]
  },
  {
   "cell_type": "code",
   "execution_count": 53,
   "id": "4ff4a4a5-d699-4658-8999-de868888bb3a",
   "metadata": {},
   "outputs": [
    {
     "data": {
      "text/plain": [
       "20859"
      ]
     },
     "execution_count": 53,
     "metadata": {},
     "output_type": "execute_result"
    }
   ],
   "source": [
    "len(tokenizer.index_word)"
   ]
  },
  {
   "cell_type": "code",
   "execution_count": 67,
   "id": "8cc63cb9-1140-46a6-991e-8021fd3fb9f8",
   "metadata": {},
   "outputs": [
    {
     "data": {
      "text/plain": [
       "'kaitlyn'"
      ]
     },
     "execution_count": 67,
     "metadata": {},
     "output_type": "execute_result"
    }
   ],
   "source": [
    "tokenizer.index_word[12892]"
   ]
  },
  {
   "cell_type": "code",
   "execution_count": 57,
   "id": "3375779b-854a-4940-84af-f581d68947b3",
   "metadata": {},
   "outputs": [],
   "source": [
    "sequencias = tokenizer.texts_to_sequences( news_df[\"Description\"] )"
   ]
  },
  {
   "cell_type": "code",
   "execution_count": 71,
   "id": "257e7cc5-fdde-4a6e-aa54-b904bb8cebe7",
   "metadata": {},
   "outputs": [
    {
     "data": {
      "text/plain": [
       "3500"
      ]
     },
     "execution_count": 71,
     "metadata": {},
     "output_type": "execute_result"
    }
   ],
   "source": [
    "len(sequencias)"
   ]
  },
  {
   "cell_type": "code",
   "execution_count": 83,
   "id": "3a4ef1fd-4093-4139-be40-e111e07c4503",
   "metadata": {},
   "outputs": [
    {
     "name": "stdout",
     "output_type": "stream",
     "text": [
      "Tamanho Sequencia 0:  58\n",
      "Tamanho Sequencia 1:  15\n",
      "Tamanho Sequencia 2:  77\n"
     ]
    }
   ],
   "source": [
    "print(\"Tamanho Sequencia 0: \", len(sequencias[0]))\n",
    "print(\"Tamanho Sequencia 1: \", len(sequencias[1]))\n",
    "print(\"Tamanho Sequencia 2: \", len(sequencias[2]))"
   ]
  },
  {
   "cell_type": "code",
   "execution_count": 85,
   "id": "780763bf-4d81-4e3f-869c-f0ebc4793bf5",
   "metadata": {},
   "outputs": [
    {
     "data": {
      "text/plain": [
       "112"
      ]
     },
     "execution_count": 85,
     "metadata": {},
     "output_type": "execute_result"
    }
   ],
   "source": [
    "max_features = 0\n",
    "for sequencia in sequencias:\n",
    "    if len(sequencia) > max_features:\n",
    "        max_features = len(sequencia)\n",
    "max_features"
   ]
  },
  {
   "cell_type": "code",
   "execution_count": 95,
   "id": "4ba52bcc-6064-4b7e-8d7b-089fa4571067",
   "metadata": {},
   "outputs": [],
   "source": [
    "sequences_padded = pad_sequences( sequencias, padding=\"post\" )"
   ]
  },
  {
   "cell_type": "code",
   "execution_count": 97,
   "id": "0269e7b1-c01b-41e6-bdd2-708fd67f8af3",
   "metadata": {},
   "outputs": [
    {
     "name": "stdout",
     "output_type": "stream",
     "text": [
      "Tamanho Sequencia 0:  112\n",
      "Tamanho Sequencia 1:  112\n",
      "Tamanho Sequencia 2:  112\n"
     ]
    }
   ],
   "source": [
    "print(\"Tamanho Sequencia 0: \", len(sequences_padded[0]))\n",
    "print(\"Tamanho Sequencia 1: \", len(sequences_padded[1]))\n",
    "print(\"Tamanho Sequencia 2: \", len(sequences_padded[2]))"
   ]
  },
  {
   "cell_type": "code",
   "execution_count": 99,
   "id": "9f96fb8e-dcb8-4282-809e-5337b80d9253",
   "metadata": {},
   "outputs": [
    {
     "data": {
      "text/plain": [
       "array([[  598,  6262,   117, ...,     0,     0,     0],\n",
       "       [12897,  3561,   211, ...,     0,     0,     0],\n",
       "       [   28,    22,  2751, ...,     0,     0,     0],\n",
       "       ...,\n",
       "       [ 1070,   216,   231, ...,     0,     0,     0],\n",
       "       [ 2980,   933,    31, ...,     0,     0,     0],\n",
       "       [ 1070,   216,   231, ...,     0,     0,     0]])"
      ]
     },
     "execution_count": 99,
     "metadata": {},
     "output_type": "execute_result"
    }
   ],
   "source": [
    "sequences_padded"
   ]
  },
  {
   "cell_type": "code",
   "execution_count": null,
   "id": "540b317a-2eab-49ad-ab00-f31451e2fedf",
   "metadata": {},
   "outputs": [],
   "source": []
  }
 ],
 "metadata": {
  "kernelspec": {
   "display_name": "Python [conda env:base] *",
   "language": "python",
   "name": "conda-base-py"
  },
  "language_info": {
   "codemirror_mode": {
    "name": "ipython",
    "version": 3
   },
   "file_extension": ".py",
   "mimetype": "text/x-python",
   "name": "python",
   "nbconvert_exporter": "python",
   "pygments_lexer": "ipython3",
   "version": "3.12.7"
  }
 },
 "nbformat": 4,
 "nbformat_minor": 5
}
