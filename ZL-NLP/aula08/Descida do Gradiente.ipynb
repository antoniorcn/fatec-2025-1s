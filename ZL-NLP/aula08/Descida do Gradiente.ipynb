{
 "cells": [
  {
   "cell_type": "code",
   "execution_count": 1,
   "id": "3ba51c7a-2483-4cc5-bf3b-62a9e8e07191",
   "metadata": {},
   "outputs": [],
   "source": [
    "import numpy as np"
   ]
  },
  {
   "cell_type": "code",
   "execution_count": 7,
   "id": "d395adf4-3eb7-46d3-bf0c-5076499c1188",
   "metadata": {},
   "outputs": [],
   "source": [
    "def calcular_y_hat(x : float, w : float , b : float) -> float:\n",
    "    return (x * w) + b"
   ]
  },
  {
   "cell_type": "code",
   "execution_count": 41,
   "id": "9b84871e-717f-43be-b76a-501b45551594",
   "metadata": {},
   "outputs": [],
   "source": [
    "def calcular_custo( entrada_X, saida_y, w : float, b : float) -> int:\n",
    "    soma = 0\n",
    "    m = len(entrada_X)\n",
    "    for indice, x in enumerate(entrada_X):\n",
    "        y_hat = calcular_y_hat(x, w, b)\n",
    "        y_correto = saida_y[indice]\n",
    "        soma += int((y_hat - y_correto) ** 2)\n",
    "    return int(soma * (1/2*m))"
   ]
  },
  {
   "cell_type": "code",
   "execution_count": 345,
   "id": "d5339bea-5343-4a84-8d22-33fe20b8ea09",
   "metadata": {},
   "outputs": [],
   "source": [
    "def derivada_w(entrada_X, saida_Y, w, b): \n",
    "    soma = 0\n",
    "    m = len(entrada_X)\n",
    "    for indice, x in enumerate(entrada_X):\n",
    "        y_hat = calcular_y_hat(x, w, b)\n",
    "        y_correto = saida_Y[indice]\n",
    "        soma += ((y_hat - y_correto) * x)\n",
    "    return int(soma * (1 / m))"
   ]
  },
  {
   "cell_type": "code",
   "execution_count": 357,
   "id": "500f2b7d-e3bc-4e40-9c59-47f129acc89e",
   "metadata": {},
   "outputs": [],
   "source": [
    "X = [150, 160, 155, 140, 170, 165, 152]\n",
    "Y = [300000, 350000, 320000,280000, 400000, 370000, 310000]"
   ]
  },
  {
   "cell_type": "code",
   "execution_count": 359,
   "id": "f4541280-8bd8-4518-b271-b6b0e5675030",
   "metadata": {},
   "outputs": [],
   "source": [
    "W = 100\n",
    "B = 10\n",
    "taxa_aprendizagem = 0.00001"
   ]
  },
  {
   "cell_type": "code",
   "execution_count": 361,
   "id": "712b182c-3b03-44e9-a7ec-73d71daf298e",
   "metadata": {},
   "outputs": [
    {
     "name": "stdout",
     "output_type": "stream",
     "text": [
      "W: 100    Custo: 2501698936450\n",
      "W: 598.3766800000001    Custo: 1433255309223\n",
      "W: 975.0398100000001    Custo: 822956661201\n",
      "W: 1259.7142700000002    Custo: 474351992723\n",
      "W: 1474.8655300000003    Custo: 275227819751\n",
      "W: 1637.4725500000002    Custo: 161487411715\n",
      "W: 1760.3676800000003    Custo: 96518503721\n",
      "W: 1853.2493700000002    Custo: 59408038000\n",
      "W: 1923.4474900000002    Custo: 38210414371\n",
      "W: 1976.5018200000002    Custo: 26102260219\n",
      "W: 2016.5992300000003    Custo: 19186039575\n",
      "W: 2046.9040500000003    Custo: 15235470789\n",
      "W: 2069.8078200000004    Custo: 12978892962\n",
      "W: 2087.1180300000005    Custo: 11689927921\n",
      "W: 2100.2007500000004    Custo: 10953666083\n",
      "W: 2110.0884000000005    Custo: 10533111102\n",
      "W: 2117.5612900000006    Custo: 10292888532\n",
      "W: 2123.2091500000006    Custo: 10155672558\n",
      "W: 2127.4776900000006    Custo: 10077294276\n",
      "W: 2130.7037700000005    Custo: 10032524278\n",
      "W: 2133.1419800000003    Custo: 10006951461\n",
      "W: 2134.98473    Custo: 9992344180\n",
      "W: 2136.37744    Custo: 9984000467\n",
      "W: 2137.4300200000002    Custo: 9979234510\n",
      "W: 2138.2255400000004    Custo: 9976512175\n",
      "W: 2138.8267800000003    Custo: 9974957160\n",
      "W: 2139.2811800000004    Custo: 9974068933\n",
      "W: 2139.6246100000003    Custo: 9973561563\n",
      "W: 2139.8841700000003    Custo: 9973271749\n",
      "W: 2140.0803400000004    Custo: 9973106209\n",
      "W: 2140.2286000000004    Custo: 9973011650\n",
      "W: 2140.3406500000006    Custo: 9972957634\n",
      "W: 2140.4253400000007    Custo: 9972926782\n",
      "W: 2140.4893400000005    Custo: 9972909163\n",
      "W: 2140.5377100000005    Custo: 9972899097\n",
      "W: 2140.5742700000005    Custo: 9972893343\n",
      "W: 2140.6019000000006    Custo: 9972890063\n",
      "W: 2140.6227800000006    Custo: 9972888187\n",
      "W: 2140.6385700000005    Custo: 9972887109\n",
      "W: 2140.6505000000006    Custo: 9972886500\n",
      "W: 2140.6595200000006    Custo: 9972886143\n",
      "W: 2140.6663300000005    Custo: 9972885947\n",
      "W: 2140.6714800000004    Custo: 9972885835\n",
      "W: 2140.6753700000004    Custo: 9972885772\n",
      "W: 2140.6783100000002    Custo: 9972885730\n",
      "W: 2140.68053    Custo: 9972885709\n",
      "W: 2140.68221    Custo: 9972885699\n",
      "W: 2140.68348    Custo: 9972885692\n",
      "W: 2140.68444    Custo: 9972885685\n",
      "W: 2140.68517    Custo: 9972885685\n",
      "W: 2140.6857200000004    Custo: 9972885681\n",
      "W: 2140.6861300000005    Custo: 9972885681\n",
      "W: 2140.6864400000004    Custo: 9972885685\n",
      "W: 2140.6866800000003    Custo: 9972885681\n",
      "W: 2140.6868600000003    Custo: 9972885678\n",
      "W: 2140.6870000000004    Custo: 9972885681\n",
      "W: 2140.6871000000006    Custo: 9972885681\n",
      "W: 2140.6871800000004    Custo: 9972885681\n",
      "W: 2140.68724    Custo: 9972885681\n",
      "W: 2140.68728    Custo: 9972885681\n",
      "W: 2140.6873100000003    Custo: 9972885681\n",
      "W: 2140.6873400000004    Custo: 9972885681\n",
      "W: 2140.6873600000004    Custo: 9972885685\n",
      "W: 2140.6873700000006    Custo: 9972885681\n",
      "W: 2140.6873800000008    Custo: 9972885681\n",
      "W: 2140.687390000001    Custo: 9972885685\n",
      "W: 2140.687400000001    Custo: 9972885681\n",
      "W: 2140.687400000001    Custo: 9972885681\n",
      "W: 2140.687400000001    Custo: 9972885681\n",
      "W: 2140.687400000001    Custo: 9972885681\n",
      "W: 2140.687400000001    Custo: 9972885681\n",
      "W: 2140.687400000001    Custo: 9972885681\n",
      "W: 2140.687400000001    Custo: 9972885681\n",
      "W: 2140.687400000001    Custo: 9972885681\n",
      "W: 2140.687400000001    Custo: 9972885681\n",
      "W: 2140.687400000001    Custo: 9972885681\n",
      "W: 2140.687400000001    Custo: 9972885681\n",
      "W: 2140.687400000001    Custo: 9972885681\n",
      "W: 2140.687400000001    Custo: 9972885681\n",
      "W: 2140.687400000001    Custo: 9972885681\n",
      "W: 2140.687400000001    Custo: 9972885681\n",
      "W: 2140.687400000001    Custo: 9972885681\n",
      "W: 2140.687400000001    Custo: 9972885681\n",
      "W: 2140.687400000001    Custo: 9972885681\n",
      "W: 2140.687400000001    Custo: 9972885681\n",
      "W: 2140.687400000001    Custo: 9972885681\n",
      "W: 2140.687400000001    Custo: 9972885681\n",
      "W: 2140.687400000001    Custo: 9972885681\n",
      "W: 2140.687400000001    Custo: 9972885681\n",
      "W: 2140.687400000001    Custo: 9972885681\n",
      "W: 2140.687400000001    Custo: 9972885681\n",
      "W: 2140.687400000001    Custo: 9972885681\n",
      "W: 2140.687400000001    Custo: 9972885681\n",
      "W: 2140.687400000001    Custo: 9972885681\n",
      "W: 2140.687400000001    Custo: 9972885681\n",
      "W: 2140.687400000001    Custo: 9972885681\n",
      "W: 2140.687400000001    Custo: 9972885681\n",
      "W: 2140.687400000001    Custo: 9972885681\n",
      "W: 2140.687400000001    Custo: 9972885681\n",
      "W: 2140.687400000001    Custo: 9972885681\n"
     ]
    }
   ],
   "source": [
    "for count in range(100):\n",
    "    custo_total = calcular_custo(X, Y, W, B)\n",
    "    print(f\"W: {W}    Custo: {custo_total}\")\n",
    "    dW = derivada_w(X, Y, W, B)\n",
    "    W = W - (taxa_aprendizagem * dW)\n",
    "    "
   ]
  },
  {
   "cell_type": "code",
   "execution_count": 333,
   "id": "b65034ef-f14e-4db6-88eb-b84731099019",
   "metadata": {
    "scrolled": true
   },
   "outputs": [],
   "source": [
    "# calcular_y_hat( 160, W, B )"
   ]
  },
  {
   "cell_type": "code",
   "execution_count": 335,
   "id": "88195500-c67c-4020-b9f0-c95df54fe9cd",
   "metadata": {},
   "outputs": [],
   "source": [
    "# calcular_custo(X, Y, W, B)"
   ]
  },
  {
   "cell_type": "code",
   "execution_count": 337,
   "id": "e2b98ad1-9817-4367-8907-9ec216f38be9",
   "metadata": {},
   "outputs": [],
   "source": [
    "# W 1000   B 10    Custo -> 788512342450\n",
    "# W 2000   B 10    Custo ->  21815782450\n",
    "# W 3000   B 10    Custo -> 451797222450"
   ]
  },
  {
   "cell_type": "code",
   "execution_count": 339,
   "id": "da7162bd-c3ad-43b5-a70b-c2b112f8dfd9",
   "metadata": {},
   "outputs": [],
   "source": [
    "# dW = derivada_w(X, Y, W, B)\n",
    "# dW"
   ]
  },
  {
   "cell_type": "code",
   "execution_count": 341,
   "id": "8ced54bd-3800-416a-84bf-cc9e5e50b93f",
   "metadata": {},
   "outputs": [],
   "source": [
    "# W = W - (taxa_aprendizagem * dW)\n",
    "# W"
   ]
  },
  {
   "cell_type": "code",
   "execution_count": null,
   "id": "ec0099a8-f1fc-4825-8439-4c6119e1a784",
   "metadata": {},
   "outputs": [],
   "source": []
  },
  {
   "cell_type": "code",
   "execution_count": null,
   "id": "3a62e4eb-4c4a-44ef-864c-972402d3971d",
   "metadata": {},
   "outputs": [],
   "source": []
  },
  {
   "cell_type": "code",
   "execution_count": null,
   "id": "c6ab7512-1b63-4298-a01d-34746eda53ce",
   "metadata": {},
   "outputs": [],
   "source": []
  }
 ],
 "metadata": {
  "kernelspec": {
   "display_name": "Python [conda env:base] *",
   "language": "python",
   "name": "conda-base-py"
  },
  "language_info": {
   "codemirror_mode": {
    "name": "ipython",
    "version": 3
   },
   "file_extension": ".py",
   "mimetype": "text/x-python",
   "name": "python",
   "nbconvert_exporter": "python",
   "pygments_lexer": "ipython3",
   "version": "3.12.7"
  }
 },
 "nbformat": 4,
 "nbformat_minor": 5
}
