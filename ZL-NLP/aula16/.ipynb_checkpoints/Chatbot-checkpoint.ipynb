{
 "cells": [
  {
   "cell_type": "code",
   "execution_count": 1,
   "id": "8591ad29-f205-4376-80e1-714776047443",
   "metadata": {},
   "outputs": [],
   "source": [
    "from typing import List, Tuple"
   ]
  },
  {
   "cell_type": "code",
   "execution_count": 2,
   "id": "84e832b9-92c6-4e05-b8ae-02c6f349cb47",
   "metadata": {},
   "outputs": [],
   "source": [
    "import numpy as np\n",
    "import tensorflow as tf\n",
    "import pandas as pd"
   ]
  },
  {
   "cell_type": "code",
   "execution_count": 3,
   "id": "0e756659-01ee-48f9-9e84-c826486baf60",
   "metadata": {},
   "outputs": [],
   "source": [
    "from tensorflow.keras.preprocessing.text import Tokenizer\n",
    "from tensorflow.keras.utils import pad_sequences, to_categorical"
   ]
  },
  {
   "cell_type": "code",
   "execution_count": 4,
   "id": "75dff7a9-273b-4af3-b184-6595e84a5b9a",
   "metadata": {},
   "outputs": [],
   "source": [
    "from tensorflow.keras.layers import Input, Embedding, LSTM, Dense\n",
    "from tensorflow.keras.models import Model\n",
    "from tensorflow.keras.optimizers import RMSprop"
   ]
  },
  {
   "cell_type": "code",
   "execution_count": 5,
   "id": "5115dcea-1b17-4d5c-a96b-07a9b7629874",
   "metadata": {},
   "outputs": [],
   "source": [
    "import matplotlib.pyplot as plt"
   ]
  },
  {
   "cell_type": "code",
   "execution_count": 6,
   "id": "12319308-a07a-4014-b36c-bfd1e4ade7c6",
   "metadata": {},
   "outputs": [],
   "source": [
    "import string\n",
    "import re"
   ]
  },
  {
   "cell_type": "code",
   "execution_count": 7,
   "id": "4269c3bc-6cd7-4c5e-9af4-a6ecd9777432",
   "metadata": {},
   "outputs": [
    {
     "data": {
      "text/html": [
       "<div>\n",
       "<style scoped>\n",
       "    .dataframe tbody tr th:only-of-type {\n",
       "        vertical-align: middle;\n",
       "    }\n",
       "\n",
       "    .dataframe tbody tr th {\n",
       "        vertical-align: top;\n",
       "    }\n",
       "\n",
       "    .dataframe thead th {\n",
       "        text-align: right;\n",
       "    }\n",
       "</style>\n",
       "<table border=\"1\" class=\"dataframe\">\n",
       "  <thead>\n",
       "    <tr style=\"text-align: right;\">\n",
       "      <th></th>\n",
       "      <th>chatA</th>\n",
       "      <th>chatB</th>\n",
       "    </tr>\n",
       "  </thead>\n",
       "  <tbody>\n",
       "    <tr>\n",
       "      <th>0</th>\n",
       "      <td>hi, how are you doing?</td>\n",
       "      <td>i'm fine. how about yourself?</td>\n",
       "    </tr>\n",
       "    <tr>\n",
       "      <th>1</th>\n",
       "      <td>i'm fine. how about yourself?</td>\n",
       "      <td>i'm pretty good. thanks for asking.</td>\n",
       "    </tr>\n",
       "    <tr>\n",
       "      <th>2</th>\n",
       "      <td>i'm pretty good. thanks for asking.</td>\n",
       "      <td>no problem. so how have you been?</td>\n",
       "    </tr>\n",
       "    <tr>\n",
       "      <th>3</th>\n",
       "      <td>no problem. so how have you been?</td>\n",
       "      <td>i've been great. what about you?</td>\n",
       "    </tr>\n",
       "    <tr>\n",
       "      <th>4</th>\n",
       "      <td>i've been great. what about you?</td>\n",
       "      <td>i've been good. i'm in school right now.</td>\n",
       "    </tr>\n",
       "    <tr>\n",
       "      <th>...</th>\n",
       "      <td>...</td>\n",
       "      <td>...</td>\n",
       "    </tr>\n",
       "    <tr>\n",
       "      <th>3720</th>\n",
       "      <td>that's a good question. maybe it's not old age.</td>\n",
       "      <td>are you right-handed?</td>\n",
       "    </tr>\n",
       "    <tr>\n",
       "      <th>3721</th>\n",
       "      <td>are you right-handed?</td>\n",
       "      <td>yes. all my life.</td>\n",
       "    </tr>\n",
       "    <tr>\n",
       "      <th>3722</th>\n",
       "      <td>yes. all my life.</td>\n",
       "      <td>you're wearing out your right hand. stop using...</td>\n",
       "    </tr>\n",
       "    <tr>\n",
       "      <th>3723</th>\n",
       "      <td>you're wearing out your right hand. stop using...</td>\n",
       "      <td>but i do all my writing with my right hand.</td>\n",
       "    </tr>\n",
       "    <tr>\n",
       "      <th>3724</th>\n",
       "      <td>but i do all my writing with my right hand.</td>\n",
       "      <td>start typing instead. that way your left hand ...</td>\n",
       "    </tr>\n",
       "  </tbody>\n",
       "</table>\n",
       "<p>3725 rows × 2 columns</p>\n",
       "</div>"
      ],
      "text/plain": [
       "                                                  chatA  \\\n",
       "0                                hi, how are you doing?   \n",
       "1                         i'm fine. how about yourself?   \n",
       "2                   i'm pretty good. thanks for asking.   \n",
       "3                     no problem. so how have you been?   \n",
       "4                      i've been great. what about you?   \n",
       "...                                                 ...   \n",
       "3720    that's a good question. maybe it's not old age.   \n",
       "3721                              are you right-handed?   \n",
       "3722                                  yes. all my life.   \n",
       "3723  you're wearing out your right hand. stop using...   \n",
       "3724        but i do all my writing with my right hand.   \n",
       "\n",
       "                                                  chatB  \n",
       "0                         i'm fine. how about yourself?  \n",
       "1                   i'm pretty good. thanks for asking.  \n",
       "2                     no problem. so how have you been?  \n",
       "3                      i've been great. what about you?  \n",
       "4              i've been good. i'm in school right now.  \n",
       "...                                                 ...  \n",
       "3720                              are you right-handed?  \n",
       "3721                                  yes. all my life.  \n",
       "3722  you're wearing out your right hand. stop using...  \n",
       "3723        but i do all my writing with my right hand.  \n",
       "3724  start typing instead. that way your left hand ...  \n",
       "\n",
       "[3725 rows x 2 columns]"
      ]
     },
     "execution_count": 7,
     "metadata": {},
     "output_type": "execute_result"
    }
   ],
   "source": [
    "df_textos = pd.read_csv(\"../../../dados/nlp/dialogs.txt\", sep=\"\\t\", encoding=\"utf-8\", names=[\"chatA\", \"chatB\"])\n",
    "df_textos"
   ]
  },
  {
   "cell_type": "code",
   "execution_count": 8,
   "id": "7920391b-581e-4d65-8e81-de1aae8f157a",
   "metadata": {},
   "outputs": [],
   "source": [
    "contraction_dict = {\n",
    "                    \"aren't\": \"are not\",\t\t\"can't\": \"can not\",\t\t\"could've\": \"could have\",\n",
    "                    \"couldn't\": \"could not\",\t\"daren't\": \"dare not\",\t\"didn't\": \"did not\",\n",
    "                    \"doesn't\": \"does not\",\t\t\"don't\": \"do not\",\t\t\"hadn't\": \"had not\",\n",
    "                    \"hasn't\": \"has not\",\t\t\"haven't\": \"have not\",\t\"he's\": \"he is\",\n",
    "                    \"how'd\": \"how had\",\t\t\t\"how're\": \"how are\",\t\"how's\": \"how is\",\n",
    "                    \"how've\": \"how have\",\t\t\"i'd\": \"i had\",\t\t\t\"i'm\": \"i am\",\n",
    "                    \"i've\": \"i have\",\t\t\t\"isn't\": \"is+ not\",\t\t\"it's\": \"it is\",\n",
    "                    \"might've\": \"might have\",\t\"mightn't\": \"might not\",\t\"must've\": \"must have\",\n",
    "                    \"mustn't\": \"must not\",\t\t\"needn't\": \"need not\",\t\"oughtn't\": \"ought not\",\n",
    "                    \"shan't\": \"shall not\",\t\t\"she'd\": \"she had\",\t\t\"she's\": \"she is\",\n",
    "                    \"should've\": \"should have\",\t\"shouldn't\": \"should not\",\t\"that'd\": \"that had\",\n",
    "                    \"that's\": \"that is\",\t\t\"there'd\": \"there had\",\t\"there's\": \"there is\",\n",
    "                    \"they'd\": \"they had\",\t\t\"they're\": \"you are\",\t\"they've\": \"they have\",\n",
    "                    \"wasn't\": \"was+ not\",\t\t\"we'd\": \"we had\",\t\t\"we're\": \"we are\",\n",
    "                    \"we've\": \"we have\",\t\t\t\"weren't\": \"were not\",\t\"what'd\": \"what had\",\n",
    "                    \"what're\": \"what are\",\t\t\"what's\": \"what is\",\t\"what've\": \"what have\",\n",
    "                    \"when'd\": \"when had\",\t\t\"when're\": \"when are\",\t\"when's\": \"when is\",\n",
    "                    \"when've\": \"when have\",\t\t\"where'd\": \"where had\",\t\"where're\": \"where are\",\n",
    "                    \"where's\": \"where is\",\t\t\"where've\": \"where have\",\t\"who'd\": \"who had\",\n",
    "                    \"who're\": \"who are\",\t\t\"who's\": \"who is\",\t\t\"who've\": \"who have\",\n",
    "                    \"why'd\": \"why had\",\t\t\t\"why're\": \"why are\",\t\"why's\": \"why is\",\n",
    "                    \"why've\": \"why have\",\t\t\"would've\": \"would have\",\t\"wouldn't\": \"would not\",\n",
    "                    \"you're\": \"you are\",\t\t\"you've\": \"you have\",\t\"'cause\": \"because\", \n",
    "                    \"ain't\": \"is not\", \t\t\t\"aren't\": \"are not\",\t\"can't\": \"cannot\", \n",
    "                    \"could've\": \"could have\",\t\"he's\": \"he is\",\t\t\"how'll\": \"how will\",\n",
    "                    \"i'll\": \"i will\",\t\t\t\"it'll\": \"it will\",\t\t\"it's\": \"it is\", \n",
    "                    \"she'll\": \"she will\",\t\t\"she's\": \"she is\",\t\t\"that'll\": \"that will\",\n",
    "                    \"there'll\": \"there will\",\t\"they'll\": \"they will\",\t\"they're\": \"they are\",\n",
    "                    \"we'll\": \"we will\",\t\t\t\"we're\": \"we are\",\t\t\"what'll\": \"what will\",\n",
    "                    \"when'll\": \"when will\",\t\t\"where'll\": \"where will\",\t\"who'll\": \"who will\",\n",
    "                    \"yo're\": \"you are\",\t\t\t\"you'll\": \"you will\"\n",
    "            }"
   ]
  },
  {
   "cell_type": "code",
   "execution_count": 9,
   "id": "1f814f9c-8298-4a8e-aca9-7575e7e3df87",
   "metadata": {},
   "outputs": [],
   "source": [
    "def remover_contracoes_ingles( texto ):\n",
    "    pattern = r\"[^\\w\\s]\"\n",
    "    tokens = texto.lower().split(\" \")\n",
    "    frase_sem_contracoes : List[str] = []\n",
    "    for token in tokens:\n",
    "        if token in contraction_dict:\n",
    "            token = contraction_dict[token]\n",
    "        frase_sem_contracoes.append(token)\n",
    "    texto_limpo = re.sub(pattern, \"\", \" \".join(frase_sem_contracoes))\n",
    "    return texto_limpo"
   ]
  },
  {
   "cell_type": "code",
   "execution_count": 10,
   "id": "146f3220-4e4e-44b8-bf9d-53efd9f7b73d",
   "metadata": {},
   "outputs": [
    {
     "data": {
      "text/plain": [
       "'i have been good i am in school right now'"
      ]
     },
     "execution_count": 10,
     "metadata": {},
     "output_type": "execute_result"
    }
   ],
   "source": [
    "remover_contracoes_ingles( \"i've been good. i'm in school right now.\" )"
   ]
  },
  {
   "cell_type": "code",
   "execution_count": 11,
   "id": "f9a333a6-cd8b-4e3e-bc52-c626d494a016",
   "metadata": {},
   "outputs": [
    {
     "data": {
      "text/html": [
       "<div>\n",
       "<style scoped>\n",
       "    .dataframe tbody tr th:only-of-type {\n",
       "        vertical-align: middle;\n",
       "    }\n",
       "\n",
       "    .dataframe tbody tr th {\n",
       "        vertical-align: top;\n",
       "    }\n",
       "\n",
       "    .dataframe thead th {\n",
       "        text-align: right;\n",
       "    }\n",
       "</style>\n",
       "<table border=\"1\" class=\"dataframe\">\n",
       "  <thead>\n",
       "    <tr style=\"text-align: right;\">\n",
       "      <th></th>\n",
       "      <th>chatA</th>\n",
       "      <th>chatB</th>\n",
       "      <th>chat_a_limpo</th>\n",
       "      <th>chat_b_limpo</th>\n",
       "    </tr>\n",
       "  </thead>\n",
       "  <tbody>\n",
       "    <tr>\n",
       "      <th>0</th>\n",
       "      <td>hi, how are you doing?</td>\n",
       "      <td>i'm fine. how about yourself?</td>\n",
       "      <td>hi how are you doing</td>\n",
       "      <td>i am fine how about yourself</td>\n",
       "    </tr>\n",
       "    <tr>\n",
       "      <th>1</th>\n",
       "      <td>i'm fine. how about yourself?</td>\n",
       "      <td>i'm pretty good. thanks for asking.</td>\n",
       "      <td>i am fine how about yourself</td>\n",
       "      <td>i am pretty good thanks for asking</td>\n",
       "    </tr>\n",
       "    <tr>\n",
       "      <th>2</th>\n",
       "      <td>i'm pretty good. thanks for asking.</td>\n",
       "      <td>no problem. so how have you been?</td>\n",
       "      <td>i am pretty good thanks for asking</td>\n",
       "      <td>no problem so how have you been</td>\n",
       "    </tr>\n",
       "    <tr>\n",
       "      <th>3</th>\n",
       "      <td>no problem. so how have you been?</td>\n",
       "      <td>i've been great. what about you?</td>\n",
       "      <td>no problem so how have you been</td>\n",
       "      <td>i have been great what about you</td>\n",
       "    </tr>\n",
       "    <tr>\n",
       "      <th>4</th>\n",
       "      <td>i've been great. what about you?</td>\n",
       "      <td>i've been good. i'm in school right now.</td>\n",
       "      <td>i have been great what about you</td>\n",
       "      <td>i have been good i am in school right now</td>\n",
       "    </tr>\n",
       "    <tr>\n",
       "      <th>...</th>\n",
       "      <td>...</td>\n",
       "      <td>...</td>\n",
       "      <td>...</td>\n",
       "      <td>...</td>\n",
       "    </tr>\n",
       "    <tr>\n",
       "      <th>3720</th>\n",
       "      <td>that's a good question. maybe it's not old age.</td>\n",
       "      <td>are you right-handed?</td>\n",
       "      <td>that is a good question maybe it is not old age</td>\n",
       "      <td>are you righthanded</td>\n",
       "    </tr>\n",
       "    <tr>\n",
       "      <th>3721</th>\n",
       "      <td>are you right-handed?</td>\n",
       "      <td>yes. all my life.</td>\n",
       "      <td>are you righthanded</td>\n",
       "      <td>yes all my life</td>\n",
       "    </tr>\n",
       "    <tr>\n",
       "      <th>3722</th>\n",
       "      <td>yes. all my life.</td>\n",
       "      <td>you're wearing out your right hand. stop using...</td>\n",
       "      <td>yes all my life</td>\n",
       "      <td>you are wearing out your right hand stop using...</td>\n",
       "    </tr>\n",
       "    <tr>\n",
       "      <th>3723</th>\n",
       "      <td>you're wearing out your right hand. stop using...</td>\n",
       "      <td>but i do all my writing with my right hand.</td>\n",
       "      <td>you are wearing out your right hand stop using...</td>\n",
       "      <td>but i do all my writing with my right hand</td>\n",
       "    </tr>\n",
       "    <tr>\n",
       "      <th>3724</th>\n",
       "      <td>but i do all my writing with my right hand.</td>\n",
       "      <td>start typing instead. that way your left hand ...</td>\n",
       "      <td>but i do all my writing with my right hand</td>\n",
       "      <td>start typing instead that way your left hand w...</td>\n",
       "    </tr>\n",
       "  </tbody>\n",
       "</table>\n",
       "<p>3725 rows × 4 columns</p>\n",
       "</div>"
      ],
      "text/plain": [
       "                                                  chatA  \\\n",
       "0                                hi, how are you doing?   \n",
       "1                         i'm fine. how about yourself?   \n",
       "2                   i'm pretty good. thanks for asking.   \n",
       "3                     no problem. so how have you been?   \n",
       "4                      i've been great. what about you?   \n",
       "...                                                 ...   \n",
       "3720    that's a good question. maybe it's not old age.   \n",
       "3721                              are you right-handed?   \n",
       "3722                                  yes. all my life.   \n",
       "3723  you're wearing out your right hand. stop using...   \n",
       "3724        but i do all my writing with my right hand.   \n",
       "\n",
       "                                                  chatB  \\\n",
       "0                         i'm fine. how about yourself?   \n",
       "1                   i'm pretty good. thanks for asking.   \n",
       "2                     no problem. so how have you been?   \n",
       "3                      i've been great. what about you?   \n",
       "4              i've been good. i'm in school right now.   \n",
       "...                                                 ...   \n",
       "3720                              are you right-handed?   \n",
       "3721                                  yes. all my life.   \n",
       "3722  you're wearing out your right hand. stop using...   \n",
       "3723        but i do all my writing with my right hand.   \n",
       "3724  start typing instead. that way your left hand ...   \n",
       "\n",
       "                                           chat_a_limpo  \\\n",
       "0                                  hi how are you doing   \n",
       "1                          i am fine how about yourself   \n",
       "2                    i am pretty good thanks for asking   \n",
       "3                       no problem so how have you been   \n",
       "4                      i have been great what about you   \n",
       "...                                                 ...   \n",
       "3720    that is a good question maybe it is not old age   \n",
       "3721                                are you righthanded   \n",
       "3722                                    yes all my life   \n",
       "3723  you are wearing out your right hand stop using...   \n",
       "3724         but i do all my writing with my right hand   \n",
       "\n",
       "                                           chat_b_limpo  \n",
       "0                          i am fine how about yourself  \n",
       "1                    i am pretty good thanks for asking  \n",
       "2                       no problem so how have you been  \n",
       "3                      i have been great what about you  \n",
       "4             i have been good i am in school right now  \n",
       "...                                                 ...  \n",
       "3720                                are you righthanded  \n",
       "3721                                    yes all my life  \n",
       "3722  you are wearing out your right hand stop using...  \n",
       "3723         but i do all my writing with my right hand  \n",
       "3724  start typing instead that way your left hand w...  \n",
       "\n",
       "[3725 rows x 4 columns]"
      ]
     },
     "execution_count": 11,
     "metadata": {},
     "output_type": "execute_result"
    }
   ],
   "source": [
    "df_textos[\"chat_a_limpo\"] = df_textos[\"chatA\"].apply(remover_contracoes_ingles)\n",
    "df_textos[\"chat_b_limpo\"] = df_textos[\"chatB\"].apply(remover_contracoes_ingles)\n",
    "df_textos"
   ]
  },
  {
   "cell_type": "code",
   "execution_count": 12,
   "id": "f2828fbe-c981-4386-a1c3-0dd6a3992454",
   "metadata": {},
   "outputs": [],
   "source": [
    "textos_chat_a : List[ str ] = list(df_textos[\"chat_a_limpo\"])\n",
    "textos_chat_b : List[ str ] = list(df_textos[\"chat_b_limpo\"])"
   ]
  },
  {
   "cell_type": "code",
   "execution_count": 13,
   "id": "f751e31c-b6f9-4844-bd80-17fcc117995f",
   "metadata": {},
   "outputs": [],
   "source": [
    "tokenizer = Tokenizer(oov_token=\"<oov>\", filters=\"\")\n",
    "tokenizer.fit_on_texts( [\"<BOS>\", \"<EOS>\"] + textos_chat_a + textos_chat_b )\n",
    "vocabulario = tokenizer.word_index"
   ]
  },
  {
   "cell_type": "code",
   "execution_count": 14,
   "id": "f362307e-c3bb-4dd5-bcc3-f57030e6224a",
   "metadata": {},
   "outputs": [],
   "source": [
    "bos_index = vocabulario[\"<bos>\"]\n",
    "eos_index = vocabulario[\"<eos>\"]"
   ]
  },
  {
   "cell_type": "code",
   "execution_count": 15,
   "id": "e845dcf3-d4bc-4740-9b57-b4de072887d6",
   "metadata": {},
   "outputs": [
    {
     "name": "stdout",
     "output_type": "stream",
     "text": [
      "['hi how are you doing', 'i am fine how about yourself']\n",
      "[[1485, 36, 13, 3, 164], [2, 26, 582, 36, 34, 532]]\n"
     ]
    }
   ],
   "source": [
    "sequencias_chat_a = tokenizer.texts_to_sequences( textos_chat_a )\n",
    "print(textos_chat_a[0:2])\n",
    "print(sequencias_chat_a[0:2])"
   ]
  },
  {
   "cell_type": "code",
   "execution_count": 16,
   "id": "b98eb0cd-e281-46f2-99e9-0195c8b4bd7b",
   "metadata": {},
   "outputs": [
    {
     "name": "stdout",
     "output_type": "stream",
     "text": [
      "['i am fine how about yourself', 'i am pretty good thanks for asking']\n",
      "[[2, 26, 582, 36, 34, 532], [2, 26, 148, 43, 232, 28, 467]]\n"
     ]
    }
   ],
   "source": [
    "sequencias_chat_b = tokenizer.texts_to_sequences( textos_chat_b )\n",
    "print(textos_chat_b[0:2])\n",
    "print(sequencias_chat_b[0:2])"
   ]
  },
  {
   "cell_type": "code",
   "execution_count": 17,
   "id": "c3f9a90a-c30f-453d-b386-3e4c6f6a50f5",
   "metadata": {},
   "outputs": [
    {
     "data": {
      "text/plain": [
       "20"
      ]
     },
     "execution_count": 17,
     "metadata": {},
     "output_type": "execute_result"
    }
   ],
   "source": [
    "maximo_palavras = 0\n",
    "for seq in sequencias_chat_a:\n",
    "    if len(seq) > maximo_palavras:\n",
    "        maximo_palavras = len(seq)\n",
    "\n",
    "for seq in sequencias_chat_b:\n",
    "    if len(seq) > maximo_palavras:\n",
    "        maximo_palavras = len(seq)\n",
    "maximo_palavras"
   ]
  },
  {
   "cell_type": "code",
   "execution_count": 18,
   "id": "e9de5fe1-0109-4d8d-b94f-ddeb48b5df40",
   "metadata": {},
   "outputs": [
    {
     "name": "stdout",
     "output_type": "stream",
     "text": [
      "[[1485, 36, 13, 3, 164], [2, 26, 582, 36, 34, 532]]\n",
      "[[   0    0    0    0    0    0    0    0    0    0    0    0    0    0\n",
      "     0 1485   36   13    3  164]\n",
      " [   0    0    0    0    0    0    0    0    0    0    0    0    0    0\n",
      "     2   26  582   36   34  532]]\n"
     ]
    }
   ],
   "source": [
    "encoder_entrada_dados = pad_sequences(sequencias_chat_a, maxlen=maximo_palavras, padding=\"pre\")\n",
    "print(sequencias_chat_a[0:2])\n",
    "print(encoder_entrada_dados[0:2])"
   ]
  },
  {
   "cell_type": "code",
   "execution_count": 19,
   "id": "060bee6b-950e-4cdb-be5b-3f1ac97eb6b9",
   "metadata": {},
   "outputs": [],
   "source": [
    "# [[bos_index] + seq for seq in sequencias_chat_a][0:5]"
   ]
  },
  {
   "cell_type": "code",
   "execution_count": 20,
   "id": "bbe14eb5-80a2-4973-bc6b-13bf18406fc5",
   "metadata": {},
   "outputs": [],
   "source": [
    "# [seq + [eos_index] for seq in sequencias_chat_b][0:5]"
   ]
  },
  {
   "cell_type": "code",
   "execution_count": 21,
   "id": "0c78f9a6-8fcb-45d3-baf6-e108cbdc518c",
   "metadata": {},
   "outputs": [
    {
     "name": "stdout",
     "output_type": "stream",
     "text": [
      "[[1485, 36, 13, 3, 164], [2, 26, 582, 36, 34, 532]]\n",
      "[[   0    0    0    0    0    0    0    0    0    0    0    0    0    0\n",
      "  2313 1485   36   13    3  164]\n",
      " [   0    0    0    0    0    0    0    0    0    0    0    0    0 2313\n",
      "     2   26  582   36   34  532]]\n",
      "[[2, 26, 582, 36, 34, 532], [2, 26, 148, 43, 232, 28, 467]]\n",
      "[[   0    0    0    0    0    0    0    0    0    0    0    0    0    2\n",
      "    26  582   36   34  532 2314]\n",
      " [   0    0    0    0    0    0    0    0    0    0    0    0    2   26\n",
      "   148   43  232   28  467 2314]]\n"
     ]
    }
   ],
   "source": [
    "decoder_entrada_dados = pad_sequences([[bos_index] + seq for seq in sequencias_chat_a], maxlen=maximo_palavras, padding=\"pre\")\n",
    "print(sequencias_chat_a[0:2])\n",
    "print(decoder_entrada_dados[0:2])\n",
    "decoder_saida_dados = pad_sequences([seq + [eos_index] for seq in sequencias_chat_b], maxlen=maximo_palavras, padding=\"pre\")\n",
    "print(sequencias_chat_b[0:2])\n",
    "print(decoder_saida_dados[0:2])"
   ]
  },
  {
   "cell_type": "code",
   "execution_count": 22,
   "id": "345933cf-1e40-44bd-bfd6-dd4442216510",
   "metadata": {},
   "outputs": [
    {
     "data": {
      "text/plain": [
       "2496"
      ]
     },
     "execution_count": 22,
     "metadata": {},
     "output_type": "execute_result"
    }
   ],
   "source": [
    "len(tokenizer.word_index)\n"
   ]
  },
  {
   "cell_type": "code",
   "execution_count": 23,
   "id": "79d97509-1652-4205-b081-a30adea70649",
   "metadata": {},
   "outputs": [],
   "source": [
    "#    0     1       2       3      ...  177\n",
    "# [0.05, 0.008, 0.0003, 0.0001, ...., 0.07]  # len => 178"
   ]
  },
  {
   "cell_type": "code",
   "execution_count": 24,
   "id": "ec355b55-22ba-4fa6-b374-985fb4d088d8",
   "metadata": {},
   "outputs": [],
   "source": [
    "# [ 0  0  0  0  0  0  0 57  2]\n",
    "#      0  1  2  3  4  5  6  7  ... 57 ... 176 177\n",
    "# [ \n",
    "#     [1, 0, 0, 0, 0, 0, 0, 0 ..........., 0,  0],\n",
    "#     [1, 0, 0, 0, 0, 0, 0, 0 ..........., 0,  0],\n",
    "#     [1, 0, 0, 0, 0, 0, 0, 0 ..........., 0,  0],\n",
    "#     [1, 0, 0, 0, 0, 0, 0, 0 ..........., 0,  0],\n",
    "#     [1, 0, 0, 0, 0, 0, 0, 0 ..........., 0,  0],\n",
    "#     [1, 0, 0, 0, 0, 0, 0, 0 ..........., 0,  0],\n",
    "#     [1, 0, 0, 0, 0, 0, 0, 0 ..........., 0,  0],\n",
    "#     [0, 0, 0, 0, 0, 0, 0, .....,1, ...., 0,  0],\n",
    "#     [0, 0, 1, 0, 0, 0, 0, 0 ..........., 0,  0]\n",
    "# ]"
   ]
  },
  {
   "cell_type": "code",
   "execution_count": 25,
   "id": "f7f5d3a2-f560-4a57-9e5f-f41cf54dfa89",
   "metadata": {},
   "outputs": [
    {
     "data": {
      "text/plain": [
       "2497"
      ]
     },
     "execution_count": 25,
     "metadata": {},
     "output_type": "execute_result"
    }
   ],
   "source": [
    "quantidade_classes_dicionario = len(vocabulario) + 1\n",
    "quantidade_classes_dicionario"
   ]
  },
  {
   "cell_type": "code",
   "execution_count": 26,
   "id": "3b28798b-f494-4ce4-9342-d9454ea04809",
   "metadata": {},
   "outputs": [
    {
     "name": "stdout",
     "output_type": "stream",
     "text": [
      "[[   0    0    0    0    0    0    0    0    0    0    0    0    0    2\n",
      "    26  582   36   34  532 2314]\n",
      " [   0    0    0    0    0    0    0    0    0    0    0    0    2   26\n",
      "   148   43  232   28  467 2314]]\n",
      "[[[1. 0. 0. ... 0. 0. 0.]\n",
      "  [1. 0. 0. ... 0. 0. 0.]\n",
      "  [1. 0. 0. ... 0. 0. 0.]\n",
      "  ...\n",
      "  [0. 0. 0. ... 0. 0. 0.]\n",
      "  [0. 0. 0. ... 0. 0. 0.]\n",
      "  [0. 0. 0. ... 0. 0. 0.]]\n",
      "\n",
      " [[1. 0. 0. ... 0. 0. 0.]\n",
      "  [1. 0. 0. ... 0. 0. 0.]\n",
      "  [1. 0. 0. ... 0. 0. 0.]\n",
      "  ...\n",
      "  [0. 0. 0. ... 0. 0. 0.]\n",
      "  [0. 0. 0. ... 0. 0. 0.]\n",
      "  [0. 0. 0. ... 0. 0. 0.]]]\n"
     ]
    }
   ],
   "source": [
    "decoder_saida_dados_onehot = to_categorical(decoder_saida_dados, num_classes=quantidade_classes_dicionario)\n",
    "print(decoder_saida_dados[0:2])\n",
    "print(decoder_saida_dados_onehot[0:2])"
   ]
  },
  {
   "cell_type": "code",
   "execution_count": 27,
   "id": "b35ea5d8-b147-4d2d-a7dc-ca353daf7a2e",
   "metadata": {},
   "outputs": [],
   "source": [
    "embedding_output_dimensions = 100\n",
    "lstm_nodes = 200"
   ]
  },
  {
   "cell_type": "code",
   "execution_count": 28,
   "id": "46942838-357d-4b32-a583-6f3342bfafe8",
   "metadata": {},
   "outputs": [],
   "source": [
    "encoder_entrada_layer = Input( shape=(None, ) )\n",
    "encoder_embd_layer = Embedding( input_dim=quantidade_classes_dicionario, output_dim=embedding_output_dimensions)\n",
    "encoder_embd = encoder_embd_layer( encoder_entrada_layer )\n",
    "encoder_lstm_layer = LSTM( lstm_nodes, return_state = True )\n",
    "encoder_lstm_result, state_h, state_c = encoder_lstm_layer( encoder_embd )\n",
    "encoder_states = [state_h, state_c]"
   ]
  },
  {
   "cell_type": "code",
   "execution_count": 29,
   "id": "6b0d81ab-6e66-4002-b83c-1d61cabb84cd",
   "metadata": {},
   "outputs": [],
   "source": [
    "decoder_entrada_layer = Input( shape=(None, ) )\n",
    "decoder_embd_layer = Embedding( input_dim=quantidade_classes_dicionario, output_dim=embedding_output_dimensions)\n",
    "decoder_embd = decoder_embd_layer( decoder_entrada_layer )\n",
    "decoder_lstm_layer = LSTM( lstm_nodes, return_state = True, return_sequences = True )\n",
    "decoder_lstm_result, _, _ = decoder_lstm_layer( decoder_embd, initial_state = encoder_states )\n",
    "decoder_saida_layer = Dense(quantidade_classes_dicionario, activation=\"softmax\" )\n",
    "decoder_saida = decoder_saida_layer( decoder_lstm_result )"
   ]
  },
  {
   "cell_type": "code",
   "execution_count": 30,
   "id": "9654c111-5ada-4ce4-bca4-45b9ef30cdce",
   "metadata": {},
   "outputs": [],
   "source": [
    "model_treinamento = Model( [encoder_entrada_layer, decoder_entrada_layer], decoder_saida )"
   ]
  },
  {
   "cell_type": "code",
   "execution_count": 31,
   "id": "aecf9f62-aca3-4b89-9787-9c4f21ae7635",
   "metadata": {},
   "outputs": [],
   "source": [
    "opt = RMSprop()"
   ]
  },
  {
   "cell_type": "code",
   "execution_count": 32,
   "id": "1cb9f472-b11a-4351-9cad-e4076d49e149",
   "metadata": {},
   "outputs": [],
   "source": [
    "model_treinamento.compile( optimizer = \"adam\", loss=\"categorical_crossentropy\", metrics=[\"accuracy\"])\n",
    "model_treinamento.summary()"
   ]
  },
  {
   "cell_type": "code",
   "execution_count": 33,
   "id": "056b8f41-89fd-41c9-98ce-2ac4862ab729",
   "metadata": {},
   "outputs": [
    {
     "name": "stdout",
     "output_type": "stream",
     "text": [
      "Epoch 1/50\n",
      "\u001b[1m466/466\u001b[0m \u001b[32m━━━━━━━━━━━━━━━━━━━━\u001b[0m\u001b[37m\u001b[0m \u001b[1m25s\u001b[0m 43ms/step - accuracy: 0.6166 - loss: 3.2216\n",
      "Epoch 2/50\n",
      "\u001b[1m466/466\u001b[0m \u001b[32m━━━━━━━━━━━━━━━━━━━━\u001b[0m\u001b[37m\u001b[0m \u001b[1m26s\u001b[0m 56ms/step - accuracy: 0.6599 - loss: 2.2668\n",
      "Epoch 3/50\n",
      "\u001b[1m466/466\u001b[0m \u001b[32m━━━━━━━━━━━━━━━━━━━━\u001b[0m\u001b[37m\u001b[0m \u001b[1m25s\u001b[0m 52ms/step - accuracy: 0.6607 - loss: 2.2313\n",
      "Epoch 4/50\n",
      "\u001b[1m466/466\u001b[0m \u001b[32m━━━━━━━━━━━━━━━━━━━━\u001b[0m\u001b[37m\u001b[0m \u001b[1m24s\u001b[0m 52ms/step - accuracy: 0.6631 - loss: 2.1870\n",
      "Epoch 5/50\n",
      "\u001b[1m466/466\u001b[0m \u001b[32m━━━━━━━━━━━━━━━━━━━━\u001b[0m\u001b[37m\u001b[0m \u001b[1m26s\u001b[0m 55ms/step - accuracy: 0.6628 - loss: 2.1691\n",
      "Epoch 6/50\n",
      "\u001b[1m466/466\u001b[0m \u001b[32m━━━━━━━━━━━━━━━━━━━━\u001b[0m\u001b[37m\u001b[0m \u001b[1m27s\u001b[0m 58ms/step - accuracy: 0.6624 - loss: 2.1451\n",
      "Epoch 7/50\n",
      "\u001b[1m466/466\u001b[0m \u001b[32m━━━━━━━━━━━━━━━━━━━━\u001b[0m\u001b[37m\u001b[0m \u001b[1m31s\u001b[0m 67ms/step - accuracy: 0.6618 - loss: 2.1143\n",
      "Epoch 8/50\n",
      "\u001b[1m466/466\u001b[0m \u001b[32m━━━━━━━━━━━━━━━━━━━━\u001b[0m\u001b[37m\u001b[0m \u001b[1m28s\u001b[0m 59ms/step - accuracy: 0.6674 - loss: 2.0625\n",
      "Epoch 9/50\n",
      "\u001b[1m466/466\u001b[0m \u001b[32m━━━━━━━━━━━━━━━━━━━━\u001b[0m\u001b[37m\u001b[0m \u001b[1m26s\u001b[0m 55ms/step - accuracy: 0.6673 - loss: 2.0319\n",
      "Epoch 10/50\n",
      "\u001b[1m466/466\u001b[0m \u001b[32m━━━━━━━━━━━━━━━━━━━━\u001b[0m\u001b[37m\u001b[0m \u001b[1m32s\u001b[0m 69ms/step - accuracy: 0.6693 - loss: 1.9949\n",
      "Epoch 11/50\n",
      "\u001b[1m466/466\u001b[0m \u001b[32m━━━━━━━━━━━━━━━━━━━━\u001b[0m\u001b[37m\u001b[0m \u001b[1m23s\u001b[0m 50ms/step - accuracy: 0.6653 - loss: 1.9989\n",
      "Epoch 12/50\n",
      "\u001b[1m466/466\u001b[0m \u001b[32m━━━━━━━━━━━━━━━━━━━━\u001b[0m\u001b[37m\u001b[0m \u001b[1m24s\u001b[0m 51ms/step - accuracy: 0.6678 - loss: 1.9591\n",
      "Epoch 13/50\n",
      "\u001b[1m466/466\u001b[0m \u001b[32m━━━━━━━━━━━━━━━━━━━━\u001b[0m\u001b[37m\u001b[0m \u001b[1m21s\u001b[0m 45ms/step - accuracy: 0.6675 - loss: 1.9313\n",
      "Epoch 14/50\n",
      "\u001b[1m466/466\u001b[0m \u001b[32m━━━━━━━━━━━━━━━━━━━━\u001b[0m\u001b[37m\u001b[0m \u001b[1m22s\u001b[0m 46ms/step - accuracy: 0.6697 - loss: 1.9075\n",
      "Epoch 15/50\n",
      "\u001b[1m466/466\u001b[0m \u001b[32m━━━━━━━━━━━━━━━━━━━━\u001b[0m\u001b[37m\u001b[0m \u001b[1m20s\u001b[0m 43ms/step - accuracy: 0.6702 - loss: 1.8719\n",
      "Epoch 16/50\n",
      "\u001b[1m466/466\u001b[0m \u001b[32m━━━━━━━━━━━━━━━━━━━━\u001b[0m\u001b[37m\u001b[0m \u001b[1m20s\u001b[0m 44ms/step - accuracy: 0.6764 - loss: 1.8235\n",
      "Epoch 17/50\n",
      "\u001b[1m466/466\u001b[0m \u001b[32m━━━━━━━━━━━━━━━━━━━━\u001b[0m\u001b[37m\u001b[0m \u001b[1m21s\u001b[0m 45ms/step - accuracy: 0.6785 - loss: 1.7878\n",
      "Epoch 18/50\n",
      "\u001b[1m466/466\u001b[0m \u001b[32m━━━━━━━━━━━━━━━━━━━━\u001b[0m\u001b[37m\u001b[0m \u001b[1m20s\u001b[0m 43ms/step - accuracy: 0.6779 - loss: 1.7754\n",
      "Epoch 19/50\n",
      "\u001b[1m466/466\u001b[0m \u001b[32m━━━━━━━━━━━━━━━━━━━━\u001b[0m\u001b[37m\u001b[0m \u001b[1m26s\u001b[0m 57ms/step - accuracy: 0.6849 - loss: 1.7124\n",
      "Epoch 20/50\n",
      "\u001b[1m466/466\u001b[0m \u001b[32m━━━━━━━━━━━━━━━━━━━━\u001b[0m\u001b[37m\u001b[0m \u001b[1m25s\u001b[0m 54ms/step - accuracy: 0.6928 - loss: 1.6475\n",
      "Epoch 21/50\n",
      "\u001b[1m466/466\u001b[0m \u001b[32m━━━━━━━━━━━━━━━━━━━━\u001b[0m\u001b[37m\u001b[0m \u001b[1m28s\u001b[0m 61ms/step - accuracy: 0.6975 - loss: 1.6227\n",
      "Epoch 22/50\n",
      "\u001b[1m466/466\u001b[0m \u001b[32m━━━━━━━━━━━━━━━━━━━━\u001b[0m\u001b[37m\u001b[0m \u001b[1m42s\u001b[0m 89ms/step - accuracy: 0.7063 - loss: 1.5715\n",
      "Epoch 23/50\n",
      "\u001b[1m466/466\u001b[0m \u001b[32m━━━━━━━━━━━━━━━━━━━━\u001b[0m\u001b[37m\u001b[0m \u001b[1m31s\u001b[0m 67ms/step - accuracy: 0.7086 - loss: 1.5418\n",
      "Epoch 24/50\n",
      "\u001b[1m466/466\u001b[0m \u001b[32m━━━━━━━━━━━━━━━━━━━━\u001b[0m\u001b[37m\u001b[0m \u001b[1m29s\u001b[0m 61ms/step - accuracy: 0.7170 - loss: 1.4873\n",
      "Epoch 25/50\n",
      "\u001b[1m466/466\u001b[0m \u001b[32m━━━━━━━━━━━━━━━━━━━━\u001b[0m\u001b[37m\u001b[0m \u001b[1m22s\u001b[0m 47ms/step - accuracy: 0.7217 - loss: 1.4663\n",
      "Epoch 26/50\n",
      "\u001b[1m466/466\u001b[0m \u001b[32m━━━━━━━━━━━━━━━━━━━━\u001b[0m\u001b[37m\u001b[0m \u001b[1m20s\u001b[0m 42ms/step - accuracy: 0.7213 - loss: 1.4516\n",
      "Epoch 27/50\n",
      "\u001b[1m466/466\u001b[0m \u001b[32m━━━━━━━━━━━━━━━━━━━━\u001b[0m\u001b[37m\u001b[0m \u001b[1m25s\u001b[0m 53ms/step - accuracy: 0.7289 - loss: 1.4058\n",
      "Epoch 28/50\n",
      "\u001b[1m466/466\u001b[0m \u001b[32m━━━━━━━━━━━━━━━━━━━━\u001b[0m\u001b[37m\u001b[0m \u001b[1m22s\u001b[0m 48ms/step - accuracy: 0.7329 - loss: 1.3775\n",
      "Epoch 29/50\n",
      "\u001b[1m466/466\u001b[0m \u001b[32m━━━━━━━━━━━━━━━━━━━━\u001b[0m\u001b[37m\u001b[0m \u001b[1m22s\u001b[0m 48ms/step - accuracy: 0.7364 - loss: 1.3565\n",
      "Epoch 30/50\n",
      "\u001b[1m466/466\u001b[0m \u001b[32m━━━━━━━━━━━━━━━━━━━━\u001b[0m\u001b[37m\u001b[0m \u001b[1m20s\u001b[0m 43ms/step - accuracy: 0.7462 - loss: 1.3132\n",
      "Epoch 31/50\n",
      "\u001b[1m466/466\u001b[0m \u001b[32m━━━━━━━━━━━━━━━━━━━━\u001b[0m\u001b[37m\u001b[0m \u001b[1m27s\u001b[0m 59ms/step - accuracy: 0.7477 - loss: 1.2905\n",
      "Epoch 32/50\n",
      "\u001b[1m466/466\u001b[0m \u001b[32m━━━━━━━━━━━━━━━━━━━━\u001b[0m\u001b[37m\u001b[0m \u001b[1m34s\u001b[0m 72ms/step - accuracy: 0.7518 - loss: 1.2581\n",
      "Epoch 33/50\n",
      "\u001b[1m466/466\u001b[0m \u001b[32m━━━━━━━━━━━━━━━━━━━━\u001b[0m\u001b[37m\u001b[0m \u001b[1m33s\u001b[0m 70ms/step - accuracy: 0.7582 - loss: 1.2284\n",
      "Epoch 34/50\n",
      "\u001b[1m466/466\u001b[0m \u001b[32m━━━━━━━━━━━━━━━━━━━━\u001b[0m\u001b[37m\u001b[0m \u001b[1m35s\u001b[0m 74ms/step - accuracy: 0.7604 - loss: 1.2187\n",
      "Epoch 35/50\n",
      "\u001b[1m466/466\u001b[0m \u001b[32m━━━━━━━━━━━━━━━━━━━━\u001b[0m\u001b[37m\u001b[0m \u001b[1m34s\u001b[0m 73ms/step - accuracy: 0.7656 - loss: 1.1823\n",
      "Epoch 36/50\n",
      "\u001b[1m466/466\u001b[0m \u001b[32m━━━━━━━━━━━━━━━━━━━━\u001b[0m\u001b[37m\u001b[0m \u001b[1m27s\u001b[0m 59ms/step - accuracy: 0.7703 - loss: 1.1638\n",
      "Epoch 37/50\n",
      "\u001b[1m466/466\u001b[0m \u001b[32m━━━━━━━━━━━━━━━━━━━━\u001b[0m\u001b[37m\u001b[0m \u001b[1m26s\u001b[0m 55ms/step - accuracy: 0.7704 - loss: 1.1569\n",
      "Epoch 38/50\n",
      "\u001b[1m466/466\u001b[0m \u001b[32m━━━━━━━━━━━━━━━━━━━━\u001b[0m\u001b[37m\u001b[0m \u001b[1m46s\u001b[0m 65ms/step - accuracy: 0.7770 - loss: 1.1122\n",
      "Epoch 39/50\n",
      "\u001b[1m466/466\u001b[0m \u001b[32m━━━━━━━━━━━━━━━━━━━━\u001b[0m\u001b[37m\u001b[0m \u001b[1m29s\u001b[0m 40ms/step - accuracy: 0.7841 - loss: 1.0871\n",
      "Epoch 40/50\n",
      "\u001b[1m466/466\u001b[0m \u001b[32m━━━━━━━━━━━━━━━━━━━━\u001b[0m\u001b[37m\u001b[0m \u001b[1m20s\u001b[0m 44ms/step - accuracy: 0.7907 - loss: 1.0458\n",
      "Epoch 41/50\n",
      "\u001b[1m466/466\u001b[0m \u001b[32m━━━━━━━━━━━━━━━━━━━━\u001b[0m\u001b[37m\u001b[0m \u001b[1m19s\u001b[0m 40ms/step - accuracy: 0.7918 - loss: 1.0404\n",
      "Epoch 42/50\n",
      "\u001b[1m466/466\u001b[0m \u001b[32m━━━━━━━━━━━━━━━━━━━━\u001b[0m\u001b[37m\u001b[0m \u001b[1m19s\u001b[0m 41ms/step - accuracy: 0.7971 - loss: 1.0090\n",
      "Epoch 43/50\n",
      "\u001b[1m466/466\u001b[0m \u001b[32m━━━━━━━━━━━━━━━━━━━━\u001b[0m\u001b[37m\u001b[0m \u001b[1m27s\u001b[0m 57ms/step - accuracy: 0.7970 - loss: 1.0028\n",
      "Epoch 44/50\n",
      "\u001b[1m466/466\u001b[0m \u001b[32m━━━━━━━━━━━━━━━━━━━━\u001b[0m\u001b[37m\u001b[0m \u001b[1m37s\u001b[0m 79ms/step - accuracy: 0.8012 - loss: 0.9891\n",
      "Epoch 45/50\n",
      "\u001b[1m466/466\u001b[0m \u001b[32m━━━━━━━━━━━━━━━━━━━━\u001b[0m\u001b[37m\u001b[0m \u001b[1m34s\u001b[0m 73ms/step - accuracy: 0.8081 - loss: 0.9512\n",
      "Epoch 46/50\n",
      "\u001b[1m466/466\u001b[0m \u001b[32m━━━━━━━━━━━━━━━━━━━━\u001b[0m\u001b[37m\u001b[0m \u001b[1m32s\u001b[0m 68ms/step - accuracy: 0.8078 - loss: 0.9445\n",
      "Epoch 47/50\n",
      "\u001b[1m466/466\u001b[0m \u001b[32m━━━━━━━━━━━━━━━━━━━━\u001b[0m\u001b[37m\u001b[0m \u001b[1m45s\u001b[0m 96ms/step - accuracy: 0.8119 - loss: 0.9274\n",
      "Epoch 48/50\n",
      "\u001b[1m466/466\u001b[0m \u001b[32m━━━━━━━━━━━━━━━━━━━━\u001b[0m\u001b[37m\u001b[0m \u001b[1m34s\u001b[0m 72ms/step - accuracy: 0.8159 - loss: 0.9072\n",
      "Epoch 49/50\n",
      "\u001b[1m466/466\u001b[0m \u001b[32m━━━━━━━━━━━━━━━━━━━━\u001b[0m\u001b[37m\u001b[0m \u001b[1m23s\u001b[0m 50ms/step - accuracy: 0.8193 - loss: 0.8899\n",
      "Epoch 50/50\n",
      "\u001b[1m466/466\u001b[0m \u001b[32m━━━━━━━━━━━━━━━━━━━━\u001b[0m\u001b[37m\u001b[0m \u001b[1m26s\u001b[0m 55ms/step - accuracy: 0.8157 - loss: 0.9133\n"
     ]
    }
   ],
   "source": [
    "resultado = model_treinamento.fit( [encoder_entrada_dados, decoder_entrada_dados], decoder_saida_dados_onehot, \n",
    "                      batch_size=8, epochs=50 )"
   ]
  },
  {
   "cell_type": "code",
   "execution_count": 34,
   "id": "a8a1bc20-65d8-4801-bd55-a903092148e8",
   "metadata": {
    "scrolled": true
   },
   "outputs": [
    {
     "data": {
      "text/plain": [
       "{'accuracy': [0.6443621516227722,\n",
       "  0.659368634223938,\n",
       "  0.6607249975204468,\n",
       "  0.6617717146873474,\n",
       "  0.6621876358985901,\n",
       "  0.6635707020759583,\n",
       "  0.6638256311416626,\n",
       "  0.6647248864173889,\n",
       "  0.6654495596885681,\n",
       "  0.6664695143699646,\n",
       "  0.6671808958053589,\n",
       "  0.6683487296104431,\n",
       "  0.6693688631057739,\n",
       "  0.6705103516578674,\n",
       "  0.6723889708518982,\n",
       "  0.6742145419120789,\n",
       "  0.6773155927658081,\n",
       "  0.6807922124862671,\n",
       "  0.6844428777694702,\n",
       "  0.6891406178474426,\n",
       "  0.6943891644477844,\n",
       "  0.6994228363037109,\n",
       "  0.7053155899047852,\n",
       "  0.7106842994689941,\n",
       "  0.7160269021987915,\n",
       "  0.7203222513198853,\n",
       "  0.725771963596344,\n",
       "  0.7304697036743164,\n",
       "  0.7359194159507751,\n",
       "  0.7412077784538269,\n",
       "  0.7457583546638489,\n",
       "  0.7496371269226074,\n",
       "  0.7547518014907837,\n",
       "  0.7590736150741577,\n",
       "  0.7636376023292542,\n",
       "  0.7671411633491516,\n",
       "  0.7720935940742493,\n",
       "  0.775301992893219,\n",
       "  0.7807384133338928,\n",
       "  0.7849132418632507,\n",
       "  0.7882686853408813,\n",
       "  0.7914096713066101,\n",
       "  0.7952076196670532,\n",
       "  0.7985368967056274,\n",
       "  0.801315426826477,\n",
       "  0.805141270160675,\n",
       "  0.8077448010444641,\n",
       "  0.8115437030792236,\n",
       "  0.8137982487678528,\n",
       "  0.8178792595863342],\n",
       " 'loss': [2.5982699394226074,\n",
       "  2.2672996520996094,\n",
       "  2.235569715499878,\n",
       "  2.205714702606201,\n",
       "  2.170811891555786,\n",
       "  2.140439987182617,\n",
       "  2.1145715713500977,\n",
       "  2.0865283012390137,\n",
       "  2.0607612133026123,\n",
       "  2.0322985649108887,\n",
       "  2.0000133514404297,\n",
       "  1.9699461460113525,\n",
       "  1.9399901628494263,\n",
       "  1.9083178043365479,\n",
       "  1.8728457689285278,\n",
       "  1.838608980178833,\n",
       "  1.801754355430603,\n",
       "  1.7636526823043823,\n",
       "  1.7275258302688599,\n",
       "  1.6867657899856567,\n",
       "  1.646807074546814,\n",
       "  1.6086182594299316,\n",
       "  1.5699174404144287,\n",
       "  1.530730962753296,\n",
       "  1.4933027029037476,\n",
       "  1.460532307624817,\n",
       "  1.4273607730865479,\n",
       "  1.3926936388015747,\n",
       "  1.3611527681350708,\n",
       "  1.3338322639465332,\n",
       "  1.3066133260726929,\n",
       "  1.276785135269165,\n",
       "  1.2492209672927856,\n",
       "  1.2232338190078735,\n",
       "  1.1965981721878052,\n",
       "  1.1743674278259277,\n",
       "  1.1513179540634155,\n",
       "  1.1266573667526245,\n",
       "  1.105786681175232,\n",
       "  1.0802454948425293,\n",
       "  1.0613638162612915,\n",
       "  1.0395774841308594,\n",
       "  1.0206542015075684,\n",
       "  1.0033189058303833,\n",
       "  0.9849611520767212,\n",
       "  0.9658527374267578,\n",
       "  0.9487396478652954,\n",
       "  0.931267261505127,\n",
       "  0.9158075451850891,\n",
       "  0.8998057842254639]}"
      ]
     },
     "execution_count": 34,
     "metadata": {},
     "output_type": "execute_result"
    }
   ],
   "source": [
    "resultado.history"
   ]
  },
  {
   "cell_type": "code",
   "execution_count": 35,
   "id": "6af670d9-91a0-4864-a0a6-6587bfa6bd5a",
   "metadata": {},
   "outputs": [
    {
     "data": {
      "image/png": "[encoded data removed]",
      "text/plain": [
       "<Figure size 640x480 with 2 Axes>"
      ]
     },
     "metadata": {},
     "output_type": "display_data"
    }
   ],
   "source": [
    "loss = np.array(resultado.history[\"loss\"])\n",
    "loss_max = np.max(loss)\n",
    "loss_norm = loss / loss_max\n",
    "\n",
    "# val_loss = np.array(resultado.history[\"val_loss\"])\n",
    "# val_loss_max = np.max(val_loss)\n",
    "# val_loss_norm = val_loss / val_loss_max\n",
    "\n",
    "figure, axis = plt.subplots(1, 2)\n",
    "\n",
    "axis[0].plot(loss_norm, color=\"red\", label=\"Loss\")\n",
    "axis[0].plot(resultado.history[\"accuracy\"], color=\"green\", label=\"Acuracia\")\n",
    "axis[0].legend()\n",
    "axis[0].set_title(\"Treinamento\")\n",
    "# axis[1].plot(val_loss_norm, color=\"red\", label=\"Loss\")\n",
    "# axis[1].plot(resultado.history[\"val_accuracy\"], color=\"green\", label=\"Acuracia\")\n",
    "# axis[1].legend()\n",
    "# axis[1].set_title(\"Validação\")\n",
    "plt.show()\n"
   ]
  },
  {
   "cell_type": "code",
   "execution_count": 36,
   "id": "dd271d47-759f-4fac-8216-9cabed4df899",
   "metadata": {},
   "outputs": [],
   "source": [
    "modelo_encoder = Model( encoder_entrada_layer, encoder_states )"
   ]
  },
  {
   "cell_type": "code",
   "execution_count": 37,
   "id": "caff2b9a-fcdf-4fe0-9ce3-6b9728ff559f",
   "metadata": {},
   "outputs": [],
   "source": [
    "decoder_state_h = Input( shape = (lstm_nodes, ) )\n",
    "decoder_state_c = Input( shape = (lstm_nodes, ) )\n",
    "decoder_states_input = [decoder_state_h, decoder_state_c]"
   ]
  },
  {
   "cell_type": "code",
   "execution_count": 38,
   "id": "d5b880a1-f83a-41af-8dfd-b46697a518fe",
   "metadata": {},
   "outputs": [],
   "source": [
    "# decoder_emb2 = decoder_embd_layer( decoder_entrada_layer )"
   ]
  },
  {
   "cell_type": "code",
   "execution_count": 39,
   "id": "911f3731-f054-4627-a5a2-ce0ef5bc9cd3",
   "metadata": {},
   "outputs": [],
   "source": [
    "decoder_output, state_h2, state_c2 = decoder_lstm_layer( decoder_embd, initial_state=decoder_states_input )\n",
    "decoder_output_states = [state_h2, state_c2]\n",
    "decoder_saida2 = decoder_saida_layer( decoder_output )"
   ]
  },
  {
   "cell_type": "code",
   "execution_count": 40,
   "id": "0a428f37-2fb5-4605-9032-a2ad38acc87f",
   "metadata": {},
   "outputs": [],
   "source": [
    "modelo_decoder = Model( [decoder_entrada_layer] + decoder_states_input, [decoder_saida2] + decoder_output_states)"
   ]
  },
  {
   "cell_type": "code",
   "execution_count": 41,
   "id": "a42f74d0-85b7-49f6-b44c-7cdbe0216be1",
   "metadata": {},
   "outputs": [],
   "source": [
    "def chat_bot( texto ): \n",
    "    texto_limpo = remover_contracoes_ingles( texto )\n",
    "    print(\"Texto Limpo: \", texto_limpo) \n",
    "    seq = tokenizer.texts_to_sequences( [texto_limpo] )\n",
    "    seq_padded = pad_sequences(seq, maxlen=maximo_palavras, padding=\"pre\")\n",
    "    state_value = modelo_encoder.predict( seq_padded )\n",
    "\n",
    "    texto_resposta = \"<bos>\"\n",
    "    finalizado = False\n",
    "    while not finalizado:\n",
    "        print(\"Gerado: \", texto_resposta)\n",
    "        target_sequence = np.array(tokenizer.texts_to_sequences( [texto_resposta] ))\n",
    "        # print(\"state_value: \", state_value)\n",
    "        # print(\"target_sequence: \", target_sequence)\n",
    "        # print(\"target_sequence + state_value: \", target_sequence + state_value)\n",
    "        target_palavra_onehot, state_h, state_c_ = modelo_decoder.predict( [target_sequence] + state_value )\n",
    "        # state_value = [state_h, state_c]\n",
    "        target_palavra_seq = np.argmax(target_palavra_onehot[0, -1, :])\n",
    "        target_texto = tokenizer.sequences_to_texts( [[target_palavra_seq]] )\n",
    "        if target_texto[0] == \"<eos>\":\n",
    "            finalizado = True\n",
    "        else:\n",
    "            texto_resposta += (\" \" + target_texto[0]) \n",
    "            # print(target_texto_sequence[0])\n",
    "    return texto_resposta\n",
    "            \n",
    "        "
   ]
  },
  {
   "cell_type": "code",
   "execution_count": 42,
   "id": "ff004297-4df3-4b78-a366-cfab9a39b21e",
   "metadata": {},
   "outputs": [],
   "source": [
    "def gerar_texto( texto_entrada, max_palavras = 10 ): \n",
    "    textos_sequence = tokenizer.texts_to_sequences( [texto_entrada] )\n",
    "    textos_padded = pad_sequences( textos_sequence, padding=\"pre\", maxlen=maximo_palavras)\n",
    "    print(\"Textos padded: \", textos_padded)\n",
    "    state_values = modelo_encoder.predict( textos_padded )\n",
    "    palavra_start = tokenizer.word_index[\"<bos>\"]\n",
    "    palavra_end = tokenizer.word_index[\"<eos>\"]\n",
    "    index_palavra = palavra_start\n",
    "    texto_saida = \"\"\n",
    "    for i in range(max_palavras):\n",
    "        target_sequence = np.zeros((1, 1))\n",
    "        target_sequence[0, 0] = index_palavra\n",
    "        print(\"Target Sequence: \", target_sequence)\n",
    "        dec_output, saida_state_h, saida_state_c = modelo_decoder.predict( [target_sequence] + state_values )\n",
    "        state_values = [saida_state_h, saida_state_c]\n",
    "        index_palavra = np.argmax(dec_output[0, 0])\n",
    "        print(\"Numero Palavra: \", index_palavra)\n",
    "        if index_palavra == palavra_end:\n",
    "            break\n",
    "        # print(\"Palavra: \", palavra)\n",
    "        palavra_saida = tokenizer.sequences_to_texts([[ index_palavra ]])[0]\n",
    "        texto_saida = texto_saida + \" \" + palavra_saida\n",
    "    return texto_saida"
   ]
  },
  {
   "cell_type": "code",
   "execution_count": 43,
   "id": "e214a96b-a047-4ca8-b0a0-f0ee8bccdf8f",
   "metadata": {},
   "outputs": [
    {
     "name": "stdout",
     "output_type": "stream",
     "text": [
      "Textos padded:  [[   0    0    0    0    0    0    0    0    0    0    0    0    0    0\n",
      "     0    0 1485   36   13    3]]\n",
      "\u001b[1m1/1\u001b[0m \u001b[32m━━━━━━━━━━━━━━━━━━━━\u001b[0m\u001b[37m\u001b[0m \u001b[1m0s\u001b[0m 227ms/step\n",
      "Target Sequence:  [[2313.]]\n",
      "\u001b[1m1/1\u001b[0m \u001b[32m━━━━━━━━━━━━━━━━━━━━\u001b[0m\u001b[37m\u001b[0m \u001b[1m0s\u001b[0m 228ms/step\n",
      "Numero Palavra:  0\n",
      "Target Sequence:  [[0.]]\n",
      "\u001b[1m1/1\u001b[0m \u001b[32m━━━━━━━━━━━━━━━━━━━━\u001b[0m\u001b[37m\u001b[0m \u001b[1m0s\u001b[0m 54ms/step\n",
      "Numero Palavra:  0\n",
      "Target Sequence:  [[0.]]\n",
      "\u001b[1m1/1\u001b[0m \u001b[32m━━━━━━━━━━━━━━━━━━━━\u001b[0m\u001b[37m\u001b[0m \u001b[1m0s\u001b[0m 71ms/step\n",
      "Numero Palavra:  0\n",
      "Target Sequence:  [[0.]]\n",
      "\u001b[1m1/1\u001b[0m \u001b[32m━━━━━━━━━━━━━━━━━━━━\u001b[0m\u001b[37m\u001b[0m \u001b[1m0s\u001b[0m 55ms/step\n",
      "Numero Palavra:  0\n",
      "Target Sequence:  [[0.]]\n",
      "\u001b[1m1/1\u001b[0m \u001b[32m━━━━━━━━━━━━━━━━━━━━\u001b[0m\u001b[37m\u001b[0m \u001b[1m0s\u001b[0m 46ms/step\n",
      "Numero Palavra:  0\n",
      "Target Sequence:  [[0.]]\n",
      "\u001b[1m1/1\u001b[0m \u001b[32m━━━━━━━━━━━━━━━━━━━━\u001b[0m\u001b[37m\u001b[0m \u001b[1m0s\u001b[0m 50ms/step\n",
      "Numero Palavra:  0\n",
      "Target Sequence:  [[0.]]\n",
      "\u001b[1m1/1\u001b[0m \u001b[32m━━━━━━━━━━━━━━━━━━━━\u001b[0m\u001b[37m\u001b[0m \u001b[1m0s\u001b[0m 86ms/step\n",
      "Numero Palavra:  0\n",
      "Target Sequence:  [[0.]]\n",
      "\u001b[1m1/1\u001b[0m \u001b[32m━━━━━━━━━━━━━━━━━━━━\u001b[0m\u001b[37m\u001b[0m \u001b[1m0s\u001b[0m 51ms/step\n",
      "Numero Palavra:  0\n",
      "Target Sequence:  [[0.]]\n",
      "\u001b[1m1/1\u001b[0m \u001b[32m━━━━━━━━━━━━━━━━━━━━\u001b[0m\u001b[37m\u001b[0m \u001b[1m0s\u001b[0m 59ms/step\n",
      "Numero Palavra:  0\n",
      "Target Sequence:  [[0.]]\n",
      "\u001b[1m1/1\u001b[0m \u001b[32m━━━━━━━━━━━━━━━━━━━━\u001b[0m\u001b[37m\u001b[0m \u001b[1m0s\u001b[0m 54ms/step\n",
      "Numero Palavra:  0\n"
     ]
    },
    {
     "data": {
      "text/plain": [
       "' <oov> <oov> <oov> <oov> <oov> <oov> <oov> <oov> <oov> <oov>'"
      ]
     },
     "execution_count": 43,
     "metadata": {},
     "output_type": "execute_result"
    }
   ],
   "source": [
    "gerar_texto(\"hi how are you\")"
   ]
  },
  {
   "cell_type": "code",
   "execution_count": null,
   "id": "8b4f245c-ad6a-4c5e-94aa-db7d0d6b169b",
   "metadata": {},
   "outputs": [],
   "source": []
  }
 ],
 "metadata": {
  "kernelspec": {
   "display_name": "Python [conda env:base] *",
   "language": "python",
   "name": "conda-base-py"
  },
  "language_info": {
   "codemirror_mode": {
    "name": "ipython",
    "version": 3
   },
   "file_extension": ".py",
   "mimetype": "text/x-python",
   "name": "python",
   "nbconvert_exporter": "python",
   "pygments_lexer": "ipython3",
   "version": "3.12.7"
  }
 },
 "nbformat": 4,
 "nbformat_minor": 5
}
