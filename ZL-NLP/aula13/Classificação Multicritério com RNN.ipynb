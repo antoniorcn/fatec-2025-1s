{
 "cells": [
  {
   "cell_type": "code",
   "execution_count": 1,
   "id": "94233857-95f6-4a3c-a5f9-ce059713dbbb",
   "metadata": {},
   "outputs": [],
   "source": [
    "import numpy as np"
   ]
  },
  {
   "cell_type": "code",
   "execution_count": 2,
   "id": "ed878041-8e02-469e-aa31-827952b119f3",
   "metadata": {},
   "outputs": [],
   "source": [
    "import tensorflow as tf"
   ]
  },
  {
   "cell_type": "code",
   "execution_count": 3,
   "id": "738576fc-b80c-4fd1-a3d3-45e73d97bfe2",
   "metadata": {},
   "outputs": [],
   "source": [
    "import pandas as pd"
   ]
  },
  {
   "cell_type": "code",
   "execution_count": 4,
   "id": "72d1e2c1-399d-405a-b3d0-9e7ff7064bfd",
   "metadata": {},
   "outputs": [],
   "source": [
    "import random"
   ]
  },
  {
   "cell_type": "code",
   "execution_count": 5,
   "id": "cfa8ed47-9581-4cf9-9f1e-e5bc6be3c13e",
   "metadata": {},
   "outputs": [],
   "source": [
    "import matplotlib.pyplot as plt"
   ]
  },
  {
   "cell_type": "code",
   "execution_count": 6,
   "id": "9fa67632-40c3-4e4a-afa2-32da4364fb67",
   "metadata": {},
   "outputs": [],
   "source": [
    "from tensorflow.keras.preprocessing.text import Tokenizer"
   ]
  },
  {
   "cell_type": "code",
   "execution_count": 7,
   "id": "8725c2a8-6bd5-4246-b8b7-f1dc1b4c6545",
   "metadata": {},
   "outputs": [],
   "source": [
    "from tensorflow.keras.preprocessing.sequence import pad_sequences"
   ]
  },
  {
   "cell_type": "code",
   "execution_count": 8,
   "id": "7041a9be-5cec-4e77-9584-d15e02610ac5",
   "metadata": {},
   "outputs": [],
   "source": [
    "from tensorflow.keras.layers import CategoryEncoding, Embedding, GlobalAveragePooling1D, SimpleRNN"
   ]
  },
  {
   "cell_type": "code",
   "execution_count": 9,
   "id": "50a42f7f-123d-4d80-95e4-6a4c73cbdc41",
   "metadata": {},
   "outputs": [],
   "source": [
    "from sklearn.preprocessing import LabelEncoder"
   ]
  },
  {
   "cell_type": "code",
   "execution_count": 10,
   "id": "bd0605fc-81d9-4be2-bd09-67b701c80e93",
   "metadata": {},
   "outputs": [],
   "source": [
    "from sklearn.model_selection import train_test_split"
   ]
  },
  {
   "cell_type": "code",
   "execution_count": 11,
   "id": "c7278644-d58f-446c-b3dd-d92566e17715",
   "metadata": {},
   "outputs": [],
   "source": [
    "from tensorflow.keras.models import Sequential"
   ]
  },
  {
   "cell_type": "code",
   "execution_count": 12,
   "id": "cdf531b9-b757-4292-9044-4b32346f9d36",
   "metadata": {},
   "outputs": [],
   "source": [
    "from tensorflow.keras.layers import Input, Dense"
   ]
  },
  {
   "cell_type": "code",
   "execution_count": 13,
   "id": "85b1afe7-8686-46f3-9f27-2da6371201bc",
   "metadata": {},
   "outputs": [],
   "source": [
    "from tensorflow.keras.optimizers import SGD, Adam, RMSprop"
   ]
  },
  {
   "cell_type": "markdown",
   "id": "aee7a0e5-1d97-466c-8459-4dc872cfb6c9",
   "metadata": {},
   "source": [
    "## Importar os dados"
   ]
  },
  {
   "cell_type": "code",
   "execution_count": 15,
   "id": "ef00271d-121f-4d3d-a05d-820baa2a019e",
   "metadata": {},
   "outputs": [],
   "source": [
    "df = pd.read_csv(\"../../../dados/nlp/news_sentiment_analysis.csv\", encoding=\"utf-8\")"
   ]
  },
  {
   "cell_type": "code",
   "execution_count": 16,
   "id": "359907e4-f5d4-42e2-9fa2-7b46dd3ce04f",
   "metadata": {},
   "outputs": [],
   "source": [
    "# df"
   ]
  },
  {
   "cell_type": "code",
   "execution_count": 17,
   "id": "b1709e21-1651-4238-8519-9a3480b5f198",
   "metadata": {},
   "outputs": [],
   "source": [
    "news_df = df[ [\"Description\", \"Type\"] ] "
   ]
  },
  {
   "cell_type": "code",
   "execution_count": 18,
   "id": "642d977e-b5bf-4372-9f8f-210d4d380af8",
   "metadata": {
    "scrolled": true
   },
   "outputs": [
    {
     "data": {
      "text/plain": [
       "array(['Business', 'Entertainment', 'General', 'Health', 'Science',\n",
       "       'Sports', 'Technology'], dtype=object)"
      ]
     },
     "execution_count": 18,
     "metadata": {},
     "output_type": "execute_result"
    }
   ],
   "source": [
    "news_df[\"Type\"].unique()"
   ]
  },
  {
   "cell_type": "code",
   "execution_count": 19,
   "id": "a5f5a70c-f0c0-4c3b-987d-2e811b1cf676",
   "metadata": {},
   "outputs": [],
   "source": [
    "tokenizer = Tokenizer()"
   ]
  },
  {
   "cell_type": "code",
   "execution_count": 20,
   "id": "00719d56-a610-48a4-b6c0-5eaa122aa960",
   "metadata": {},
   "outputs": [],
   "source": [
    "tokenizer.fit_on_texts( news_df[\"Description\"] )"
   ]
  },
  {
   "cell_type": "code",
   "execution_count": 21,
   "id": "4ff4a4a5-d699-4658-8999-de868888bb3a",
   "metadata": {},
   "outputs": [
    {
     "data": {
      "text/plain": [
       "20859"
      ]
     },
     "execution_count": 21,
     "metadata": {},
     "output_type": "execute_result"
    }
   ],
   "source": [
    "max_palavras_dicionario = len(tokenizer.index_word)\n",
    "max_palavras_dicionario"
   ]
  },
  {
   "cell_type": "code",
   "execution_count": 22,
   "id": "8cc63cb9-1140-46a6-991e-8021fd3fb9f8",
   "metadata": {},
   "outputs": [
    {
     "data": {
      "text/plain": [
       "'kaitlyn'"
      ]
     },
     "execution_count": 22,
     "metadata": {},
     "output_type": "execute_result"
    }
   ],
   "source": [
    "tokenizer.index_word[12892]"
   ]
  },
  {
   "cell_type": "code",
   "execution_count": 23,
   "id": "3375779b-854a-4940-84af-f581d68947b3",
   "metadata": {},
   "outputs": [],
   "source": [
    "sequencias = tokenizer.texts_to_sequences( news_df[\"Description\"] )"
   ]
  },
  {
   "cell_type": "code",
   "execution_count": 24,
   "id": "257e7cc5-fdde-4a6e-aa54-b904bb8cebe7",
   "metadata": {},
   "outputs": [
    {
     "data": {
      "text/plain": [
       "3500"
      ]
     },
     "execution_count": 24,
     "metadata": {},
     "output_type": "execute_result"
    }
   ],
   "source": [
    "len(sequencias)"
   ]
  },
  {
   "cell_type": "code",
   "execution_count": 25,
   "id": "3a4ef1fd-4093-4139-be40-e111e07c4503",
   "metadata": {},
   "outputs": [
    {
     "name": "stdout",
     "output_type": "stream",
     "text": [
      "Tamanho Sequencia 0:  58\n",
      "Tamanho Sequencia 1:  15\n",
      "Tamanho Sequencia 2:  77\n"
     ]
    }
   ],
   "source": [
    "print(\"Tamanho Sequencia 0: \", len(sequencias[0]))\n",
    "print(\"Tamanho Sequencia 1: \", len(sequencias[1]))\n",
    "print(\"Tamanho Sequencia 2: \", len(sequencias[2]))"
   ]
  },
  {
   "cell_type": "code",
   "execution_count": 26,
   "id": "780763bf-4d81-4e3f-869c-f0ebc4793bf5",
   "metadata": {},
   "outputs": [
    {
     "data": {
      "text/plain": [
       "112"
      ]
     },
     "execution_count": 26,
     "metadata": {},
     "output_type": "execute_result"
    }
   ],
   "source": [
    "max_features = 0\n",
    "for sequencia in sequencias:\n",
    "    if len(sequencia) > max_features:\n",
    "        max_features = len(sequencia)\n",
    "max_features"
   ]
  },
  {
   "cell_type": "code",
   "execution_count": 62,
   "id": "4ba52bcc-6064-4b7e-8d7b-089fa4571067",
   "metadata": {},
   "outputs": [],
   "source": [
    "sequences_padded = pad_sequences( sequencias, padding=\"pre\" )"
   ]
  },
  {
   "cell_type": "code",
   "execution_count": 64,
   "id": "0269e7b1-c01b-41e6-bdd2-708fd67f8af3",
   "metadata": {},
   "outputs": [
    {
     "name": "stdout",
     "output_type": "stream",
     "text": [
      "Tamanho Sequencia 0:  112\n",
      "Tamanho Sequencia 1:  112\n",
      "Tamanho Sequencia 2:  112\n"
     ]
    }
   ],
   "source": [
    "print(\"Tamanho Sequencia 0: \", len(sequences_padded[0]))\n",
    "print(\"Tamanho Sequencia 1: \", len(sequences_padded[1]))\n",
    "print(\"Tamanho Sequencia 2: \", len(sequences_padded[2]))"
   ]
  },
  {
   "cell_type": "code",
   "execution_count": 66,
   "id": "9f96fb8e-dcb8-4282-809e-5337b80d9253",
   "metadata": {},
   "outputs": [
    {
     "data": {
      "text/plain": [
       "array([[    0,     0,     0, ...,   223,  7796,    17],\n",
       "       [    0,     0,     0, ...,    81,    12, 12900],\n",
       "       [    0,     0,     0, ...,    27,    62,   430],\n",
       "       ...,\n",
       "       [    0,     0,     0, ...,  1070,   216,    17],\n",
       "       [    0,     0,     0, ...,  1873,     6,    93],\n",
       "       [    0,     0,     0, ...,    18,     9,    17]])"
      ]
     },
     "execution_count": 66,
     "metadata": {},
     "output_type": "execute_result"
    }
   ],
   "source": [
    "sequences_padded"
   ]
  },
  {
   "cell_type": "markdown",
   "id": "4ca608fc-51a5-43aa-a1d3-ffe344b035cb",
   "metadata": {},
   "source": [
    "## Codificando as saidas\n",
    "\n",
    "['Business', 'Entertainment', 'General', 'Health', 'Science',\n",
    "       'Sports', 'Technology']\n",
    "\n",
    "Business = [ 1, 0, 0, 0, 0, 0, 0 ]\n",
    "Entertainment = [ 0, 1, 0, 0, 0, 0, 0 ]\n",
    "General = [ 0, 0, 1 , 0, 0, 0, 0 ]"
   ]
  },
  {
   "cell_type": "code",
   "execution_count": 69,
   "id": "67f7ce9f-c3f2-43b0-9c41-010d5c4f412b",
   "metadata": {},
   "outputs": [],
   "source": [
    "output_encoder = LabelEncoder()"
   ]
  },
  {
   "cell_type": "code",
   "execution_count": 71,
   "id": "a202e0ae-5013-4f11-8b48-d004eb8c6da0",
   "metadata": {},
   "outputs": [
    {
     "data": {
      "text/plain": [
       "array([0, 0, 0, ..., 6, 6, 6])"
      ]
     },
     "execution_count": 71,
     "metadata": {},
     "output_type": "execute_result"
    }
   ],
   "source": [
    "output_numeric = output_encoder.fit_transform( news_df[\"Type\"] )\n",
    "output_numeric"
   ]
  },
  {
   "cell_type": "markdown",
   "id": "5c407d24-02d8-4883-ba14-04c2010f3d05",
   "metadata": {},
   "source": [
    "Saida será algo como [ 0.2, 0.5, 0.3, 0.8, 0.1, 0.0, 0.6 ] "
   ]
  },
  {
   "cell_type": "code",
   "execution_count": 74,
   "id": "68b372fa-a815-4adf-84b9-cde6e29eac5b",
   "metadata": {
    "scrolled": true
   },
   "outputs": [
    {
     "data": {
      "text/plain": [
       "<tf.Tensor: shape=(3500, 7), dtype=float32, numpy=\n",
       "array([[1., 0., 0., ..., 0., 0., 0.],\n",
       "       [1., 0., 0., ..., 0., 0., 0.],\n",
       "       [1., 0., 0., ..., 0., 0., 0.],\n",
       "       ...,\n",
       "       [0., 0., 0., ..., 0., 0., 1.],\n",
       "       [0., 0., 0., ..., 0., 0., 1.],\n",
       "       [0., 0., 0., ..., 0., 0., 1.]], dtype=float32)>"
      ]
     },
     "execution_count": 74,
     "metadata": {},
     "output_type": "execute_result"
    }
   ],
   "source": [
    "output_encoder = CategoryEncoding(num_tokens=7, output_mode=\"one_hot\")\n",
    "output_encoded = output_encoder( output_numeric )  # Não funciona precisa transformar para numeros primeiro\n",
    "output_encoded"
   ]
  },
  {
   "cell_type": "code",
   "execution_count": 78,
   "id": "78f98b79-2b62-4bda-9386-0be34f1fb7e9",
   "metadata": {},
   "outputs": [
    {
     "name": "stdout",
     "output_type": "stream",
     "text": [
      "X Shape:  (3500, 112)\n",
      "Y Shape:  (3500, 7)\n"
     ]
    }
   ],
   "source": [
    "X = sequences_padded\n",
    "print(\"X Shape: \", X.shape)\n",
    "Y = output_encoded.numpy()\n",
    "print(\"Y Shape: \", Y.shape)"
   ]
  },
  {
   "cell_type": "code",
   "execution_count": 80,
   "id": "cc0cbcb9-2bee-4a87-940e-9a5c620de9e6",
   "metadata": {},
   "outputs": [],
   "source": [
    "X_train, X_test, Y_train, Y_test = train_test_split( X, Y, random_state = 100 )"
   ]
  },
  {
   "cell_type": "code",
   "execution_count": 82,
   "id": "fd035d85-358b-41d8-8ea2-b612565a7875",
   "metadata": {},
   "outputs": [],
   "source": [
    "seed_value = 100\n",
    "# Assegura que todos os pesos iniciais serão gerados com a mesma semente\n",
    "random.seed(seed_value)\n",
    "np.random.seed(seed_value)\n",
    "tf.random.set_seed(seed_value)"
   ]
  },
  {
   "cell_type": "code",
   "execution_count": 38,
   "id": "767c3937-19f4-4db7-8b2e-3931626f3b22",
   "metadata": {},
   "outputs": [],
   "source": [
    "# modelo = Sequential()\n",
    "# modelo.add( Input( (112,) ) )\n",
    "# modelo.add( Dense( 128, activation=\"relu\" ) )\n",
    "# modelo.add( Dense( 7, activation=\"softmax\" ) )\n",
    "# modelo.summary()"
   ]
  },
  {
   "cell_type": "code",
   "execution_count": 96,
   "id": "429afd3e-b5ad-4401-ba5f-374cbb6fd115",
   "metadata": {},
   "outputs": [
    {
     "data": {
      "text/html": [
       "<pre style=\"white-space:pre;overflow-x:auto;line-height:normal;font-family:Menlo,'DejaVu Sans Mono',consolas,'Courier New',monospace\"><span style=\"font-weight: bold\">Model: \"sequential_3\"</span>\n",
       "</pre>\n"
      ],
      "text/plain": [
       "\u001b[1mModel: \"sequential_3\"\u001b[0m\n"
      ]
     },
     "metadata": {},
     "output_type": "display_data"
    },
    {
     "data": {
      "text/html": [
       "<pre style=\"white-space:pre;overflow-x:auto;line-height:normal;font-family:Menlo,'DejaVu Sans Mono',consolas,'Courier New',monospace\">┏━━━━━━━━━━━━━━━━━━━━━━━━━━━━━━━━━━━━━━┳━━━━━━━━━━━━━━━━━━━━━━━━━━━━━┳━━━━━━━━━━━━━━━━━┓\n",
       "┃<span style=\"font-weight: bold\"> Layer (type)                         </span>┃<span style=\"font-weight: bold\"> Output Shape                </span>┃<span style=\"font-weight: bold\">         Param # </span>┃\n",
       "┡━━━━━━━━━━━━━━━━━━━━━━━━━━━━━━━━━━━━━━╇━━━━━━━━━━━━━━━━━━━━━━━━━━━━━╇━━━━━━━━━━━━━━━━━┩\n",
       "│ embedding_3 (<span style=\"color: #0087ff; text-decoration-color: #0087ff\">Embedding</span>)              │ ?                           │     <span style=\"color: #00af00; text-decoration-color: #00af00\">0</span> (unbuilt) │\n",
       "├──────────────────────────────────────┼─────────────────────────────┼─────────────────┤\n",
       "│ simple_rnn_3 (<span style=\"color: #0087ff; text-decoration-color: #0087ff\">SimpleRNN</span>)             │ ?                           │     <span style=\"color: #00af00; text-decoration-color: #00af00\">0</span> (unbuilt) │\n",
       "├──────────────────────────────────────┼─────────────────────────────┼─────────────────┤\n",
       "│ dense_3 (<span style=\"color: #0087ff; text-decoration-color: #0087ff\">Dense</span>)                      │ ?                           │     <span style=\"color: #00af00; text-decoration-color: #00af00\">0</span> (unbuilt) │\n",
       "└──────────────────────────────────────┴─────────────────────────────┴─────────────────┘\n",
       "</pre>\n"
      ],
      "text/plain": [
       "┏━━━━━━━━━━━━━━━━━━━━━━━━━━━━━━━━━━━━━━┳━━━━━━━━━━━━━━━━━━━━━━━━━━━━━┳━━━━━━━━━━━━━━━━━┓\n",
       "┃\u001b[1m \u001b[0m\u001b[1mLayer (type)                        \u001b[0m\u001b[1m \u001b[0m┃\u001b[1m \u001b[0m\u001b[1mOutput Shape               \u001b[0m\u001b[1m \u001b[0m┃\u001b[1m \u001b[0m\u001b[1m        Param #\u001b[0m\u001b[1m \u001b[0m┃\n",
       "┡━━━━━━━━━━━━━━━━━━━━━━━━━━━━━━━━━━━━━━╇━━━━━━━━━━━━━━━━━━━━━━━━━━━━━╇━━━━━━━━━━━━━━━━━┩\n",
       "│ embedding_3 (\u001b[38;5;33mEmbedding\u001b[0m)              │ ?                           │     \u001b[38;5;34m0\u001b[0m (unbuilt) │\n",
       "├──────────────────────────────────────┼─────────────────────────────┼─────────────────┤\n",
       "│ simple_rnn_3 (\u001b[38;5;33mSimpleRNN\u001b[0m)             │ ?                           │     \u001b[38;5;34m0\u001b[0m (unbuilt) │\n",
       "├──────────────────────────────────────┼─────────────────────────────┼─────────────────┤\n",
       "│ dense_3 (\u001b[38;5;33mDense\u001b[0m)                      │ ?                           │     \u001b[38;5;34m0\u001b[0m (unbuilt) │\n",
       "└──────────────────────────────────────┴─────────────────────────────┴─────────────────┘\n"
      ]
     },
     "metadata": {},
     "output_type": "display_data"
    },
    {
     "data": {
      "text/html": [
       "<pre style=\"white-space:pre;overflow-x:auto;line-height:normal;font-family:Menlo,'DejaVu Sans Mono',consolas,'Courier New',monospace\"><span style=\"font-weight: bold\"> Total params: </span><span style=\"color: #00af00; text-decoration-color: #00af00\">0</span> (0.00 B)\n",
       "</pre>\n"
      ],
      "text/plain": [
       "\u001b[1m Total params: \u001b[0m\u001b[38;5;34m0\u001b[0m (0.00 B)\n"
      ]
     },
     "metadata": {},
     "output_type": "display_data"
    },
    {
     "data": {
      "text/html": [
       "<pre style=\"white-space:pre;overflow-x:auto;line-height:normal;font-family:Menlo,'DejaVu Sans Mono',consolas,'Courier New',monospace\"><span style=\"font-weight: bold\"> Trainable params: </span><span style=\"color: #00af00; text-decoration-color: #00af00\">0</span> (0.00 B)\n",
       "</pre>\n"
      ],
      "text/plain": [
       "\u001b[1m Trainable params: \u001b[0m\u001b[38;5;34m0\u001b[0m (0.00 B)\n"
      ]
     },
     "metadata": {},
     "output_type": "display_data"
    },
    {
     "data": {
      "text/html": [
       "<pre style=\"white-space:pre;overflow-x:auto;line-height:normal;font-family:Menlo,'DejaVu Sans Mono',consolas,'Courier New',monospace\"><span style=\"font-weight: bold\"> Non-trainable params: </span><span style=\"color: #00af00; text-decoration-color: #00af00\">0</span> (0.00 B)\n",
       "</pre>\n"
      ],
      "text/plain": [
       "\u001b[1m Non-trainable params: \u001b[0m\u001b[38;5;34m0\u001b[0m (0.00 B)\n"
      ]
     },
     "metadata": {},
     "output_type": "display_data"
    }
   ],
   "source": [
    "modelo = Sequential()\n",
    "modelo.add( Embedding( input_dim=(max_palavras_dicionario + 1), output_dim=100 ) )\n",
    "# modelo.add( GlobalAveragePooling1D() )\n",
    "modelo.add( SimpleRNN( 64 ) )\n",
    "modelo.add( Dense( 7, activation=\"softmax\" ) )\n",
    "modelo.summary()"
   ]
  },
  {
   "cell_type": "code",
   "execution_count": 98,
   "id": "3c5effc6-6004-4c8a-808b-e43ade062898",
   "metadata": {},
   "outputs": [],
   "source": [
    "# opt = SGD(learning_rate = 0.000001)\n",
    "# opt = Adam(learning_rate = 0.000001)\n",
    "opt = RMSprop(learning_rate=0.001)\n",
    "modelo.compile(optimizer = opt, loss=\"categorical_crossentropy\", metrics=[\"accuracy\"])"
   ]
  },
  {
   "cell_type": "code",
   "execution_count": 100,
   "id": "b3f31cfa-d42a-4500-8cf6-8870fc786c2c",
   "metadata": {},
   "outputs": [
    {
     "name": "stdout",
     "output_type": "stream",
     "text": [
      "Epoch 1/5\n",
      "\u001b[1m83/83\u001b[0m \u001b[32m━━━━━━━━━━━━━━━━━━━━\u001b[0m\u001b[37m\u001b[0m \u001b[1m4s\u001b[0m 29ms/step - accuracy: 0.3049 - loss: 1.8065\n",
      "Epoch 2/5\n",
      "\u001b[1m83/83\u001b[0m \u001b[32m━━━━━━━━━━━━━━━━━━━━\u001b[0m\u001b[37m\u001b[0m \u001b[1m2s\u001b[0m 29ms/step - accuracy: 0.8439 - loss: 0.8971\n",
      "Epoch 3/5\n",
      "\u001b[1m83/83\u001b[0m \u001b[32m━━━━━━━━━━━━━━━━━━━━\u001b[0m\u001b[37m\u001b[0m \u001b[1m3s\u001b[0m 31ms/step - accuracy: 0.9470 - loss: 0.3425\n",
      "Epoch 4/5\n",
      "\u001b[1m83/83\u001b[0m \u001b[32m━━━━━━━━━━━━━━━━━━━━\u001b[0m\u001b[37m\u001b[0m \u001b[1m2s\u001b[0m 29ms/step - accuracy: 0.9648 - loss: 0.1673\n",
      "Epoch 5/5\n",
      "\u001b[1m83/83\u001b[0m \u001b[32m━━━━━━━━━━━━━━━━━━━━\u001b[0m\u001b[37m\u001b[0m \u001b[1m3s\u001b[0m 32ms/step - accuracy: 0.9710 - loss: 0.1082\n"
     ]
    }
   ],
   "source": [
    "resultado = modelo.fit(X_train, Y_train, epochs=5, batch_size=32)"
   ]
  },
  {
   "cell_type": "code",
   "execution_count": 102,
   "id": "2ad2452d-ad4c-4b83-8a26-dd795e2af9ea",
   "metadata": {},
   "outputs": [
    {
     "name": "stdout",
     "output_type": "stream",
     "text": [
      "\u001b[1m28/28\u001b[0m \u001b[32m━━━━━━━━━━━━━━━━━━━━\u001b[0m\u001b[37m\u001b[0m \u001b[1m1s\u001b[0m 9ms/step - accuracy: 0.5661 - loss: 1.3436\n"
     ]
    }
   ],
   "source": [
    "resultado_teste = modelo.evaluate(X_test, Y_test)"
   ]
  },
  {
   "cell_type": "markdown",
   "id": "c0db1330-8dbe-4001-8051-1e241f6f9d27",
   "metadata": {},
   "source": [
    "Treinamento RNN(32) em 40 epocas : Accuracy: 0.5495 - loss: 2.1273\n",
    "Treinamento RNN(32) em 20 epocas : Accuracy: 0.5313 - loss: 2.4749\n",
    "Treinamento RNN(32) em 20 epocas (pre-padding): Accuracy: 0.5796 - loss: 1.6331\n",
    "Treinamento RNN(32) em 5 epocas (pre-padding): Accuracy: 0.5812 - loss: 1.6984\n",
    "Treinamento RNN(64) em 5 epocas (pre-padding): Accuracy: 0.5661 - loss: 1.3436"
   ]
  },
  {
   "cell_type": "markdown",
   "id": "add3b326-27d2-4b8e-a382-f2c68011efdd",
   "metadata": {},
   "source": [
    "['Business', 'Entertainment', 'General', 'Health', 'Science', 'Sports', 'Technology']\n",
    "\n",
    "Business = [ 1, 0, 0, 0, 0, 0, 0 ] \n",
    "Entertainment = [ 0, 1, 0, 0, 0, 0, 0 ] \n",
    "General = [ 0, 0, 1, 0, 0, 0, 0 ]\n",
    "Health = [ 0, 0, 0, 1, 0, 0, 0 ]\n",
    "Science = [ 0, 0, 0, 0, 1, 0, 0 ]\n",
    "Sports = [ 0, 0, 0, 0, 0, 1, 0 ]\n",
    "Technology = [ 0, 0, 0, 0, 0, 0, 1 ]"
   ]
  },
  {
   "cell_type": "code",
   "execution_count": 50,
   "id": "b9773b9d-f873-4a81-8236-fd97720298e7",
   "metadata": {},
   "outputs": [
    {
     "name": "stdout",
     "output_type": "stream",
     "text": [
      "sequencia_predict:  (1, 5)\n",
      "sequencia_predict_padded: (1, 112)\n",
      "\u001b[1m1/1\u001b[0m \u001b[32m━━━━━━━━━━━━━━━━━━━━\u001b[0m\u001b[37m\u001b[0m \u001b[1m0s\u001b[0m 185ms/step\n",
      "Previsao:  [[6.5572985e-04 9.8525131e-01 3.2109706e-04 7.3226349e-04 1.1592829e-02\n",
      "  4.3868145e-04 1.0080555e-03]]\n"
     ]
    },
    {
     "data": {
      "text/plain": [
       "1"
      ]
     },
     "execution_count": 50,
     "metadata": {},
     "output_type": "execute_result"
    }
   ],
   "source": [
    "frase = \"Climate changes generative heat waves\"\n",
    "sequencia_predict = np.array(tokenizer.texts_to_sequences( [frase] ))\n",
    "print(\"sequencia_predict: \", sequencia_predict.shape)\n",
    "sequencia_predict_padded = pad_sequences( sequencia_predict, maxlen=max_features, padding=\"post\" )\n",
    "print(\"sequencia_predict_padded:\", sequencia_predict_padded.shape)\n",
    "previsao = modelo.predict( sequencia_predict_padded )\n",
    "print(\"Previsao: \", previsao)\n",
    "np.argmax(previsao)"
   ]
  },
  {
   "cell_type": "code",
   "execution_count": 52,
   "id": "9c784e7f-143c-4c96-866b-1dca76a54422",
   "metadata": {},
   "outputs": [],
   "source": [
    "acuracia = np.array(resultado.history['accuracy'])\n",
    "acuracia_norm = acuracia / np.max(acuracia)\n",
    "loss = np.array(resultado.history['loss'])\n",
    "loss_norm = loss / np.max(loss)"
   ]
  },
  {
   "cell_type": "code",
   "execution_count": 54,
   "id": "ff51ee39-a9e6-4b63-ad6a-12e8ab108098",
   "metadata": {},
   "outputs": [
    {
     "data": {
      "image/png": "[encoded data removed]",
      "text/plain": [
       "<Figure size 640x480 with 1 Axes>"
      ]
     },
     "metadata": {},
     "output_type": "display_data"
    }
   ],
   "source": [
    "plt.plot(acuracia_norm, color=\"green\", label=\"Acurácia\")\n",
    "plt.plot(loss_norm, color=\"red\", label=\"Perda\")\n",
    "plt.legend()\n",
    "plt.show()"
   ]
  }
 ],
 "metadata": {
  "kernelspec": {
   "display_name": "Python [conda env:base] *",
   "language": "python",
   "name": "conda-base-py"
  },
  "language_info": {
   "codemirror_mode": {
    "name": "ipython",
    "version": 3
   },
   "file_extension": ".py",
   "mimetype": "text/x-python",
   "name": "python",
   "nbconvert_exporter": "python",
   "pygments_lexer": "ipython3",
   "version": "3.12.7"
  }
 },
 "nbformat": 4,
 "nbformat_minor": 5
}
