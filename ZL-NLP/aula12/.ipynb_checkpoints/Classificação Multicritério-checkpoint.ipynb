{
 "cells": [
  {
   "cell_type": "code",
   "execution_count": 1,
   "id": "94233857-95f6-4a3c-a5f9-ce059713dbbb",
   "metadata": {},
   "outputs": [],
   "source": [
    "import numpy as np"
   ]
  },
  {
   "cell_type": "code",
   "execution_count": 2,
   "id": "ed878041-8e02-469e-aa31-827952b119f3",
   "metadata": {},
   "outputs": [],
   "source": [
    "import tensorflow as tf"
   ]
  },
  {
   "cell_type": "code",
   "execution_count": 3,
   "id": "738576fc-b80c-4fd1-a3d3-45e73d97bfe2",
   "metadata": {},
   "outputs": [],
   "source": [
    "import pandas as pd"
   ]
  },
  {
   "cell_type": "code",
   "execution_count": 4,
   "id": "72d1e2c1-399d-405a-b3d0-9e7ff7064bfd",
   "metadata": {},
   "outputs": [],
   "source": [
    "import random"
   ]
  },
  {
   "cell_type": "code",
   "execution_count": 85,
   "id": "cfa8ed47-9581-4cf9-9f1e-e5bc6be3c13e",
   "metadata": {},
   "outputs": [],
   "source": [
    "import matplotlib.pyplot as plt"
   ]
  },
  {
   "cell_type": "code",
   "execution_count": 5,
   "id": "9fa67632-40c3-4e4a-afa2-32da4364fb67",
   "metadata": {},
   "outputs": [],
   "source": [
    "from tensorflow.keras.preprocessing.text import Tokenizer"
   ]
  },
  {
   "cell_type": "code",
   "execution_count": 6,
   "id": "8725c2a8-6bd5-4246-b8b7-f1dc1b4c6545",
   "metadata": {},
   "outputs": [],
   "source": [
    "from tensorflow.keras.preprocessing.sequence import pad_sequences"
   ]
  },
  {
   "cell_type": "code",
   "execution_count": 7,
   "id": "7041a9be-5cec-4e77-9584-d15e02610ac5",
   "metadata": {},
   "outputs": [],
   "source": [
    "from tensorflow.keras.layers import CategoryEncoding, Embedding, GlobalAveragePooling1D"
   ]
  },
  {
   "cell_type": "code",
   "execution_count": 8,
   "id": "50a42f7f-123d-4d80-95e4-6a4c73cbdc41",
   "metadata": {},
   "outputs": [],
   "source": [
    "from sklearn.preprocessing import LabelEncoder"
   ]
  },
  {
   "cell_type": "code",
   "execution_count": 9,
   "id": "bd0605fc-81d9-4be2-bd09-67b701c80e93",
   "metadata": {},
   "outputs": [],
   "source": [
    "from sklearn.model_selection import train_test_split"
   ]
  },
  {
   "cell_type": "code",
   "execution_count": 10,
   "id": "c7278644-d58f-446c-b3dd-d92566e17715",
   "metadata": {},
   "outputs": [],
   "source": [
    "from tensorflow.keras.models import Sequential"
   ]
  },
  {
   "cell_type": "code",
   "execution_count": 11,
   "id": "cdf531b9-b757-4292-9044-4b32346f9d36",
   "metadata": {},
   "outputs": [],
   "source": [
    "from tensorflow.keras.layers import Input, Dense"
   ]
  },
  {
   "cell_type": "code",
   "execution_count": 12,
   "id": "85b1afe7-8686-46f3-9f27-2da6371201bc",
   "metadata": {},
   "outputs": [],
   "source": [
    "from tensorflow.keras.optimizers import SGD, Adam, RMSprop"
   ]
  },
  {
   "cell_type": "markdown",
   "id": "aee7a0e5-1d97-466c-8459-4dc872cfb6c9",
   "metadata": {},
   "source": [
    "## Importar os dados"
   ]
  },
  {
   "cell_type": "code",
   "execution_count": 14,
   "id": "ef00271d-121f-4d3d-a05d-820baa2a019e",
   "metadata": {},
   "outputs": [],
   "source": [
    "df = pd.read_csv(\"../../../dados/nlp/news_sentiment_analysis.csv\", encoding=\"utf-8\")"
   ]
  },
  {
   "cell_type": "code",
   "execution_count": 15,
   "id": "359907e4-f5d4-42e2-9fa2-7b46dd3ce04f",
   "metadata": {},
   "outputs": [],
   "source": [
    "# df"
   ]
  },
  {
   "cell_type": "code",
   "execution_count": 16,
   "id": "b1709e21-1651-4238-8519-9a3480b5f198",
   "metadata": {},
   "outputs": [],
   "source": [
    "news_df = df[ [\"Description\", \"Type\"] ] "
   ]
  },
  {
   "cell_type": "code",
   "execution_count": 17,
   "id": "642d977e-b5bf-4372-9f8f-210d4d380af8",
   "metadata": {
    "scrolled": true
   },
   "outputs": [
    {
     "data": {
      "text/plain": [
       "array(['Business', 'Entertainment', 'General', 'Health', 'Science',\n",
       "       'Sports', 'Technology'], dtype=object)"
      ]
     },
     "execution_count": 17,
     "metadata": {},
     "output_type": "execute_result"
    }
   ],
   "source": [
    "news_df[\"Type\"].unique()"
   ]
  },
  {
   "cell_type": "code",
   "execution_count": 18,
   "id": "a5f5a70c-f0c0-4c3b-987d-2e811b1cf676",
   "metadata": {},
   "outputs": [],
   "source": [
    "tokenizer = Tokenizer()"
   ]
  },
  {
   "cell_type": "code",
   "execution_count": 19,
   "id": "00719d56-a610-48a4-b6c0-5eaa122aa960",
   "metadata": {},
   "outputs": [],
   "source": [
    "tokenizer.fit_on_texts( news_df[\"Description\"] )"
   ]
  },
  {
   "cell_type": "code",
   "execution_count": 49,
   "id": "4ff4a4a5-d699-4658-8999-de868888bb3a",
   "metadata": {},
   "outputs": [
    {
     "data": {
      "text/plain": [
       "20859"
      ]
     },
     "execution_count": 49,
     "metadata": {},
     "output_type": "execute_result"
    }
   ],
   "source": [
    "max_palavras_dicionario = len(tokenizer.index_word)\n",
    "max_palavras_dicionario"
   ]
  },
  {
   "cell_type": "code",
   "execution_count": 21,
   "id": "8cc63cb9-1140-46a6-991e-8021fd3fb9f8",
   "metadata": {},
   "outputs": [
    {
     "data": {
      "text/plain": [
       "'kaitlyn'"
      ]
     },
     "execution_count": 21,
     "metadata": {},
     "output_type": "execute_result"
    }
   ],
   "source": [
    "tokenizer.index_word[12892]"
   ]
  },
  {
   "cell_type": "code",
   "execution_count": 22,
   "id": "3375779b-854a-4940-84af-f581d68947b3",
   "metadata": {},
   "outputs": [],
   "source": [
    "sequencias = tokenizer.texts_to_sequences( news_df[\"Description\"] )"
   ]
  },
  {
   "cell_type": "code",
   "execution_count": 23,
   "id": "257e7cc5-fdde-4a6e-aa54-b904bb8cebe7",
   "metadata": {},
   "outputs": [
    {
     "data": {
      "text/plain": [
       "3500"
      ]
     },
     "execution_count": 23,
     "metadata": {},
     "output_type": "execute_result"
    }
   ],
   "source": [
    "len(sequencias)"
   ]
  },
  {
   "cell_type": "code",
   "execution_count": 24,
   "id": "3a4ef1fd-4093-4139-be40-e111e07c4503",
   "metadata": {},
   "outputs": [
    {
     "name": "stdout",
     "output_type": "stream",
     "text": [
      "Tamanho Sequencia 0:  58\n",
      "Tamanho Sequencia 1:  15\n",
      "Tamanho Sequencia 2:  77\n"
     ]
    }
   ],
   "source": [
    "print(\"Tamanho Sequencia 0: \", len(sequencias[0]))\n",
    "print(\"Tamanho Sequencia 1: \", len(sequencias[1]))\n",
    "print(\"Tamanho Sequencia 2: \", len(sequencias[2]))"
   ]
  },
  {
   "cell_type": "code",
   "execution_count": 25,
   "id": "780763bf-4d81-4e3f-869c-f0ebc4793bf5",
   "metadata": {},
   "outputs": [
    {
     "data": {
      "text/plain": [
       "112"
      ]
     },
     "execution_count": 25,
     "metadata": {},
     "output_type": "execute_result"
    }
   ],
   "source": [
    "max_features = 0\n",
    "for sequencia in sequencias:\n",
    "    if len(sequencia) > max_features:\n",
    "        max_features = len(sequencia)\n",
    "max_features"
   ]
  },
  {
   "cell_type": "code",
   "execution_count": 26,
   "id": "4ba52bcc-6064-4b7e-8d7b-089fa4571067",
   "metadata": {},
   "outputs": [],
   "source": [
    "sequences_padded = pad_sequences( sequencias, padding=\"post\" )"
   ]
  },
  {
   "cell_type": "code",
   "execution_count": 27,
   "id": "0269e7b1-c01b-41e6-bdd2-708fd67f8af3",
   "metadata": {},
   "outputs": [
    {
     "name": "stdout",
     "output_type": "stream",
     "text": [
      "Tamanho Sequencia 0:  112\n",
      "Tamanho Sequencia 1:  112\n",
      "Tamanho Sequencia 2:  112\n"
     ]
    }
   ],
   "source": [
    "print(\"Tamanho Sequencia 0: \", len(sequences_padded[0]))\n",
    "print(\"Tamanho Sequencia 1: \", len(sequences_padded[1]))\n",
    "print(\"Tamanho Sequencia 2: \", len(sequences_padded[2]))"
   ]
  },
  {
   "cell_type": "code",
   "execution_count": 28,
   "id": "9f96fb8e-dcb8-4282-809e-5337b80d9253",
   "metadata": {},
   "outputs": [
    {
     "data": {
      "text/plain": [
       "array([[  598,  6262,   117, ...,     0,     0,     0],\n",
       "       [12897,  3561,   211, ...,     0,     0,     0],\n",
       "       [   28,    22,  2751, ...,     0,     0,     0],\n",
       "       ...,\n",
       "       [ 1070,   216,   231, ...,     0,     0,     0],\n",
       "       [ 2980,   933,    31, ...,     0,     0,     0],\n",
       "       [ 1070,   216,   231, ...,     0,     0,     0]])"
      ]
     },
     "execution_count": 28,
     "metadata": {},
     "output_type": "execute_result"
    }
   ],
   "source": [
    "sequences_padded"
   ]
  },
  {
   "cell_type": "markdown",
   "id": "4ca608fc-51a5-43aa-a1d3-ffe344b035cb",
   "metadata": {},
   "source": [
    "## Codificando as saidas\n",
    "\n",
    "['Business', 'Entertainment', 'General', 'Health', 'Science',\n",
    "       'Sports', 'Technology']\n",
    "\n",
    "Business = [ 1, 0, 0, 0, 0, 0, 0 ]\n",
    "Entertainment = [ 0, 1, 0, 0, 0, 0, 0 ]\n",
    "General = [ 0, 0, 1 , 0, 0, 0, 0 ]"
   ]
  },
  {
   "cell_type": "code",
   "execution_count": 30,
   "id": "67f7ce9f-c3f2-43b0-9c41-010d5c4f412b",
   "metadata": {},
   "outputs": [],
   "source": [
    "output_encoder = LabelEncoder()"
   ]
  },
  {
   "cell_type": "code",
   "execution_count": 31,
   "id": "a202e0ae-5013-4f11-8b48-d004eb8c6da0",
   "metadata": {},
   "outputs": [
    {
     "data": {
      "text/plain": [
       "array([0, 0, 0, ..., 6, 6, 6])"
      ]
     },
     "execution_count": 31,
     "metadata": {},
     "output_type": "execute_result"
    }
   ],
   "source": [
    "output_numeric = output_encoder.fit_transform( news_df[\"Type\"] )\n",
    "output_numeric"
   ]
  },
  {
   "cell_type": "markdown",
   "id": "5c407d24-02d8-4883-ba14-04c2010f3d05",
   "metadata": {},
   "source": [
    "Saida será algo como [ 0.2, 0.5, 0.3, 0.8, 0.1, 0.0, 0.6 ] "
   ]
  },
  {
   "cell_type": "code",
   "execution_count": 33,
   "id": "68b372fa-a815-4adf-84b9-cde6e29eac5b",
   "metadata": {},
   "outputs": [
    {
     "data": {
      "text/plain": [
       "<tf.Tensor: shape=(3500, 7), dtype=float32, numpy=\n",
       "array([[1., 0., 0., ..., 0., 0., 0.],\n",
       "       [1., 0., 0., ..., 0., 0., 0.],\n",
       "       [1., 0., 0., ..., 0., 0., 0.],\n",
       "       ...,\n",
       "       [0., 0., 0., ..., 0., 0., 1.],\n",
       "       [0., 0., 0., ..., 0., 0., 1.],\n",
       "       [0., 0., 0., ..., 0., 0., 1.]], dtype=float32)>"
      ]
     },
     "execution_count": 33,
     "metadata": {},
     "output_type": "execute_result"
    }
   ],
   "source": [
    "output_encoder = CategoryEncoding(num_tokens=7, output_mode=\"one_hot\")\n",
    "output_encoded = output_encoder( output_numeric )  # Não funciona precisa transformar para numeros primeiro\n",
    "output_encoded"
   ]
  },
  {
   "cell_type": "code",
   "execution_count": 34,
   "id": "78f98b79-2b62-4bda-9386-0be34f1fb7e9",
   "metadata": {},
   "outputs": [
    {
     "name": "stdout",
     "output_type": "stream",
     "text": [
      "X Shape:  (3500, 112)\n",
      "Y Shape:  (3500, 7)\n"
     ]
    }
   ],
   "source": [
    "X = sequences_padded\n",
    "print(\"X Shape: \", X.shape)\n",
    "Y = output_encoded.numpy()\n",
    "print(\"Y Shape: \", Y.shape)"
   ]
  },
  {
   "cell_type": "code",
   "execution_count": 35,
   "id": "cc0cbcb9-2bee-4a87-940e-9a5c620de9e6",
   "metadata": {},
   "outputs": [],
   "source": [
    "X_train, X_test, Y_train, Y_test = train_test_split( X, Y, random_state = 100 )"
   ]
  },
  {
   "cell_type": "code",
   "execution_count": 36,
   "id": "fd035d85-358b-41d8-8ea2-b612565a7875",
   "metadata": {},
   "outputs": [],
   "source": [
    "seed_value = 100\n",
    "# Assegura que todos os pesos iniciais serão gerados com a mesma semente\n",
    "random.seed(seed_value)\n",
    "np.random.seed(seed_value)\n",
    "tf.random.set_seed(seed_value)"
   ]
  },
  {
   "cell_type": "code",
   "execution_count": 37,
   "id": "767c3937-19f4-4db7-8b2e-3931626f3b22",
   "metadata": {},
   "outputs": [],
   "source": [
    "# modelo = Sequential()\n",
    "# modelo.add( Input( (112,) ) )\n",
    "# modelo.add( Dense( 128, activation=\"relu\" ) )\n",
    "# modelo.add( Dense( 7, activation=\"softmax\" ) )\n",
    "# modelo.summary()"
   ]
  },
  {
   "cell_type": "code",
   "execution_count": 61,
   "id": "429afd3e-b5ad-4401-ba5f-374cbb6fd115",
   "metadata": {},
   "outputs": [
    {
     "data": {
      "text/html": [
       "<pre style=\"white-space:pre;overflow-x:auto;line-height:normal;font-family:Menlo,'DejaVu Sans Mono',consolas,'Courier New',monospace\"><span style=\"font-weight: bold\">Model: \"sequential_3\"</span>\n",
       "</pre>\n"
      ],
      "text/plain": [
       "\u001b[1mModel: \"sequential_3\"\u001b[0m\n"
      ]
     },
     "metadata": {},
     "output_type": "display_data"
    },
    {
     "data": {
      "text/html": [
       "<pre style=\"white-space:pre;overflow-x:auto;line-height:normal;font-family:Menlo,'DejaVu Sans Mono',consolas,'Courier New',monospace\">┏━━━━━━━━━━━━━━━━━━━━━━━━━━━━━━━━━━━━━━┳━━━━━━━━━━━━━━━━━━━━━━━━━━━━━┳━━━━━━━━━━━━━━━━━┓\n",
       "┃<span style=\"font-weight: bold\"> Layer (type)                         </span>┃<span style=\"font-weight: bold\"> Output Shape                </span>┃<span style=\"font-weight: bold\">         Param # </span>┃\n",
       "┡━━━━━━━━━━━━━━━━━━━━━━━━━━━━━━━━━━━━━━╇━━━━━━━━━━━━━━━━━━━━━━━━━━━━━╇━━━━━━━━━━━━━━━━━┩\n",
       "│ embedding_3 (<span style=\"color: #0087ff; text-decoration-color: #0087ff\">Embedding</span>)              │ ?                           │     <span style=\"color: #00af00; text-decoration-color: #00af00\">0</span> (unbuilt) │\n",
       "├──────────────────────────────────────┼─────────────────────────────┼─────────────────┤\n",
       "│ global_average_pooling1d_3           │ ?                           │               <span style=\"color: #00af00; text-decoration-color: #00af00\">0</span> │\n",
       "│ (<span style=\"color: #0087ff; text-decoration-color: #0087ff\">GlobalAveragePooling1D</span>)             │                             │                 │\n",
       "├──────────────────────────────────────┼─────────────────────────────┼─────────────────┤\n",
       "│ dense_6 (<span style=\"color: #0087ff; text-decoration-color: #0087ff\">Dense</span>)                      │ ?                           │     <span style=\"color: #00af00; text-decoration-color: #00af00\">0</span> (unbuilt) │\n",
       "├──────────────────────────────────────┼─────────────────────────────┼─────────────────┤\n",
       "│ dense_7 (<span style=\"color: #0087ff; text-decoration-color: #0087ff\">Dense</span>)                      │ ?                           │     <span style=\"color: #00af00; text-decoration-color: #00af00\">0</span> (unbuilt) │\n",
       "└──────────────────────────────────────┴─────────────────────────────┴─────────────────┘\n",
       "</pre>\n"
      ],
      "text/plain": [
       "┏━━━━━━━━━━━━━━━━━━━━━━━━━━━━━━━━━━━━━━┳━━━━━━━━━━━━━━━━━━━━━━━━━━━━━┳━━━━━━━━━━━━━━━━━┓\n",
       "┃\u001b[1m \u001b[0m\u001b[1mLayer (type)                        \u001b[0m\u001b[1m \u001b[0m┃\u001b[1m \u001b[0m\u001b[1mOutput Shape               \u001b[0m\u001b[1m \u001b[0m┃\u001b[1m \u001b[0m\u001b[1m        Param #\u001b[0m\u001b[1m \u001b[0m┃\n",
       "┡━━━━━━━━━━━━━━━━━━━━━━━━━━━━━━━━━━━━━━╇━━━━━━━━━━━━━━━━━━━━━━━━━━━━━╇━━━━━━━━━━━━━━━━━┩\n",
       "│ embedding_3 (\u001b[38;5;33mEmbedding\u001b[0m)              │ ?                           │     \u001b[38;5;34m0\u001b[0m (unbuilt) │\n",
       "├──────────────────────────────────────┼─────────────────────────────┼─────────────────┤\n",
       "│ global_average_pooling1d_3           │ ?                           │               \u001b[38;5;34m0\u001b[0m │\n",
       "│ (\u001b[38;5;33mGlobalAveragePooling1D\u001b[0m)             │                             │                 │\n",
       "├──────────────────────────────────────┼─────────────────────────────┼─────────────────┤\n",
       "│ dense_6 (\u001b[38;5;33mDense\u001b[0m)                      │ ?                           │     \u001b[38;5;34m0\u001b[0m (unbuilt) │\n",
       "├──────────────────────────────────────┼─────────────────────────────┼─────────────────┤\n",
       "│ dense_7 (\u001b[38;5;33mDense\u001b[0m)                      │ ?                           │     \u001b[38;5;34m0\u001b[0m (unbuilt) │\n",
       "└──────────────────────────────────────┴─────────────────────────────┴─────────────────┘\n"
      ]
     },
     "metadata": {},
     "output_type": "display_data"
    },
    {
     "data": {
      "text/html": [
       "<pre style=\"white-space:pre;overflow-x:auto;line-height:normal;font-family:Menlo,'DejaVu Sans Mono',consolas,'Courier New',monospace\"><span style=\"font-weight: bold\"> Total params: </span><span style=\"color: #00af00; text-decoration-color: #00af00\">0</span> (0.00 B)\n",
       "</pre>\n"
      ],
      "text/plain": [
       "\u001b[1m Total params: \u001b[0m\u001b[38;5;34m0\u001b[0m (0.00 B)\n"
      ]
     },
     "metadata": {},
     "output_type": "display_data"
    },
    {
     "data": {
      "text/html": [
       "<pre style=\"white-space:pre;overflow-x:auto;line-height:normal;font-family:Menlo,'DejaVu Sans Mono',consolas,'Courier New',monospace\"><span style=\"font-weight: bold\"> Trainable params: </span><span style=\"color: #00af00; text-decoration-color: #00af00\">0</span> (0.00 B)\n",
       "</pre>\n"
      ],
      "text/plain": [
       "\u001b[1m Trainable params: \u001b[0m\u001b[38;5;34m0\u001b[0m (0.00 B)\n"
      ]
     },
     "metadata": {},
     "output_type": "display_data"
    },
    {
     "data": {
      "text/html": [
       "<pre style=\"white-space:pre;overflow-x:auto;line-height:normal;font-family:Menlo,'DejaVu Sans Mono',consolas,'Courier New',monospace\"><span style=\"font-weight: bold\"> Non-trainable params: </span><span style=\"color: #00af00; text-decoration-color: #00af00\">0</span> (0.00 B)\n",
       "</pre>\n"
      ],
      "text/plain": [
       "\u001b[1m Non-trainable params: \u001b[0m\u001b[38;5;34m0\u001b[0m (0.00 B)\n"
      ]
     },
     "metadata": {},
     "output_type": "display_data"
    }
   ],
   "source": [
    "modelo = Sequential()\n",
    "modelo.add( Embedding( input_dim=(max_palavras_dicionario + 1), output_dim=100 ) )\n",
    "modelo.add( GlobalAveragePooling1D() )\n",
    "modelo.add( Dense( 128, activation=\"relu\" ) )\n",
    "modelo.add( Dense( 7, activation=\"softmax\" ) )\n",
    "modelo.summary()"
   ]
  },
  {
   "cell_type": "code",
   "execution_count": 63,
   "id": "3c5effc6-6004-4c8a-808b-e43ade062898",
   "metadata": {},
   "outputs": [],
   "source": [
    "# opt = SGD(learning_rate = 0.000001)\n",
    "# opt = Adam(learning_rate = 0.000001)\n",
    "opt = RMSprop(learning_rate=0.001)\n",
    "modelo.compile(optimizer = opt, loss=\"categorical_crossentropy\", metrics=[\"accuracy\"])"
   ]
  },
  {
   "cell_type": "code",
   "execution_count": 65,
   "id": "b3f31cfa-d42a-4500-8cf6-8870fc786c2c",
   "metadata": {},
   "outputs": [
    {
     "name": "stdout",
     "output_type": "stream",
     "text": [
      "Epoch 1/40\n",
      "\u001b[1m83/83\u001b[0m \u001b[32m━━━━━━━━━━━━━━━━━━━━\u001b[0m\u001b[37m\u001b[0m \u001b[1m3s\u001b[0m 18ms/step - accuracy: 0.1610 - loss: 1.9432\n",
      "Epoch 2/40\n",
      "\u001b[1m83/83\u001b[0m \u001b[32m━━━━━━━━━━━━━━━━━━━━\u001b[0m\u001b[37m\u001b[0m \u001b[1m2s\u001b[0m 18ms/step - accuracy: 0.1844 - loss: 1.9357\n",
      "Epoch 3/40\n",
      "\u001b[1m83/83\u001b[0m \u001b[32m━━━━━━━━━━━━━━━━━━━━\u001b[0m\u001b[37m\u001b[0m \u001b[1m1s\u001b[0m 16ms/step - accuracy: 0.2155 - loss: 1.9236\n",
      "Epoch 4/40\n",
      "\u001b[1m83/83\u001b[0m \u001b[32m━━━━━━━━━━━━━━━━━━━━\u001b[0m\u001b[37m\u001b[0m \u001b[1m1s\u001b[0m 15ms/step - accuracy: 0.2476 - loss: 1.8986\n",
      "Epoch 5/40\n",
      "\u001b[1m83/83\u001b[0m \u001b[32m━━━━━━━━━━━━━━━━━━━━\u001b[0m\u001b[37m\u001b[0m \u001b[1m2s\u001b[0m 19ms/step - accuracy: 0.2926 - loss: 1.8473\n",
      "Epoch 6/40\n",
      "\u001b[1m83/83\u001b[0m \u001b[32m━━━━━━━━━━━━━━━━━━━━\u001b[0m\u001b[37m\u001b[0m \u001b[1m1s\u001b[0m 16ms/step - accuracy: 0.3436 - loss: 1.7628\n",
      "Epoch 7/40\n",
      "\u001b[1m83/83\u001b[0m \u001b[32m━━━━━━━━━━━━━━━━━━━━\u001b[0m\u001b[37m\u001b[0m \u001b[1m1s\u001b[0m 16ms/step - accuracy: 0.4065 - loss: 1.6559\n",
      "Epoch 8/40\n",
      "\u001b[1m83/83\u001b[0m \u001b[32m━━━━━━━━━━━━━━━━━━━━\u001b[0m\u001b[37m\u001b[0m \u001b[1m2s\u001b[0m 18ms/step - accuracy: 0.4640 - loss: 1.5294\n",
      "Epoch 9/40\n",
      "\u001b[1m83/83\u001b[0m \u001b[32m━━━━━━━━━━━━━━━━━━━━\u001b[0m\u001b[37m\u001b[0m \u001b[1m1s\u001b[0m 16ms/step - accuracy: 0.5444 - loss: 1.3830\n",
      "Epoch 10/40\n",
      "\u001b[1m83/83\u001b[0m \u001b[32m━━━━━━━━━━━━━━━━━━━━\u001b[0m\u001b[37m\u001b[0m \u001b[1m2s\u001b[0m 22ms/step - accuracy: 0.6076 - loss: 1.2264\n",
      "Epoch 11/40\n",
      "\u001b[1m83/83\u001b[0m \u001b[32m━━━━━━━━━━━━━━━━━━━━\u001b[0m\u001b[37m\u001b[0m \u001b[1m2s\u001b[0m 20ms/step - accuracy: 0.6585 - loss: 1.0761\n",
      "Epoch 12/40\n",
      "\u001b[1m83/83\u001b[0m \u001b[32m━━━━━━━━━━━━━━━━━━━━\u001b[0m\u001b[37m\u001b[0m \u001b[1m2s\u001b[0m 18ms/step - accuracy: 0.7124 - loss: 0.9412\n",
      "Epoch 13/40\n",
      "\u001b[1m83/83\u001b[0m \u001b[32m━━━━━━━━━━━━━━━━━━━━\u001b[0m\u001b[37m\u001b[0m \u001b[1m2s\u001b[0m 20ms/step - accuracy: 0.7563 - loss: 0.8260\n",
      "Epoch 14/40\n",
      "\u001b[1m83/83\u001b[0m \u001b[32m━━━━━━━━━━━━━━━━━━━━\u001b[0m\u001b[37m\u001b[0m \u001b[1m2s\u001b[0m 20ms/step - accuracy: 0.7916 - loss: 0.7261\n",
      "Epoch 15/40\n",
      "\u001b[1m83/83\u001b[0m \u001b[32m━━━━━━━━━━━━━━━━━━━━\u001b[0m\u001b[37m\u001b[0m \u001b[1m3s\u001b[0m 35ms/step - accuracy: 0.8128 - loss: 0.6404\n",
      "Epoch 16/40\n",
      "\u001b[1m83/83\u001b[0m \u001b[32m━━━━━━━━━━━━━━━━━━━━\u001b[0m\u001b[37m\u001b[0m \u001b[1m2s\u001b[0m 19ms/step - accuracy: 0.8377 - loss: 0.5670\n",
      "Epoch 17/40\n",
      "\u001b[1m83/83\u001b[0m \u001b[32m━━━━━━━━━━━━━━━━━━━━\u001b[0m\u001b[37m\u001b[0m \u001b[1m2s\u001b[0m 24ms/step - accuracy: 0.8559 - loss: 0.5064\n",
      "Epoch 18/40\n",
      "\u001b[1m83/83\u001b[0m \u001b[32m━━━━━━━━━━━━━━━━━━━━\u001b[0m\u001b[37m\u001b[0m \u001b[1m2s\u001b[0m 18ms/step - accuracy: 0.8709 - loss: 0.4564\n",
      "Epoch 19/40\n",
      "\u001b[1m83/83\u001b[0m \u001b[32m━━━━━━━━━━━━━━━━━━━━\u001b[0m\u001b[37m\u001b[0m \u001b[1m2s\u001b[0m 21ms/step - accuracy: 0.8877 - loss: 0.4108\n",
      "Epoch 20/40\n",
      "\u001b[1m83/83\u001b[0m \u001b[32m━━━━━━━━━━━━━━━━━━━━\u001b[0m\u001b[37m\u001b[0m \u001b[1m1s\u001b[0m 17ms/step - accuracy: 0.8934 - loss: 0.3669\n",
      "Epoch 21/40\n",
      "\u001b[1m83/83\u001b[0m \u001b[32m━━━━━━━━━━━━━━━━━━━━\u001b[0m\u001b[37m\u001b[0m \u001b[1m2s\u001b[0m 21ms/step - accuracy: 0.9071 - loss: 0.3217\n",
      "Epoch 22/40\n",
      "\u001b[1m83/83\u001b[0m \u001b[32m━━━━━━━━━━━━━━━━━━━━\u001b[0m\u001b[37m\u001b[0m \u001b[1m1s\u001b[0m 17ms/step - accuracy: 0.9125 - loss: 0.2862\n",
      "Epoch 23/40\n",
      "\u001b[1m83/83\u001b[0m \u001b[32m━━━━━━━━━━━━━━━━━━━━\u001b[0m\u001b[37m\u001b[0m \u001b[1m2s\u001b[0m 20ms/step - accuracy: 0.9180 - loss: 0.2621\n",
      "Epoch 24/40\n",
      "\u001b[1m83/83\u001b[0m \u001b[32m━━━━━━━━━━━━━━━━━━━━\u001b[0m\u001b[37m\u001b[0m \u001b[1m2s\u001b[0m 24ms/step - accuracy: 0.9251 - loss: 0.2412\n",
      "Epoch 25/40\n",
      "\u001b[1m83/83\u001b[0m \u001b[32m━━━━━━━━━━━━━━━━━━━━\u001b[0m\u001b[37m\u001b[0m \u001b[1m2s\u001b[0m 21ms/step - accuracy: 0.9302 - loss: 0.2229\n",
      "Epoch 26/40\n",
      "\u001b[1m83/83\u001b[0m \u001b[32m━━━━━━━━━━━━━━━━━━━━\u001b[0m\u001b[37m\u001b[0m \u001b[1m2s\u001b[0m 24ms/step - accuracy: 0.9330 - loss: 0.2071\n",
      "Epoch 27/40\n",
      "\u001b[1m83/83\u001b[0m \u001b[32m━━━━━━━━━━━━━━━━━━━━\u001b[0m\u001b[37m\u001b[0m \u001b[1m2s\u001b[0m 21ms/step - accuracy: 0.9358 - loss: 0.1928\n",
      "Epoch 28/40\n",
      "\u001b[1m83/83\u001b[0m \u001b[32m━━━━━━━━━━━━━━━━━━━━\u001b[0m\u001b[37m\u001b[0m \u001b[1m2s\u001b[0m 26ms/step - accuracy: 0.9385 - loss: 0.1791\n",
      "Epoch 29/40\n",
      "\u001b[1m83/83\u001b[0m \u001b[32m━━━━━━━━━━━━━━━━━━━━\u001b[0m\u001b[37m\u001b[0m \u001b[1m2s\u001b[0m 20ms/step - accuracy: 0.9400 - loss: 0.1675\n",
      "Epoch 30/40\n",
      "\u001b[1m83/83\u001b[0m \u001b[32m━━━━━━━━━━━━━━━━━━━━\u001b[0m\u001b[37m\u001b[0m \u001b[1m2s\u001b[0m 26ms/step - accuracy: 0.9417 - loss: 0.1579\n",
      "Epoch 31/40\n",
      "\u001b[1m83/83\u001b[0m \u001b[32m━━━━━━━━━━━━━━━━━━━━\u001b[0m\u001b[37m\u001b[0m \u001b[1m2s\u001b[0m 20ms/step - accuracy: 0.9430 - loss: 0.1496\n",
      "Epoch 32/40\n",
      "\u001b[1m83/83\u001b[0m \u001b[32m━━━━━━━━━━━━━━━━━━━━\u001b[0m\u001b[37m\u001b[0m \u001b[1m2s\u001b[0m 25ms/step - accuracy: 0.9434 - loss: 0.1430\n",
      "Epoch 33/40\n",
      "\u001b[1m83/83\u001b[0m \u001b[32m━━━━━━━━━━━━━━━━━━━━\u001b[0m\u001b[37m\u001b[0m \u001b[1m2s\u001b[0m 19ms/step - accuracy: 0.9466 - loss: 0.1363\n",
      "Epoch 34/40\n",
      "\u001b[1m83/83\u001b[0m \u001b[32m━━━━━━━━━━━━━━━━━━━━\u001b[0m\u001b[37m\u001b[0m \u001b[1m2s\u001b[0m 26ms/step - accuracy: 0.9505 - loss: 0.1302\n",
      "Epoch 35/40\n",
      "\u001b[1m83/83\u001b[0m \u001b[32m━━━━━━━━━━━━━━━━━━━━\u001b[0m\u001b[37m\u001b[0m \u001b[1m2s\u001b[0m 19ms/step - accuracy: 0.9554 - loss: 0.1254\n",
      "Epoch 36/40\n",
      "\u001b[1m83/83\u001b[0m \u001b[32m━━━━━━━━━━━━━━━━━━━━\u001b[0m\u001b[37m\u001b[0m \u001b[1m2s\u001b[0m 21ms/step - accuracy: 0.9556 - loss: 0.1207\n",
      "Epoch 37/40\n",
      "\u001b[1m83/83\u001b[0m \u001b[32m━━━━━━━━━━━━━━━━━━━━\u001b[0m\u001b[37m\u001b[0m \u001b[1m2s\u001b[0m 24ms/step - accuracy: 0.9554 - loss: 0.1170\n",
      "Epoch 38/40\n",
      "\u001b[1m83/83\u001b[0m \u001b[32m━━━━━━━━━━━━━━━━━━━━\u001b[0m\u001b[37m\u001b[0m \u001b[1m2s\u001b[0m 22ms/step - accuracy: 0.9551 - loss: 0.1141\n",
      "Epoch 39/40\n",
      "\u001b[1m83/83\u001b[0m \u001b[32m━━━━━━━━━━━━━━━━━━━━\u001b[0m\u001b[37m\u001b[0m \u001b[1m2s\u001b[0m 19ms/step - accuracy: 0.9551 - loss: 0.1125\n",
      "Epoch 40/40\n",
      "\u001b[1m83/83\u001b[0m \u001b[32m━━━━━━━━━━━━━━━━━━━━\u001b[0m\u001b[37m\u001b[0m \u001b[1m2s\u001b[0m 21ms/step - accuracy: 0.9550 - loss: 0.1094\n"
     ]
    }
   ],
   "source": [
    "resultado = modelo.fit(X_train, Y_train, epochs=40, batch_size=32)"
   ]
  },
  {
   "cell_type": "code",
   "execution_count": 67,
   "id": "2ad2452d-ad4c-4b83-8a26-dd795e2af9ea",
   "metadata": {},
   "outputs": [
    {
     "name": "stdout",
     "output_type": "stream",
     "text": [
      "\u001b[1m28/28\u001b[0m \u001b[32m━━━━━━━━━━━━━━━━━━━━\u001b[0m\u001b[37m\u001b[0m \u001b[1m0s\u001b[0m 5ms/step - accuracy: 0.8312 - loss: 0.5826\n"
     ]
    }
   ],
   "source": [
    "resultado_teste = modelo.evaluate(X_test, Y_test)"
   ]
  },
  {
   "cell_type": "markdown",
   "id": "add3b326-27d2-4b8e-a382-f2c68011efdd",
   "metadata": {},
   "source": [
    "['Business', 'Entertainment', 'General', 'Health', 'Science', 'Sports', 'Technology']\n",
    "\n",
    "Business = [ 1, 0, 0, 0, 0, 0, 0 ] \n",
    "Entertainment = [ 0, 1, 0, 0, 0, 0, 0 ] \n",
    "General = [ 0, 0, 1, 0, 0, 0, 0 ]\n",
    "Health = [ 0, 0, 0, 1, 0, 0, 0 ]\n",
    "Science = [ 0, 0, 0, 0, 1, 0, 0 ]\n",
    "Sports = [ 0, 0, 0, 0, 0, 1, 0 ]\n",
    "Technology = [ 0, 0, 0, 0, 0, 0, 1 ]"
   ]
  },
  {
   "cell_type": "code",
   "execution_count": 93,
   "id": "b9773b9d-f873-4a81-8236-fd97720298e7",
   "metadata": {},
   "outputs": [
    {
     "name": "stdout",
     "output_type": "stream",
     "text": [
      "sequencia_predict:  (1, 5)\n",
      "sequencia_predict_padded: (1, 112)\n",
      "\u001b[1m1/1\u001b[0m \u001b[32m━━━━━━━━━━━━━━━━━━━━\u001b[0m\u001b[37m\u001b[0m \u001b[1m0s\u001b[0m 54ms/step\n",
      "Previsao:  [[2.1435723e-02 6.2939746e-04 6.0999568e-04 4.8847385e-02 7.2746134e-01\n",
      "  3.2463479e-03 1.9776969e-01]]\n"
     ]
    },
    {
     "data": {
      "text/plain": [
       "4"
      ]
     },
     "execution_count": 93,
     "metadata": {},
     "output_type": "execute_result"
    }
   ],
   "source": [
    "frase = \"Climate changes generative heat waves\"\n",
    "sequencia_predict = np.array(tokenizer.texts_to_sequences( [frase] ))\n",
    "print(\"sequencia_predict: \", sequencia_predict.shape)\n",
    "sequencia_predict_padded = pad_sequences( sequencia_predict, maxlen=max_features, padding=\"post\" )\n",
    "print(\"sequencia_predict_padded:\", sequencia_predict_padded.shape)\n",
    "previsao = modelo.predict( sequencia_predict_padded )\n",
    "print(\"Previsao: \", previsao)\n",
    "np.argmax(previsao)"
   ]
  },
  {
   "cell_type": "code",
   "execution_count": 89,
   "id": "9c784e7f-143c-4c96-866b-1dca76a54422",
   "metadata": {},
   "outputs": [],
   "source": [
    "acuracia = np.array(resultado.history['accuracy'])\n",
    "acuracia_norm = acuracia / np.max(acuracia)\n",
    "loss = np.array(resultado.history['loss'])\n",
    "loss_norm = loss / np.max(loss)"
   ]
  },
  {
   "cell_type": "code",
   "execution_count": 91,
   "id": "ff51ee39-a9e6-4b63-ad6a-12e8ab108098",
   "metadata": {},
   "outputs": [
    {
     "data": {
      "image/png": "[encoded data removed]",
      "text/plain": [
       "<Figure size 640x480 with 1 Axes>"
      ]
     },
     "metadata": {},
     "output_type": "display_data"
    }
   ],
   "source": [
    "plt.plot(acuracia_norm, color=\"green\", label=\"Acurácia\")\n",
    "plt.plot(loss_norm, color=\"red\", label=\"Perda\")\n",
    "plt.legend()\n",
    "plt.show()"
   ]
  },
  {
   "cell_type": "code",
   "execution_count": 199,
   "id": "d7620927-f63a-41d8-8e5b-c8dc42f2196c",
   "metadata": {},
   "outputs": [
    {
     "data": {
      "text/plain": [
       "TensorShape([875])"
      ]
     },
     "execution_count": 199,
     "metadata": {},
     "output_type": "execute_result"
    }
   ],
   "source": []
  },
  {
   "cell_type": "code",
   "execution_count": 201,
   "id": "64b75331-6cd6-4f93-ad3f-959788944120",
   "metadata": {},
   "outputs": [
    {
     "name": "stdout",
     "output_type": "stream",
     "text": [
      "\u001b[1m28/28\u001b[0m \u001b[32m━━━━━━━━━━━━━━━━━━━━\u001b[0m\u001b[37m\u001b[0m \u001b[1m0s\u001b[0m 4ms/step\n"
     ]
    },
    {
     "data": {
      "text/plain": [
       "TensorShape([875])"
      ]
     },
     "execution_count": 201,
     "metadata": {},
     "output_type": "execute_result"
    }
   ],
   "source": [
    "\n",
    "# y_pred_test = np.array(tf.one_hot(tf.argmax(y_pred, axis=1), depth = 7))\n",
    "# y_pred_test.shape"
   ]
  },
  {
   "cell_type": "code",
   "execution_count": 203,
   "id": "579bb6b3-5292-432a-a27b-6f777da1846c",
   "metadata": {},
   "outputs": [
    {
     "name": "stdout",
     "output_type": "stream",
     "text": [
      "tf.Tensor(\n",
      "[[ 97   1   3   5  11   0  10]\n",
      " [  4  77   2   0  18   6   2]\n",
      " [  5   0 103   4   4   8   8]\n",
      " [  4   0   0 112   9   1   1]\n",
      " [  2   0   0   2 104   0   6]\n",
      " [  6   1   3   1   8 113   4]\n",
      " [  7   1   0   0  10   1 111]], shape=(7, 7), dtype=int32)\n"
     ]
    }
   ],
   "source": []
  },
  {
   "cell_type": "code",
   "execution_count": 272,
   "id": "97ce22c8-c3bb-4efd-92a4-4ecbf928ae0f",
   "metadata": {},
   "outputs": [
    {
     "data": {
      "image/png": "[encoded data removed]",
      "text/plain": [
       "<Figure size 640x480 with 2 Axes>"
      ]
     },
     "metadata": {},
     "output_type": "display_data"
    }
   ],
   "source": [
    "plt.imshow(conf_matrix, interpolation='nearest', cmap=plt.cm.Blues)\n",
    "plt.title('Confusion Matrix')\n",
    "plt.colorbar()\n",
    "\n",
    "# classes = np.unique(Y_label_test) # Get unique class labels\n",
    "tick_marks = np.arange(len(classes))\n",
    "classes = ['Business', 'Entertainment', 'General', 'Health', 'Science', 'Sports', 'Technology']\n",
    "plt.xticks(tick_marks, classes, rotation=45)\n",
    "plt.yticks(tick_marks, classes)\n",
    "\n",
    "# Add labels to each cell\n",
    "thresh = np.argmax(conf_matrix) / 2.\n",
    "for i, j in np.ndindex(tuple(conf_matrix.shape)):\n",
    "    plt.text(j, i, conf_matrix[i, j].numpy(),\n",
    "             horizontalalignment=\"center\",\n",
    "             color=\"white\" if conf_matrix[i, j] > thresh else \"black\")\n",
    "\n",
    "plt.tight_layout()\n",
    "plt.ylabel('True label')\n",
    "plt.xlabel('Predicted label')\n",
    "plt.show()"
   ]
  },
  {
   "cell_type": "code",
   "execution_count": null,
   "id": "e008a616-ae40-4d30-9357-43055b4c3620",
   "metadata": {},
   "outputs": [],
   "source": []
  },
  {
   "cell_type": "code",
   "execution_count": null,
   "id": "4e62b730-1ab6-4f0c-9f15-606f8256bb3c",
   "metadata": {},
   "outputs": [],
   "source": []
  }
 ],
 "metadata": {
  "kernelspec": {
   "display_name": "Python [conda env:base] *",
   "language": "python",
   "name": "conda-base-py"
  },
  "language_info": {
   "codemirror_mode": {
    "name": "ipython",
    "version": 3
   },
   "file_extension": ".py",
   "mimetype": "text/x-python",
   "name": "python",
   "nbconvert_exporter": "python",
   "pygments_lexer": "ipython3",
   "version": "3.12.7"
  }
 },
 "nbformat": 4,
 "nbformat_minor": 5
}
