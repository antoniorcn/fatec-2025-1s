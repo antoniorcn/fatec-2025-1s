{
 "cells": [
  {
   "cell_type": "code",
   "execution_count": 1,
   "id": "2727245d-6343-408a-9a45-3a43c6563fc5",
   "metadata": {},
   "outputs": [
    {
     "name": "stdout",
     "output_type": "stream",
     "text": [
      "Defaulting to user installation because normal site-packages is not writeable\n",
      "Looking in indexes: https://pypi.org/simple, https://pypi.ngc.nvidia.com\n",
      "Requirement already satisfied: gensim in c:\\programdata\\anaconda3\\lib\\site-packages (4.3.3)\n",
      "Requirement already satisfied: numpy<2.0,>=1.18.5 in c:\\programdata\\anaconda3\\lib\\site-packages (from gensim) (1.26.4)\n",
      "Requirement already satisfied: scipy<1.14.0,>=1.7.0 in c:\\programdata\\anaconda3\\lib\\site-packages (from gensim) (1.13.1)\n",
      "Requirement already satisfied: smart-open>=1.8.1 in c:\\programdata\\anaconda3\\lib\\site-packages (from gensim) (5.2.1)\n"
     ]
    }
   ],
   "source": [
    "!pip install gensim"
   ]
  },
  {
   "cell_type": "code",
   "execution_count": 5,
   "id": "b9d58e73-fd23-4925-bf7d-f5a86e1f2b86",
   "metadata": {},
   "outputs": [],
   "source": [
    "from gensim.models import Word2Vec, KeyedVectors"
   ]
  },
  {
   "cell_type": "code",
   "execution_count": 7,
   "id": "d149a972-d9b1-4a06-92a8-00bab04a812b",
   "metadata": {},
   "outputs": [],
   "source": [
    "modelo = KeyedVectors.load_word2vec_format(\"../../../dados/skip_s100/skip_s100.txt\")"
   ]
  },
  {
   "cell_type": "code",
   "execution_count": 11,
   "id": "857e1721-ab4a-4918-b965-7b30935c719a",
   "metadata": {},
   "outputs": [
    {
     "data": {
      "text/plain": [
       "0.5112214"
      ]
     },
     "execution_count": 11,
     "metadata": {},
     "output_type": "execute_result"
    }
   ],
   "source": [
    "modelo.similarity(\"carro\", \"carroça\")"
   ]
  },
  {
   "cell_type": "code",
   "execution_count": 13,
   "id": "61ed3b66-2442-467c-bb97-470bd49ef1d4",
   "metadata": {},
   "outputs": [
    {
     "data": {
      "text/plain": [
       "0.81949466"
      ]
     },
     "execution_count": 13,
     "metadata": {},
     "output_type": "execute_result"
    }
   ],
   "source": [
    "modelo.similarity(\"carro\", \"motorista\")"
   ]
  },
  {
   "cell_type": "code",
   "execution_count": 29,
   "id": "52151913-5964-418b-b7a9-510a925ec080",
   "metadata": {},
   "outputs": [
    {
     "name": "stdout",
     "output_type": "stream",
     "text": [
      "Palavra não encontrada:  \"Key 'word2vec' not present\"\n"
     ]
    }
   ],
   "source": [
    "try: \n",
    "    modelo[\"word2vec\"]\n",
    "except Exception as e:\n",
    "    print(\"Palavra não encontrada: \", e)"
   ]
  },
  {
   "cell_type": "code",
   "execution_count": 51,
   "id": "0b8f98f9-7b78-4561-b009-6a4b1989849a",
   "metadata": {},
   "outputs": [
    {
     "data": {
      "text/plain": [
       "0.7869568"
      ]
     },
     "execution_count": 51,
     "metadata": {},
     "output_type": "execute_result"
    }
   ],
   "source": [
    "modelo.similarity(\"cavalo\", \"touro\")"
   ]
  },
  {
   "cell_type": "code",
   "execution_count": 47,
   "id": "b470a59e-66bd-441e-ae1d-805a153f1809",
   "metadata": {},
   "outputs": [
    {
     "data": {
      "text/plain": [
       "[('touro', 0.7869568467140198),\n",
       " ('elefante', 0.7802520394325256),\n",
       " ('bastão', 0.7568514347076416),\n",
       " ('pássaro', 0.7459213137626648),\n",
       " ('arreado', 0.7407456636428833),\n",
       " ('cão', 0.7373685240745544),\n",
       " ('chapéu', 0.7325356006622314),\n",
       " ('cocar', 0.7290587425231934),\n",
       " ('turbante', 0.7244845032691956),\n",
       " ('veado', 0.7237123250961304)]"
      ]
     },
     "execution_count": 47,
     "metadata": {},
     "output_type": "execute_result"
    }
   ],
   "source": [
    "modelo.most_similar(\"cavalo\")"
   ]
  },
  {
   "cell_type": "code",
   "execution_count": 55,
   "id": "e25ccd3a-d811-4f0a-985a-d570fc873107",
   "metadata": {},
   "outputs": [
    {
     "data": {
      "text/plain": [
       "[('rainha-consorte', 0.7912216186523438),\n",
       " ('primogénita', 0.7738461494445801),\n",
       " ('imperatriz-mãe', 0.7646884322166443),\n",
       " ('paleóloga', 0.752788245677948),\n",
       " ('dama-de-companhia', 0.7478024363517761),\n",
       " ('consorte', 0.7475903630256653),\n",
       " ('princesa-eleitora', 0.7472771406173706),\n",
       " ('piroska', 0.7468665838241577),\n",
       " ('ulrica', 0.7454056143760681),\n",
       " ('ranavalona', 0.7441917657852173)]"
      ]
     },
     "execution_count": 55,
     "metadata": {},
     "output_type": "execute_result"
    }
   ],
   "source": [
    "modelo.most_similar(positive=[\"rei\", \"mulher\"], negative=[\"homem\"])"
   ]
  },
  {
   "cell_type": "code",
   "execution_count": 59,
   "id": "5ef4dcef-de7e-40e0-92fe-e6617d0c3d95",
   "metadata": {},
   "outputs": [
    {
     "data": {
      "text/plain": [
       "'farofa'"
      ]
     },
     "execution_count": 59,
     "metadata": {},
     "output_type": "execute_result"
    }
   ],
   "source": [
    "modelo.doesnt_match([\"obra\", \"construção\", \"farofa\", \"viaduto\", \"predio\"])"
   ]
  },
  {
   "cell_type": "code",
   "execution_count": 65,
   "id": "27b74fdf-5aa9-4e71-a260-bd21609af986",
   "metadata": {},
   "outputs": [
    {
     "data": {
      "text/plain": [
       "[('zephyr', 0.6495435237884521),\n",
       " ('hurding', 0.6285159587860107),\n",
       " ('chuen', 0.6248821020126343),\n",
       " ('seung-hi', 0.6213198900222778),\n",
       " ('choong', 0.6209890842437744),\n",
       " ('ashrafiyat', 0.61798495054245),\n",
       " ('yeow', 0.6034598350524902),\n",
       " ('mentari', 0.6016887426376343),\n",
       " ('pelita', 0.599210798740387),\n",
       " ('top-five', 0.5981167554855347)]"
      ]
     },
     "execution_count": 65,
     "metadata": {},
     "output_type": "execute_result"
    }
   ],
   "source": [
    "modelo.most_similar(positive=[\"japao\", \"tokio\"], negative=[\"brasil\"])"
   ]
  },
  {
   "cell_type": "code",
   "execution_count": 67,
   "id": "46c0f85f-1ae3-4b99-8312-2673bed69e31",
   "metadata": {},
   "outputs": [
    {
     "data": {
      "text/plain": [
       "[('aluna', 0.7833452820777893),\n",
       " ('professora', 0.7217243909835815),\n",
       " ('ex-aluna', 0.7029731273651123),\n",
       " ('fonoaudióloga', 0.6728085279464722),\n",
       " ('bibliotecária', 0.6602938175201416),\n",
       " ('enfermeira', 0.6432615518569946),\n",
       " ('escola', 0.6335965394973755),\n",
       " ('ex-professora', 0.6290565133094788),\n",
       " ('costureira', 0.6198750138282776),\n",
       " ('cabeleireira', 0.6191635727882385)]"
      ]
     },
     "execution_count": 67,
     "metadata": {},
     "output_type": "execute_result"
    }
   ],
   "source": [
    "modelo.most_similar(positive=[\"aluno\", \"mulher\"], negative=[\"homem\"])"
   ]
  },
  {
   "cell_type": "code",
   "execution_count": 77,
   "id": "5cfe30ab-0731-42c2-9760-14e2abc3be03",
   "metadata": {},
   "outputs": [
    {
     "data": {
      "text/plain": [
       "[('residence', 0.6627026200294495),\n",
       " ('village', 0.6608813405036926),\n",
       " ('masonic', 0.6556034684181213),\n",
       " ('district', 0.6416684985160828),\n",
       " ('brompton', 0.641414999961853),\n",
       " ('historical', 0.639901876449585),\n",
       " ('photography', 0.6396505832672119),\n",
       " ('jewish', 0.6358640789985657),\n",
       " ('intrusive', 0.6341692805290222),\n",
       " ('niagara', 0.6329802870750427)]"
      ]
     },
     "execution_count": 77,
     "metadata": {},
     "output_type": "execute_result"
    }
   ],
   "source": [
    "modelo.most_similar(positive=[\"brazil\", \"washington\"], negative=[\"eua\"])"
   ]
  },
  {
   "cell_type": "code",
   "execution_count": null,
   "id": "f4ba51a4-5926-467c-8f9f-ed538c8c7819",
   "metadata": {},
   "outputs": [],
   "source": []
  }
 ],
 "metadata": {
  "kernelspec": {
   "display_name": "Python [conda env:base] *",
   "language": "python",
   "name": "conda-base-py"
  },
  "language_info": {
   "codemirror_mode": {
    "name": "ipython",
    "version": 3
   },
   "file_extension": ".py",
   "mimetype": "text/x-python",
   "name": "python",
   "nbconvert_exporter": "python",
   "pygments_lexer": "ipython3",
   "version": "3.12.7"
  }
 },
 "nbformat": 4,
 "nbformat_minor": 5
}
