{
 "cells": [
  {
   "cell_type": "code",
   "execution_count": 111,
   "id": "dbc9fb5a-23c6-411c-a1d6-b7053009656d",
   "metadata": {},
   "outputs": [],
   "source": [
    "arquivo = open(\".\\\\hello.txt\", \"r\", encoding=\"utf-8\")   # ou \"./hello.txt\"   "
   ]
  },
  {
   "cell_type": "code",
   "execution_count": 85,
   "id": "0059cb1c-b182-4271-a38d-207bf9738846",
   "metadata": {},
   "outputs": [
    {
     "data": {
      "text/plain": [
       "'Hello'"
      ]
     },
     "execution_count": 85,
     "metadata": {},
     "output_type": "execute_result"
    }
   ],
   "source": [
    "arquivo.read(5)"
   ]
  },
  {
   "cell_type": "code",
   "execution_count": 87,
   "id": "438da7dd-dc91-4172-abc7-ae3fb4469312",
   "metadata": {},
   "outputs": [
    {
     "data": {
      "text/plain": [
       "' Arquivos em Python\\nLinha2\\nLinha3'"
      ]
     },
     "execution_count": 87,
     "metadata": {},
     "output_type": "execute_result"
    }
   ],
   "source": [
    "arquivo.read()"
   ]
  },
  {
   "cell_type": "code",
   "execution_count": 121,
   "id": "a2221200-42f2-437f-9dba-f8c861f48467",
   "metadata": {},
   "outputs": [
    {
     "data": {
      "text/plain": [
       "''"
      ]
     },
     "execution_count": 121,
     "metadata": {},
     "output_type": "execute_result"
    }
   ],
   "source": [
    "arquivo.readline()"
   ]
  },
  {
   "cell_type": "code",
   "execution_count": 95,
   "id": "4e197fec-266f-476a-875e-ffa4c90ae9b7",
   "metadata": {},
   "outputs": [
    {
     "data": {
      "text/plain": [
       "['Linha2\\n', 'Linha3']"
      ]
     },
     "execution_count": 95,
     "metadata": {},
     "output_type": "execute_result"
    }
   ],
   "source": [
    "arquivo.readlines()"
   ]
  },
  {
   "cell_type": "code",
   "execution_count": 125,
   "id": "18652cf2-ed98-4e05-bf8b-7a3e734e0ccb",
   "metadata": {},
   "outputs": [],
   "source": [
    "arquivo.close()"
   ]
  },
  {
   "cell_type": "code",
   "execution_count": 145,
   "id": "e87753c8-6601-4e53-8ff8-1d3a48775b3d",
   "metadata": {},
   "outputs": [],
   "source": [
    "arquivo_novo = open(\"./novo.txt\", \"w\", encoding=\"utf-8\")"
   ]
  },
  {
   "cell_type": "code",
   "execution_count": 147,
   "id": "166dd9e1-7876-493b-a78b-06eb83b1297b",
   "metadata": {},
   "outputs": [
    {
     "data": {
      "text/plain": [
       "31"
      ]
     },
     "execution_count": 147,
     "metadata": {},
     "output_type": "execute_result"
    }
   ],
   "source": [
    "arquivo_novo.write(\"Olá eu sou o professor Antonio\\n\")"
   ]
  },
  {
   "cell_type": "code",
   "execution_count": 149,
   "id": "7e7bd5a1-bb99-456e-a150-e50f3c204d72",
   "metadata": {},
   "outputs": [],
   "source": [
    "arquivo_novo.flush()"
   ]
  },
  {
   "cell_type": "code",
   "execution_count": 151,
   "id": "85c07f28-09b1-4328-939c-d055318e0357",
   "metadata": {},
   "outputs": [
    {
     "data": {
      "text/plain": [
       "7"
      ]
     },
     "execution_count": 151,
     "metadata": {},
     "output_type": "execute_result"
    }
   ],
   "source": [
    "arquivo_novo.write(\"Linha2\\n\")"
   ]
  },
  {
   "cell_type": "code",
   "execution_count": 153,
   "id": "1b65509d-f1e9-410a-824c-39d2dde62c5b",
   "metadata": {},
   "outputs": [
    {
     "data": {
      "text/plain": [
       "7"
      ]
     },
     "execution_count": 153,
     "metadata": {},
     "output_type": "execute_result"
    }
   ],
   "source": [
    "arquivo_novo.write(\"Linha3\\n\")"
   ]
  },
  {
   "cell_type": "code",
   "execution_count": 155,
   "id": "eabfa626-59f5-4638-aafb-3be6e4805a07",
   "metadata": {},
   "outputs": [],
   "source": [
    "arquivo_novo.close()"
   ]
  },
  {
   "cell_type": "code",
   "execution_count": null,
   "id": "737fc120-8bae-4d09-b429-d4379a0b334e",
   "metadata": {},
   "outputs": [],
   "source": []
  }
 ],
 "metadata": {
  "kernelspec": {
   "display_name": "Python [conda env:base] *",
   "language": "python",
   "name": "conda-base-py"
  },
  "language_info": {
   "codemirror_mode": {
    "name": "ipython",
    "version": 3
   },
   "file_extension": ".py",
   "mimetype": "text/x-python",
   "name": "python",
   "nbconvert_exporter": "python",
   "pygments_lexer": "ipython3",
   "version": "3.12.7"
  }
 },
 "nbformat": 4,
 "nbformat_minor": 5
}
