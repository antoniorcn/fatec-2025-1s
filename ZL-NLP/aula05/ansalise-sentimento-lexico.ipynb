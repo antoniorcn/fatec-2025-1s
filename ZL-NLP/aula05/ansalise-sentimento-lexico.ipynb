{
 "cells": [
  {
   "cell_type": "markdown",
   "id": "a6eef492-57af-476d-8606-dce855cda584",
   "metadata": {},
   "source": [
    "## Criando o dicionario com o Lexico"
   ]
  },
  {
   "cell_type": "code",
   "execution_count": 55,
   "id": "474d4b9b-4a0f-4b12-9851-82cb7a811d19",
   "metadata": {},
   "outputs": [],
   "source": [
    "dicionario = {}"
   ]
  },
  {
   "cell_type": "code",
   "execution_count": 57,
   "id": "f9bd7250-1712-4d04-bb03-9449f0f7a28b",
   "metadata": {},
   "outputs": [
    {
     "name": "stdout",
     "output_type": "stream",
     "text": [
      "Conteudo lido com sucesso, dicionario criado\n"
     ]
    }
   ],
   "source": [
    "arquivo_lexico = open(\"../../../dados/nlp/lexico_v3.0.txt\", \"r\", encoding=\"utf-8\")\n",
    "with arquivo_lexico:\n",
    "    linha = arquivo_lexico.readline()   # abjeta,adj,-1,A\n",
    "    while linha != \"\":\n",
    "        partes = linha.strip().split(\",\")   # ['abjeta', 'adj', '-1', 'A'] \n",
    "        chave = partes[0]   # 'abjeta'\n",
    "        valor = int(partes[2])   # '-1'  ==> int('-1') ==> -1\n",
    "        dicionario[chave] = valor # {\"abjeta\": -1}\n",
    "        linha = arquivo_lexico.readline()\n",
    "    print(\"Conteudo lido com sucesso, dicionario criado\")\n",
    "# arquivo_lexico.close()"
   ]
  },
  {
   "cell_type": "code",
   "execution_count": 97,
   "id": "a7be5c1d-df44-4e78-b909-3ee92300a714",
   "metadata": {},
   "outputs": [],
   "source": [
    "# dicionario"
   ]
  },
  {
   "cell_type": "markdown",
   "id": "e21dd786-b38c-4a02-8bb4-3047212b7a4a",
   "metadata": {},
   "source": [
    "## Função de analise de sentimento"
   ]
  },
  {
   "cell_type": "code",
   "execution_count": 73,
   "id": "b43318b4-baef-47c8-98ba-613495f6df1e",
   "metadata": {},
   "outputs": [],
   "source": [
    "def analisa_sentimento( frase ):   # frase => \"Esta segunda está um lindo dia\"\n",
    "    soma_sentimento = 0\n",
    "    tokens = frase.lower().split(\" \")  # tokens ==> [ \"esta\", \"segunda\", \"está\", \"um\", \"lindo\", \"dia\" ]\n",
    "    for token in tokens:   # token ==> \"esta\"\n",
    "        soma_sentimento += dicionario.get(token, 0)   # esta não existe o peso é 0\n",
    "    return soma_sentimento"
   ]
  },
  {
   "cell_type": "code",
   "execution_count": 99,
   "id": "52e04d02-4138-4793-9b77-5e78f8053763",
   "metadata": {},
   "outputs": [
    {
     "data": {
      "text/plain": [
       "1"
      ]
     },
     "execution_count": 99,
     "metadata": {},
     "output_type": "execute_result"
    }
   ],
   "source": [
    "analisa_sentimento(\"Esta segunda está um lindo dia\")"
   ]
  },
  {
   "cell_type": "markdown",
   "id": "f5b7342d-b25b-4adc-bfd8-8bf3dca778ef",
   "metadata": {},
   "source": [
    "## Ler um arquivo de Frases e sentimentos para testar a função de analise de sentimento"
   ]
  },
  {
   "cell_type": "code",
   "execution_count": 59,
   "id": "99686139-ce36-4ea7-9c6b-bcb452f6e8f1",
   "metadata": {},
   "outputs": [],
   "source": [
    "saidas = []\n",
    "entradas = []\n",
    "\n",
    "arquivo_frases = open(\"../../../dados/nlp/analise_sentimento_portugues.csv\", \"r\", encoding=\"utf-8\")\n",
    "with arquivo_frases:\n",
    "    for indice, linha in enumerate(arquivo_frases):\n",
    "        if indice > 0:\n",
    "            partes = linha.strip().split(\",\") # [ 'positivo', '\"Hoje o dia está ensolarado e perfeito para um passeio no parque.\"']\n",
    "            saidas.append(1 if partes[0] == \"positivo\" else 0 if partes[0] == \"neutro\" else -1)  # [ 1 ]\n",
    "            entradas.append(partes[1].replace('\"', '')) # ['Hoje o dia está ensolarado e perfeito para um passeio no parque.']    \n",
    "        "
   ]
  },
  {
   "cell_type": "code",
   "execution_count": 105,
   "id": "ea0f4a95-d265-43cd-8d4e-dca5f13cc9e5",
   "metadata": {},
   "outputs": [],
   "source": [
    "# entradas"
   ]
  },
  {
   "cell_type": "code",
   "execution_count": 107,
   "id": "cc980b62-98ec-4a17-a463-6a7c97bccadd",
   "metadata": {},
   "outputs": [],
   "source": [
    "# saidas"
   ]
  },
  {
   "cell_type": "markdown",
   "id": "ed716ff1-3d09-4485-9e64-7b90d6906b7e",
   "metadata": {},
   "source": [
    "## Calcular o sentimento de cada frase com base no modelo e extrair as métricas"
   ]
  },
  {
   "cell_type": "code",
   "execution_count": 103,
   "id": "26e777a2-cdb3-4f12-a632-e334238edd0b",
   "metadata": {},
   "outputs": [
    {
     "name": "stdout",
     "output_type": "stream",
     "text": [
      "Precisão:  0.6153846153846154\n",
      "Recall:  0.8\n",
      "Acuracia:  3.2857142857142856\n"
     ]
    }
   ],
   "source": [
    "tp = 0  # True Positive (Positivos Corretos)\n",
    "fp = 0  # False Positive (Deu Positivo, mas era para ser Negativo)\n",
    "fn = 0  # False Negative (Deu Negativo, mas era para ser Positivo)\n",
    "tn = 0  # True Negative (Negativos Corretos)\n",
    "for indice, frase in enumerate(entradas):\n",
    "    valor = analisa_sentimento( frase )  # -3\n",
    "    resultado = 1 if valor > 0 else 0\n",
    "    if resultado > 0:\n",
    "        if saidas[indice] > 0:\n",
    "            tp += 1\n",
    "        else:\n",
    "            fp += 1\n",
    "    else:\n",
    "        if saidas[indice] <= 0:\n",
    "            tn += 1\n",
    "        else:\n",
    "            fn += 1\n",
    "        \n",
    "\n",
    "precisao = tp / (tp + fp)\n",
    "recall = tp / (tp + fn)\n",
    "acuracia = (tp + tn) / (fp + fn)\n",
    "print(\"Precisão: \", precisao)\n",
    "print(\"Recall: \", recall)\n",
    "print(\"Acuracia: \", acuracia)"
   ]
  },
  {
   "cell_type": "code",
   "execution_count": null,
   "id": "2b21cf42-b630-4232-b8f3-050800317257",
   "metadata": {},
   "outputs": [],
   "source": []
  }
 ],
 "metadata": {
  "kernelspec": {
   "display_name": "Python [conda env:base] *",
   "language": "python",
   "name": "conda-base-py"
  },
  "language_info": {
   "codemirror_mode": {
    "name": "ipython",
    "version": 3
   },
   "file_extension": ".py",
   "mimetype": "text/x-python",
   "name": "python",
   "nbconvert_exporter": "python",
   "pygments_lexer": "ipython3",
   "version": "3.12.7"
  }
 },
 "nbformat": 4,
 "nbformat_minor": 5
}
