{
 "cells": [
  {
   "cell_type": "code",
   "execution_count": 1,
   "id": "d1682c11-b09f-4038-9e39-ec390317adf5",
   "metadata": {},
   "outputs": [],
   "source": [
    "import numpy as np\n",
    "import tensorflow as tf\n",
    "import pandas as pd\n",
    "import random\n",
    "import matplotlib.pyplot as plt"
   ]
  },
  {
   "cell_type": "code",
   "execution_count": 2,
   "id": "523b1d16-07fa-41fa-b5d3-9cc3c8515127",
   "metadata": {},
   "outputs": [],
   "source": [
    "from tensorflow.keras.preprocessing.text import Tokenizer\n",
    "from tensorflow.keras.preprocessing.sequence import pad_sequences\n",
    "from tensorflow.keras.layers import CategoryEncoding, Embedding, GlobalAveragePooling1D, LSTM\n",
    "from tensorflow.keras.layers import Input, Dense\n",
    "from sklearn.preprocessing import LabelEncoder\n",
    "from sklearn.model_selection import train_test_split\n",
    "from tensorflow.keras.models import Sequential\n",
    "from tensorflow.keras.optimizers import SGD, Adam, RMSprop"
   ]
  },
  {
   "cell_type": "code",
   "execution_count": 3,
   "id": "9bffb96a-5482-4188-a833-3f8732909329",
   "metadata": {},
   "outputs": [],
   "source": [
    "df = pd.read_csv(\"../../../dados/nlp/news_sentiment_analysis.csv\", encoding=\"utf-8\")"
   ]
  },
  {
   "cell_type": "code",
   "execution_count": 4,
   "id": "eb4b3ea4-8b42-47f6-92e1-7011b121a531",
   "metadata": {},
   "outputs": [],
   "source": [
    "df_news = df[ [\"Description\"] ]"
   ]
  },
  {
   "cell_type": "code",
   "execution_count": 30,
   "id": "b68f7a07-5d65-4603-af97-141ffbe99869",
   "metadata": {},
   "outputs": [],
   "source": [
    "num_palavra = 3000"
   ]
  },
  {
   "cell_type": "code",
   "execution_count": 5,
   "id": "4c682396-f01d-4976-8d36-68e6024bf13a",
   "metadata": {},
   "outputs": [
    {
     "data": {
      "text/plain": [
       "20860"
      ]
     },
     "execution_count": 5,
     "metadata": {},
     "output_type": "execute_result"
    }
   ],
   "source": [
    "tokenizer = Tokenizer(num_words=num_palavra, oov_token=\"<OOV>\", lower=True)\n",
    "tokenizer.fit_on_texts( df_news[\"Description\"] )\n",
    "vocabulario = tokenizer.word_index\n",
    "len(vocabulario)"
   ]
  },
  {
   "cell_type": "code",
   "execution_count": 6,
   "id": "7220b0e4-dcdb-4006-a53c-51bb31abc4f6",
   "metadata": {},
   "outputs": [],
   "source": [
    "entrada_sequencias = tokenizer.texts_to_sequences( df_news[\"Description\"] )"
   ]
  },
  {
   "cell_type": "code",
   "execution_count": null,
   "id": "bbe5196d-cd18-4f11-8578-a7b92089d619",
   "metadata": {},
   "outputs": [],
   "source": [
    "entrada_features = []\n",
    "saida_classes = []\n",
    "for indice, seq_palavras in enumerate(entrada_sequencias):\n",
    "    for token_indice, token in enumerate(seq_palavras):\n",
    "        if token_indice > 0:\n",
    "            sequencia = seq_palavras[0:token_indice + 1]\n",
    "            saida_classes.append(sequencia.pop())\n",
    "            entrada_features.append(sequencia)"
   ]
  },
  {
   "cell_type": "code",
   "execution_count": 42,
   "id": "32c7a63d-d9a0-4ddf-9609-31167358ce08",
   "metadata": {},
   "outputs": [
    {
     "data": {
      "text/plain": [
       "5706.96875"
      ]
     },
     "execution_count": 42,
     "metadata": {},
     "output_type": "execute_result"
    }
   ],
   "source": [
    "len(entrada_features) / 32"
   ]
  },
  {
   "cell_type": "code",
   "execution_count": 22,
   "id": "47c3197b-185c-454e-b115-dfba8450f32d",
   "metadata": {
    "scrolled": true
   },
   "outputs": [
    {
     "data": {
      "text/plain": [
       "[[599], [599, 1], [599, 1, 118], [599, 1, 118, 1], [599, 1, 118, 1, 1]]"
      ]
     },
     "execution_count": 22,
     "metadata": {},
     "output_type": "execute_result"
    }
   ],
   "source": [
    "entrada_features[0:5]"
   ]
  },
  {
   "cell_type": "code",
   "execution_count": 9,
   "id": "ab5d4df3-4a16-42d9-8fd0-8c5a3d73493b",
   "metadata": {},
   "outputs": [
    {
     "data": {
      "text/plain": [
       "[1, 118, 1, 1, 6]"
      ]
     },
     "execution_count": 9,
     "metadata": {},
     "output_type": "execute_result"
    }
   ],
   "source": [
    "saida_classes[0:5"
   ]
  },
  {
   "cell_type": "code",
   "execution_count": 20,
   "id": "d2a0b3cb-87ca-46d1-9f8a-b76c0808a547",
   "metadata": {},
   "outputs": [
    {
     "data": {
      "text/plain": [
       "111"
      ]
     },
     "execution_count": 20,
     "metadata": {},
     "output_type": "execute_result"
    }
   ],
   "source": [
    "max_size_entrada = 0\n",
    "for features in entrada_features:\n",
    "    if max_size_entrada < len(features):\n",
    "        max_size_entrada = len(features)\n",
    "max_size_entrada"
   ]
  },
  {
   "cell_type": "code",
   "execution_count": 24,
   "id": "ddfd7539-2dc5-4ad5-9675-f8855c0b3e6d",
   "metadata": {},
   "outputs": [],
   "source": [
    "entrada_padded = pad_sequences(entrada_features, maxlen=max_size_entrada, padding='pre', value=0)"
   ]
  },
  {
   "cell_type": "code",
   "execution_count": 38,
   "id": "1698ac4a-dde5-4128-b187-1cb1f5c09d87",
   "metadata": {},
   "outputs": [
    {
     "data": {
      "text/plain": [
       "<tf.Tensor: shape=(5, 3000), dtype=float32, numpy=\n",
       "array([[0., 1., 0., ..., 0., 0., 0.],\n",
       "       [0., 0., 0., ..., 0., 0., 0.],\n",
       "       [0., 1., 0., ..., 0., 0., 0.],\n",
       "       [0., 1., 0., ..., 0., 0., 0.],\n",
       "       [0., 0., 0., ..., 0., 0., 0.]], dtype=float32)>"
      ]
     },
     "execution_count": 38,
     "metadata": {},
     "output_type": "execute_result"
    }
   ],
   "source": [
    "output_encoder = CategoryEncoding(num_tokens=num_palavra, output_mode=\"one_hot\")\n",
    "saida_encoded = output_encoder( saida_classes )\n",
    "saida_encoded[0:5]"
   ]
  },
  {
   "cell_type": "code",
   "execution_count": 48,
   "id": "cfd14139-9fcc-49da-9c2b-2fb784b16e5e",
   "metadata": {},
   "outputs": [
    {
     "data": {
      "text/html": [
       "<pre style=\"white-space:pre;overflow-x:auto;line-height:normal;font-family:Menlo,'DejaVu Sans Mono',consolas,'Courier New',monospace\"><span style=\"font-weight: bold\">Model: \"sequential_1\"</span>\n",
       "</pre>\n"
      ],
      "text/plain": [
       "\u001b[1mModel: \"sequential_1\"\u001b[0m\n"
      ]
     },
     "metadata": {},
     "output_type": "display_data"
    },
    {
     "data": {
      "text/html": [
       "<pre style=\"white-space:pre;overflow-x:auto;line-height:normal;font-family:Menlo,'DejaVu Sans Mono',consolas,'Courier New',monospace\">┏━━━━━━━━━━━━━━━━━━━━━━━━━━━━━━━━━━━━━━┳━━━━━━━━━━━━━━━━━━━━━━━━━━━━━┳━━━━━━━━━━━━━━━━━┓\n",
       "┃<span style=\"font-weight: bold\"> Layer (type)                         </span>┃<span style=\"font-weight: bold\"> Output Shape                </span>┃<span style=\"font-weight: bold\">         Param # </span>┃\n",
       "┡━━━━━━━━━━━━━━━━━━━━━━━━━━━━━━━━━━━━━━╇━━━━━━━━━━━━━━━━━━━━━━━━━━━━━╇━━━━━━━━━━━━━━━━━┩\n",
       "│ embedding_1 (<span style=\"color: #0087ff; text-decoration-color: #0087ff\">Embedding</span>)              │ ?                           │     <span style=\"color: #00af00; text-decoration-color: #00af00\">0</span> (unbuilt) │\n",
       "├──────────────────────────────────────┼─────────────────────────────┼─────────────────┤\n",
       "│ lstm_1 (<span style=\"color: #0087ff; text-decoration-color: #0087ff\">LSTM</span>)                        │ ?                           │     <span style=\"color: #00af00; text-decoration-color: #00af00\">0</span> (unbuilt) │\n",
       "├──────────────────────────────────────┼─────────────────────────────┼─────────────────┤\n",
       "│ dense_1 (<span style=\"color: #0087ff; text-decoration-color: #0087ff\">Dense</span>)                      │ ?                           │     <span style=\"color: #00af00; text-decoration-color: #00af00\">0</span> (unbuilt) │\n",
       "└──────────────────────────────────────┴─────────────────────────────┴─────────────────┘\n",
       "</pre>\n"
      ],
      "text/plain": [
       "┏━━━━━━━━━━━━━━━━━━━━━━━━━━━━━━━━━━━━━━┳━━━━━━━━━━━━━━━━━━━━━━━━━━━━━┳━━━━━━━━━━━━━━━━━┓\n",
       "┃\u001b[1m \u001b[0m\u001b[1mLayer (type)                        \u001b[0m\u001b[1m \u001b[0m┃\u001b[1m \u001b[0m\u001b[1mOutput Shape               \u001b[0m\u001b[1m \u001b[0m┃\u001b[1m \u001b[0m\u001b[1m        Param #\u001b[0m\u001b[1m \u001b[0m┃\n",
       "┡━━━━━━━━━━━━━━━━━━━━━━━━━━━━━━━━━━━━━━╇━━━━━━━━━━━━━━━━━━━━━━━━━━━━━╇━━━━━━━━━━━━━━━━━┩\n",
       "│ embedding_1 (\u001b[38;5;33mEmbedding\u001b[0m)              │ ?                           │     \u001b[38;5;34m0\u001b[0m (unbuilt) │\n",
       "├──────────────────────────────────────┼─────────────────────────────┼─────────────────┤\n",
       "│ lstm_1 (\u001b[38;5;33mLSTM\u001b[0m)                        │ ?                           │     \u001b[38;5;34m0\u001b[0m (unbuilt) │\n",
       "├──────────────────────────────────────┼─────────────────────────────┼─────────────────┤\n",
       "│ dense_1 (\u001b[38;5;33mDense\u001b[0m)                      │ ?                           │     \u001b[38;5;34m0\u001b[0m (unbuilt) │\n",
       "└──────────────────────────────────────┴─────────────────────────────┴─────────────────┘\n"
      ]
     },
     "metadata": {},
     "output_type": "display_data"
    },
    {
     "data": {
      "text/html": [
       "<pre style=\"white-space:pre;overflow-x:auto;line-height:normal;font-family:Menlo,'DejaVu Sans Mono',consolas,'Courier New',monospace\"><span style=\"font-weight: bold\"> Total params: </span><span style=\"color: #00af00; text-decoration-color: #00af00\">0</span> (0.00 B)\n",
       "</pre>\n"
      ],
      "text/plain": [
       "\u001b[1m Total params: \u001b[0m\u001b[38;5;34m0\u001b[0m (0.00 B)\n"
      ]
     },
     "metadata": {},
     "output_type": "display_data"
    },
    {
     "data": {
      "text/html": [
       "<pre style=\"white-space:pre;overflow-x:auto;line-height:normal;font-family:Menlo,'DejaVu Sans Mono',consolas,'Courier New',monospace\"><span style=\"font-weight: bold\"> Trainable params: </span><span style=\"color: #00af00; text-decoration-color: #00af00\">0</span> (0.00 B)\n",
       "</pre>\n"
      ],
      "text/plain": [
       "\u001b[1m Trainable params: \u001b[0m\u001b[38;5;34m0\u001b[0m (0.00 B)\n"
      ]
     },
     "metadata": {},
     "output_type": "display_data"
    },
    {
     "data": {
      "text/html": [
       "<pre style=\"white-space:pre;overflow-x:auto;line-height:normal;font-family:Menlo,'DejaVu Sans Mono',consolas,'Courier New',monospace\"><span style=\"font-weight: bold\"> Non-trainable params: </span><span style=\"color: #00af00; text-decoration-color: #00af00\">0</span> (0.00 B)\n",
       "</pre>\n"
      ],
      "text/plain": [
       "\u001b[1m Non-trainable params: \u001b[0m\u001b[38;5;34m0\u001b[0m (0.00 B)\n"
      ]
     },
     "metadata": {},
     "output_type": "display_data"
    }
   ],
   "source": [
    "modelo = Sequential()\n",
    "modelo.add( Embedding( input_dim=(num_palavra + 1), output_dim=100, mask_zero=False ) )\n",
    "# modelo.add( GlobalAveragePooling1D() )\n",
    "modelo.add( LSTM( 64 ) )\n",
    "modelo.add( Dense( num_palavra, activation=\"softmax\" ) )\n",
    "modelo.summary()"
   ]
  },
  {
   "cell_type": "code",
   "execution_count": 50,
   "id": "f1750200-ec3c-46ac-8182-ab5d59c9dedc",
   "metadata": {},
   "outputs": [],
   "source": [
    "modelo.compile(optimizer=\"adam\", metrics=[\"accuracy\"], loss=\"categorical_crossentropy\")"
   ]
  },
  {
   "cell_type": "code",
   "execution_count": 52,
   "id": "0083b651-0244-4477-80cc-7d572c1af0b0",
   "metadata": {},
   "outputs": [
    {
     "name": "stdout",
     "output_type": "stream",
     "text": [
      "Epoch 1/10\n",
      "\u001b[1m5707/5707\u001b[0m \u001b[32m━━━━━━━━━━━━━━━━━━━━\u001b[0m\u001b[37m\u001b[0m \u001b[1m320s\u001b[0m 55ms/step - accuracy: 0.2285 - loss: 5.6393\n",
      "Epoch 2/10\n",
      "\u001b[1m5707/5707\u001b[0m \u001b[32m━━━━━━━━━━━━━━━━━━━━\u001b[0m\u001b[37m\u001b[0m \u001b[1m268s\u001b[0m 47ms/step - accuracy: 0.3264 - loss: 4.3338\n",
      "Epoch 3/10\n",
      "\u001b[1m5707/5707\u001b[0m \u001b[32m━━━━━━━━━━━━━━━━━━━━\u001b[0m\u001b[37m\u001b[0m \u001b[1m244s\u001b[0m 43ms/step - accuracy: 0.3815 - loss: 3.7973\n",
      "Epoch 4/10\n",
      "\u001b[1m5707/5707\u001b[0m \u001b[32m━━━━━━━━━━━━━━━━━━━━\u001b[0m\u001b[37m\u001b[0m \u001b[1m262s\u001b[0m 46ms/step - accuracy: 0.4157 - loss: 3.4447\n",
      "Epoch 5/10\n",
      "\u001b[1m5707/5707\u001b[0m \u001b[32m━━━━━━━━━━━━━━━━━━━━\u001b[0m\u001b[37m\u001b[0m \u001b[1m231s\u001b[0m 41ms/step - accuracy: 0.4364 - loss: 3.2284\n",
      "Epoch 6/10\n",
      "\u001b[1m5707/5707\u001b[0m \u001b[32m━━━━━━━━━━━━━━━━━━━━\u001b[0m\u001b[37m\u001b[0m \u001b[1m277s\u001b[0m 49ms/step - accuracy: 0.4574 - loss: 3.0248\n",
      "Epoch 7/10\n",
      "\u001b[1m5707/5707\u001b[0m \u001b[32m━━━━━━━━━━━━━━━━━━━━\u001b[0m\u001b[37m\u001b[0m \u001b[1m269s\u001b[0m 47ms/step - accuracy: 0.4766 - loss: 2.8582\n",
      "Epoch 8/10\n",
      "\u001b[1m5707/5707\u001b[0m \u001b[32m━━━━━━━━━━━━━━━━━━━━\u001b[0m\u001b[37m\u001b[0m \u001b[1m213s\u001b[0m 37ms/step - accuracy: 0.4928 - loss: 2.7257\n",
      "Epoch 9/10\n",
      "\u001b[1m5707/5707\u001b[0m \u001b[32m━━━━━━━━━━━━━━━━━━━━\u001b[0m\u001b[37m\u001b[0m \u001b[1m248s\u001b[0m 43ms/step - accuracy: 0.5061 - loss: 2.6053\n",
      "Epoch 10/10\n",
      "\u001b[1m5707/5707\u001b[0m \u001b[32m━━━━━━━━━━━━━━━━━━━━\u001b[0m\u001b[37m\u001b[0m \u001b[1m267s\u001b[0m 47ms/step - accuracy: 0.5203 - loss: 2.5076\n"
     ]
    }
   ],
   "source": [
    "resultado = modelo.fit(entrada_padded, saida_encoded, epochs=10, batch_size=32) "
   ]
  },
  {
   "cell_type": "code",
   "execution_count": 60,
   "id": "93688f87-0ac1-440e-b7cb-7dcd3b4ee975",
   "metadata": {},
   "outputs": [
    {
     "data": {
      "text/plain": [
       "'In the July 9 episode of EssentiallySports Think Tank, industry titan Rob Kligman, Chief Revenue Officer of Anthem Sports Group and former WWE executive, pulls back the curtain on the future of sports entertainment. The Ex-VP of Global Digital & Integrated Sponsorship Sales at WWE—a seasoned leader with a proven track record—offers C-suite executives an [&#8230;]The post Mastermind Behind WWE’s Netflix Deal Predicts a Bold New Chapter With UFC and TNA: “Sky’s the Limit” appeared first on EssentiallySports.'"
      ]
     },
     "execution_count": 60,
     "metadata": {},
     "output_type": "execute_result"
    }
   ],
   "source": [
    "df_news[\"Description\"][100]"
   ]
  },
  {
   "cell_type": "code",
   "execution_count": 98,
   "id": "b5803e0f-4035-4fad-a9f9-257cebd76b30",
   "metadata": {},
   "outputs": [],
   "source": []
  },
  {
   "cell_type": "code",
   "execution_count": 104,
   "id": "48209d66-6ba6-46da-b902-5f3f727197c6",
   "metadata": {},
   "outputs": [
    {
     "name": "stdout",
     "output_type": "stream",
     "text": [
      "sequencia_predict:  [[   1   46   98    5  192 1038  758]]\n"
     ]
    }
   ],
   "source": [
    "\n"
   ]
  },
  {
   "cell_type": "code",
   "execution_count": 112,
   "id": "ce111ff9-10be-429c-8b4e-9663d0fcd446",
   "metadata": {},
   "outputs": [
    {
     "name": "stdout",
     "output_type": "stream",
     "text": [
      "sequencia_predict:  [[   7    2   32  187 1351    3  562 2515    1]]\n",
      "sequencia_predict_padded: [[   0    0    0    0    0    0    0    0    0    0    0    0    0    0\n",
      "     0    0    0    0    0    0    0    0    0    0    0    0    0    0\n",
      "     0    0    0    0    0    0    0    0    0    0    0    0    0    0\n",
      "     0    0    0    0    0    0    0    0    0    0    0    0    0    0\n",
      "     0    0    0    0    0    0    0    0    0    0    0    0    0    0\n",
      "     0    0    0    0    0    0    0    0    0    0    0    0    0    0\n",
      "     0    0    0    0    0    0    0    0    0    0    0    0    0    0\n",
      "     0    0    0    0    7    2   32  187 1351    3  562 2515    1]]\n",
      "\u001b[1m1/1\u001b[0m \u001b[32m━━━━━━━━━━━━━━━━━━━━\u001b[0m\u001b[37m\u001b[0m \u001b[1m0s\u001b[0m 117ms/step\n",
      "Previsao:  [[3.2466636e-09 8.1433080e-02 1.3924631e-02 ... 3.2764657e-08\n",
      "  1.9850326e-08 1.1071960e-07]]\n",
      "Previsao Shape:  (1, 3000)\n",
      "Previsao Word Index: \n",
      "Palavra:  <OOV>\n"
     ]
    }
   ],
   "source": [
    "texto = \"In the July 9 episode of EssentiallySports Think Tank\"\n",
    "sequencia_predict = np.array(tokenizer.texts_to_sequences( [texto] ))\n",
    "print(\"sequencia_predict: \", sequencia_predict)\n",
    "sequencia_predict_padded = pad_sequences( sequencia_predict, maxlen=max_size_entrada, padding=\"pre\", value=0 )\n",
    "print(\"sequencia_predict_padded:\", sequencia_predict_padded)\n",
    "previsao = modelo.predict( [sequencia_predict_padded] )\n",
    "print(\"Previsao: \", previsao)\n",
    "print(\"Previsao Shape: \", previsao.shape)\n",
    "word_index = np.argmax(previsao)\n",
    "print(\"Previsao Word Index: \", )\n",
    "\n",
    "for item in vocabulario.items():\n",
    "    if item[1] == word_index:\n",
    "        print(\"Palavra: \", item[0])\n",
    "        break\n"
   ]
  },
  {
   "cell_type": "code",
   "execution_count": null,
   "id": "fd70ffd5-a16e-4ae7-90f4-d782c68e70fc",
   "metadata": {},
   "outputs": [],
   "source": []
  }
 ],
 "metadata": {
  "kernelspec": {
   "display_name": "Python [conda env:base] *",
   "language": "python",
   "name": "conda-base-py"
  },
  "language_info": {
   "codemirror_mode": {
    "name": "ipython",
    "version": 3
   },
   "file_extension": ".py",
   "mimetype": "text/x-python",
   "name": "python",
   "nbconvert_exporter": "python",
   "pygments_lexer": "ipython3",
   "version": "3.12.7"
  }
 },
 "nbformat": 4,
 "nbformat_minor": 5
}
