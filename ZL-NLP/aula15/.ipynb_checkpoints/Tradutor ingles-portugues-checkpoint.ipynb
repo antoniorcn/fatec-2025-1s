{
 "cells": [
  {
   "cell_type": "code",
   "execution_count": 1,
   "id": "8591ad29-f205-4376-80e1-714776047443",
   "metadata": {},
   "outputs": [],
   "source": [
    "from typing import List, Tuple"
   ]
  },
  {
   "cell_type": "code",
   "execution_count": 2,
   "id": "84e832b9-92c6-4e05-b8ae-02c6f349cb47",
   "metadata": {},
   "outputs": [],
   "source": [
    "import numpy as np\n",
    "import tensorflow as tf"
   ]
  },
  {
   "cell_type": "code",
   "execution_count": 74,
   "id": "0e756659-01ee-48f9-9e84-c826486baf60",
   "metadata": {},
   "outputs": [],
   "source": [
    "from tensorflow.keras.preprocessing.text import Tokenizer\n",
    "from tensorflow.keras.utils import pad_sequences, to_categorical"
   ]
  },
  {
   "cell_type": "code",
   "execution_count": 4,
   "id": "4269c3bc-6cd7-4c5e-9af4-a6ecd9777432",
   "metadata": {},
   "outputs": [],
   "source": [
    "pares : List[ Tuple[str, str] ] = [\n",
    "    (\"Hello\", \"Olá\"),\n",
    "    (\"Good morning\", \"Bom dia\"),\n",
    "    (\"Good afternoon\", \"Boa tarde\"),\n",
    "    (\"Good evening\", \"Boa noite\"),\n",
    "    (\"Good night\", \"Boa noite\"),\n",
    "    (\"How are you?\", \"Como você está?\"),\n",
    "    (\"I'm fine, thank you.\", \"Estou bem, obrigado.\"),\n",
    "    (\"What's your name?\", \"Qual é o seu nome?\"),\n",
    "    (\"My name is John.\", \"Meu nome é John.\"),\n",
    "    (\"Nice to meet you.\", \"Prazer em conhecê-lo.\"),\n",
    "    (\"Please\", \"Por favor\"),\n",
    "    (\"Thank you\", \"Obrigado\"),\n",
    "    (\"You're welcome\", \"De nada\"),\n",
    "    (\"Excuse me\", \"Com licença\"),\n",
    "    (\"I'm sorry\", \"Desculpe\"),\n",
    "    (\"Yes\", \"Sim\"),\n",
    "    (\"No\", \"Não\"),\n",
    "    (\"Maybe\", \"Talvez\"),\n",
    "    (\"I don't know\", \"Eu não sei\"),\n",
    "    (\"I understand\", \"Eu entendo\"),\n",
    "    (\"I don't understand\", \"Eu não entendo\"),\n",
    "    (\"Can you help me?\", \"Você pode me ajudar?\"),\n",
    "    (\"Where is the bathroom?\", \"Onde fica o banheiro?\"),\n",
    "    (\"How much does it cost?\", \"Quanto custa?\"),\n",
    "    (\"I would like a coffee.\", \"Eu gostaria de um café.\"),\n",
    "    (\"Do you speak English?\", \"Você fala inglês?\"),\n",
    "    (\"I speak a little Portuguese.\", \"Eu falo um pouco de português.\"),\n",
    "    (\"What time is it?\", \"Que horas são?\"),\n",
    "    (\"I'm hungry.\", \"Estou com fome.\"),\n",
    "    (\"I'm thirsty.\", \"Estou com sede.\"),\n",
    "    (\"I'm tired.\", \"Estou cansado.\"),\n",
    "    (\"I need a doctor.\", \"Eu preciso de um médico.\"),\n",
    "    (\"Call the police!\", \"Chame a polícia!\"),\n",
    "    (\"I love you.\", \"Eu te amo.\"),\n",
    "    (\"Congratulations!\", \"Parabéns!\"),\n",
    "    (\"Happy birthday!\", \"Feliz aniversário!\"),\n",
    "    (\"Merry Christmas!\", \"Feliz Natal!\"),\n",
    "    (\"Happy New Year!\", \"Feliz Ano Novo!\"),\n",
    "    (\"Good luck!\", \"Boa sorte!\"),\n",
    "    (\"Have a nice day!\", \"Tenha um bom dia!\"),\n",
    "    (\"See you later.\", \"Até mais.\"),\n",
    "    (\"Goodbye\", \"Adeus\"),\n",
    "    (\"What's your phone number?\", \"Qual é o seu número de telefone?\"),\n",
    "    (\"Where do you live?\", \"Onde você mora?\"),\n",
    "    (\"I live in São Paulo.\", \"Eu moro em São Paulo.\"),\n",
    "    (\"I'm from Brazil.\", \"Eu sou do Brasil.\"),\n",
    "    (\"What do you do?\", \"O que você faz?\"),\n",
    "    (\"I'm a teacher.\", \"Eu sou professor.\"),\n",
    "    (\"I work in an office.\", \"Eu trabalho em um escritório.\"),\n",
    "    (\"I'm a student.\", \"Eu sou estudante.\"),\n",
    "    (\"I like to read books.\", \"Eu gosto de ler livros.\"),\n",
    "    (\"I enjoy listening to music.\", \"Eu gosto de ouvir música.\"),\n",
    "    (\"I like to travel.\", \"Eu gosto de viajar.\"),\n",
    "    (\"What's your favorite food?\", \"Qual é a sua comida favorita?\"),\n",
    "    (\"I like pizza.\", \"Eu gosto de pizza.\"),\n",
    "    (\"Do you have any pets?\", \"Você tem animais de estimação?\"),\n",
    "    (\"I have a dog.\", \"Eu tenho um cachorro.\"),\n",
    "    (\"I don't have any pets.\", \"Eu não tenho animais de estimação.\"),\n",
    "    (\"What's your favorite color?\", \"Qual é a sua cor favorita?\"),\n",
    "    (\"My favorite color is blue.\", \"Minha cor favorita é azul.\"),\n",
    "    (\"Do you like sports?\", \"Você gosta de esportes?\"),\n",
    "    (\"I like soccer.\", \"Eu gosto de futebol.\"),\n",
    "    (\"I don't like sports.\", \"Eu não gosto de esportes.\"),\n",
    "    (\"What did you do yesterday?\", \"O que você fez ontem?\"),\n",
    "    (\"I went to the movies.\", \"Eu fui ao cinema.\"),\n",
    "    (\"I stayed at home.\", \"Eu fiquei em casa.\"),\n",
    "    (\"What are you doing now?\", \"O que você está fazendo agora?\"),\n",
    "    (\"I'm studying English.\", \"Estou estudando inglês.\"),\n",
    "    (\"I'm watching TV.\", \"Estou assistindo TV.\"),\n",
    "    (\"Do you have brothers or sisters?\", \"Você tem irmãos ou irmãs?\"),\n",
    "    (\"I have one brother.\", \"Eu tenho um irmão.\"),\n",
    "    (\"I have two sisters.\", \"Eu tenho duas irmãs.\"),\n",
    "    (\"I'm an only child.\", \"Eu sou filho único.\"),\n",
    "    (\"What time do you wake up?\", \"A que horas você acorda?\"),\n",
    "    (\"I wake up at 7 a.m.\", \"Eu acordo às 7 da manhã.\"),\n",
    "    (\"What time do you go to bed?\", \"A que horas você vai dormir?\"),\n",
    "    (\"I go to bed at 10 p.m.\", \"Eu vou dormir às 10 da noite.\"),\n",
    "    (\"Do you like to cook?\", \"Você gosta de cozinhar?\"),\n",
    "    (\"Yes, I love cooking.\", \"Sim, eu adoro cozinhar.\"),\n",
    "    (\"No, I don't like to cook.\", \"Não, eu não gosto de cozinhar.\"),\n",
    "    (\"What's your favorite movie?\", \"Qual é o seu filme favorito?\"),\n",
    "    (\"I like action movies.\", \"Eu gosto de filmes de ação.\"),\n",
    "    (\"I prefer comedies.\", \"Eu prefiro comédias.\"),\n",
    "    (\"Do you play any instruments?\", \"Você toca algum instrumento?\"),\n",
    "    (\"I play the guitar.\", \"Eu toco violão.\"),\n",
    "    (\"I don't play any instruments.\", \"Eu não toco nenhum instrumento.\"),\n",
    "    (\"What's the weather like?\", \"Como está o tempo?\"),\n",
    "    (\"It's sunny.\", \"Está ensolarado.\"),\n",
    "    (\"It's raining.\", \"Está chovendo.\"),\n",
    "    (\"It's cold.\", \"Está frio.\"),\n",
    "    (\"It's hot.\", \"Está quente.\"),\n",
    "    (\"Do you like reading?\", \"Você gosta de ler?\"),\n",
    "    (\"Yes, I read every day.\", \"Sim, eu leio todos os dias.\"),\n",
    "    (\"No, I prefer watching movies.\", \"Não, eu prefiro assistir filmes.\"),\n",
    "    (\"What's your favorite book?\", \"Qual é o seu livro favorito?\"),\n",
    "    (\"I like mystery novels.\", \"Eu gosto de romances de mistério.\"),\n",
    "    (\"I enjoy science fiction.\", \"Eu gosto de ficção científica.\"),\n",
    "    (\"Can you drive?\", \"Você sabe dirigir?\"),\n",
    "    (\"Yes, I have a driver's license.\", \"Sim, eu tenho carteira de motorista.\"),\n",
    "    (\"No, I don't drive.\", \"Não, eu não dirijo.\"),\n",
    "    (\"Do you like coffee or tea?\", \"Você gosta de café ou chá?\"),\n",
    "    (\"I prefer coffee.\", \"Eu prefiro café.\"),\n",
    "    (\"I like both.\", \"Eu gosto dos dois.\"),\n",
    "    (\"I don't like either.\", \"Eu não gosto de nenhum.\"),\n",
    "]"
   ]
  },
  {
   "cell_type": "code",
   "execution_count": 5,
   "id": "f2828fbe-c981-4386-a1c3-0dd6a3992454",
   "metadata": {},
   "outputs": [],
   "source": [
    "textos_ingles : List[str ] = []\n",
    "textos_portugues : List[ str ] = []"
   ]
  },
  {
   "cell_type": "code",
   "execution_count": 6,
   "id": "3dac2172-2c83-4b2f-973b-8c73dd90073f",
   "metadata": {},
   "outputs": [],
   "source": [
    "for par in pares:\n",
    "    textos_ingles.append(par[0])\n",
    "    textos_portugues.append(\"<BOS> \" + par[1] + \" <EOS>\")"
   ]
  },
  {
   "cell_type": "code",
   "execution_count": 7,
   "id": "f751e31c-b6f9-4844-bd80-17fcc117995f",
   "metadata": {},
   "outputs": [],
   "source": [
    "tokenizer_ingles = Tokenizer()\n",
    "tokenizer_ingles.fit_on_texts( textos_ingles )\n",
    "vocabulario_ingles = tokenizer_ingles.word_index"
   ]
  },
  {
   "cell_type": "code",
   "execution_count": 8,
   "id": "f362307e-c3bb-4dd5-bcc3-f57030e6224a",
   "metadata": {},
   "outputs": [],
   "source": [
    "tokenizer_portugues = Tokenizer()\n",
    "tokenizer_portugues.fit_on_texts( textos_portugues )\n",
    "vocabulario_portugues = tokenizer_portugues.word_index"
   ]
  },
  {
   "cell_type": "code",
   "execution_count": 9,
   "id": "e845dcf3-d4bc-4740-9b57-b4de072887d6",
   "metadata": {},
   "outputs": [
    {
     "name": "stdout",
     "output_type": "stream",
     "text": [
      "['Hello', 'Good morning', 'Good afternoon', 'Good evening', 'Good night']\n",
      "[[62], [13, 63], [13, 64], [13, 65], [13, 66]]\n"
     ]
    }
   ],
   "source": [
    "sequencias_ingles = tokenizer_ingles.texts_to_sequences( textos_ingles )\n",
    "print(textos_ingles[0:5])\n",
    "print(sequencias_ingles[0:5])"
   ]
  },
  {
   "cell_type": "code",
   "execution_count": 10,
   "id": "b98eb0cd-e281-46f2-99e9-0195c8b4bd7b",
   "metadata": {},
   "outputs": [
    {
     "name": "stdout",
     "output_type": "stream",
     "text": [
      "['<BOS> Olá <EOS>', '<BOS> Bom dia <EOS>', '<BOS> Boa tarde <EOS>', '<BOS> Boa noite <EOS>', '<BOS> Boa noite <EOS>']\n",
      "[[1, 57, 2], [1, 31, 32, 2], [1, 17, 58, 2], [1, 17, 23, 2], [1, 17, 23, 2]]\n"
     ]
    }
   ],
   "source": [
    "sequencias_portugues = tokenizer_portugues.texts_to_sequences( textos_portugues )\n",
    "print(textos_portugues[0:5])\n",
    "print(sequencias_portugues[0:5])"
   ]
  },
  {
   "cell_type": "code",
   "execution_count": 24,
   "id": "c3f9a90a-c30f-453d-b386-3e4c6f6a50f5",
   "metadata": {},
   "outputs": [
    {
     "data": {
      "text/plain": [
       "9"
      ]
     },
     "execution_count": 24,
     "metadata": {},
     "output_type": "execute_result"
    }
   ],
   "source": [
    "maximo_palavras = 0\n",
    "for seq in sequencias_ingles:\n",
    "    if len(seq) > maximo_palavras:\n",
    "        maximo_palavras = len(seq)\n",
    "\n",
    "for seq in sequencias_portugues:\n",
    "    if len(seq) > maximo_palavras:\n",
    "        maximo_palavras = len(seq)\n",
    "maximo_palavras"
   ]
  },
  {
   "cell_type": "code",
   "execution_count": 36,
   "id": "bf7f351d-84f6-4d73-bc60-ab4d956382d8",
   "metadata": {},
   "outputs": [
    {
     "data": {
      "text/plain": [
       "array([[ 0,  0,  0,  0,  0,  0,  0,  0,  0,  0,  0,  0,  0,  0,  0,  0,\n",
       "         0,  1, 57,  2]])"
      ]
     },
     "execution_count": 36,
     "metadata": {},
     "output_type": "execute_result"
    }
   ],
   "source": [
    "# x = [[1, 57, 2]]\n",
    "# pad_sequences( x, maxlen=20, padding=\"pre\" )"
   ]
  },
  {
   "cell_type": "code",
   "execution_count": 44,
   "id": "e9de5fe1-0109-4d8d-b94f-ddeb48b5df40",
   "metadata": {},
   "outputs": [
    {
     "name": "stdout",
     "output_type": "stream",
     "text": [
      "[[62], [13, 63], [13, 64]]\n",
      "[[ 0  0  0  0  0  0  0  0 62]\n",
      " [ 0  0  0  0  0  0  0 13 63]\n",
      " [ 0  0  0  0  0  0  0 13 64]]\n"
     ]
    }
   ],
   "source": [
    "encoder_entrada_dados = pad_sequences(sequencias_ingles, maxlen=maximo_palavras, padding=\"pre\")\n",
    "print(sequencias_ingles[0:3])\n",
    "print(encoder_entrada_dados[0:3])"
   ]
  },
  {
   "cell_type": "code",
   "execution_count": 58,
   "id": "7e124f22-738e-4c68-bc11-450c9354e6a9",
   "metadata": {},
   "outputs": [],
   "source": [
    "# for seq in sequencias_portugues[0:5]:\n",
    "#    print(seq[:-1])\n",
    "\n",
    "# [seq[:-1] for seq in sequencias_portugues]"
   ]
  },
  {
   "cell_type": "code",
   "execution_count": 64,
   "id": "0c78f9a6-8fcb-45d3-baf6-e108cbdc518c",
   "metadata": {},
   "outputs": [
    {
     "name": "stdout",
     "output_type": "stream",
     "text": [
      "[[1, 57, 2], [1, 31, 32, 2], [1, 17, 58, 2]]\n",
      "[[ 0  0  0  0  0  0  0  1 57]\n",
      " [ 0  0  0  0  0  0  1 31 32]\n",
      " [ 0  0  0  0  0  0  1 17 58]]\n",
      "[[1, 57, 2], [1, 31, 32, 2], [1, 17, 58, 2]]\n",
      "[[ 0  0  0  0  0  0  0 57  2]\n",
      " [ 0  0  0  0  0  0 31 32  2]\n",
      " [ 0  0  0  0  0  0 17 58  2]]\n"
     ]
    }
   ],
   "source": [
    "decoder_entrada_dados = pad_sequences([seq[:-1] for seq in sequencias_portugues], maxlen=maximo_palavras, padding=\"pre\")\n",
    "print(sequencias_portugues[0:3])\n",
    "print(decoder_entrada_dados[0:3])\n",
    "decoder_saida_dados = pad_sequences([seq[1:] for seq in sequencias_portugues], maxlen=maximo_palavras, padding=\"pre\")\n",
    "print(sequencias_portugues[0:3])\n",
    "print(decoder_saida_dados[0:3])"
   ]
  },
  {
   "cell_type": "code",
   "execution_count": 72,
   "id": "345933cf-1e40-44bd-bfd6-dd4442216510",
   "metadata": {},
   "outputs": [
    {
     "data": {
      "text/plain": [
       "178"
      ]
     },
     "execution_count": 72,
     "metadata": {},
     "output_type": "execute_result"
    }
   ],
   "source": [
    "len(tokenizer_portugues.word_index)\n"
   ]
  },
  {
   "cell_type": "code",
   "execution_count": null,
   "id": "79d97509-1652-4205-b081-a30adea70649",
   "metadata": {},
   "outputs": [],
   "source": [
    "#    0     1       2       3      ...  177\n",
    "# [0.05, 0.008, 0.0003, 0.0001, ...., 0.07]  # len => 178"
   ]
  },
  {
   "cell_type": "code",
   "execution_count": null,
   "id": "ec355b55-22ba-4fa6-b374-985fb4d088d8",
   "metadata": {},
   "outputs": [],
   "source": [
    "# [ 0  0  0  0  0  0  0 57  2]\n",
    "#      0  1  2  3  4  5  6  7  ... 57 ... 176 177\n",
    "# [ \n",
    "#     [1, 0, 0, 0, 0, 0, 0, 0 ..........., 0,  0],\n",
    "#     [1, 0, 0, 0, 0, 0, 0, 0 ..........., 0,  0],\n",
    "#     [1, 0, 0, 0, 0, 0, 0, 0 ..........., 0,  0],\n",
    "#     [1, 0, 0, 0, 0, 0, 0, 0 ..........., 0,  0],\n",
    "#     [1, 0, 0, 0, 0, 0, 0, 0 ..........., 0,  0],\n",
    "#     [1, 0, 0, 0, 0, 0, 0, 0 ..........., 0,  0],\n",
    "#     [1, 0, 0, 0, 0, 0, 0, 0 ..........., 0,  0],\n",
    "#     [0, 0, 0, 0, 0, 0, 0, .....,1, ...., 0,  0],\n",
    "#     [0, 0, 1, 0, 0, 0, 0, 0 ..........., 0,  0]\n",
    "# ]"
   ]
  },
  {
   "cell_type": "code",
   "execution_count": 82,
   "id": "f7f5d3a2-f560-4a57-9e5f-f41cf54dfa89",
   "metadata": {},
   "outputs": [],
   "source": [
    "quantidade_classes_dicionario = len(vocabulario_portugues) + 1"
   ]
  },
  {
   "cell_type": "code",
   "execution_count": 84,
   "id": "3b28798b-f494-4ce4-9342-d9454ea04809",
   "metadata": {},
   "outputs": [
    {
     "name": "stdout",
     "output_type": "stream",
     "text": [
      "[[ 0  0  0  0  0  0  0 57  2]\n",
      " [ 0  0  0  0  0  0 31 32  2]]\n",
      "[[[1. 0. 0. ... 0. 0. 0.]\n",
      "  [1. 0. 0. ... 0. 0. 0.]\n",
      "  [1. 0. 0. ... 0. 0. 0.]\n",
      "  ...\n",
      "  [1. 0. 0. ... 0. 0. 0.]\n",
      "  [0. 0. 0. ... 0. 0. 0.]\n",
      "  [0. 0. 1. ... 0. 0. 0.]]\n",
      "\n",
      " [[1. 0. 0. ... 0. 0. 0.]\n",
      "  [1. 0. 0. ... 0. 0. 0.]\n",
      "  [1. 0. 0. ... 0. 0. 0.]\n",
      "  ...\n",
      "  [0. 0. 0. ... 0. 0. 0.]\n",
      "  [0. 0. 0. ... 0. 0. 0.]\n",
      "  [0. 0. 1. ... 0. 0. 0.]]]\n"
     ]
    }
   ],
   "source": [
    "decoder_saida_dados_onehot = to_categorical(decoder_saida_dados, num_classes=quantidade_classes_dicionario)\n",
    "print(decoder_saida_dados[0:2])\n",
    "print(decoder_saida_dados_onehot[0:2])"
   ]
  },
  {
   "cell_type": "code",
   "execution_count": null,
   "id": "46942838-357d-4b32-a583-6f3342bfafe8",
   "metadata": {},
   "outputs": [],
   "source": []
  }
 ],
 "metadata": {
  "kernelspec": {
   "display_name": "Python [conda env:base] *",
   "language": "python",
   "name": "conda-base-py"
  },
  "language_info": {
   "codemirror_mode": {
    "name": "ipython",
    "version": 3
   },
   "file_extension": ".py",
   "mimetype": "text/x-python",
   "name": "python",
   "nbconvert_exporter": "python",
   "pygments_lexer": "ipython3",
   "version": "3.12.7"
  }
 },
 "nbformat": 4,
 "nbformat_minor": 5
}
