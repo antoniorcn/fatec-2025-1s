{
 "cells": [
  {
   "cell_type": "code",
   "execution_count": 1,
   "id": "8591ad29-f205-4376-80e1-714776047443",
   "metadata": {},
   "outputs": [],
   "source": [
    "from typing import List, Tuple"
   ]
  },
  {
   "cell_type": "code",
   "execution_count": 2,
   "id": "84e832b9-92c6-4e05-b8ae-02c6f349cb47",
   "metadata": {},
   "outputs": [],
   "source": [
    "import numpy as np\n",
    "import tensorflow as tf"
   ]
  },
  {
   "cell_type": "code",
   "execution_count": 74,
   "id": "0e756659-01ee-48f9-9e84-c826486baf60",
   "metadata": {},
   "outputs": [],
   "source": [
    "from tensorflow.keras.preprocessing.text import Tokenizer\n",
    "from tensorflow.keras.utils import pad_sequences, to_categorical"
   ]
  },
  {
   "cell_type": "code",
   "execution_count": 88,
   "id": "75dff7a9-273b-4af3-b184-6595e84a5b9a",
   "metadata": {},
   "outputs": [],
   "source": [
    "from tensorflow.keras.layers import Input, Embedding, LSTM, Dense\n",
    "from tensorflow.keras.models import Model"
   ]
  },
  {
   "cell_type": "code",
   "execution_count": 116,
   "id": "5115dcea-1b17-4d5c-a96b-07a9b7629874",
   "metadata": {},
   "outputs": [],
   "source": [
    "import matplotlib.pyplot as plt"
   ]
  },
  {
   "cell_type": "code",
   "execution_count": 4,
   "id": "4269c3bc-6cd7-4c5e-9af4-a6ecd9777432",
   "metadata": {},
   "outputs": [],
   "source": [
    "pares : List[ Tuple[str, str] ] = [\n",
    "    (\"Hello\", \"Olá\"),\n",
    "    (\"Good morning\", \"Bom dia\"),\n",
    "    (\"Good afternoon\", \"Boa tarde\"),\n",
    "    (\"Good evening\", \"Boa noite\"),\n",
    "    (\"Good night\", \"Boa noite\"),\n",
    "    (\"How are you?\", \"Como você está?\"),\n",
    "    (\"I'm fine, thank you.\", \"Estou bem, obrigado.\"),\n",
    "    (\"What's your name?\", \"Qual é o seu nome?\"),\n",
    "    (\"My name is John.\", \"Meu nome é John.\"),\n",
    "    (\"Nice to meet you.\", \"Prazer em conhecê-lo.\"),\n",
    "    (\"Please\", \"Por favor\"),\n",
    "    (\"Thank you\", \"Obrigado\"),\n",
    "    (\"You're welcome\", \"De nada\"),\n",
    "    (\"Excuse me\", \"Com licença\"),\n",
    "    (\"I'm sorry\", \"Desculpe\"),\n",
    "    (\"Yes\", \"Sim\"),\n",
    "    (\"No\", \"Não\"),\n",
    "    (\"Maybe\", \"Talvez\"),\n",
    "    (\"I don't know\", \"Eu não sei\"),\n",
    "    (\"I understand\", \"Eu entendo\"),\n",
    "    (\"I don't understand\", \"Eu não entendo\"),\n",
    "    (\"Can you help me?\", \"Você pode me ajudar?\"),\n",
    "    (\"Where is the bathroom?\", \"Onde fica o banheiro?\"),\n",
    "    (\"How much does it cost?\", \"Quanto custa?\"),\n",
    "    (\"I would like a coffee.\", \"Eu gostaria de um café.\"),\n",
    "    (\"Do you speak English?\", \"Você fala inglês?\"),\n",
    "    (\"I speak a little Portuguese.\", \"Eu falo um pouco de português.\"),\n",
    "    (\"What time is it?\", \"Que horas são?\"),\n",
    "    (\"I'm hungry.\", \"Estou com fome.\"),\n",
    "    (\"I'm thirsty.\", \"Estou com sede.\"),\n",
    "    (\"I'm tired.\", \"Estou cansado.\"),\n",
    "    (\"I need a doctor.\", \"Eu preciso de um médico.\"),\n",
    "    (\"Call the police!\", \"Chame a polícia!\"),\n",
    "    (\"I love you.\", \"Eu te amo.\"),\n",
    "    (\"Congratulations!\", \"Parabéns!\"),\n",
    "    (\"Happy birthday!\", \"Feliz aniversário!\"),\n",
    "    (\"Merry Christmas!\", \"Feliz Natal!\"),\n",
    "    (\"Happy New Year!\", \"Feliz Ano Novo!\"),\n",
    "    (\"Good luck!\", \"Boa sorte!\"),\n",
    "    (\"Have a nice day!\", \"Tenha um bom dia!\"),\n",
    "    (\"See you later.\", \"Até mais.\"),\n",
    "    (\"Goodbye\", \"Adeus\"),\n",
    "    (\"What's your phone number?\", \"Qual é o seu número de telefone?\"),\n",
    "    (\"Where do you live?\", \"Onde você mora?\"),\n",
    "    (\"I live in São Paulo.\", \"Eu moro em São Paulo.\"),\n",
    "    (\"I'm from Brazil.\", \"Eu sou do Brasil.\"),\n",
    "    (\"What do you do?\", \"O que você faz?\"),\n",
    "    (\"I'm a teacher.\", \"Eu sou professor.\"),\n",
    "    (\"I work in an office.\", \"Eu trabalho em um escritório.\"),\n",
    "    (\"I'm a student.\", \"Eu sou estudante.\"),\n",
    "    (\"I like to read books.\", \"Eu gosto de ler livros.\"),\n",
    "    (\"I enjoy listening to music.\", \"Eu gosto de ouvir música.\"),\n",
    "    (\"I like to travel.\", \"Eu gosto de viajar.\"),\n",
    "    (\"What's your favorite food?\", \"Qual é a sua comida favorita?\"),\n",
    "    (\"I like pizza.\", \"Eu gosto de pizza.\"),\n",
    "    (\"Do you have any pets?\", \"Você tem animais de estimação?\"),\n",
    "    (\"I have a dog.\", \"Eu tenho um cachorro.\"),\n",
    "    (\"I don't have any pets.\", \"Eu não tenho animais de estimação.\"),\n",
    "    (\"What's your favorite color?\", \"Qual é a sua cor favorita?\"),\n",
    "    (\"My favorite color is blue.\", \"Minha cor favorita é azul.\"),\n",
    "    (\"Do you like sports?\", \"Você gosta de esportes?\"),\n",
    "    (\"I like soccer.\", \"Eu gosto de futebol.\"),\n",
    "    (\"I don't like sports.\", \"Eu não gosto de esportes.\"),\n",
    "    (\"What did you do yesterday?\", \"O que você fez ontem?\"),\n",
    "    (\"I went to the movies.\", \"Eu fui ao cinema.\"),\n",
    "    (\"I stayed at home.\", \"Eu fiquei em casa.\"),\n",
    "    (\"What are you doing now?\", \"O que você está fazendo agora?\"),\n",
    "    (\"I'm studying English.\", \"Estou estudando inglês.\"),\n",
    "    (\"I'm watching TV.\", \"Estou assistindo TV.\"),\n",
    "    (\"Do you have brothers or sisters?\", \"Você tem irmãos ou irmãs?\"),\n",
    "    (\"I have one brother.\", \"Eu tenho um irmão.\"),\n",
    "    (\"I have two sisters.\", \"Eu tenho duas irmãs.\"),\n",
    "    (\"I'm an only child.\", \"Eu sou filho único.\"),\n",
    "    (\"What time do you wake up?\", \"A que horas você acorda?\"),\n",
    "    (\"I wake up at 7 a.m.\", \"Eu acordo às 7 da manhã.\"),\n",
    "    (\"What time do you go to bed?\", \"A que horas você vai dormir?\"),\n",
    "    (\"I go to bed at 10 p.m.\", \"Eu vou dormir às 10 da noite.\"),\n",
    "    (\"Do you like to cook?\", \"Você gosta de cozinhar?\"),\n",
    "    (\"Yes, I love cooking.\", \"Sim, eu adoro cozinhar.\"),\n",
    "    (\"No, I don't like to cook.\", \"Não, eu não gosto de cozinhar.\"),\n",
    "    (\"What's your favorite movie?\", \"Qual é o seu filme favorito?\"),\n",
    "    (\"I like action movies.\", \"Eu gosto de filmes de ação.\"),\n",
    "    (\"I prefer comedies.\", \"Eu prefiro comédias.\"),\n",
    "    (\"Do you play any instruments?\", \"Você toca algum instrumento?\"),\n",
    "    (\"I play the guitar.\", \"Eu toco violão.\"),\n",
    "    (\"I don't play any instruments.\", \"Eu não toco nenhum instrumento.\"),\n",
    "    (\"What's the weather like?\", \"Como está o tempo?\"),\n",
    "    (\"It's sunny.\", \"Está ensolarado.\"),\n",
    "    (\"It's raining.\", \"Está chovendo.\"),\n",
    "    (\"It's cold.\", \"Está frio.\"),\n",
    "    (\"It's hot.\", \"Está quente.\"),\n",
    "    (\"Do you like reading?\", \"Você gosta de ler?\"),\n",
    "    (\"Yes, I read every day.\", \"Sim, eu leio todos os dias.\"),\n",
    "    (\"No, I prefer watching movies.\", \"Não, eu prefiro assistir filmes.\"),\n",
    "    (\"What's your favorite book?\", \"Qual é o seu livro favorito?\"),\n",
    "    (\"I like mystery novels.\", \"Eu gosto de romances de mistério.\"),\n",
    "    (\"I enjoy science fiction.\", \"Eu gosto de ficção científica.\"),\n",
    "    (\"Can you drive?\", \"Você sabe dirigir?\"),\n",
    "    (\"Yes, I have a driver's license.\", \"Sim, eu tenho carteira de motorista.\"),\n",
    "    (\"No, I don't drive.\", \"Não, eu não dirijo.\"),\n",
    "    (\"Do you like coffee or tea?\", \"Você gosta de café ou chá?\"),\n",
    "    (\"I prefer coffee.\", \"Eu prefiro café.\"),\n",
    "    (\"I like both.\", \"Eu gosto dos dois.\"),\n",
    "    (\"I don't like either.\", \"Eu não gosto de nenhum.\"),\n",
    "]"
   ]
  },
  {
   "cell_type": "code",
   "execution_count": 5,
   "id": "f2828fbe-c981-4386-a1c3-0dd6a3992454",
   "metadata": {},
   "outputs": [],
   "source": [
    "textos_ingles : List[str ] = []\n",
    "textos_portugues : List[ str ] = []"
   ]
  },
  {
   "cell_type": "code",
   "execution_count": 6,
   "id": "3dac2172-2c83-4b2f-973b-8c73dd90073f",
   "metadata": {},
   "outputs": [],
   "source": [
    "for par in pares:\n",
    "    textos_ingles.append(par[0])\n",
    "    textos_portugues.append(\"<BOS> \" + par[1] + \" <EOS>\")"
   ]
  },
  {
   "cell_type": "code",
   "execution_count": 7,
   "id": "f751e31c-b6f9-4844-bd80-17fcc117995f",
   "metadata": {},
   "outputs": [],
   "source": [
    "tokenizer_ingles = Tokenizer()\n",
    "tokenizer_ingles.fit_on_texts( textos_ingles )\n",
    "vocabulario_ingles = tokenizer_ingles.word_index"
   ]
  },
  {
   "cell_type": "code",
   "execution_count": 8,
   "id": "f362307e-c3bb-4dd5-bcc3-f57030e6224a",
   "metadata": {},
   "outputs": [],
   "source": [
    "tokenizer_portugues = Tokenizer()\n",
    "tokenizer_portugues.fit_on_texts( textos_portugues )\n",
    "vocabulario_portugues = tokenizer_portugues.word_index"
   ]
  },
  {
   "cell_type": "code",
   "execution_count": 9,
   "id": "e845dcf3-d4bc-4740-9b57-b4de072887d6",
   "metadata": {},
   "outputs": [
    {
     "name": "stdout",
     "output_type": "stream",
     "text": [
      "['Hello', 'Good morning', 'Good afternoon', 'Good evening', 'Good night']\n",
      "[[62], [13, 63], [13, 64], [13, 65], [13, 66]]\n"
     ]
    }
   ],
   "source": [
    "sequencias_ingles = tokenizer_ingles.texts_to_sequences( textos_ingles )\n",
    "print(textos_ingles[0:5])\n",
    "print(sequencias_ingles[0:5])"
   ]
  },
  {
   "cell_type": "code",
   "execution_count": 10,
   "id": "b98eb0cd-e281-46f2-99e9-0195c8b4bd7b",
   "metadata": {},
   "outputs": [
    {
     "name": "stdout",
     "output_type": "stream",
     "text": [
      "['<BOS> Olá <EOS>', '<BOS> Bom dia <EOS>', '<BOS> Boa tarde <EOS>', '<BOS> Boa noite <EOS>', '<BOS> Boa noite <EOS>']\n",
      "[[1, 57, 2], [1, 31, 32, 2], [1, 17, 58, 2], [1, 17, 23, 2], [1, 17, 23, 2]]\n"
     ]
    }
   ],
   "source": [
    "sequencias_portugues = tokenizer_portugues.texts_to_sequences( textos_portugues )\n",
    "print(textos_portugues[0:5])\n",
    "print(sequencias_portugues[0:5])"
   ]
  },
  {
   "cell_type": "code",
   "execution_count": 24,
   "id": "c3f9a90a-c30f-453d-b386-3e4c6f6a50f5",
   "metadata": {},
   "outputs": [
    {
     "data": {
      "text/plain": [
       "9"
      ]
     },
     "execution_count": 24,
     "metadata": {},
     "output_type": "execute_result"
    }
   ],
   "source": [
    "maximo_palavras = 0\n",
    "for seq in sequencias_ingles:\n",
    "    if len(seq) > maximo_palavras:\n",
    "        maximo_palavras = len(seq)\n",
    "\n",
    "for seq in sequencias_portugues:\n",
    "    if len(seq) > maximo_palavras:\n",
    "        maximo_palavras = len(seq)\n",
    "maximo_palavras"
   ]
  },
  {
   "cell_type": "code",
   "execution_count": 36,
   "id": "bf7f351d-84f6-4d73-bc60-ab4d956382d8",
   "metadata": {},
   "outputs": [
    {
     "data": {
      "text/plain": [
       "array([[ 0,  0,  0,  0,  0,  0,  0,  0,  0,  0,  0,  0,  0,  0,  0,  0,\n",
       "         0,  1, 57,  2]])"
      ]
     },
     "execution_count": 36,
     "metadata": {},
     "output_type": "execute_result"
    }
   ],
   "source": [
    "# x = [[1, 57, 2]]\n",
    "# pad_sequences( x, maxlen=20, padding=\"pre\" )"
   ]
  },
  {
   "cell_type": "code",
   "execution_count": 44,
   "id": "e9de5fe1-0109-4d8d-b94f-ddeb48b5df40",
   "metadata": {},
   "outputs": [
    {
     "name": "stdout",
     "output_type": "stream",
     "text": [
      "[[62], [13, 63], [13, 64]]\n",
      "[[ 0  0  0  0  0  0  0  0 62]\n",
      " [ 0  0  0  0  0  0  0 13 63]\n",
      " [ 0  0  0  0  0  0  0 13 64]]\n"
     ]
    }
   ],
   "source": [
    "encoder_entrada_dados = pad_sequences(sequencias_ingles, maxlen=maximo_palavras, padding=\"pre\")\n",
    "print(sequencias_ingles[0:3])\n",
    "print(encoder_entrada_dados[0:3])"
   ]
  },
  {
   "cell_type": "code",
   "execution_count": 58,
   "id": "7e124f22-738e-4c68-bc11-450c9354e6a9",
   "metadata": {},
   "outputs": [],
   "source": [
    "# for seq in sequencias_portugues[0:5]:\n",
    "#    print(seq[:-1])\n",
    "\n",
    "# [seq[:-1] for seq in sequencias_portugues]"
   ]
  },
  {
   "cell_type": "code",
   "execution_count": 64,
   "id": "0c78f9a6-8fcb-45d3-baf6-e108cbdc518c",
   "metadata": {},
   "outputs": [
    {
     "name": "stdout",
     "output_type": "stream",
     "text": [
      "[[1, 57, 2], [1, 31, 32, 2], [1, 17, 58, 2]]\n",
      "[[ 0  0  0  0  0  0  0  1 57]\n",
      " [ 0  0  0  0  0  0  1 31 32]\n",
      " [ 0  0  0  0  0  0  1 17 58]]\n",
      "[[1, 57, 2], [1, 31, 32, 2], [1, 17, 58, 2]]\n",
      "[[ 0  0  0  0  0  0  0 57  2]\n",
      " [ 0  0  0  0  0  0 31 32  2]\n",
      " [ 0  0  0  0  0  0 17 58  2]]\n"
     ]
    }
   ],
   "source": [
    "decoder_entrada_dados = pad_sequences([seq[:-1] for seq in sequencias_portugues], maxlen=maximo_palavras, padding=\"pre\")\n",
    "print(sequencias_portugues[0:3])\n",
    "print(decoder_entrada_dados[0:3])\n",
    "decoder_saida_dados = pad_sequences([seq[1:] for seq in sequencias_portugues], maxlen=maximo_palavras, padding=\"pre\")\n",
    "print(sequencias_portugues[0:3])\n",
    "print(decoder_saida_dados[0:3])"
   ]
  },
  {
   "cell_type": "code",
   "execution_count": 72,
   "id": "345933cf-1e40-44bd-bfd6-dd4442216510",
   "metadata": {},
   "outputs": [
    {
     "data": {
      "text/plain": [
       "178"
      ]
     },
     "execution_count": 72,
     "metadata": {},
     "output_type": "execute_result"
    }
   ],
   "source": [
    "len(tokenizer_portugues.word_index)\n"
   ]
  },
  {
   "cell_type": "code",
   "execution_count": null,
   "id": "79d97509-1652-4205-b081-a30adea70649",
   "metadata": {},
   "outputs": [],
   "source": [
    "#    0     1       2       3      ...  177\n",
    "# [0.05, 0.008, 0.0003, 0.0001, ...., 0.07]  # len => 178"
   ]
  },
  {
   "cell_type": "code",
   "execution_count": null,
   "id": "ec355b55-22ba-4fa6-b374-985fb4d088d8",
   "metadata": {},
   "outputs": [],
   "source": [
    "# [ 0  0  0  0  0  0  0 57  2]\n",
    "#      0  1  2  3  4  5  6  7  ... 57 ... 176 177\n",
    "# [ \n",
    "#     [1, 0, 0, 0, 0, 0, 0, 0 ..........., 0,  0],\n",
    "#     [1, 0, 0, 0, 0, 0, 0, 0 ..........., 0,  0],\n",
    "#     [1, 0, 0, 0, 0, 0, 0, 0 ..........., 0,  0],\n",
    "#     [1, 0, 0, 0, 0, 0, 0, 0 ..........., 0,  0],\n",
    "#     [1, 0, 0, 0, 0, 0, 0, 0 ..........., 0,  0],\n",
    "#     [1, 0, 0, 0, 0, 0, 0, 0 ..........., 0,  0],\n",
    "#     [1, 0, 0, 0, 0, 0, 0, 0 ..........., 0,  0],\n",
    "#     [0, 0, 0, 0, 0, 0, 0, .....,1, ...., 0,  0],\n",
    "#     [0, 0, 1, 0, 0, 0, 0, 0 ..........., 0,  0]\n",
    "# ]"
   ]
  },
  {
   "cell_type": "code",
   "execution_count": 94,
   "id": "f7f5d3a2-f560-4a57-9e5f-f41cf54dfa89",
   "metadata": {},
   "outputs": [],
   "source": [
    "quantidade_classes_dicionario_portugues = len(vocabulario_portugues) + 1\n",
    "quantidade_classes_dicionario_ingles = len(vocabulario_ingles) + 1"
   ]
  },
  {
   "cell_type": "code",
   "execution_count": 92,
   "id": "3b28798b-f494-4ce4-9342-d9454ea04809",
   "metadata": {},
   "outputs": [
    {
     "name": "stdout",
     "output_type": "stream",
     "text": [
      "[[ 0  0  0  0  0  0  0 57  2]\n",
      " [ 0  0  0  0  0  0 31 32  2]]\n",
      "[[[1. 0. 0. ... 0. 0. 0.]\n",
      "  [1. 0. 0. ... 0. 0. 0.]\n",
      "  [1. 0. 0. ... 0. 0. 0.]\n",
      "  ...\n",
      "  [1. 0. 0. ... 0. 0. 0.]\n",
      "  [0. 0. 0. ... 0. 0. 0.]\n",
      "  [0. 0. 1. ... 0. 0. 0.]]\n",
      "\n",
      " [[1. 0. 0. ... 0. 0. 0.]\n",
      "  [1. 0. 0. ... 0. 0. 0.]\n",
      "  [1. 0. 0. ... 0. 0. 0.]\n",
      "  ...\n",
      "  [0. 0. 0. ... 0. 0. 0.]\n",
      "  [0. 0. 0. ... 0. 0. 0.]\n",
      "  [0. 0. 1. ... 0. 0. 0.]]]\n"
     ]
    }
   ],
   "source": [
    "decoder_saida_dados_onehot = to_categorical(decoder_saida_dados, num_classes=quantidade_classes_dicionario_portugues)\n",
    "print(decoder_saida_dados[0:2])\n",
    "print(decoder_saida_dados_onehot[0:2])"
   ]
  },
  {
   "cell_type": "code",
   "execution_count": 100,
   "id": "b35ea5d8-b147-4d2d-a7dc-ca353daf7a2e",
   "metadata": {},
   "outputs": [],
   "source": [
    "embedding_output_dimensions = 100\n",
    "lstm_nodes = 200"
   ]
  },
  {
   "cell_type": "code",
   "execution_count": 102,
   "id": "46942838-357d-4b32-a583-6f3342bfafe8",
   "metadata": {},
   "outputs": [],
   "source": [
    "encoder_entrada_layer = Input( shape=(None, ) )\n",
    "encoder_embd_layer = Embedding( input_dim=quantidade_classes_dicionario_ingles, output_dim=embedding_output_dimensions)\n",
    "encoder_embd = encoder_embd_layer( encoder_entrada_layer )\n",
    "encoder_lstm_layer = LSTM( lstm_nodes, return_state = True )\n",
    "encoder_lstm_result, state_h, state_c = encoder_lstm_layer( encoder_embd )\n",
    "encoder_states = [state_h, state_c]"
   ]
  },
  {
   "cell_type": "code",
   "execution_count": 106,
   "id": "6b0d81ab-6e66-4002-b83c-1d61cabb84cd",
   "metadata": {},
   "outputs": [],
   "source": [
    "decoder_entrada_layer = Input( shape=(None, ) )\n",
    "decoder_embd_layer = Embedding( input_dim=quantidade_classes_dicionario_portugues, output_dim=embedding_output_dimensions)\n",
    "decoder_embd = decoder_embd_layer( decoder_entrada_layer )\n",
    "decoder_lstm_layer = LSTM( lstm_nodes, return_state = True, return_sequences = True )\n",
    "decoder_lstm_result, _, _ = decoder_lstm_layer( decoder_embd, initial_state = encoder_states )\n",
    "decoder_saida_layer = Dense(quantidade_classes_dicionario_portugues, activation=\"softmax\" )\n",
    "decoder_saida = decoder_saida_layer( decoder_lstm_result )"
   ]
  },
  {
   "cell_type": "code",
   "execution_count": 110,
   "id": "9654c111-5ada-4ce4-bca4-45b9ef30cdce",
   "metadata": {},
   "outputs": [],
   "source": [
    "model_treinamento = Model( [encoder_entrada_layer, decoder_entrada_layer], decoder_saida )"
   ]
  },
  {
   "cell_type": "code",
   "execution_count": 112,
   "id": "1cb9f472-b11a-4351-9cad-e4076d49e149",
   "metadata": {},
   "outputs": [],
   "source": [
    "model_treinamento.compile( optimizer = \"adam\", loss=\"categorical_crossentropy\", metrics=[\"accuracy\"])"
   ]
  },
  {
   "cell_type": "code",
   "execution_count": 114,
   "id": "056b8f41-89fd-41c9-98ce-2ac4862ab729",
   "metadata": {},
   "outputs": [
    {
     "name": "stdout",
     "output_type": "stream",
     "text": [
      "Epoch 1/50\n",
      "\u001b[1m11/11\u001b[0m \u001b[32m━━━━━━━━━━━━━━━━━━━━\u001b[0m\u001b[37m\u001b[0m \u001b[1m7s\u001b[0m 106ms/step - accuracy: 0.3450 - loss: 5.0021 - val_accuracy: 0.4286 - val_loss: 3.5293\n",
      "Epoch 2/50\n",
      "\u001b[1m11/11\u001b[0m \u001b[32m━━━━━━━━━━━━━━━━━━━━\u001b[0m\u001b[37m\u001b[0m \u001b[1m0s\u001b[0m 34ms/step - accuracy: 0.5050 - loss: 2.8868 - val_accuracy: 0.5397 - val_loss: 2.7112\n",
      "Epoch 3/50\n",
      "\u001b[1m11/11\u001b[0m \u001b[32m━━━━━━━━━━━━━━━━━━━━\u001b[0m\u001b[37m\u001b[0m \u001b[1m1s\u001b[0m 95ms/step - accuracy: 0.6168 - loss: 2.2443 - val_accuracy: 0.5397 - val_loss: 2.6166\n",
      "Epoch 4/50\n",
      "\u001b[1m11/11\u001b[0m \u001b[32m━━━━━━━━━━━━━━━━━━━━\u001b[0m\u001b[37m\u001b[0m \u001b[1m1s\u001b[0m 61ms/step - accuracy: 0.5655 - loss: 2.2809 - val_accuracy: 0.5397 - val_loss: 2.6028\n",
      "Epoch 5/50\n",
      "\u001b[1m11/11\u001b[0m \u001b[32m━━━━━━━━━━━━━━━━━━━━\u001b[0m\u001b[37m\u001b[0m \u001b[1m1s\u001b[0m 45ms/step - accuracy: 0.5812 - loss: 2.1135 - val_accuracy: 0.5397 - val_loss: 2.4989\n",
      "Epoch 6/50\n",
      "\u001b[1m11/11\u001b[0m \u001b[32m━━━━━━━━━━━━━━━━━━━━\u001b[0m\u001b[37m\u001b[0m \u001b[1m0s\u001b[0m 37ms/step - accuracy: 0.5981 - loss: 1.9664 - val_accuracy: 0.5820 - val_loss: 2.4579\n",
      "Epoch 7/50\n",
      "\u001b[1m11/11\u001b[0m \u001b[32m━━━━━━━━━━━━━━━━━━━━\u001b[0m\u001b[37m\u001b[0m \u001b[1m1s\u001b[0m 45ms/step - accuracy: 0.6536 - loss: 1.7427 - val_accuracy: 0.6032 - val_loss: 2.4123\n",
      "Epoch 8/50\n",
      "\u001b[1m11/11\u001b[0m \u001b[32m━━━━━━━━━━━━━━━━━━━━\u001b[0m\u001b[37m\u001b[0m \u001b[1m0s\u001b[0m 37ms/step - accuracy: 0.6359 - loss: 1.8363 - val_accuracy: 0.6138 - val_loss: 2.4188\n",
      "Epoch 9/50\n",
      "\u001b[1m11/11\u001b[0m \u001b[32m━━━━━━━━━━━━━━━━━━━━\u001b[0m\u001b[37m\u001b[0m \u001b[1m1s\u001b[0m 45ms/step - accuracy: 0.6549 - loss: 1.7246 - val_accuracy: 0.6190 - val_loss: 2.4060\n",
      "Epoch 10/50\n",
      "\u001b[1m11/11\u001b[0m \u001b[32m━━━━━━━━━━━━━━━━━━━━\u001b[0m\u001b[37m\u001b[0m \u001b[1m1s\u001b[0m 43ms/step - accuracy: 0.6304 - loss: 1.7704 - val_accuracy: 0.6085 - val_loss: 2.4429\n",
      "Epoch 11/50\n",
      "\u001b[1m11/11\u001b[0m \u001b[32m━━━━━━━━━━━━━━━━━━━━\u001b[0m\u001b[37m\u001b[0m \u001b[1m0s\u001b[0m 42ms/step - accuracy: 0.6759 - loss: 1.5253 - val_accuracy: 0.6190 - val_loss: 2.4184\n",
      "Epoch 12/50\n",
      "\u001b[1m11/11\u001b[0m \u001b[32m━━━━━━━━━━━━━━━━━━━━\u001b[0m\u001b[37m\u001b[0m \u001b[1m1s\u001b[0m 42ms/step - accuracy: 0.6599 - loss: 1.5306 - val_accuracy: 0.6349 - val_loss: 2.4561\n",
      "Epoch 13/50\n",
      "\u001b[1m11/11\u001b[0m \u001b[32m━━━━━━━━━━━━━━━━━━━━\u001b[0m\u001b[37m\u001b[0m \u001b[1m1s\u001b[0m 43ms/step - accuracy: 0.6897 - loss: 1.3924 - val_accuracy: 0.6243 - val_loss: 2.4733\n",
      "Epoch 14/50\n",
      "\u001b[1m11/11\u001b[0m \u001b[32m━━━━━━━━━━━━━━━━━━━━\u001b[0m\u001b[37m\u001b[0m \u001b[1m0s\u001b[0m 40ms/step - accuracy: 0.6779 - loss: 1.4299 - val_accuracy: 0.6349 - val_loss: 2.5272\n",
      "Epoch 15/50\n",
      "\u001b[1m11/11\u001b[0m \u001b[32m━━━━━━━━━━━━━━━━━━━━\u001b[0m\u001b[37m\u001b[0m \u001b[1m1s\u001b[0m 43ms/step - accuracy: 0.6610 - loss: 1.4311 - val_accuracy: 0.6349 - val_loss: 2.5179\n",
      "Epoch 16/50\n",
      "\u001b[1m11/11\u001b[0m \u001b[32m━━━━━━━━━━━━━━━━━━━━\u001b[0m\u001b[37m\u001b[0m \u001b[1m0s\u001b[0m 42ms/step - accuracy: 0.6759 - loss: 1.3400 - val_accuracy: 0.6349 - val_loss: 2.5260\n",
      "Epoch 17/50\n",
      "\u001b[1m11/11\u001b[0m \u001b[32m━━━━━━━━━━━━━━━━━━━━\u001b[0m\u001b[37m\u001b[0m \u001b[1m1s\u001b[0m 48ms/step - accuracy: 0.6940 - loss: 1.2841 - val_accuracy: 0.6349 - val_loss: 2.5380\n",
      "Epoch 18/50\n",
      "\u001b[1m11/11\u001b[0m \u001b[32m━━━━━━━━━━━━━━━━━━━━\u001b[0m\u001b[37m\u001b[0m \u001b[1m0s\u001b[0m 40ms/step - accuracy: 0.6819 - loss: 1.2906 - val_accuracy: 0.6349 - val_loss: 2.5485\n",
      "Epoch 19/50\n",
      "\u001b[1m11/11\u001b[0m \u001b[32m━━━━━━━━━━━━━━━━━━━━\u001b[0m\u001b[37m\u001b[0m \u001b[1m1s\u001b[0m 50ms/step - accuracy: 0.6996 - loss: 1.1867 - val_accuracy: 0.6402 - val_loss: 2.5953\n",
      "Epoch 20/50\n",
      "\u001b[1m11/11\u001b[0m \u001b[32m━━━━━━━━━━━━━━━━━━━━\u001b[0m\u001b[37m\u001b[0m \u001b[1m1s\u001b[0m 43ms/step - accuracy: 0.6957 - loss: 1.2301 - val_accuracy: 0.6402 - val_loss: 2.5865\n",
      "Epoch 21/50\n",
      "\u001b[1m11/11\u001b[0m \u001b[32m━━━━━━━━━━━━━━━━━━━━\u001b[0m\u001b[37m\u001b[0m \u001b[1m1s\u001b[0m 41ms/step - accuracy: 0.7039 - loss: 1.2132 - val_accuracy: 0.6402 - val_loss: 2.6194\n",
      "Epoch 22/50\n",
      "\u001b[1m11/11\u001b[0m \u001b[32m━━━━━━━━━━━━━━━━━━━━\u001b[0m\u001b[37m\u001b[0m \u001b[1m0s\u001b[0m 39ms/step - accuracy: 0.7180 - loss: 1.1073 - val_accuracy: 0.6455 - val_loss: 2.6145\n",
      "Epoch 23/50\n",
      "\u001b[1m11/11\u001b[0m \u001b[32m━━━━━━━━━━━━━━━━━━━━\u001b[0m\u001b[37m\u001b[0m \u001b[1m1s\u001b[0m 48ms/step - accuracy: 0.7255 - loss: 1.0504 - val_accuracy: 0.6561 - val_loss: 2.6498\n",
      "Epoch 24/50\n",
      "\u001b[1m11/11\u001b[0m \u001b[32m━━━━━━━━━━━━━━━━━━━━\u001b[0m\u001b[37m\u001b[0m \u001b[1m1s\u001b[0m 45ms/step - accuracy: 0.7396 - loss: 0.9830 - val_accuracy: 0.6508 - val_loss: 2.6502\n",
      "Epoch 25/50\n",
      "\u001b[1m11/11\u001b[0m \u001b[32m━━━━━━━━━━━━━━━━━━━━\u001b[0m\u001b[37m\u001b[0m \u001b[1m1s\u001b[0m 40ms/step - accuracy: 0.7186 - loss: 1.0381 - val_accuracy: 0.6508 - val_loss: 2.6516\n",
      "Epoch 26/50\n",
      "\u001b[1m11/11\u001b[0m \u001b[32m━━━━━━━━━━━━━━━━━━━━\u001b[0m\u001b[37m\u001b[0m \u001b[1m1s\u001b[0m 53ms/step - accuracy: 0.7512 - loss: 0.9648 - val_accuracy: 0.6561 - val_loss: 2.6831\n",
      "Epoch 27/50\n",
      "\u001b[1m11/11\u001b[0m \u001b[32m━━━━━━━━━━━━━━━━━━━━\u001b[0m\u001b[37m\u001b[0m \u001b[1m1s\u001b[0m 45ms/step - accuracy: 0.7341 - loss: 0.9676 - val_accuracy: 0.6561 - val_loss: 2.6928\n",
      "Epoch 28/50\n",
      "\u001b[1m11/11\u001b[0m \u001b[32m━━━━━━━━━━━━━━━━━━━━\u001b[0m\u001b[37m\u001b[0m \u001b[1m1s\u001b[0m 58ms/step - accuracy: 0.7572 - loss: 0.9047 - val_accuracy: 0.6455 - val_loss: 2.6991\n",
      "Epoch 29/50\n",
      "\u001b[1m11/11\u001b[0m \u001b[32m━━━━━━━━━━━━━━━━━━━━\u001b[0m\u001b[37m\u001b[0m \u001b[1m1s\u001b[0m 47ms/step - accuracy: 0.7771 - loss: 0.8540 - val_accuracy: 0.6614 - val_loss: 2.7075\n",
      "Epoch 30/50\n",
      "\u001b[1m11/11\u001b[0m \u001b[32m━━━━━━━━━━━━━━━━━━━━\u001b[0m\u001b[37m\u001b[0m \u001b[1m1s\u001b[0m 43ms/step - accuracy: 0.7858 - loss: 0.8149 - val_accuracy: 0.6508 - val_loss: 2.7434\n",
      "Epoch 31/50\n",
      "\u001b[1m11/11\u001b[0m \u001b[32m━━━━━━━━━━━━━━━━━━━━\u001b[0m\u001b[37m\u001b[0m \u001b[1m1s\u001b[0m 45ms/step - accuracy: 0.7918 - loss: 0.8034 - val_accuracy: 0.6614 - val_loss: 2.7303\n",
      "Epoch 32/50\n",
      "\u001b[1m11/11\u001b[0m \u001b[32m━━━━━━━━━━━━━━━━━━━━\u001b[0m\u001b[37m\u001b[0m \u001b[1m0s\u001b[0m 41ms/step - accuracy: 0.8044 - loss: 0.8188 - val_accuracy: 0.6614 - val_loss: 2.7370\n",
      "Epoch 33/50\n",
      "\u001b[1m11/11\u001b[0m \u001b[32m━━━━━━━━━━━━━━━━━━━━\u001b[0m\u001b[37m\u001b[0m \u001b[1m1s\u001b[0m 49ms/step - accuracy: 0.7927 - loss: 0.7668 - val_accuracy: 0.6455 - val_loss: 2.7460\n",
      "Epoch 34/50\n",
      "\u001b[1m11/11\u001b[0m \u001b[32m━━━━━━━━━━━━━━━━━━━━\u001b[0m\u001b[37m\u001b[0m \u001b[1m1s\u001b[0m 41ms/step - accuracy: 0.8287 - loss: 0.7127 - val_accuracy: 0.6561 - val_loss: 2.7775\n",
      "Epoch 35/50\n",
      "\u001b[1m11/11\u001b[0m \u001b[32m━━━━━━━━━━━━━━━━━━━━\u001b[0m\u001b[37m\u001b[0m \u001b[1m1s\u001b[0m 50ms/step - accuracy: 0.8265 - loss: 0.6955 - val_accuracy: 0.6614 - val_loss: 2.7695\n",
      "Epoch 36/50\n",
      "\u001b[1m11/11\u001b[0m \u001b[32m━━━━━━━━━━━━━━━━━━━━\u001b[0m\u001b[37m\u001b[0m \u001b[1m1s\u001b[0m 43ms/step - accuracy: 0.8506 - loss: 0.6566 - val_accuracy: 0.6561 - val_loss: 2.7987\n",
      "Epoch 37/50\n",
      "\u001b[1m11/11\u001b[0m \u001b[32m━━━━━━━━━━━━━━━━━━━━\u001b[0m\u001b[37m\u001b[0m \u001b[1m1s\u001b[0m 47ms/step - accuracy: 0.8530 - loss: 0.6221 - val_accuracy: 0.6614 - val_loss: 2.8052\n",
      "Epoch 38/50\n",
      "\u001b[1m11/11\u001b[0m \u001b[32m━━━━━━━━━━━━━━━━━━━━\u001b[0m\u001b[37m\u001b[0m \u001b[1m1s\u001b[0m 47ms/step - accuracy: 0.8533 - loss: 0.5990 - val_accuracy: 0.6614 - val_loss: 2.8149\n",
      "Epoch 39/50\n",
      "\u001b[1m11/11\u001b[0m \u001b[32m━━━━━━━━━━━━━━━━━━━━\u001b[0m\u001b[37m\u001b[0m \u001b[1m1s\u001b[0m 46ms/step - accuracy: 0.8770 - loss: 0.5804 - val_accuracy: 0.6667 - val_loss: 2.8314\n",
      "Epoch 40/50\n",
      "\u001b[1m11/11\u001b[0m \u001b[32m━━━━━━━━━━━━━━━━━━━━\u001b[0m\u001b[37m\u001b[0m \u001b[1m1s\u001b[0m 54ms/step - accuracy: 0.8752 - loss: 0.5730 - val_accuracy: 0.6825 - val_loss: 2.8369\n",
      "Epoch 41/50\n",
      "\u001b[1m11/11\u001b[0m \u001b[32m━━━━━━━━━━━━━━━━━━━━\u001b[0m\u001b[37m\u001b[0m \u001b[1m1s\u001b[0m 54ms/step - accuracy: 0.8780 - loss: 0.5483 - val_accuracy: 0.6878 - val_loss: 2.8476\n",
      "Epoch 42/50\n",
      "\u001b[1m11/11\u001b[0m \u001b[32m━━━━━━━━━━━━━━━━━━━━\u001b[0m\u001b[37m\u001b[0m \u001b[1m1s\u001b[0m 49ms/step - accuracy: 0.8787 - loss: 0.5282 - val_accuracy: 0.6878 - val_loss: 2.8299\n",
      "Epoch 43/50\n",
      "\u001b[1m11/11\u001b[0m \u001b[32m━━━━━━━━━━━━━━━━━━━━\u001b[0m\u001b[37m\u001b[0m \u001b[1m1s\u001b[0m 82ms/step - accuracy: 0.8880 - loss: 0.5165 - val_accuracy: 0.6825 - val_loss: 2.8434\n",
      "Epoch 44/50\n",
      "\u001b[1m11/11\u001b[0m \u001b[32m━━━━━━━━━━━━━━━━━━━━\u001b[0m\u001b[37m\u001b[0m \u001b[1m1s\u001b[0m 53ms/step - accuracy: 0.8946 - loss: 0.4893 - val_accuracy: 0.6825 - val_loss: 2.8449\n",
      "Epoch 45/50\n",
      "\u001b[1m11/11\u001b[0m \u001b[32m━━━━━━━━━━━━━━━━━━━━\u001b[0m\u001b[37m\u001b[0m \u001b[1m1s\u001b[0m 70ms/step - accuracy: 0.9060 - loss: 0.4592 - val_accuracy: 0.6878 - val_loss: 2.8734\n",
      "Epoch 46/50\n",
      "\u001b[1m11/11\u001b[0m \u001b[32m━━━━━━━━━━━━━━━━━━━━\u001b[0m\u001b[37m\u001b[0m \u001b[1m1s\u001b[0m 42ms/step - accuracy: 0.9054 - loss: 0.4567 - val_accuracy: 0.6772 - val_loss: 2.8775\n",
      "Epoch 47/50\n",
      "\u001b[1m11/11\u001b[0m \u001b[32m━━━━━━━━━━━━━━━━━━━━\u001b[0m\u001b[37m\u001b[0m \u001b[1m0s\u001b[0m 40ms/step - accuracy: 0.9020 - loss: 0.4471 - val_accuracy: 0.6931 - val_loss: 2.8742\n",
      "Epoch 48/50\n",
      "\u001b[1m11/11\u001b[0m \u001b[32m━━━━━━━━━━━━━━━━━━━━\u001b[0m\u001b[37m\u001b[0m \u001b[1m0s\u001b[0m 39ms/step - accuracy: 0.9048 - loss: 0.4191 - val_accuracy: 0.6878 - val_loss: 2.8994\n",
      "Epoch 49/50\n",
      "\u001b[1m11/11\u001b[0m \u001b[32m━━━━━━━━━━━━━━━━━━━━\u001b[0m\u001b[37m\u001b[0m \u001b[1m0s\u001b[0m 37ms/step - accuracy: 0.9090 - loss: 0.4075 - val_accuracy: 0.6825 - val_loss: 2.8996\n",
      "Epoch 50/50\n",
      "\u001b[1m11/11\u001b[0m \u001b[32m━━━━━━━━━━━━━━━━━━━━\u001b[0m\u001b[37m\u001b[0m \u001b[1m0s\u001b[0m 39ms/step - accuracy: 0.9051 - loss: 0.3934 - val_accuracy: 0.6878 - val_loss: 2.9152\n"
     ]
    }
   ],
   "source": [
    "resultado = model_treinamento.fit( [encoder_entrada_dados, decoder_entrada_dados], decoder_saida_dados_onehot, \n",
    "                      batch_size=8, epochs=50, validation_split=0.2 )"
   ]
  },
  {
   "cell_type": "code",
   "execution_count": null,
   "id": "a8a1bc20-65d8-4801-bd55-a903092148e8",
   "metadata": {
    "scrolled": true
   },
   "outputs": [],
   "source": [
    "resultado.history"
   ]
  },
  {
   "cell_type": "code",
   "execution_count": 122,
   "id": "6af670d9-91a0-4864-a0a6-6587bfa6bd5a",
   "metadata": {},
   "outputs": [
    {
     "data": {
      "image/png": "[encoded data removed]",
      "text/plain": [
       "<Figure size 640x480 with 1 Axes>"
      ]
     },
     "metadata": {},
     "output_type": "display_data"
    }
   ],
   "source": [
    "plt.plot(resultado.history[\"loss\"], color=\"red\", label=\"Loss\")\n",
    "plt.plot(resultado.history[\"accuracy\"], color=\"green\", label=\"Acuracia\")\n",
    "plt.legend()\n",
    "plt.show()"
   ]
  },
  {
   "cell_type": "code",
   "execution_count": 124,
   "id": "dd271d47-759f-4fac-8216-9cabed4df899",
   "metadata": {},
   "outputs": [],
   "source": [
    "modelo_encoder = Model( encoder_entrada_layer, encoder_states )"
   ]
  },
  {
   "cell_type": "code",
   "execution_count": 126,
   "id": "caff2b9a-fcdf-4fe0-9ce3-6b9728ff559f",
   "metadata": {},
   "outputs": [],
   "source": [
    "decoder_state_h = Input( shape = (lstm_nodes, ) )\n",
    "decoder_state_c = Input( shape = (lstm_nodes, ) )\n",
    "decoder_states_input = [decoder_state_h, decoder_state_c]"
   ]
  },
  {
   "cell_type": "code",
   "execution_count": 128,
   "id": "d5b880a1-f83a-41af-8dfd-b46697a518fe",
   "metadata": {},
   "outputs": [],
   "source": [
    "decoder_emb2 = decoder_embd_layer( decoder_entrada_layer )"
   ]
  },
  {
   "cell_type": "code",
   "execution_count": 134,
   "id": "911f3731-f054-4627-a5a2-ce0ef5bc9cd3",
   "metadata": {},
   "outputs": [],
   "source": [
    "decoder_output, state_h2, state_c2 = decoder_lstm_layer( decoder_emb2, initial_state=decoder_states_input )\n",
    "decoder_output_states = [state_h2, state_c2]\n",
    "decoder_saida2 = decoder_saida_layer( decoder_output )"
   ]
  },
  {
   "cell_type": "code",
   "execution_count": 136,
   "id": "0a428f37-2fb5-4605-9032-a2ad38acc87f",
   "metadata": {},
   "outputs": [],
   "source": [
    "modelo_decoder = Model( [decoder_entrada_layer] + decoder_states_input, [decoder_saida2] + decoder_output_states)"
   ]
  },
  {
   "cell_type": "code",
   "execution_count": 162,
   "id": "a42f74d0-85b7-49f6-b44c-7cdbe0216be1",
   "metadata": {},
   "outputs": [],
   "source": [
    "def tradutor_ingles_portugues( texto_em_ingles ): \n",
    "    seq_ingles = tokenizer_ingles.texts_to_sequences( [texto_em_ingles] )\n",
    "    seq_ingles_padded = pad_sequences(seq_ingles, maxlen=maximo_palavras, padding=\"pre\")\n",
    "    state_value = modelo_encoder.predict( seq_ingles_padded )\n",
    "\n",
    "    texto_portugues = \"<BOS>\"\n",
    "    finalizado = False\n",
    "    while not finalizado:\n",
    "        # print(\"Gerado: \", texto_portugues)\n",
    "        target_sequence = np.array(tokenizer_portugues.texts_to_sequences( [texto_portugues] ))\n",
    "        # print(\"target_sequence: \", target_sequence)\n",
    "        target_palavra_onehot, _, _ = modelo_decoder.predict( [target_sequence] + state_value )\n",
    "        target_palavra_seq = np.argmax(target_palavra_onehot[0, -1, :])\n",
    "        target_texto_sequence = tokenizer_portugues.sequences_to_texts( [[target_palavra_seq]] )\n",
    "        if target_texto_sequence[0] == \"eos\":\n",
    "            finalizado = True\n",
    "        else:\n",
    "            texto_portugues += (\" \" + target_texto_sequence[0]) \n",
    "            # print(target_texto_sequence[0])\n",
    "    return texto_portugues\n",
    "            \n",
    "        "
   ]
  },
  {
   "cell_type": "code",
   "execution_count": 168,
   "id": "e214a96b-a047-4ca8-b0a0-f0ee8bccdf8f",
   "metadata": {},
   "outputs": [
    {
     "name": "stdout",
     "output_type": "stream",
     "text": [
      "\u001b[1m1/1\u001b[0m \u001b[32m━━━━━━━━━━━━━━━━━━━━\u001b[0m\u001b[37m\u001b[0m \u001b[1m0s\u001b[0m 54ms/step\n",
      "\u001b[1m1/1\u001b[0m \u001b[32m━━━━━━━━━━━━━━━━━━━━\u001b[0m\u001b[37m\u001b[0m \u001b[1m0s\u001b[0m 55ms/step\n",
      "\u001b[1m1/1\u001b[0m \u001b[32m━━━━━━━━━━━━━━━━━━━━\u001b[0m\u001b[37m\u001b[0m \u001b[1m0s\u001b[0m 54ms/step\n",
      "\u001b[1m1/1\u001b[0m \u001b[32m━━━━━━━━━━━━━━━━━━━━\u001b[0m\u001b[37m\u001b[0m \u001b[1m0s\u001b[0m 54ms/step\n",
      "\u001b[1m1/1\u001b[0m \u001b[32m━━━━━━━━━━━━━━━━━━━━\u001b[0m\u001b[37m\u001b[0m \u001b[1m0s\u001b[0m 53ms/step\n",
      "\u001b[1m1/1\u001b[0m \u001b[32m━━━━━━━━━━━━━━━━━━━━\u001b[0m\u001b[37m\u001b[0m \u001b[1m0s\u001b[0m 66ms/step\n",
      "\u001b[1m1/1\u001b[0m \u001b[32m━━━━━━━━━━━━━━━━━━━━\u001b[0m\u001b[37m\u001b[0m \u001b[1m0s\u001b[0m 80ms/step\n",
      "\u001b[1m1/1\u001b[0m \u001b[32m━━━━━━━━━━━━━━━━━━━━\u001b[0m\u001b[37m\u001b[0m \u001b[1m0s\u001b[0m 74ms/step\n",
      "\u001b[1m1/1\u001b[0m \u001b[32m━━━━━━━━━━━━━━━━━━━━\u001b[0m\u001b[37m\u001b[0m \u001b[1m0s\u001b[0m 72ms/step\n"
     ]
    },
    {
     "data": {
      "text/plain": [
       "'<BOS> qual é o seu número de telefone'"
      ]
     },
     "execution_count": 168,
     "metadata": {},
     "output_type": "execute_result"
    }
   ],
   "source": [
    "tradutor_ingles_portugues(\"good evening\")"
   ]
  },
  {
   "cell_type": "code",
   "execution_count": null,
   "id": "8b4f245c-ad6a-4c5e-94aa-db7d0d6b169b",
   "metadata": {},
   "outputs": [],
   "source": []
  }
 ],
 "metadata": {
  "kernelspec": {
   "display_name": "Python [conda env:base] *",
   "language": "python",
   "name": "conda-base-py"
  },
  "language_info": {
   "codemirror_mode": {
    "name": "ipython",
    "version": 3
   },
   "file_extension": ".py",
   "mimetype": "text/x-python",
   "name": "python",
   "nbconvert_exporter": "python",
   "pygments_lexer": "ipython3",
   "version": "3.12.7"
  }
 },
 "nbformat": 4,
 "nbformat_minor": 5
}
