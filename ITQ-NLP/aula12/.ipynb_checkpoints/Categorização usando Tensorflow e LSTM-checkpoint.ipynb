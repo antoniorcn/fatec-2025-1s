{
 "cells": [
  {
   "cell_type": "code",
   "execution_count": 1,
   "id": "b06a11f6-e591-4054-99db-874b604573d6",
   "metadata": {},
   "outputs": [],
   "source": [
    "import pandas as pd"
   ]
  },
  {
   "cell_type": "code",
   "execution_count": 2,
   "id": "94e7ff0d-839b-4b78-86ae-3bbade1011d9",
   "metadata": {},
   "outputs": [],
   "source": [
    "import numpy as np"
   ]
  },
  {
   "cell_type": "code",
   "execution_count": 3,
   "id": "cca06ed4-3539-4f9e-9b9b-7617fe0b72f7",
   "metadata": {},
   "outputs": [],
   "source": [
    "import tensorflow as tf"
   ]
  },
  {
   "cell_type": "code",
   "execution_count": 4,
   "id": "2ab0bc6b-657b-4412-9b7b-195ef64d1186",
   "metadata": {},
   "outputs": [],
   "source": [
    "from tensorflow.keras.preprocessing.text import Tokenizer"
   ]
  },
  {
   "cell_type": "code",
   "execution_count": 5,
   "id": "9aef21e0-0ad4-459c-a683-fb56b824aa05",
   "metadata": {},
   "outputs": [],
   "source": [
    "from tensorflow.keras.preprocessing.sequence import pad_sequences"
   ]
  },
  {
   "cell_type": "code",
   "execution_count": 6,
   "id": "53e648ba-510b-470b-80bf-d9309f88b72b",
   "metadata": {},
   "outputs": [],
   "source": [
    "from sklearn.preprocessing import LabelEncoder, OneHotEncoder"
   ]
  },
  {
   "cell_type": "code",
   "execution_count": 7,
   "id": "463d7059-4358-4199-8ab8-3f26c73657ea",
   "metadata": {},
   "outputs": [],
   "source": [
    "from sklearn.model_selection import train_test_split"
   ]
  },
  {
   "cell_type": "code",
   "execution_count": 8,
   "id": "5df4ff73-bb9a-4b63-9fb8-67078a923a84",
   "metadata": {},
   "outputs": [],
   "source": [
    "from tensorflow.keras import Sequential"
   ]
  },
  {
   "cell_type": "code",
   "execution_count": 9,
   "id": "cf38afe1-d7f8-4dd4-a3ea-02ee55a1a206",
   "metadata": {
    "scrolled": true
   },
   "outputs": [],
   "source": [
    "from tensorflow.keras.layers import Dense, Embedding, GlobalAveragePooling1D, Input, SimpleRNN, LSTM"
   ]
  },
  {
   "cell_type": "code",
   "execution_count": 10,
   "id": "c01e4dd7-8816-4f95-8e8c-cb3a3b919f13",
   "metadata": {
    "scrolled": true
   },
   "outputs": [
    {
     "data": {
      "text/html": [
       "<div>\n",
       "<style scoped>\n",
       "    .dataframe tbody tr th:only-of-type {\n",
       "        vertical-align: middle;\n",
       "    }\n",
       "\n",
       "    .dataframe tbody tr th {\n",
       "        vertical-align: top;\n",
       "    }\n",
       "\n",
       "    .dataframe thead th {\n",
       "        text-align: right;\n",
       "    }\n",
       "</style>\n",
       "<table border=\"1\" class=\"dataframe\">\n",
       "  <thead>\n",
       "    <tr style=\"text-align: right;\">\n",
       "      <th></th>\n",
       "      <th>Source</th>\n",
       "      <th>Author</th>\n",
       "      <th>Title</th>\n",
       "      <th>Description</th>\n",
       "      <th>URL</th>\n",
       "      <th>Published At</th>\n",
       "      <th>Sentiment</th>\n",
       "      <th>Type</th>\n",
       "    </tr>\n",
       "  </thead>\n",
       "  <tbody>\n",
       "    <tr>\n",
       "      <th>0</th>\n",
       "      <td>stgnews</td>\n",
       "      <td>Bridger Palmer</td>\n",
       "      <td>Pine View High teacher wins Best in State awar...</td>\n",
       "      <td>ST. GEORGE — Kaitlyn Larson, a first-year teac...</td>\n",
       "      <td>https://www.stgeorgeutah.com/news/archive/2024...</td>\n",
       "      <td>2024-07-12T23:45:25+00:00</td>\n",
       "      <td>positive</td>\n",
       "      <td>Business</td>\n",
       "    </tr>\n",
       "    <tr>\n",
       "      <th>1</th>\n",
       "      <td>Zimbabwe Mail</td>\n",
       "      <td>Staff Reporter</td>\n",
       "      <td>Businesses Face Financial Strain Amid Liquidit...</td>\n",
       "      <td>Harare, Zimbabwe – Local businesses are grappl...</td>\n",
       "      <td>https://www.thezimbabwemail.com/business/busin...</td>\n",
       "      <td>2024-07-12T22:59:42+00:00</td>\n",
       "      <td>neutral</td>\n",
       "      <td>Business</td>\n",
       "    </tr>\n",
       "    <tr>\n",
       "      <th>2</th>\n",
       "      <td>4-traders</td>\n",
       "      <td>NaN</td>\n",
       "      <td>Musk donates to super pac working to elect Tru...</td>\n",
       "      <td>(marketscreener.com) Billionaire Elon Musk has...</td>\n",
       "      <td>https://www.marketscreener.com/business-leader...</td>\n",
       "      <td>2024-07-12T22:52:55+00:00</td>\n",
       "      <td>positive</td>\n",
       "      <td>Business</td>\n",
       "    </tr>\n",
       "    <tr>\n",
       "      <th>3</th>\n",
       "      <td>4-traders</td>\n",
       "      <td>NaN</td>\n",
       "      <td>US FTC issues warning to franchisors over unfa...</td>\n",
       "      <td>(marketscreener.com) A U.S. trade regulator on...</td>\n",
       "      <td>https://www.marketscreener.com/quote/stock/MCD...</td>\n",
       "      <td>2024-07-12T22:41:01+00:00</td>\n",
       "      <td>negative</td>\n",
       "      <td>Business</td>\n",
       "    </tr>\n",
       "    <tr>\n",
       "      <th>4</th>\n",
       "      <td>PLANET</td>\n",
       "      <td>NaN</td>\n",
       "      <td>Rooftop solar's dark side</td>\n",
       "      <td>4.5 million households in the U.S. have solar ...</td>\n",
       "      <td>https://www.npr.org/2024/07/12/1197961036/roof...</td>\n",
       "      <td>2024-07-12T22:28:19+00:00</td>\n",
       "      <td>positive</td>\n",
       "      <td>Business</td>\n",
       "    </tr>\n",
       "    <tr>\n",
       "      <th>...</th>\n",
       "      <td>...</td>\n",
       "      <td>...</td>\n",
       "      <td>...</td>\n",
       "      <td>...</td>\n",
       "      <td>...</td>\n",
       "      <td>...</td>\n",
       "      <td>...</td>\n",
       "      <td>...</td>\n",
       "    </tr>\n",
       "    <tr>\n",
       "      <th>3495</th>\n",
       "      <td>etfdailynews</td>\n",
       "      <td>MarketBeat News</td>\n",
       "      <td>Arrow Electronics, Inc. (NYSE:ARW) Shares Purc...</td>\n",
       "      <td>QRG Capital Management Inc. increased its stak...</td>\n",
       "      <td>https://www.etfdailynews.com/2024/07/18/arrow-...</td>\n",
       "      <td>2024-07-18T14:36:45+00:00</td>\n",
       "      <td>positive</td>\n",
       "      <td>Technology</td>\n",
       "    </tr>\n",
       "    <tr>\n",
       "      <th>3496</th>\n",
       "      <td>etfdailynews</td>\n",
       "      <td>MarketBeat News</td>\n",
       "      <td>3,120 Shares in NICE Ltd. (NASDAQ:NICE) Bought...</td>\n",
       "      <td>QRG Capital Management Inc. bought a new posit...</td>\n",
       "      <td>https://www.etfdailynews.com/2024/07/18/3120-s...</td>\n",
       "      <td>2024-07-18T14:36:44+00:00</td>\n",
       "      <td>positive</td>\n",
       "      <td>Technology</td>\n",
       "    </tr>\n",
       "    <tr>\n",
       "      <th>3497</th>\n",
       "      <td>etfdailynews</td>\n",
       "      <td>MarketBeat News</td>\n",
       "      <td>QRG Capital Management Inc. Has $857,000 Stock...</td>\n",
       "      <td>QRG Capital Management Inc. boosted its stake ...</td>\n",
       "      <td>https://www.etfdailynews.com/2024/07/18/qrg-ca...</td>\n",
       "      <td>2024-07-18T14:36:43+00:00</td>\n",
       "      <td>positive</td>\n",
       "      <td>Technology</td>\n",
       "    </tr>\n",
       "    <tr>\n",
       "      <th>3498</th>\n",
       "      <td>finanznachrichten</td>\n",
       "      <td>NaN</td>\n",
       "      <td>Biotechnology Market: Surging Investments and ...</td>\n",
       "      <td>WESTFORD, Mass., July 18, 2024 /PRNewswire/ --...</td>\n",
       "      <td>https://www.finanznachrichten.de/nachrichten-2...</td>\n",
       "      <td>2024-07-18T14:36:00+00:00</td>\n",
       "      <td>neutral</td>\n",
       "      <td>Technology</td>\n",
       "    </tr>\n",
       "    <tr>\n",
       "      <th>3499</th>\n",
       "      <td>etfdailynews</td>\n",
       "      <td>MarketBeat News</td>\n",
       "      <td>QRG Capital Management Inc. Sells 1,665 Shares...</td>\n",
       "      <td>QRG Capital Management Inc. reduced its holdin...</td>\n",
       "      <td>https://www.etfdailynews.com/2024/07/18/qrg-ca...</td>\n",
       "      <td>2024-07-18T14:32:46+00:00</td>\n",
       "      <td>positive</td>\n",
       "      <td>Technology</td>\n",
       "    </tr>\n",
       "  </tbody>\n",
       "</table>\n",
       "<p>3500 rows × 8 columns</p>\n",
       "</div>"
      ],
      "text/plain": [
       "                 Source           Author  \\\n",
       "0               stgnews   Bridger Palmer   \n",
       "1         Zimbabwe Mail   Staff Reporter   \n",
       "2             4-traders              NaN   \n",
       "3             4-traders              NaN   \n",
       "4                PLANET              NaN   \n",
       "...                 ...              ...   \n",
       "3495       etfdailynews  MarketBeat News   \n",
       "3496       etfdailynews  MarketBeat News   \n",
       "3497       etfdailynews  MarketBeat News   \n",
       "3498  finanznachrichten              NaN   \n",
       "3499       etfdailynews  MarketBeat News   \n",
       "\n",
       "                                                  Title  \\\n",
       "0     Pine View High teacher wins Best in State awar...   \n",
       "1     Businesses Face Financial Strain Amid Liquidit...   \n",
       "2     Musk donates to super pac working to elect Tru...   \n",
       "3     US FTC issues warning to franchisors over unfa...   \n",
       "4                             Rooftop solar's dark side   \n",
       "...                                                 ...   \n",
       "3495  Arrow Electronics, Inc. (NYSE:ARW) Shares Purc...   \n",
       "3496  3,120 Shares in NICE Ltd. (NASDAQ:NICE) Bought...   \n",
       "3497  QRG Capital Management Inc. Has $857,000 Stock...   \n",
       "3498  Biotechnology Market: Surging Investments and ...   \n",
       "3499  QRG Capital Management Inc. Sells 1,665 Shares...   \n",
       "\n",
       "                                            Description  \\\n",
       "0     ST. GEORGE — Kaitlyn Larson, a first-year teac...   \n",
       "1     Harare, Zimbabwe – Local businesses are grappl...   \n",
       "2     (marketscreener.com) Billionaire Elon Musk has...   \n",
       "3     (marketscreener.com) A U.S. trade regulator on...   \n",
       "4     4.5 million households in the U.S. have solar ...   \n",
       "...                                                 ...   \n",
       "3495  QRG Capital Management Inc. increased its stak...   \n",
       "3496  QRG Capital Management Inc. bought a new posit...   \n",
       "3497  QRG Capital Management Inc. boosted its stake ...   \n",
       "3498  WESTFORD, Mass., July 18, 2024 /PRNewswire/ --...   \n",
       "3499  QRG Capital Management Inc. reduced its holdin...   \n",
       "\n",
       "                                                    URL  \\\n",
       "0     https://www.stgeorgeutah.com/news/archive/2024...   \n",
       "1     https://www.thezimbabwemail.com/business/busin...   \n",
       "2     https://www.marketscreener.com/business-leader...   \n",
       "3     https://www.marketscreener.com/quote/stock/MCD...   \n",
       "4     https://www.npr.org/2024/07/12/1197961036/roof...   \n",
       "...                                                 ...   \n",
       "3495  https://www.etfdailynews.com/2024/07/18/arrow-...   \n",
       "3496  https://www.etfdailynews.com/2024/07/18/3120-s...   \n",
       "3497  https://www.etfdailynews.com/2024/07/18/qrg-ca...   \n",
       "3498  https://www.finanznachrichten.de/nachrichten-2...   \n",
       "3499  https://www.etfdailynews.com/2024/07/18/qrg-ca...   \n",
       "\n",
       "                   Published At Sentiment        Type  \n",
       "0     2024-07-12T23:45:25+00:00  positive    Business  \n",
       "1     2024-07-12T22:59:42+00:00   neutral    Business  \n",
       "2     2024-07-12T22:52:55+00:00  positive    Business  \n",
       "3     2024-07-12T22:41:01+00:00  negative    Business  \n",
       "4     2024-07-12T22:28:19+00:00  positive    Business  \n",
       "...                         ...       ...         ...  \n",
       "3495  2024-07-18T14:36:45+00:00  positive  Technology  \n",
       "3496  2024-07-18T14:36:44+00:00  positive  Technology  \n",
       "3497  2024-07-18T14:36:43+00:00  positive  Technology  \n",
       "3498  2024-07-18T14:36:00+00:00   neutral  Technology  \n",
       "3499  2024-07-18T14:32:46+00:00  positive  Technology  \n",
       "\n",
       "[3500 rows x 8 columns]"
      ]
     },
     "execution_count": 10,
     "metadata": {},
     "output_type": "execute_result"
    }
   ],
   "source": [
    "df = pd.read_csv(\"../../../dados/nlp/news_sentiment_analysis.csv\", encoding=\"utf-8\")\n",
    "df"
   ]
  },
  {
   "cell_type": "code",
   "execution_count": 11,
   "id": "5ff80a05-5a70-4c67-9c81-710ad573ee19",
   "metadata": {},
   "outputs": [],
   "source": [
    "news_df = df[ [\"Description\", \"Type\"] ]\n",
    "# news_df"
   ]
  },
  {
   "cell_type": "code",
   "execution_count": 12,
   "id": "b7d5a1c0-a43e-41b1-9e22-917a5e5d0c32",
   "metadata": {},
   "outputs": [],
   "source": [
    "tokenizer = Tokenizer( num_words = 1000 )"
   ]
  },
  {
   "cell_type": "code",
   "execution_count": 13,
   "id": "c92392da-e4f0-4d65-b846-2f8385563454",
   "metadata": {},
   "outputs": [],
   "source": [
    "tokenizer.fit_on_texts( news_df[\"Description\"] )"
   ]
  },
  {
   "cell_type": "code",
   "execution_count": 14,
   "id": "4013a8ca-c6a3-4f1b-9a8f-773010f53c4e",
   "metadata": {},
   "outputs": [],
   "source": [
    "sequences = tokenizer.texts_to_sequences( news_df[\"Description\"] )"
   ]
  },
  {
   "cell_type": "code",
   "execution_count": 15,
   "id": "895d1018-6c0c-435a-a8d1-c0b3e6d2d254",
   "metadata": {},
   "outputs": [],
   "source": [
    "# sequences"
   ]
  },
  {
   "cell_type": "code",
   "execution_count": 16,
   "id": "ba1bd9b4-d766-43d7-a675-4102c9749f23",
   "metadata": {},
   "outputs": [],
   "source": [
    "# tokenizer.word_index"
   ]
  },
  {
   "cell_type": "code",
   "execution_count": 17,
   "id": "3f380f0f-af65-4329-99c7-0f1a4b9d29a8",
   "metadata": {},
   "outputs": [
    {
     "data": {
      "text/plain": [
       "80"
      ]
     },
     "execution_count": 17,
     "metadata": {},
     "output_type": "execute_result"
    }
   ],
   "source": [
    "max_palavras = 0\n",
    "for sequence in sequences:\n",
    "    if len(sequence) > max_palavras:\n",
    "        max_palavras = len(sequence)\n",
    "max_palavras        "
   ]
  },
  {
   "cell_type": "code",
   "execution_count": 75,
   "id": "114fdda4-f93d-4936-91bf-9c76957d8a42",
   "metadata": {},
   "outputs": [
    {
     "data": {
      "text/plain": [
       "array([[  0,   0,   0, ...,   3, 223,  17],\n",
       "       [  0,   0,   0, ...,   5,  81,  12],\n",
       "       [  0,   0,   0, ...,  27,  62, 430],\n",
       "       ...,\n",
       "       [  0,   0,   0, ..., 282, 216,  17],\n",
       "       [  0,   0,   0, ...,  61,   6,  93],\n",
       "       [  0,   0,   0, ...,  18,   9,  17]])"
      ]
     },
     "execution_count": 75,
     "metadata": {},
     "output_type": "execute_result"
    }
   ],
   "source": [
    "sequences_padded = pad_sequences( sequences, padding=\"pre\" )\n",
    "X = sequences_padded\n",
    "X"
   ]
  },
  {
   "cell_type": "code",
   "execution_count": 77,
   "id": "a9b6a824-3f8d-40c1-a876-4364a8d75bcc",
   "metadata": {},
   "outputs": [
    {
     "data": {
      "text/plain": [
       "array(['Business', 'Entertainment', 'General', 'Health', 'Science',\n",
       "       'Sports', 'Technology'], dtype=object)"
      ]
     },
     "execution_count": 77,
     "metadata": {},
     "output_type": "execute_result"
    }
   ],
   "source": [
    "news_df[\"Type\"].unique()"
   ]
  },
  {
   "cell_type": "markdown",
   "id": "720d2483-4a8e-4948-9c87-fd02efcc1e28",
   "metadata": {},
   "source": [
    "Business =>  [0, 0, 0, 1] \n",
    "Technology => [0, 0, 1, 0]\n",
    "Processamento => [ 0.002, 0.004, 0.9987, 0.002]"
   ]
  },
  {
   "cell_type": "markdown",
   "id": "d0312bfb-42d9-4276-8c02-a7db925308f7",
   "metadata": {},
   "source": [
    "['Business' ==> [1, 0, 0, 0, 0, 0, 0], \n",
    " 'Entertainment' ==> [0, 1, 0, 0, 0, 0, 0], \n",
    " 'General' ==> [0, 0, 1, 0, 0, 0, 0], \n",
    " 'Health' ==> [0, 0, 0, 1, 0, 0, 0], \n",
    " 'Science' ==> [0, 0, 0, 0, 1, 0, 0], \n",
    " 'Sports' ==> [0, 0, 0, 0, 0, 1, 0], \n",
    " 'Technology' ==> [0, 0, 0, 0, 0, 0, 1]]"
   ]
  },
  {
   "cell_type": "markdown",
   "id": "cac34179-1d03-4be2-97d2-33a71d659386",
   "metadata": {},
   "source": [
    "saida -> [0.5, 0.4, 0.2, 0.1, 0.8, 0.9, 0.6]\n",
    "saida calculada -> [0, 0, 0, 0, 0, 1, 0]\n",
    "saida esperada -> [0, 0, 0, 0, 0, 0, 1]\n",
    "erro -> [0, 0, 0, 0, 0, 1, -1]\n",
    "ajusta os pesos "
   ]
  },
  {
   "cell_type": "code",
   "execution_count": 82,
   "id": "2a741058-3c01-4373-a852-3f5489296c54",
   "metadata": {},
   "outputs": [],
   "source": [
    "label_encoder = LabelEncoder()"
   ]
  },
  {
   "cell_type": "code",
   "execution_count": 84,
   "id": "d0d92977-c7dc-4ffc-ba4a-754308e44328",
   "metadata": {
    "scrolled": true
   },
   "outputs": [
    {
     "data": {
      "text/plain": [
       "(3500,)"
      ]
     },
     "execution_count": 84,
     "metadata": {},
     "output_type": "execute_result"
    }
   ],
   "source": [
    "class_encoded = label_encoder.fit_transform( news_df[\"Type\"] )\n",
    "class_encoded.shape"
   ]
  },
  {
   "cell_type": "code",
   "execution_count": 86,
   "id": "b0cfcac2-8b35-4854-a36c-4054ca417f13",
   "metadata": {},
   "outputs": [
    {
     "data": {
      "text/plain": [
       "array([0, 0, 0, ..., 6, 6, 6])"
      ]
     },
     "execution_count": 86,
     "metadata": {},
     "output_type": "execute_result"
    }
   ],
   "source": [
    "class_encoded"
   ]
  },
  {
   "cell_type": "code",
   "execution_count": 88,
   "id": "dd8be5d3-18a1-4558-b56d-e6774a058f71",
   "metadata": {},
   "outputs": [],
   "source": [
    "# [[0], [0], [0], ..., [6], [6], [6]]\n",
    "class_encoded_2d = class_encoded.reshape( class_encoded.shape[0], 1 )"
   ]
  },
  {
   "cell_type": "code",
   "execution_count": 90,
   "id": "2a9f4c33-1c2b-409d-abb9-e22fd0381eb2",
   "metadata": {},
   "outputs": [],
   "source": [
    "one_hot_encoder = OneHotEncoder(sparse_output=False)"
   ]
  },
  {
   "cell_type": "code",
   "execution_count": 92,
   "id": "c0c57049-884d-4437-b501-180804ea2127",
   "metadata": {},
   "outputs": [
    {
     "data": {
      "text/plain": [
       "array([[1., 0., 0., ..., 0., 0., 0.],\n",
       "       [1., 0., 0., ..., 0., 0., 0.],\n",
       "       [1., 0., 0., ..., 0., 0., 0.],\n",
       "       ...,\n",
       "       [0., 0., 0., ..., 0., 0., 1.],\n",
       "       [0., 0., 0., ..., 0., 0., 1.],\n",
       "       [0., 0., 0., ..., 0., 0., 1.]])"
      ]
     },
     "execution_count": 92,
     "metadata": {},
     "output_type": "execute_result"
    }
   ],
   "source": [
    "Y = one_hot_encoder.fit_transform( class_encoded_2d )\n",
    "Y"
   ]
  },
  {
   "cell_type": "code",
   "execution_count": 94,
   "id": "17de7810-ab89-4b64-b903-9cbcc2451c53",
   "metadata": {},
   "outputs": [
    {
     "data": {
      "text/plain": [
       "(3500, 7)"
      ]
     },
     "execution_count": 94,
     "metadata": {},
     "output_type": "execute_result"
    }
   ],
   "source": [
    "Y.shape"
   ]
  },
  {
   "cell_type": "code",
   "execution_count": 126,
   "id": "8b3ed516-1905-40b5-873b-cf6c9a00ce0e",
   "metadata": {},
   "outputs": [
    {
     "data": {
      "text/html": [
       "<pre style=\"white-space:pre;overflow-x:auto;line-height:normal;font-family:Menlo,'DejaVu Sans Mono',consolas,'Courier New',monospace\"><span style=\"font-weight: bold\">Model: \"sequential_2\"</span>\n",
       "</pre>\n"
      ],
      "text/plain": [
       "\u001b[1mModel: \"sequential_2\"\u001b[0m\n"
      ]
     },
     "metadata": {},
     "output_type": "display_data"
    },
    {
     "data": {
      "text/html": [
       "<pre style=\"white-space:pre;overflow-x:auto;line-height:normal;font-family:Menlo,'DejaVu Sans Mono',consolas,'Courier New',monospace\">┏━━━━━━━━━━━━━━━━━━━━━━━━━━━━━━━━━━━━━━┳━━━━━━━━━━━━━━━━━━━━━━━━━━━━━┳━━━━━━━━━━━━━━━━━┓\n",
       "┃<span style=\"font-weight: bold\"> Layer (type)                         </span>┃<span style=\"font-weight: bold\"> Output Shape                </span>┃<span style=\"font-weight: bold\">         Param # </span>┃\n",
       "┡━━━━━━━━━━━━━━━━━━━━━━━━━━━━━━━━━━━━━━╇━━━━━━━━━━━━━━━━━━━━━━━━━━━━━╇━━━━━━━━━━━━━━━━━┩\n",
       "│ embedding_2 (<span style=\"color: #0087ff; text-decoration-color: #0087ff\">Embedding</span>)              │ ?                           │     <span style=\"color: #00af00; text-decoration-color: #00af00\">0</span> (unbuilt) │\n",
       "├──────────────────────────────────────┼─────────────────────────────┼─────────────────┤\n",
       "│ lstm_2 (<span style=\"color: #0087ff; text-decoration-color: #0087ff\">LSTM</span>)                        │ ?                           │     <span style=\"color: #00af00; text-decoration-color: #00af00\">0</span> (unbuilt) │\n",
       "├──────────────────────────────────────┼─────────────────────────────┼─────────────────┤\n",
       "│ dense_2 (<span style=\"color: #0087ff; text-decoration-color: #0087ff\">Dense</span>)                      │ ?                           │     <span style=\"color: #00af00; text-decoration-color: #00af00\">0</span> (unbuilt) │\n",
       "└──────────────────────────────────────┴─────────────────────────────┴─────────────────┘\n",
       "</pre>\n"
      ],
      "text/plain": [
       "┏━━━━━━━━━━━━━━━━━━━━━━━━━━━━━━━━━━━━━━┳━━━━━━━━━━━━━━━━━━━━━━━━━━━━━┳━━━━━━━━━━━━━━━━━┓\n",
       "┃\u001b[1m \u001b[0m\u001b[1mLayer (type)                        \u001b[0m\u001b[1m \u001b[0m┃\u001b[1m \u001b[0m\u001b[1mOutput Shape               \u001b[0m\u001b[1m \u001b[0m┃\u001b[1m \u001b[0m\u001b[1m        Param #\u001b[0m\u001b[1m \u001b[0m┃\n",
       "┡━━━━━━━━━━━━━━━━━━━━━━━━━━━━━━━━━━━━━━╇━━━━━━━━━━━━━━━━━━━━━━━━━━━━━╇━━━━━━━━━━━━━━━━━┩\n",
       "│ embedding_2 (\u001b[38;5;33mEmbedding\u001b[0m)              │ ?                           │     \u001b[38;5;34m0\u001b[0m (unbuilt) │\n",
       "├──────────────────────────────────────┼─────────────────────────────┼─────────────────┤\n",
       "│ lstm_2 (\u001b[38;5;33mLSTM\u001b[0m)                        │ ?                           │     \u001b[38;5;34m0\u001b[0m (unbuilt) │\n",
       "├──────────────────────────────────────┼─────────────────────────────┼─────────────────┤\n",
       "│ dense_2 (\u001b[38;5;33mDense\u001b[0m)                      │ ?                           │     \u001b[38;5;34m0\u001b[0m (unbuilt) │\n",
       "└──────────────────────────────────────┴─────────────────────────────┴─────────────────┘\n"
      ]
     },
     "metadata": {},
     "output_type": "display_data"
    },
    {
     "data": {
      "text/html": [
       "<pre style=\"white-space:pre;overflow-x:auto;line-height:normal;font-family:Menlo,'DejaVu Sans Mono',consolas,'Courier New',monospace\"><span style=\"font-weight: bold\"> Total params: </span><span style=\"color: #00af00; text-decoration-color: #00af00\">0</span> (0.00 B)\n",
       "</pre>\n"
      ],
      "text/plain": [
       "\u001b[1m Total params: \u001b[0m\u001b[38;5;34m0\u001b[0m (0.00 B)\n"
      ]
     },
     "metadata": {},
     "output_type": "display_data"
    },
    {
     "data": {
      "text/html": [
       "<pre style=\"white-space:pre;overflow-x:auto;line-height:normal;font-family:Menlo,'DejaVu Sans Mono',consolas,'Courier New',monospace\"><span style=\"font-weight: bold\"> Trainable params: </span><span style=\"color: #00af00; text-decoration-color: #00af00\">0</span> (0.00 B)\n",
       "</pre>\n"
      ],
      "text/plain": [
       "\u001b[1m Trainable params: \u001b[0m\u001b[38;5;34m0\u001b[0m (0.00 B)\n"
      ]
     },
     "metadata": {},
     "output_type": "display_data"
    },
    {
     "data": {
      "text/html": [
       "<pre style=\"white-space:pre;overflow-x:auto;line-height:normal;font-family:Menlo,'DejaVu Sans Mono',consolas,'Courier New',monospace\"><span style=\"font-weight: bold\"> Non-trainable params: </span><span style=\"color: #00af00; text-decoration-color: #00af00\">0</span> (0.00 B)\n",
       "</pre>\n"
      ],
      "text/plain": [
       "\u001b[1m Non-trainable params: \u001b[0m\u001b[38;5;34m0\u001b[0m (0.00 B)\n"
      ]
     },
     "metadata": {},
     "output_type": "display_data"
    }
   ],
   "source": [
    "modelo = Sequential()\n",
    "\n",
    "# modelo.add( Input( [max_palavras] ) )\n",
    "modelo.add( Embedding( input_dim=1000, output_dim=128 ))\n",
    "# modelo.add( GlobalAveragePooling1D() )\n",
    "modelo.add( LSTM( 20 ) )\n",
    "modelo.add( Dense( 7, activation=\"softmax\") )  # [0.2, 0.34, 0.008, 0.09, 0.7, 0.41, 0.11]\n",
    "                                               # [0,   0,    0,     0,    1,   0,    0]   ==> Science \n",
    "modelo.summary()"
   ]
  },
  {
   "cell_type": "code",
   "execution_count": 128,
   "id": "ce5a4b04-4e39-453b-b3ff-15d2115e95dd",
   "metadata": {},
   "outputs": [],
   "source": [
    "modelo.compile( optimizer=\"adam\", loss=\"categorical_crossentropy\", metrics=[\"accuracy\"])"
   ]
  },
  {
   "cell_type": "code",
   "execution_count": 130,
   "id": "fad68a80-1827-4757-83e0-9fbfb5d3a751",
   "metadata": {},
   "outputs": [],
   "source": [
    "X_train, X_test, Y_train, Y_test = train_test_split(X, Y, random_state=150)"
   ]
  },
  {
   "cell_type": "code",
   "execution_count": 132,
   "id": "5b2615a2-9263-49f5-8271-88d09b218042",
   "metadata": {},
   "outputs": [
    {
     "name": "stdout",
     "output_type": "stream",
     "text": [
      "Epoch 1/20\n",
      "\u001b[1m83/83\u001b[0m \u001b[32m━━━━━━━━━━━━━━━━━━━━\u001b[0m\u001b[37m\u001b[0m \u001b[1m6s\u001b[0m 31ms/step - accuracy: 0.3128 - loss: 1.8963\n",
      "Epoch 2/20\n",
      "\u001b[1m83/83\u001b[0m \u001b[32m━━━━━━━━━━━━━━━━━━━━\u001b[0m\u001b[37m\u001b[0m \u001b[1m3s\u001b[0m 34ms/step - accuracy: 0.6465 - loss: 1.2662\n",
      "Epoch 3/20\n",
      "\u001b[1m83/83\u001b[0m \u001b[32m━━━━━━━━━━━━━━━━━━━━\u001b[0m\u001b[37m\u001b[0m \u001b[1m3s\u001b[0m 33ms/step - accuracy: 0.8564 - loss: 0.6620\n",
      "Epoch 4/20\n",
      "\u001b[1m83/83\u001b[0m \u001b[32m━━━━━━━━━━━━━━━━━━━━\u001b[0m\u001b[37m\u001b[0m \u001b[1m3s\u001b[0m 33ms/step - accuracy: 0.9178 - loss: 0.4204\n",
      "Epoch 5/20\n",
      "\u001b[1m83/83\u001b[0m \u001b[32m━━━━━━━━━━━━━━━━━━━━\u001b[0m\u001b[37m\u001b[0m \u001b[1m5s\u001b[0m 29ms/step - accuracy: 0.9307 - loss: 0.3239\n",
      "Epoch 6/20\n",
      "\u001b[1m83/83\u001b[0m \u001b[32m━━━━━━━━━━━━━━━━━━━━\u001b[0m\u001b[37m\u001b[0m \u001b[1m3s\u001b[0m 30ms/step - accuracy: 0.9358 - loss: 0.2816\n",
      "Epoch 7/20\n",
      "\u001b[1m83/83\u001b[0m \u001b[32m━━━━━━━━━━━━━━━━━━━━\u001b[0m\u001b[37m\u001b[0m \u001b[1m3s\u001b[0m 31ms/step - accuracy: 0.9389 - loss: 0.2384\n",
      "Epoch 8/20\n",
      "\u001b[1m83/83\u001b[0m \u001b[32m━━━━━━━━━━━━━━━━━━━━\u001b[0m\u001b[37m\u001b[0m \u001b[1m3s\u001b[0m 30ms/step - accuracy: 0.9282 - loss: 0.2570\n",
      "Epoch 9/20\n",
      "\u001b[1m83/83\u001b[0m \u001b[32m━━━━━━━━━━━━━━━━━━━━\u001b[0m\u001b[37m\u001b[0m \u001b[1m3s\u001b[0m 30ms/step - accuracy: 0.9540 - loss: 0.1827\n",
      "Epoch 10/20\n",
      "\u001b[1m83/83\u001b[0m \u001b[32m━━━━━━━━━━━━━━━━━━━━\u001b[0m\u001b[37m\u001b[0m \u001b[1m3s\u001b[0m 34ms/step - accuracy: 0.9531 - loss: 0.1637\n",
      "Epoch 11/20\n",
      "\u001b[1m83/83\u001b[0m \u001b[32m━━━━━━━━━━━━━━━━━━━━\u001b[0m\u001b[37m\u001b[0m \u001b[1m2s\u001b[0m 29ms/step - accuracy: 0.9544 - loss: 0.1504\n",
      "Epoch 12/20\n",
      "\u001b[1m83/83\u001b[0m \u001b[32m━━━━━━━━━━━━━━━━━━━━\u001b[0m\u001b[37m\u001b[0m \u001b[1m3s\u001b[0m 32ms/step - accuracy: 0.9586 - loss: 0.1362\n",
      "Epoch 13/20\n",
      "\u001b[1m83/83\u001b[0m \u001b[32m━━━━━━━━━━━━━━━━━━━━\u001b[0m\u001b[37m\u001b[0m \u001b[1m2s\u001b[0m 29ms/step - accuracy: 0.9600 - loss: 0.1132\n",
      "Epoch 14/20\n",
      "\u001b[1m83/83\u001b[0m \u001b[32m━━━━━━━━━━━━━━━━━━━━\u001b[0m\u001b[37m\u001b[0m \u001b[1m2s\u001b[0m 29ms/step - accuracy: 0.9714 - loss: 0.1036\n",
      "Epoch 15/20\n",
      "\u001b[1m83/83\u001b[0m \u001b[32m━━━━━━━━━━━━━━━━━━━━\u001b[0m\u001b[37m\u001b[0m \u001b[1m3s\u001b[0m 30ms/step - accuracy: 0.9577 - loss: 0.1380\n",
      "Epoch 16/20\n",
      "\u001b[1m83/83\u001b[0m \u001b[32m━━━━━━━━━━━━━━━━━━━━\u001b[0m\u001b[37m\u001b[0m \u001b[1m2s\u001b[0m 29ms/step - accuracy: 0.9612 - loss: 0.0983\n",
      "Epoch 17/20\n",
      "\u001b[1m83/83\u001b[0m \u001b[32m━━━━━━━━━━━━━━━━━━━━\u001b[0m\u001b[37m\u001b[0m \u001b[1m2s\u001b[0m 29ms/step - accuracy: 0.9582 - loss: 0.1091\n",
      "Epoch 18/20\n",
      "\u001b[1m83/83\u001b[0m \u001b[32m━━━━━━━━━━━━━━━━━━━━\u001b[0m\u001b[37m\u001b[0m \u001b[1m2s\u001b[0m 29ms/step - accuracy: 0.9643 - loss: 0.1016\n",
      "Epoch 19/20\n",
      "\u001b[1m83/83\u001b[0m \u001b[32m━━━━━━━━━━━━━━━━━━━━\u001b[0m\u001b[37m\u001b[0m \u001b[1m2s\u001b[0m 27ms/step - accuracy: 0.9609 - loss: 0.0971\n",
      "Epoch 20/20\n",
      "\u001b[1m83/83\u001b[0m \u001b[32m━━━━━━━━━━━━━━━━━━━━\u001b[0m\u001b[37m\u001b[0m \u001b[1m3s\u001b[0m 30ms/step - accuracy: 0.9617 - loss: 0.0901\n"
     ]
    }
   ],
   "source": [
    "history_fit = modelo.fit(X_train, Y_train, epochs=20, batch_size=32)"
   ]
  },
  {
   "cell_type": "code",
   "execution_count": 142,
   "id": "49c20238-ef01-43a9-b19b-7cab842b89d7",
   "metadata": {
    "scrolled": true
   },
   "outputs": [
    {
     "data": {
      "text/plain": [
       "{'accuracy': [0.41866666078567505,\n",
       "  0.700952410697937,\n",
       "  0.8518095016479492,\n",
       "  0.909333348274231,\n",
       "  0.9264761805534363,\n",
       "  0.9394285678863525,\n",
       "  0.9386666417121887,\n",
       "  0.9348571300506592,\n",
       "  0.9523809552192688,\n",
       "  0.9554286003112793,\n",
       "  0.9569523930549622,\n",
       "  0.9569523930549622,\n",
       "  0.9546666741371155,\n",
       "  0.9588571190834045,\n",
       "  0.9577142596244812,\n",
       "  0.958476185798645,\n",
       "  0.9558095335960388,\n",
       "  0.961904764175415,\n",
       "  0.9588571190834045,\n",
       "  0.9599999785423279],\n",
       " 'loss': [1.8074675798416138,\n",
       "  1.108457326889038,\n",
       "  0.6287630796432495,\n",
       "  0.41722095012664795,\n",
       "  0.3205653429031372,\n",
       "  0.26835739612579346,\n",
       "  0.23914936184883118,\n",
       "  0.2369917929172516,\n",
       "  0.18312807381153107,\n",
       "  0.15962988138198853,\n",
       "  0.14226911962032318,\n",
       "  0.135581836104393,\n",
       "  0.13488416373729706,\n",
       "  0.1370285302400589,\n",
       "  0.12728655338287354,\n",
       "  0.10995035618543625,\n",
       "  0.10909506678581238,\n",
       "  0.09831882268190384,\n",
       "  0.10126648843288422,\n",
       "  0.09456880390644073]}"
      ]
     },
     "execution_count": 142,
     "metadata": {},
     "output_type": "execute_result"
    }
   ],
   "source": [
    "history_fit.history"
   ]
  },
  {
   "cell_type": "code",
   "execution_count": 144,
   "id": "62250fb9-dec6-441a-bffb-536af23a9125",
   "metadata": {},
   "outputs": [],
   "source": [
    "import matplotlib.pyplot as plt"
   ]
  },
  {
   "cell_type": "code",
   "execution_count": 146,
   "id": "43d49ef9-6278-47be-b7f6-977fd7e3c57f",
   "metadata": {
    "scrolled": true
   },
   "outputs": [
    {
     "data": {
      "image/png": "[encoded data removed]",
      "text/plain": [
       "<Figure size 640x480 with 1 Axes>"
      ]
     },
     "metadata": {},
     "output_type": "display_data"
    }
   ],
   "source": [
    "plt.plot(history_fit.history[\"accuracy\"], color=\"green\")\n",
    "plt.plot(history_fit.history[\"loss\"], color=\"red\")\n",
    "plt.show()"
   ]
  },
  {
   "cell_type": "code",
   "execution_count": 148,
   "id": "5c48bb32-8b4c-4d25-a889-8e137ce89e42",
   "metadata": {},
   "outputs": [
    {
     "name": "stdout",
     "output_type": "stream",
     "text": [
      "\u001b[1m28/28\u001b[0m \u001b[32m━━━━━━━━━━━━━━━━━━━━\u001b[0m\u001b[37m\u001b[0m \u001b[1m0s\u001b[0m 9ms/step - accuracy: 0.8579 - loss: 0.5098\n"
     ]
    },
    {
     "data": {
      "text/plain": [
       "[0.5497404336929321, 0.8560000061988831]"
      ]
     },
     "execution_count": 148,
     "metadata": {},
     "output_type": "execute_result"
    }
   ],
   "source": [
    "modelo.evaluate(X_test, Y_test)"
   ]
  },
  {
   "cell_type": "code",
   "execution_count": 123,
   "id": "cf52cc6b-4dd8-4c81-9206-b0e107ab8d59",
   "metadata": {},
   "outputs": [
    {
     "name": "stdout",
     "output_type": "stream",
     "text": [
      "\u001b[1m1/1\u001b[0m \u001b[32m━━━━━━━━━━━━━━━━━━━━\u001b[0m\u001b[37m\u001b[0m \u001b[1m0s\u001b[0m 74ms/step\n"
     ]
    },
    {
     "data": {
      "text/plain": [
       "array([[0.17708857, 0.14780334, 0.11726012, 0.12791035, 0.1374285 ,\n",
       "        0.16507536, 0.12743373]], dtype=float32)"
      ]
     },
     "execution_count": 123,
     "metadata": {},
     "output_type": "execute_result"
    }
   ],
   "source": [
    "texto = \"IBM sell stock options\"\n",
    "texto_em_sequencias = np.array(tokenizer.texts_to_sequences( [texto] ))\n",
    "sequencias_padded = pad_sequences( texto_em_sequencias, maxlen=max_palavras, padding=\"post\" )\n",
    "sequencias_padded\n",
    "modelo.predict([sequencias_padded])"
   ]
  },
  {
   "cell_type": "markdown",
   "id": "e2c2c6a5-d8d5-47c2-aa22-7ac253615fc3",
   "metadata": {},
   "source": [
    "Acuracia no Teste com rede neural Densa 1 camada 128 neuronios ==> 0.8719\n",
    "Acuracia no Teste com rede neural SimpleRNN camada 10 neuronios (Padding POST) ==> 0.4308\n",
    "Acuracia no Teste com rede neural SimpleRNN camada 20 neuronios (Padding POST) ==> 0.49\n",
    "Acuracia no Teste com rede neural SimpleRNN camada 20 neuronios (Padding PRE) ==> 0.55\n",
    "Acuracia no Teste com rede neural LSTM camada 10 neuronios (Padding POST) ==> 0.23\n",
    "Acuracia no Teste com rede neural LSTM camada 10 neuronios (Padding PRE) ==> 0.82\n",
    "Acuracia no Teste com rede neural LSTM camada 20 neuronios (Padding PRE) ==> 0.858\n"
   ]
  },
  {
   "cell_type": "code",
   "execution_count": null,
   "id": "490ebc70-bdbd-4ac6-b136-817a2497f698",
   "metadata": {},
   "outputs": [],
   "source": []
  }
 ],
 "metadata": {
  "kernelspec": {
   "display_name": "Python [conda env:base] *",
   "language": "python",
   "name": "conda-base-py"
  },
  "language_info": {
   "codemirror_mode": {
    "name": "ipython",
    "version": 3
   },
   "file_extension": ".py",
   "mimetype": "text/x-python",
   "name": "python",
   "nbconvert_exporter": "python",
   "pygments_lexer": "ipython3",
   "version": "3.12.7"
  }
 },
 "nbformat": 4,
 "nbformat_minor": 5
}
