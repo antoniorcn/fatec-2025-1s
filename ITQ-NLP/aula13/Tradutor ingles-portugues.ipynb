{
 "cells": [
  {
   "cell_type": "code",
   "execution_count": 1,
   "id": "3f35fbf4-b78b-40be-84b4-6049e3fed60a",
   "metadata": {},
   "outputs": [],
   "source": [
    "import numpy as np\n",
    "import tensorflow as tf"
   ]
  },
  {
   "cell_type": "code",
   "execution_count": 2,
   "id": "894175dd-30e6-45a3-b19d-124535d159b9",
   "metadata": {},
   "outputs": [],
   "source": [
    "from tensorflow.keras.models import Model\n",
    "from tensorflow.keras.layers import Embedding, LSTM, Dense, Bidirectional\n",
    "from tensorflow.keras.optimizers import Adam"
   ]
  },
  {
   "cell_type": "code",
   "execution_count": 5,
   "id": "982b8b74-bfaa-49ca-9413-4be37e2f6fc2",
   "metadata": {},
   "outputs": [],
   "source": [
    "from sklearn.preprocessing import LabelEncoder, OneHotEncoder\n",
    "from tensorflow.keras.preprocessing.text import Tokenizer\n",
    "from tensorflow.keras.utils import pad_sequences"
   ]
  },
  {
   "cell_type": "code",
   "execution_count": 7,
   "id": "4181c88f-2d59-4f0f-8b50-eb224b2166c7",
   "metadata": {},
   "outputs": [],
   "source": [
    "pares = [\n",
    "    (\"Hello\", \"Olá\"),\n",
    "    (\"Good morning\", \"Bom dia\"),\n",
    "    (\"Good afternoon\", \"Boa tarde\"),\n",
    "    (\"Good evening\", \"Boa noite\"),\n",
    "    (\"Good night\", \"Boa noite\"),\n",
    "    (\"How are you?\", \"Como você está?\"),\n",
    "    (\"I'm fine, thank you.\", \"Estou bem, obrigado.\"),\n",
    "    (\"What's your name?\", \"Qual é o seu nome?\"),\n",
    "    (\"My name is John.\", \"Meu nome é John.\"),\n",
    "    (\"Nice to meet you.\", \"Prazer em conhecê-lo.\"),\n",
    "    (\"Please\", \"Por favor\"),\n",
    "    (\"Thank you\", \"Obrigado\"),\n",
    "    (\"You're welcome\", \"De nada\"),\n",
    "    (\"Excuse me\", \"Com licença\"),\n",
    "    (\"I'm sorry\", \"Desculpe\"),\n",
    "    (\"Yes\", \"Sim\"),\n",
    "    (\"No\", \"Não\"),\n",
    "    (\"Maybe\", \"Talvez\"),\n",
    "    (\"I don't know\", \"Eu não sei\"),\n",
    "    (\"I understand\", \"Eu entendo\"),\n",
    "    (\"I don't understand\", \"Eu não entendo\"),\n",
    "    (\"Can you help me?\", \"Você pode me ajudar?\"),\n",
    "    (\"Where is the bathroom?\", \"Onde fica o banheiro?\"),\n",
    "    (\"How much does it cost?\", \"Quanto custa?\"),\n",
    "    (\"I would like a coffee.\", \"Eu gostaria de um café.\"),\n",
    "    (\"Do you speak English?\", \"Você fala inglês?\"),\n",
    "    (\"I speak a little Portuguese.\", \"Eu falo um pouco de português.\"),\n",
    "    (\"What time is it?\", \"Que horas são?\"),\n",
    "    (\"I'm hungry.\", \"Estou com fome.\"),\n",
    "    (\"I'm thirsty.\", \"Estou com sede.\"),\n",
    "    (\"I'm tired.\", \"Estou cansado.\"),\n",
    "    (\"I need a doctor.\", \"Eu preciso de um médico.\"),\n",
    "    (\"Call the police!\", \"Chame a polícia!\"),\n",
    "    (\"I love you.\", \"Eu te amo.\"),\n",
    "    (\"Congratulations!\", \"Parabéns!\"),\n",
    "    (\"Happy birthday!\", \"Feliz aniversário!\"),\n",
    "    (\"Merry Christmas!\", \"Feliz Natal!\"),\n",
    "    (\"Happy New Year!\", \"Feliz Ano Novo!\"),\n",
    "    (\"Good luck!\", \"Boa sorte!\"),\n",
    "    (\"Have a nice day!\", \"Tenha um bom dia!\"),\n",
    "    (\"See you later.\", \"Até mais.\"),\n",
    "    (\"Goodbye\", \"Adeus\"),\n",
    "    (\"What's your phone number?\", \"Qual é o seu número de telefone?\"),\n",
    "    (\"Where do you live?\", \"Onde você mora?\"),\n",
    "    (\"I live in São Paulo.\", \"Eu moro em São Paulo.\"),\n",
    "    (\"I'm from Brazil.\", \"Eu sou do Brasil.\"),\n",
    "    (\"What do you do?\", \"O que você faz?\"),\n",
    "    (\"I'm a teacher.\", \"Eu sou professor.\"),\n",
    "    (\"I work in an office.\", \"Eu trabalho em um escritório.\"),\n",
    "    (\"I'm a student.\", \"Eu sou estudante.\"),\n",
    "    (\"I like to read books.\", \"Eu gosto de ler livros.\"),\n",
    "    (\"I enjoy listening to music.\", \"Eu gosto de ouvir música.\"),\n",
    "    (\"I like to travel.\", \"Eu gosto de viajar.\"),\n",
    "    (\"What's your favorite food?\", \"Qual é a sua comida favorita?\"),\n",
    "    (\"I like pizza.\", \"Eu gosto de pizza.\"),\n",
    "    (\"Do you have any pets?\", \"Você tem animais de estimação?\"),\n",
    "    (\"I have a dog.\", \"Eu tenho um cachorro.\"),\n",
    "    (\"I don't have any pets.\", \"Eu não tenho animais de estimação.\"),\n",
    "    (\"What's your favorite color?\", \"Qual é a sua cor favorita?\"),\n",
    "    (\"My favorite color is blue.\", \"Minha cor favorita é azul.\"),\n",
    "    (\"Do you like sports?\", \"Você gosta de esportes?\"),\n",
    "    (\"I like soccer.\", \"Eu gosto de futebol.\"),\n",
    "    (\"I don't like sports.\", \"Eu não gosto de esportes.\"),\n",
    "    (\"What did you do yesterday?\", \"O que você fez ontem?\"),\n",
    "    (\"I went to the movies.\", \"Eu fui ao cinema.\"),\n",
    "    (\"I stayed at home.\", \"Eu fiquei em casa.\"),\n",
    "    (\"What are you doing now?\", \"O que você está fazendo agora?\"),\n",
    "    (\"I'm studying English.\", \"Estou estudando inglês.\"),\n",
    "    (\"I'm watching TV.\", \"Estou assistindo TV.\"),\n",
    "    (\"Do you have brothers or sisters?\", \"Você tem irmãos ou irmãs?\"),\n",
    "    (\"I have one brother.\", \"Eu tenho um irmão.\"),\n",
    "    (\"I have two sisters.\", \"Eu tenho duas irmãs.\"),\n",
    "    (\"I'm an only child.\", \"Eu sou filho único.\"),\n",
    "    (\"What time do you wake up?\", \"A que horas você acorda?\"),\n",
    "    (\"I wake up at 7 a.m.\", \"Eu acordo às 7 da manhã.\"),\n",
    "    (\"What time do you go to bed?\", \"A que horas você vai dormir?\"),\n",
    "    (\"I go to bed at 10 p.m.\", \"Eu vou dormir às 10 da noite.\"),\n",
    "    (\"Do you like to cook?\", \"Você gosta de cozinhar?\"),\n",
    "    (\"Yes, I love cooking.\", \"Sim, eu adoro cozinhar.\"),\n",
    "    (\"No, I don't like to cook.\", \"Não, eu não gosto de cozinhar.\"),\n",
    "    (\"What's your favorite movie?\", \"Qual é o seu filme favorito?\"),\n",
    "    (\"I like action movies.\", \"Eu gosto de filmes de ação.\"),\n",
    "    (\"I prefer comedies.\", \"Eu prefiro comédias.\"),\n",
    "    (\"Do you play any instruments?\", \"Você toca algum instrumento?\"),\n",
    "    (\"I play the guitar.\", \"Eu toco violão.\"),\n",
    "    (\"I don't play any instruments.\", \"Eu não toco nenhum instrumento.\"),\n",
    "    (\"What's the weather like?\", \"Como está o tempo?\"),\n",
    "    (\"It's sunny.\", \"Está ensolarado.\"),\n",
    "    (\"It's raining.\", \"Está chovendo.\"),\n",
    "    (\"It's cold.\", \"Está frio.\"),\n",
    "    (\"It's hot.\", \"Está quente.\"),\n",
    "    (\"Do you like reading?\", \"Você gosta de ler?\"),\n",
    "    (\"Yes, I read every day.\", \"Sim, eu leio todos os dias.\"),\n",
    "    (\"No, I prefer watching movies.\", \"Não, eu prefiro assistir filmes.\"),\n",
    "    (\"What's your favorite book?\", \"Qual é o seu livro favorito?\"),\n",
    "    (\"I like mystery novels.\", \"Eu gosto de romances de mistério.\"),\n",
    "    (\"I enjoy science fiction.\", \"Eu gosto de ficção científica.\"),\n",
    "    (\"Can you drive?\", \"Você sabe dirigir?\"),\n",
    "    (\"Yes, I have a driver's license.\", \"Sim, eu tenho carteira de motorista.\"),\n",
    "    (\"No, I don't drive.\", \"Não, eu não dirijo.\"),\n",
    "    (\"Do you like coffee or tea?\", \"Você gosta de café ou chá?\"),\n",
    "    (\"I prefer coffee.\", \"Eu prefiro café.\"),\n",
    "    (\"I like both.\", \"Eu gosto dos dois.\"),\n",
    "    (\"I don't like either.\", \"Eu não gosto de nenhum.\"),\n",
    "]"
   ]
  },
  {
   "cell_type": "code",
   "execution_count": 21,
   "id": "7eb03919-aa3e-4627-a6a1-6eee6ed2541a",
   "metadata": {},
   "outputs": [],
   "source": [
    "entrada_textos = []\n",
    "saida_textos = []\n",
    "\n",
    "# <BOS> - Begin of Sentence\n",
    "# <EOS> - End of Sentence"
   ]
  },
  {
   "cell_type": "code",
   "execution_count": 23,
   "id": "c8dad7ba-3641-47b4-a0c5-7f2e041cb899",
   "metadata": {},
   "outputs": [],
   "source": [
    "for par in pares: \n",
    "    #               0                       1\n",
    "    # par ==> (\"I don't like either.\", \"Eu não gosto de nenhum.\")\n",
    "    entrada_textos.append( par[0].lower() )\n",
    "    saida_textos.append( f\"<BOS> {par[1]} <EOS>\")"
   ]
  },
  {
   "cell_type": "code",
   "execution_count": 27,
   "id": "49055fe6-8b5d-402b-8c46-d032ff8eb646",
   "metadata": {},
   "outputs": [],
   "source": [
    "entrada_tokenizer = Tokenizer()  # Textos em ingles - entrada\n",
    "entrada_tokenizer.fit_on_texts(entrada_textos)\n",
    "entrada_vocabulario = entrada_tokenizer.word_index"
   ]
  },
  {
   "cell_type": "code",
   "execution_count": 33,
   "id": "d2e42b0f-3854-4b23-a5cd-1ac5c4abdb26",
   "metadata": {},
   "outputs": [],
   "source": [
    "saida_tokenizer = Tokenizer() # Textos em portugues - saida\n",
    "saida_tokenizer.fit_on_texts(saida_textos)\n",
    "saida_vocabulario = saida_tokenizer.word_index"
   ]
  },
  {
   "cell_type": "code",
   "execution_count": 37,
   "id": "99bdf56e-21a1-405e-ab22-3a62750b98c3",
   "metadata": {},
   "outputs": [],
   "source": [
    "entrada_sequencias = entrada_tokenizer.texts_to_sequences( entrada_textos )\n",
    "saida_sequencias = saida_tokenizer.texts_to_sequences( saida_textos )\n",
    "entrada_vocabulario_tam = len(entrada_vocabulario) + 1\n",
    "saida_vocabulario_tam = len(saida_vocabulario) + 1"
   ]
  },
  {
   "cell_type": "code",
   "execution_count": 43,
   "id": "4cfd8e38-a17e-40a9-bf2f-81f9d71d2b00",
   "metadata": {},
   "outputs": [
    {
     "data": {
      "text/plain": [
       "8"
      ]
     },
     "execution_count": 43,
     "metadata": {},
     "output_type": "execute_result"
    }
   ],
   "source": [
    "entrada_maximo_palavras = 0\n",
    "for seq in entrada_sequencias:\n",
    "    if len(seq) > entrada_maximo_palavras:\n",
    "        entrada_maximo_palavras = len(seq)\n",
    "entrada_maximo_palavras"
   ]
  },
  {
   "cell_type": "code",
   "execution_count": 45,
   "id": "bc2e19d4-a5bd-4794-9035-7f58c6791d5c",
   "metadata": {},
   "outputs": [
    {
     "data": {
      "text/plain": [
       "9"
      ]
     },
     "execution_count": 45,
     "metadata": {},
     "output_type": "execute_result"
    }
   ],
   "source": [
    "saida_maximo_palavras = 0\n",
    "for seq in saida_sequencias:\n",
    "    if len(seq) > saida_maximo_palavras:\n",
    "        saida_maximo_palavras = len(seq)\n",
    "saida_maximo_palavras"
   ]
  },
  {
   "cell_type": "code",
   "execution_count": 47,
   "id": "c77c6601-b66f-4641-8b4d-4d43de756f6a",
   "metadata": {},
   "outputs": [],
   "source": [
    "entrada_padded = pad_sequences(entrada_sequencias, maxlen=entrada_maximo_palavras, padding=\"post\")"
   ]
  },
  {
   "cell_type": "code",
   "execution_count": 49,
   "id": "26c12080-ec5e-4ecc-aeff-2976a892910e",
   "metadata": {},
   "outputs": [
    {
     "data": {
      "text/plain": [
       "array([[ 62,   0,   0,   0,   0,   0,   0,   0],\n",
       "       [ 13,  63,   0,   0,   0,   0,   0,   0],\n",
       "       [ 13,  64,   0,   0,   0,   0,   0,   0],\n",
       "       [ 13,  65,   0,   0,   0,   0,   0,   0],\n",
       "       [ 13,  66,   0,   0,   0,   0,   0,   0],\n",
       "       [ 27,  28,   2,   0,   0,   0,   0,   0],\n",
       "       [  5,  67,  29,   2,   0,   0,   0,   0],\n",
       "       [ 10,  11,  30,   0,   0,   0,   0,   0],\n",
       "       [ 31,  30,  16,  68,   0,   0,   0,   0],\n",
       "       [ 32,   6,  69,   2,   0,   0,   0,   0],\n",
       "       [ 70,   0,   0,   0,   0,   0,   0,   0],\n",
       "       [ 29,   2,   0,   0,   0,   0,   0,   0],\n",
       "       [ 71,  72,   0,   0,   0,   0,   0,   0],\n",
       "       [ 73,  33,   0,   0,   0,   0,   0,   0],\n",
       "       [  5,  74,   0,   0,   0,   0,   0,   0],\n",
       "       [ 17,   0,   0,   0,   0,   0,   0,   0],\n",
       "       [ 18,   0,   0,   0,   0,   0,   0,   0],\n",
       "       [ 75,   0,   0,   0,   0,   0,   0,   0],\n",
       "       [  1,   8,  76,   0,   0,   0,   0,   0],\n",
       "       [  1,  34,   0,   0,   0,   0,   0,   0],\n",
       "       [  1,   8,  34,   0,   0,   0,   0,   0],\n",
       "       [ 35,   2,  77,  33,   0,   0,   0,   0],\n",
       "       [ 36,  16,  14,  78,   0,   0,   0,   0],\n",
       "       [ 27,  79,  80,  37,  81,   0,   0,   0],\n",
       "       [  1,  82,   3,   7,  21,   0,   0,   0],\n",
       "       [  4,   2,  38,  39,   0,   0,   0,   0],\n",
       "       [  1,  38,   7,  83,  84,   0,   0,   0],\n",
       "       [ 12,  22,  16,  37,   0,   0,   0,   0],\n",
       "       [  5,  85,   0,   0,   0,   0,   0,   0],\n",
       "       [  5,  86,   0,   0,   0,   0,   0,   0],\n",
       "       [  5,  87,   0,   0,   0,   0,   0,   0],\n",
       "       [  1,  88,   7,  89,   0,   0,   0,   0],\n",
       "       [ 90,  14,  91,   0,   0,   0,   0,   0],\n",
       "       [  1,  40,   2,   0,   0,   0,   0,   0],\n",
       "       [ 92,   0,   0,   0,   0,   0,   0,   0],\n",
       "       [ 41,  93,   0,   0,   0,   0,   0,   0],\n",
       "       [ 94,  95,   0,   0,   0,   0,   0,   0],\n",
       "       [ 41,  96,  97,   0,   0,   0,   0,   0],\n",
       "       [ 13,  98,   0,   0,   0,   0,   0,   0],\n",
       "       [  9,   7,  32,  42,   0,   0,   0,   0],\n",
       "       [ 99,   2, 100,   0,   0,   0,   0,   0],\n",
       "       [101,   0,   0,   0,   0,   0,   0,   0],\n",
       "       [ 10,  11, 102, 103,   0,   0,   0,   0],\n",
       "       [ 36,   4,   2,  43,   0,   0,   0,   0],\n",
       "       [  1,  43,  44, 104, 105,   0,   0,   0],\n",
       "       [  5, 106, 107,   0,   0,   0,   0,   0],\n",
       "       [ 12,   4,   2,   4,   0,   0,   0,   0],\n",
       "       [  5,   7, 108,   0,   0,   0,   0,   0],\n",
       "       [  1, 109,  44,  45, 110,   0,   0,   0],\n",
       "       [  5,   7, 111,   0,   0,   0,   0,   0],\n",
       "       [  1,   3,   6,  46, 112,   0,   0,   0],\n",
       "       [  1,  47, 113,   6, 114,   0,   0,   0],\n",
       "       [  1,   3,   6, 115,   0,   0,   0,   0],\n",
       "       [ 10,  11,  15, 116,   0,   0,   0,   0],\n",
       "       [  1,   3, 117,   0,   0,   0,   0,   0],\n",
       "       [  4,   2,   9,  19,  48,   0,   0,   0],\n",
       "       [  1,   9,   7, 118,   0,   0,   0,   0],\n",
       "       [  1,   8,   9,  19,  48,   0,   0,   0],\n",
       "       [ 10,  11,  15,  49,   0,   0,   0,   0],\n",
       "       [ 31,  15,  49,  16, 119,   0,   0,   0],\n",
       "       [  4,   2,   3,  50,   0,   0,   0,   0],\n",
       "       [  1,   3, 120,   0,   0,   0,   0,   0],\n",
       "       [  1,   8,   3,  50,   0,   0,   0,   0],\n",
       "       [ 12, 121,   2,   4, 122,   0,   0,   0],\n",
       "       [  1, 123,   6,  14,  23,   0,   0,   0],\n",
       "       [  1, 124,  24, 125,   0,   0,   0,   0],\n",
       "       [ 12,  28,   2, 126, 127,   0,   0,   0],\n",
       "       [  5, 128,  39,   0,   0,   0,   0,   0],\n",
       "       [  5,  51, 129,   0,   0,   0,   0,   0],\n",
       "       [  4,   2,   9, 130,  52,  53,   0,   0],\n",
       "       [  1,   9, 131, 132,   0,   0,   0,   0],\n",
       "       [  1,   9, 133,  53,   0,   0,   0,   0],\n",
       "       [  5,  45, 134, 135,   0,   0,   0,   0],\n",
       "       [ 12,  22,   4,   2,  54,  55,   0,   0],\n",
       "       [  1,  54,  55,  24, 136,   7,  56,   0],\n",
       "       [ 12,  22,   4,   2,  57,   6,  58,   0],\n",
       "       [  1,  57,   6,  58,  24, 137, 138,  56],\n",
       "       [  4,   2,   3,   6,  59,   0,   0,   0],\n",
       "       [ 17,   1,  40, 139,   0,   0,   0,   0],\n",
       "       [ 18,   1,   8,   3,   6,  59,   0,   0],\n",
       "       [ 10,  11,  15, 140,   0,   0,   0,   0],\n",
       "       [  1,   3, 141,  23,   0,   0,   0,   0],\n",
       "       [  1,  25, 142,   0,   0,   0,   0,   0],\n",
       "       [  4,   2,  26,  19,  60,   0,   0,   0],\n",
       "       [  1,  26,  14, 143,   0,   0,   0,   0],\n",
       "       [  1,   8,  26,  19,  60,   0,   0,   0],\n",
       "       [ 10,  14, 144,   3,   0,   0,   0,   0],\n",
       "       [ 20, 145,   0,   0,   0,   0,   0,   0],\n",
       "       [ 20, 146,   0,   0,   0,   0,   0,   0],\n",
       "       [ 20, 147,   0,   0,   0,   0,   0,   0],\n",
       "       [ 20, 148,   0,   0,   0,   0,   0,   0],\n",
       "       [  4,   2,   3, 149,   0,   0,   0,   0],\n",
       "       [ 17,   1,  46, 150,  42,   0,   0,   0],\n",
       "       [ 18,   1,  25,  51,  23,   0,   0,   0],\n",
       "       [ 10,  11,  15, 151,   0,   0,   0,   0],\n",
       "       [  1,   3, 152, 153,   0,   0,   0,   0],\n",
       "       [  1,  47, 154, 155,   0,   0,   0,   0],\n",
       "       [ 35,   2,  61,   0,   0,   0,   0,   0],\n",
       "       [ 17,   1,   9,   7, 156, 157,   0,   0],\n",
       "       [ 18,   1,   8,  61,   0,   0,   0,   0],\n",
       "       [  4,   2,   3,  21,  52, 158,   0,   0],\n",
       "       [  1,  25,  21,   0,   0,   0,   0,   0],\n",
       "       [  1,   3, 159,   0,   0,   0,   0,   0],\n",
       "       [  1,   8,   3, 160,   0,   0,   0,   0]])"
      ]
     },
     "execution_count": 49,
     "metadata": {},
     "output_type": "execute_result"
    }
   ],
   "source": [
    "entrada_padded"
   ]
  },
  {
   "cell_type": "code",
   "execution_count": null,
   "id": "8f55df6f-af3a-4664-9eb9-0b13c5e43f98",
   "metadata": {},
   "outputs": [],
   "source": []
  }
 ],
 "metadata": {
  "kernelspec": {
   "display_name": "Python [conda env:base] *",
   "language": "python",
   "name": "conda-base-py"
  },
  "language_info": {
   "codemirror_mode": {
    "name": "ipython",
    "version": 3
   },
   "file_extension": ".py",
   "mimetype": "text/x-python",
   "name": "python",
   "nbconvert_exporter": "python",
   "pygments_lexer": "ipython3",
   "version": "3.12.7"
  }
 },
 "nbformat": 4,
 "nbformat_minor": 5
}
