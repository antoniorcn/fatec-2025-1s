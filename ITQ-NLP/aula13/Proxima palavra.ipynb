{
 "cells": [
  {
   "cell_type": "code",
   "execution_count": 1,
   "id": "811b6217-c4f7-48b3-83c9-cca74883d5fd",
   "metadata": {},
   "outputs": [],
   "source": [
    "import numpy as np\n",
    "import tensorflow as tf\n",
    "import pandas as pd"
   ]
  },
  {
   "cell_type": "code",
   "execution_count": 2,
   "id": "77392748-00e8-4eeb-95ff-5507ad2befe0",
   "metadata": {},
   "outputs": [],
   "source": [
    "from tensorflow.keras.models import Sequential\n",
    "from tensorflow.keras.layers import Embedding, LSTM, Dense\n",
    "from tensorflow.keras.optimizers import Adam"
   ]
  },
  {
   "cell_type": "code",
   "execution_count": 3,
   "id": "af16f5c5-b952-48b8-b42b-60dd5f6d7add",
   "metadata": {},
   "outputs": [],
   "source": [
    "from sklearn.preprocessing import LabelEncoder, OneHotEncoder\n",
    "from tensorflow.keras.preprocessing.text import Tokenizer\n",
    "from tensorflow.keras.utils import pad_sequences"
   ]
  },
  {
   "cell_type": "code",
   "execution_count": 4,
   "id": "a0b57542-1487-4bb1-b714-ea6643e8096b",
   "metadata": {
    "scrolled": true
   },
   "outputs": [],
   "source": [
    "df = pd.read_csv(\"../../../dados/nlp/news_sentiment_analysis.csv\", encoding=\"utf-8\")\n",
    "textos = df[[\"Description\"]]"
   ]
  },
  {
   "cell_type": "code",
   "execution_count": 5,
   "id": "7efe1e73-5dce-41ba-82e3-478339eb2551",
   "metadata": {},
   "outputs": [],
   "source": [
    "tokenizer = Tokenizer(num_words = 2000)\n",
    "tokenizer.fit_on_texts( textos[\"Description\"] )\n",
    "vocabulario = tokenizer.word_index\n",
    "# vocabulario"
   ]
  },
  {
   "cell_type": "code",
   "execution_count": 6,
   "id": "e7ba16bb-7dc9-4f44-9a7d-0ac5e7b1ce87",
   "metadata": {},
   "outputs": [
    {
     "data": {
      "text/plain": [
       "20859"
      ]
     },
     "execution_count": 6,
     "metadata": {},
     "output_type": "execute_result"
    }
   ],
   "source": [
    "len(vocabulario)"
   ]
  },
  {
   "cell_type": "code",
   "execution_count": 7,
   "id": "1a344f94-ff70-4a1f-8da8-5717759fcd5f",
   "metadata": {},
   "outputs": [],
   "source": [
    "sequencias = tokenizer.texts_to_sequences( textos[\"Description\"] )"
   ]
  },
  {
   "cell_type": "code",
   "execution_count": 8,
   "id": "a98cc7cd-9cff-471f-a204-b338e5c36786",
   "metadata": {},
   "outputs": [
    {
     "data": {
      "text/plain": [
       "'Harare, Zimbabwe – Local businesses are grappling with a severe liquidity crunch, which is limiting [...]'"
      ]
     },
     "execution_count": 8,
     "metadata": {},
     "output_type": "execute_result"
    }
   ],
   "source": [
    "textos[\"Description\"][1]"
   ]
  },
  {
   "cell_type": "code",
   "execution_count": 23,
   "id": "2b7062cd-4c28-43e9-a8a8-a9b3068183c4",
   "metadata": {},
   "outputs": [
    {
     "data": {
      "text/plain": [
       "[211, 373, 212, 46, 10, 5, 81, 12]"
      ]
     },
     "execution_count": 23,
     "metadata": {},
     "output_type": "execute_result"
    }
   ],
   "source": [
    "sequencias[1]"
   ]
  },
  {
   "cell_type": "code",
   "execution_count": 26,
   "id": "338abd21-3db4-46b8-acc4-032419a485d1",
   "metadata": {},
   "outputs": [
    {
     "data": {
      "text/plain": [
       "90"
      ]
     },
     "execution_count": 26,
     "metadata": {},
     "output_type": "execute_result"
    }
   ],
   "source": [
    "lista_sequencias = []\n",
    "lista_classes = []\n",
    "maximo_palavras = 0\n",
    "for seq in sequencias:\n",
    "    tokens = seq\n",
    "    if len(seq) > maximo_palavras:\n",
    "        maximo_palavras = len(seq)\n",
    "    for index, token in enumerate(tokens[:-1]):\n",
    "        seq_tokens = tokens[0: index + 2]\n",
    "        lista_classes.append(seq_tokens.pop())\n",
    "        lista_sequencias.append(seq_tokens)\n",
    "maximo_palavras"
   ]
  },
  {
   "cell_type": "code",
   "execution_count": 32,
   "id": "f5eff69a-893d-404b-8f6b-f664b1843301",
   "metadata": {},
   "outputs": [
    {
     "data": {
      "text/plain": [
       "[[598, 117],\n",
       " [598, 117, 5],\n",
       " [598, 117, 5, 15],\n",
       " [598, 117, 5, 15, 79],\n",
       " [598, 117, 5, 15, 79, 11],\n",
       " [598, 117, 5, 15, 79, 11, 199],\n",
       " [598, 117, 5, 15, 79, 11, 199, 413],\n",
       " [598, 117, 5, 15, 79, 11, 199, 413, 352],\n",
       " [598, 117, 5, 15, 79, 11, 199, 413, 352, 468]]"
      ]
     },
     "execution_count": 32,
     "metadata": {},
     "output_type": "execute_result"
    }
   ],
   "source": [
    "lista_sequencias[1:10]"
   ]
  },
  {
   "cell_type": "code",
   "execution_count": 34,
   "id": "99364b33-a796-45fd-b9e5-32efdee61186",
   "metadata": {},
   "outputs": [
    {
     "data": {
      "text/plain": [
       "[5, 15, 79, 11, 199, 413, 352, 468, 1]"
      ]
     },
     "execution_count": 34,
     "metadata": {},
     "output_type": "execute_result"
    }
   ],
   "source": [
    "lista_classes[1:10]"
   ]
  },
  {
   "cell_type": "code",
   "execution_count": 36,
   "id": "8060aad8-55e2-4876-b06c-accdeabe18e6",
   "metadata": {},
   "outputs": [
    {
     "data": {
      "text/plain": [
       "(133460, 89)"
      ]
     },
     "execution_count": 36,
     "metadata": {},
     "output_type": "execute_result"
    }
   ],
   "source": [
    "X = pad_sequences(lista_sequencias, padding=\"pre\")\n",
    "X.shape"
   ]
  },
  {
   "cell_type": "code",
   "execution_count": 38,
   "id": "735a5e56-0b7c-433c-b197-f4274ff4e452",
   "metadata": {},
   "outputs": [
    {
     "data": {
      "text/plain": [
       "[117, 5, 15, 79, 11, 199, 413, 352, 468, 1]"
      ]
     },
     "execution_count": 38,
     "metadata": {},
     "output_type": "execute_result"
    }
   ],
   "source": [
    "lista_classes[0:10]"
   ]
  },
  {
   "cell_type": "code",
   "execution_count": 40,
   "id": "c33e24cd-b05e-49b7-acd1-c3694c02556c",
   "metadata": {},
   "outputs": [
    {
     "data": {
      "text/plain": [
       "(133460,)"
      ]
     },
     "execution_count": 40,
     "metadata": {},
     "output_type": "execute_result"
    }
   ],
   "source": [
    "label_encoder = LabelEncoder()\n",
    "class_encoded = label_encoder.fit_transform( lista_classes )\n",
    "class_encoded.shape"
   ]
  },
  {
   "cell_type": "code",
   "execution_count": 42,
   "id": "543b60d2-f3eb-469b-b32c-5615606d2f61",
   "metadata": {},
   "outputs": [
    {
     "data": {
      "text/plain": [
       "array([116,   4,  14, ...,  17,   8,  16], dtype=int64)"
      ]
     },
     "execution_count": 42,
     "metadata": {},
     "output_type": "execute_result"
    }
   ],
   "source": [
    "class_encoded"
   ]
  },
  {
   "cell_type": "code",
   "execution_count": 44,
   "id": "df8feb7d-2b0e-4a99-8809-11a5cf274bd4",
   "metadata": {},
   "outputs": [],
   "source": [
    "class_encoded_2d = class_encoded.reshape( class_encoded.shape[0], 1 )"
   ]
  },
  {
   "cell_type": "code",
   "execution_count": 46,
   "id": "115cc992-59a7-4d0a-93d5-2e4147446951",
   "metadata": {},
   "outputs": [
    {
     "data": {
      "text/plain": [
       "array([[116],\n",
       "       [  4],\n",
       "       [ 14],\n",
       "       ...,\n",
       "       [ 17],\n",
       "       [  8],\n",
       "       [ 16]], dtype=int64)"
      ]
     },
     "execution_count": 46,
     "metadata": {},
     "output_type": "execute_result"
    }
   ],
   "source": [
    "class_encoded_2d"
   ]
  },
  {
   "cell_type": "code",
   "execution_count": 48,
   "id": "05d57e55-74dc-4bd1-9fd7-27cc86a0c896",
   "metadata": {},
   "outputs": [],
   "source": [
    "one_hot_encoder = OneHotEncoder(sparse_output=False)"
   ]
  },
  {
   "cell_type": "code",
   "execution_count": 50,
   "id": "882d118e-b6d9-4670-a04e-fc0dcede9cd7",
   "metadata": {},
   "outputs": [
    {
     "data": {
      "text/plain": [
       "(133460, 1998)"
      ]
     },
     "execution_count": 50,
     "metadata": {},
     "output_type": "execute_result"
    }
   ],
   "source": [
    "Y = one_hot_encoder.fit_transform( class_encoded_2d )\n",
    "Y.shape"
   ]
  },
  {
   "cell_type": "code",
   "execution_count": 52,
   "id": "a8b7d010-cb19-4105-9a98-d3432511795c",
   "metadata": {},
   "outputs": [
    {
     "data": {
      "text/plain": [
       "array([[0., 0., 0., ..., 0., 0., 0.],\n",
       "       [0., 0., 0., ..., 0., 0., 0.],\n",
       "       [0., 0., 0., ..., 0., 0., 0.],\n",
       "       ...,\n",
       "       [0., 0., 0., ..., 0., 0., 0.],\n",
       "       [0., 0., 0., ..., 0., 0., 0.],\n",
       "       [1., 0., 0., ..., 0., 0., 0.]])"
      ]
     },
     "execution_count": 52,
     "metadata": {},
     "output_type": "execute_result"
    }
   ],
   "source": [
    "Y[0:10]"
   ]
  },
  {
   "cell_type": "code",
   "execution_count": 54,
   "id": "4fb9abac-9ec4-4fc0-8ead-57f367946ead",
   "metadata": {},
   "outputs": [
    {
     "data": {
      "text/html": [
       "<pre style=\"white-space:pre;overflow-x:auto;line-height:normal;font-family:Menlo,'DejaVu Sans Mono',consolas,'Courier New',monospace\"><span style=\"font-weight: bold\">Model: \"sequential\"</span>\n",
       "</pre>\n"
      ],
      "text/plain": [
       "\u001b[1mModel: \"sequential\"\u001b[0m\n"
      ]
     },
     "metadata": {},
     "output_type": "display_data"
    },
    {
     "data": {
      "text/html": [
       "<pre style=\"white-space:pre;overflow-x:auto;line-height:normal;font-family:Menlo,'DejaVu Sans Mono',consolas,'Courier New',monospace\">┏━━━━━━━━━━━━━━━━━━━━━━━━━━━━━━━━━━━━━━┳━━━━━━━━━━━━━━━━━━━━━━━━━━━━━┳━━━━━━━━━━━━━━━━━┓\n",
       "┃<span style=\"font-weight: bold\"> Layer (type)                         </span>┃<span style=\"font-weight: bold\"> Output Shape                </span>┃<span style=\"font-weight: bold\">         Param # </span>┃\n",
       "┡━━━━━━━━━━━━━━━━━━━━━━━━━━━━━━━━━━━━━━╇━━━━━━━━━━━━━━━━━━━━━━━━━━━━━╇━━━━━━━━━━━━━━━━━┩\n",
       "│ embedding (<span style=\"color: #0087ff; text-decoration-color: #0087ff\">Embedding</span>)                │ ?                           │     <span style=\"color: #00af00; text-decoration-color: #00af00\">0</span> (unbuilt) │\n",
       "├──────────────────────────────────────┼─────────────────────────────┼─────────────────┤\n",
       "│ lstm (<span style=\"color: #0087ff; text-decoration-color: #0087ff\">LSTM</span>)                          │ ?                           │     <span style=\"color: #00af00; text-decoration-color: #00af00\">0</span> (unbuilt) │\n",
       "├──────────────────────────────────────┼─────────────────────────────┼─────────────────┤\n",
       "│ dense (<span style=\"color: #0087ff; text-decoration-color: #0087ff\">Dense</span>)                        │ ?                           │     <span style=\"color: #00af00; text-decoration-color: #00af00\">0</span> (unbuilt) │\n",
       "└──────────────────────────────────────┴─────────────────────────────┴─────────────────┘\n",
       "</pre>\n"
      ],
      "text/plain": [
       "┏━━━━━━━━━━━━━━━━━━━━━━━━━━━━━━━━━━━━━━┳━━━━━━━━━━━━━━━━━━━━━━━━━━━━━┳━━━━━━━━━━━━━━━━━┓\n",
       "┃\u001b[1m \u001b[0m\u001b[1mLayer (type)                        \u001b[0m\u001b[1m \u001b[0m┃\u001b[1m \u001b[0m\u001b[1mOutput Shape               \u001b[0m\u001b[1m \u001b[0m┃\u001b[1m \u001b[0m\u001b[1m        Param #\u001b[0m\u001b[1m \u001b[0m┃\n",
       "┡━━━━━━━━━━━━━━━━━━━━━━━━━━━━━━━━━━━━━━╇━━━━━━━━━━━━━━━━━━━━━━━━━━━━━╇━━━━━━━━━━━━━━━━━┩\n",
       "│ embedding (\u001b[38;5;33mEmbedding\u001b[0m)                │ ?                           │     \u001b[38;5;34m0\u001b[0m (unbuilt) │\n",
       "├──────────────────────────────────────┼─────────────────────────────┼─────────────────┤\n",
       "│ lstm (\u001b[38;5;33mLSTM\u001b[0m)                          │ ?                           │     \u001b[38;5;34m0\u001b[0m (unbuilt) │\n",
       "├──────────────────────────────────────┼─────────────────────────────┼─────────────────┤\n",
       "│ dense (\u001b[38;5;33mDense\u001b[0m)                        │ ?                           │     \u001b[38;5;34m0\u001b[0m (unbuilt) │\n",
       "└──────────────────────────────────────┴─────────────────────────────┴─────────────────┘\n"
      ]
     },
     "metadata": {},
     "output_type": "display_data"
    },
    {
     "data": {
      "text/html": [
       "<pre style=\"white-space:pre;overflow-x:auto;line-height:normal;font-family:Menlo,'DejaVu Sans Mono',consolas,'Courier New',monospace\"><span style=\"font-weight: bold\"> Total params: </span><span style=\"color: #00af00; text-decoration-color: #00af00\">0</span> (0.00 B)\n",
       "</pre>\n"
      ],
      "text/plain": [
       "\u001b[1m Total params: \u001b[0m\u001b[38;5;34m0\u001b[0m (0.00 B)\n"
      ]
     },
     "metadata": {},
     "output_type": "display_data"
    },
    {
     "data": {
      "text/html": [
       "<pre style=\"white-space:pre;overflow-x:auto;line-height:normal;font-family:Menlo,'DejaVu Sans Mono',consolas,'Courier New',monospace\"><span style=\"font-weight: bold\"> Trainable params: </span><span style=\"color: #00af00; text-decoration-color: #00af00\">0</span> (0.00 B)\n",
       "</pre>\n"
      ],
      "text/plain": [
       "\u001b[1m Trainable params: \u001b[0m\u001b[38;5;34m0\u001b[0m (0.00 B)\n"
      ]
     },
     "metadata": {},
     "output_type": "display_data"
    },
    {
     "data": {
      "text/html": [
       "<pre style=\"white-space:pre;overflow-x:auto;line-height:normal;font-family:Menlo,'DejaVu Sans Mono',consolas,'Courier New',monospace\"><span style=\"font-weight: bold\"> Non-trainable params: </span><span style=\"color: #00af00; text-decoration-color: #00af00\">0</span> (0.00 B)\n",
       "</pre>\n"
      ],
      "text/plain": [
       "\u001b[1m Non-trainable params: \u001b[0m\u001b[38;5;34m0\u001b[0m (0.00 B)\n"
      ]
     },
     "metadata": {},
     "output_type": "display_data"
    }
   ],
   "source": [
    "modelo = Sequential()\n",
    "modelo.add(Embedding(input_dim=2000, output_dim=32))\n",
    "modelo.add(LSTM(64))\n",
    "modelo.add(Dense(Y.shape[1], activation=\"softmax\"))\n",
    "modelo.summary()"
   ]
  },
  {
   "cell_type": "code",
   "execution_count": 56,
   "id": "8ae26c73-06cc-4202-9d6d-7398a4edef7a",
   "metadata": {},
   "outputs": [],
   "source": [
    "adam_opt = Adam(learning_rate = 0.01)\n",
    "modelo.compile(optimizer=adam_opt, metrics=[\"accuracy\"], loss=\"categorical_crossentropy\")"
   ]
  },
  {
   "cell_type": "code",
   "execution_count": 64,
   "id": "79e93d5f-22a8-41e9-89a9-08fb3afcfbf8",
   "metadata": {},
   "outputs": [
    {
     "name": "stdout",
     "output_type": "stream",
     "text": [
      "Epoch 1/10\n",
      "\u001b[1m4171/4171\u001b[0m \u001b[32m━━━━━━━━━━━━━━━━━━━━\u001b[0m\u001b[37m\u001b[0m \u001b[1m186s\u001b[0m 45ms/step - accuracy: 0.2270 - loss: 4.9194\n",
      "Epoch 2/10\n",
      "\u001b[1m4171/4171\u001b[0m \u001b[32m━━━━━━━━━━━━━━━━━━━━\u001b[0m\u001b[37m\u001b[0m \u001b[1m125s\u001b[0m 30ms/step - accuracy: 0.3377 - loss: 3.8325\n",
      "Epoch 3/10\n",
      "\u001b[1m4171/4171\u001b[0m \u001b[32m━━━━━━━━━━━━━━━━━━━━\u001b[0m\u001b[37m\u001b[0m \u001b[1m203s\u001b[0m 49ms/step - accuracy: 0.3654 - loss: 3.5486\n",
      "Epoch 4/10\n",
      "\u001b[1m4171/4171\u001b[0m \u001b[32m━━━━━━━━━━━━━━━━━━━━\u001b[0m\u001b[37m\u001b[0m \u001b[1m149s\u001b[0m 36ms/step - accuracy: 0.3773 - loss: 3.4077\n",
      "Epoch 5/10\n",
      "\u001b[1m4171/4171\u001b[0m \u001b[32m━━━━━━━━━━━━━━━━━━━━\u001b[0m\u001b[37m\u001b[0m \u001b[1m143s\u001b[0m 34ms/step - accuracy: 0.3854 - loss: 3.3210\n",
      "Epoch 6/10\n",
      "\u001b[1m4171/4171\u001b[0m \u001b[32m━━━━━━━━━━━━━━━━━━━━\u001b[0m\u001b[37m\u001b[0m \u001b[1m205s\u001b[0m 49ms/step - accuracy: 0.3924 - loss: 3.2540\n",
      "Epoch 7/10\n",
      "\u001b[1m4171/4171\u001b[0m \u001b[32m━━━━━━━━━━━━━━━━━━━━\u001b[0m\u001b[37m\u001b[0m \u001b[1m131s\u001b[0m 31ms/step - accuracy: 0.3956 - loss: 3.2208\n",
      "Epoch 8/10\n",
      "\u001b[1m4171/4171\u001b[0m \u001b[32m━━━━━━━━━━━━━━━━━━━━\u001b[0m\u001b[37m\u001b[0m \u001b[1m218s\u001b[0m 52ms/step - accuracy: 0.3989 - loss: 3.1957\n",
      "Epoch 9/10\n",
      "\u001b[1m4171/4171\u001b[0m \u001b[32m━━━━━━━━━━━━━━━━━━━━\u001b[0m\u001b[37m\u001b[0m \u001b[1m152s\u001b[0m 36ms/step - accuracy: 0.3969 - loss: 3.1817\n",
      "Epoch 10/10\n",
      "\u001b[1m4171/4171\u001b[0m \u001b[32m━━━━━━━━━━━━━━━━━━━━\u001b[0m\u001b[37m\u001b[0m \u001b[1m212s\u001b[0m 51ms/step - accuracy: 0.4014 - loss: 3.1677\n"
     ]
    }
   ],
   "source": [
    "hist = modelo.fit(X, Y, epochs=10, batch_size = 32)"
   ]
  },
  {
   "cell_type": "code",
   "execution_count": 87,
   "id": "7a330550-ea2b-459d-bbb2-507f358cfa74",
   "metadata": {},
   "outputs": [],
   "source": [
    "acuracia_max = np.max(hist.history[\"accuracy\"])\n",
    "loss_max = np.max(hist.history[\"loss\"])\n",
    "\n",
    "norm_acuracia = hist.history[\"accuracy\"]/acuracia_max\n",
    "norm_loss = hist.history[\"loss\"]/loss_max"
   ]
  },
  {
   "cell_type": "code",
   "execution_count": 89,
   "id": "20d1175d-8feb-459b-925e-e250ebfe6507",
   "metadata": {},
   "outputs": [
    {
     "data": {
      "image/png": "[encoded data removed]",
      "text/plain": [
       "<Figure size 640x480 with 1 Axes>"
      ]
     },
     "metadata": {},
     "output_type": "display_data"
    }
   ],
   "source": [
    "import matplotlib.pyplot as plt\n",
    "plt.plot(norm_acuracia, color=\"green\")\n",
    "plt.plot(norm_loss, color=\"red\")\n",
    "plt.show()"
   ]
  },
  {
   "cell_type": "code",
   "execution_count": 66,
   "id": "356fbe62-ec23-4bf8-b779-6ebc51e7eaad",
   "metadata": {},
   "outputs": [],
   "source": [
    "texto_inicial = \"Europe and the US briefly upped the pressure on Russia over\""
   ]
  },
  {
   "cell_type": "code",
   "execution_count": 67,
   "id": "0c4a66f2-f47d-4d1e-8f5b-cde0acd018c4",
   "metadata": {},
   "outputs": [
    {
     "data": {
      "text/plain": [
       "array([[  0,   0,   0,   0,   0,   0,   0,   0,   0,   0,   0,   0,   0,\n",
       "          0,   0,   0,   0,   0,   0,   0,   0,   0,   0,   0,   0,   0,\n",
       "          0,   0,   0,   0,   0,   0,   0,   0,   0,   0,   0,   0,   0,\n",
       "          0,   0,   0,   0,   0,   0,   0,   0,   0,   0,   0,   0,   0,\n",
       "          0,   0,   0,   0,   0,   0,   0,   0,   0,   0,   0,   0,   0,\n",
       "          0,   0,   0,   0,   0,   0,   0,   0,   0,   0,   0,   0,   0,\n",
       "          0,   0,   0,   0,   0,   0,   4,   1, 287,   1,   7, 112]])"
      ]
     },
     "execution_count": 67,
     "metadata": {},
     "output_type": "execute_result"
    }
   ],
   "source": [
    "texto_em_sequencias = np.array(tokenizer.texts_to_sequences( [texto_inicial] ))\n",
    "sequencias_padded = pad_sequences( texto_em_sequencias, maxlen=maximo_palavras, padding=\"pre\" )\n",
    "sequencias_padded"
   ]
  },
  {
   "cell_type": "code",
   "execution_count": 68,
   "id": "0c691bad-6b63-4cc0-a9c5-3721a5fda34c",
   "metadata": {},
   "outputs": [],
   "source": [
    "#                 0   1  2   3    4    5      6\n",
    "# arr1 = np.array([0.5, 1, 2, 0.9, 12, 0.0001, 0.3])\n",
    "# np.argmax( arr1 )"
   ]
  },
  {
   "cell_type": "code",
   "execution_count": 70,
   "id": "ce6dc010-86ae-4856-8170-ac5c3ace99ec",
   "metadata": {},
   "outputs": [
    {
     "name": "stderr",
     "output_type": "stream",
     "text": [
      "C:\\Users\\anton\\AppData\\Roaming\\Python\\Python312\\site-packages\\keras\\src\\models\\functional.py:238: UserWarning: The structure of `inputs` doesn't match the expected structure.\n",
      "Expected: keras_tensor\n",
      "Received: inputs=('Tensor(shape=(1, 90))',)\n",
      "  warnings.warn(msg)\n"
     ]
    },
    {
     "name": "stdout",
     "output_type": "stream",
     "text": [
      "\u001b[1m1/1\u001b[0m \u001b[32m━━━━━━━━━━━━━━━━━━━━\u001b[0m\u001b[37m\u001b[0m \u001b[1m0s\u001b[0m 342ms/step\n"
     ]
    },
    {
     "data": {
      "text/plain": [
       "4"
      ]
     },
     "execution_count": 70,
     "metadata": {},
     "output_type": "execute_result"
    }
   ],
   "source": [
    "predicted_one_hot_encoded_word = modelo.predict([sequencias_padded])\n",
    "num_palavra = np.argmax( predicted_one_hot_encoded_word )\n",
    "num_palavra"
   ]
  },
  {
   "cell_type": "code",
   "execution_count": 71,
   "id": "66972cc9-577b-4ae9-b7e2-9cb5a6539fe2",
   "metadata": {},
   "outputs": [
    {
     "data": {
      "text/plain": [
       "5"
      ]
     },
     "execution_count": 71,
     "metadata": {},
     "output_type": "execute_result"
    }
   ],
   "source": [
    "proxima_palavra = label_encoder.inverse_transform([num_palavra])\n",
    "proxima_palavra[0]"
   ]
  },
  {
   "cell_type": "code",
   "execution_count": 73,
   "id": "1ee790fd-8b26-447f-b21c-1ed3665a38e8",
   "metadata": {},
   "outputs": [
    {
     "name": "stdout",
     "output_type": "stream",
     "text": [
      "a\n"
     ]
    }
   ],
   "source": [
    "for item in vocabulario.items():\n",
    "    if item[1] == proxima_palavra[0]:\n",
    "        print(item[0])\n",
    "    "
   ]
  },
  {
   "cell_type": "code",
   "execution_count": 75,
   "id": "5ed68361-5e86-4b2f-8645-34bbce796197",
   "metadata": {},
   "outputs": [],
   "source": [
    "def proxima_palavra( texto ):\n",
    "    # Transforma o texto em uma sequencia de numeros conforme o vocabulario criado pelo tokenizer\n",
    "    texto_em_sequencias = np.array(tokenizer.texts_to_sequences( [texto] ))\n",
    "    \n",
    "    # Transformar a sequencia em uma sequencia com paddings (zeros a esquerda) para deixar a sequencia com o tamanho\n",
    "    # padrão que é o valor que está em maximo_palavras (89 palavras por texto)\n",
    "    sequencias_padded = pad_sequences( texto_em_sequencias, maxlen=maximo_palavras, padding=\"pre\" )\n",
    "\n",
    "    # Aplicação a sequencia com o padding (padded) no modelo, para que ele descubra qual é a proxima palavra\n",
    "    # o modelo retorna um onehotencoded com as probabilidades de cada palavra\n",
    "    predicted_one_hot_encoded_word = modelo.predict([sequencias_padded])\n",
    "    \n",
    "    # Verifica qual palavra tem a maior probabilidade de ocorrer\n",
    "    num_palavra = np.argmax( predicted_one_hot_encoded_word )\n",
    "\n",
    "    # A palavra com a maior probabilidade ainda precisa passar pelo LabelEncoder para ser decodificada\n",
    "    proxima_palavra = label_encoder.inverse_transform([num_palavra])\n",
    "\n",
    "    # Procura o numero da palavra no vocabulario, para descobrir qual é o seu texto\n",
    "    for item in vocabulario.items():\n",
    "        if item[1] == proxima_palavra[0]:\n",
    "            return texto + \" \" + item[0]"
   ]
  },
  {
   "cell_type": "code",
   "execution_count": 81,
   "id": "707e5097-808f-4592-bf99-ea0f890ac18b",
   "metadata": {},
   "outputs": [],
   "source": [
    "def completar_texto( texto, num_palavras = 3):\n",
    "    novo_texto = texto\n",
    "    for i in range(num_palavras):\n",
    "        novo_texto = proxima_palavra( novo_texto )\n",
    "    return novo_texto"
   ]
  },
  {
   "cell_type": "code",
   "execution_count": 85,
   "id": "37261fb6-8079-4814-9d87-9cfa969ada5b",
   "metadata": {},
   "outputs": [
    {
     "name": "stdout",
     "output_type": "stream",
     "text": [
      "\u001b[1m1/1\u001b[0m \u001b[32m━━━━━━━━━━━━━━━━━━━━\u001b[0m\u001b[37m\u001b[0m \u001b[1m0s\u001b[0m 67ms/step\n",
      "\u001b[1m1/1\u001b[0m \u001b[32m━━━━━━━━━━━━━━━━━━━━\u001b[0m\u001b[37m\u001b[0m \u001b[1m0s\u001b[0m 80ms/step\n",
      "\u001b[1m1/1\u001b[0m \u001b[32m━━━━━━━━━━━━━━━━━━━━\u001b[0m\u001b[37m\u001b[0m \u001b[1m0s\u001b[0m 99ms/step\n",
      "\u001b[1m1/1\u001b[0m \u001b[32m━━━━━━━━━━━━━━━━━━━━\u001b[0m\u001b[37m\u001b[0m \u001b[1m0s\u001b[0m 88ms/step\n",
      "\u001b[1m1/1\u001b[0m \u001b[32m━━━━━━━━━━━━━━━━━━━━\u001b[0m\u001b[37m\u001b[0m \u001b[1m0s\u001b[0m 94ms/step\n"
     ]
    },
    {
     "data": {
      "text/plain": [
       "'Local businesses are grappling with a severe massive airstrike that local was'"
      ]
     },
     "execution_count": 85,
     "metadata": {},
     "output_type": "execute_result"
    }
   ],
   "source": [
    "completar_texto(\"Local businesses are grappling with a severe\", 5)"
   ]
  },
  {
   "cell_type": "code",
   "execution_count": null,
   "id": "bceb4c76-2fa8-4728-ba32-2ba13919fa32",
   "metadata": {},
   "outputs": [],
   "source": [
    "# vocabulario = {\n",
    "#     'a': 0,\n",
    "#     'the': 1,\n",
    "#     'harare': 2,\n",
    "#     'good': 1000, \n",
    "#     # 0         1\n",
    "#     'trump': 5000,   \n",
    "# }"
   ]
  }
 ],
 "metadata": {
  "kernelspec": {
   "display_name": "Python [conda env:base] *",
   "language": "python",
   "name": "conda-base-py"
  },
  "language_info": {
   "codemirror_mode": {
    "name": "ipython",
    "version": 3
   },
   "file_extension": ".py",
   "mimetype": "text/x-python",
   "name": "python",
   "nbconvert_exporter": "python",
   "pygments_lexer": "ipython3",
   "version": "3.12.7"
  }
 },
 "nbformat": 4,
 "nbformat_minor": 5
}
