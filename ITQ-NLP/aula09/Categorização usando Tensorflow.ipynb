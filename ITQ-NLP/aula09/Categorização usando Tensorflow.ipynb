{
 "cells": [
  {
   "cell_type": "code",
   "execution_count": 1,
   "id": "b06a11f6-e591-4054-99db-874b604573d6",
   "metadata": {},
   "outputs": [],
   "source": [
    "import pandas as pd"
   ]
  },
  {
   "cell_type": "code",
   "execution_count": 3,
   "id": "94e7ff0d-839b-4b78-86ae-3bbade1011d9",
   "metadata": {},
   "outputs": [],
   "source": [
    "import numpy as np"
   ]
  },
  {
   "cell_type": "code",
   "execution_count": 5,
   "id": "cca06ed4-3539-4f9e-9b9b-7617fe0b72f7",
   "metadata": {},
   "outputs": [],
   "source": [
    "import tensorflow as tf"
   ]
  },
  {
   "cell_type": "code",
   "execution_count": 15,
   "id": "2ab0bc6b-657b-4412-9b7b-195ef64d1186",
   "metadata": {},
   "outputs": [],
   "source": [
    "from tensorflow.keras.preprocessing.text import Tokenizer"
   ]
  },
  {
   "cell_type": "code",
   "execution_count": 29,
   "id": "9aef21e0-0ad4-459c-a683-fb56b824aa05",
   "metadata": {},
   "outputs": [],
   "source": [
    "from tensorflow.keras.preprocessing.sequence import pad_sequences"
   ]
  },
  {
   "cell_type": "code",
   "execution_count": 56,
   "id": "53e648ba-510b-470b-80bf-d9309f88b72b",
   "metadata": {},
   "outputs": [],
   "source": [
    "from sklearn.preprocessing import LabelEncoder, OneHotEncoder"
   ]
  },
  {
   "cell_type": "code",
   "execution_count": 94,
   "id": "463d7059-4358-4199-8ab8-3f26c73657ea",
   "metadata": {},
   "outputs": [],
   "source": [
    "from sklearn.model_selection import train_test_split"
   ]
  },
  {
   "cell_type": "code",
   "execution_count": 84,
   "id": "5df4ff73-bb9a-4b63-9fb8-67078a923a84",
   "metadata": {},
   "outputs": [],
   "source": [
    "from tensorflow.keras import Sequential"
   ]
  },
  {
   "cell_type": "code",
   "execution_count": 86,
   "id": "cf38afe1-d7f8-4dd4-a3ea-02ee55a1a206",
   "metadata": {
    "scrolled": true
   },
   "outputs": [],
   "source": [
    "from tensorflow.keras.layers import Dense, Embedding, GlobalAveragePooling1D"
   ]
  },
  {
   "cell_type": "code",
   "execution_count": 9,
   "id": "c01e4dd7-8816-4f95-8e8c-cb3a3b919f13",
   "metadata": {
    "scrolled": true
   },
   "outputs": [
    {
     "data": {
      "text/html": [
       "<div>\n",
       "<style scoped>\n",
       "    .dataframe tbody tr th:only-of-type {\n",
       "        vertical-align: middle;\n",
       "    }\n",
       "\n",
       "    .dataframe tbody tr th {\n",
       "        vertical-align: top;\n",
       "    }\n",
       "\n",
       "    .dataframe thead th {\n",
       "        text-align: right;\n",
       "    }\n",
       "</style>\n",
       "<table border=\"1\" class=\"dataframe\">\n",
       "  <thead>\n",
       "    <tr style=\"text-align: right;\">\n",
       "      <th></th>\n",
       "      <th>Source</th>\n",
       "      <th>Author</th>\n",
       "      <th>Title</th>\n",
       "      <th>Description</th>\n",
       "      <th>URL</th>\n",
       "      <th>Published At</th>\n",
       "      <th>Sentiment</th>\n",
       "      <th>Type</th>\n",
       "    </tr>\n",
       "  </thead>\n",
       "  <tbody>\n",
       "    <tr>\n",
       "      <th>0</th>\n",
       "      <td>stgnews</td>\n",
       "      <td>Bridger Palmer</td>\n",
       "      <td>Pine View High teacher wins Best in State awar...</td>\n",
       "      <td>ST. GEORGE — Kaitlyn Larson, a first-year teac...</td>\n",
       "      <td>https://www.stgeorgeutah.com/news/archive/2024...</td>\n",
       "      <td>2024-07-12T23:45:25+00:00</td>\n",
       "      <td>positive</td>\n",
       "      <td>Business</td>\n",
       "    </tr>\n",
       "    <tr>\n",
       "      <th>1</th>\n",
       "      <td>Zimbabwe Mail</td>\n",
       "      <td>Staff Reporter</td>\n",
       "      <td>Businesses Face Financial Strain Amid Liquidit...</td>\n",
       "      <td>Harare, Zimbabwe – Local businesses are grappl...</td>\n",
       "      <td>https://www.thezimbabwemail.com/business/busin...</td>\n",
       "      <td>2024-07-12T22:59:42+00:00</td>\n",
       "      <td>neutral</td>\n",
       "      <td>Business</td>\n",
       "    </tr>\n",
       "    <tr>\n",
       "      <th>2</th>\n",
       "      <td>4-traders</td>\n",
       "      <td>NaN</td>\n",
       "      <td>Musk donates to super pac working to elect Tru...</td>\n",
       "      <td>(marketscreener.com) Billionaire Elon Musk has...</td>\n",
       "      <td>https://www.marketscreener.com/business-leader...</td>\n",
       "      <td>2024-07-12T22:52:55+00:00</td>\n",
       "      <td>positive</td>\n",
       "      <td>Business</td>\n",
       "    </tr>\n",
       "    <tr>\n",
       "      <th>3</th>\n",
       "      <td>4-traders</td>\n",
       "      <td>NaN</td>\n",
       "      <td>US FTC issues warning to franchisors over unfa...</td>\n",
       "      <td>(marketscreener.com) A U.S. trade regulator on...</td>\n",
       "      <td>https://www.marketscreener.com/quote/stock/MCD...</td>\n",
       "      <td>2024-07-12T22:41:01+00:00</td>\n",
       "      <td>negative</td>\n",
       "      <td>Business</td>\n",
       "    </tr>\n",
       "    <tr>\n",
       "      <th>4</th>\n",
       "      <td>PLANET</td>\n",
       "      <td>NaN</td>\n",
       "      <td>Rooftop solar's dark side</td>\n",
       "      <td>4.5 million households in the U.S. have solar ...</td>\n",
       "      <td>https://www.npr.org/2024/07/12/1197961036/roof...</td>\n",
       "      <td>2024-07-12T22:28:19+00:00</td>\n",
       "      <td>positive</td>\n",
       "      <td>Business</td>\n",
       "    </tr>\n",
       "    <tr>\n",
       "      <th>...</th>\n",
       "      <td>...</td>\n",
       "      <td>...</td>\n",
       "      <td>...</td>\n",
       "      <td>...</td>\n",
       "      <td>...</td>\n",
       "      <td>...</td>\n",
       "      <td>...</td>\n",
       "      <td>...</td>\n",
       "    </tr>\n",
       "    <tr>\n",
       "      <th>3495</th>\n",
       "      <td>etfdailynews</td>\n",
       "      <td>MarketBeat News</td>\n",
       "      <td>Arrow Electronics, Inc. (NYSE:ARW) Shares Purc...</td>\n",
       "      <td>QRG Capital Management Inc. increased its stak...</td>\n",
       "      <td>https://www.etfdailynews.com/2024/07/18/arrow-...</td>\n",
       "      <td>2024-07-18T14:36:45+00:00</td>\n",
       "      <td>positive</td>\n",
       "      <td>Technology</td>\n",
       "    </tr>\n",
       "    <tr>\n",
       "      <th>3496</th>\n",
       "      <td>etfdailynews</td>\n",
       "      <td>MarketBeat News</td>\n",
       "      <td>3,120 Shares in NICE Ltd. (NASDAQ:NICE) Bought...</td>\n",
       "      <td>QRG Capital Management Inc. bought a new posit...</td>\n",
       "      <td>https://www.etfdailynews.com/2024/07/18/3120-s...</td>\n",
       "      <td>2024-07-18T14:36:44+00:00</td>\n",
       "      <td>positive</td>\n",
       "      <td>Technology</td>\n",
       "    </tr>\n",
       "    <tr>\n",
       "      <th>3497</th>\n",
       "      <td>etfdailynews</td>\n",
       "      <td>MarketBeat News</td>\n",
       "      <td>QRG Capital Management Inc. Has $857,000 Stock...</td>\n",
       "      <td>QRG Capital Management Inc. boosted its stake ...</td>\n",
       "      <td>https://www.etfdailynews.com/2024/07/18/qrg-ca...</td>\n",
       "      <td>2024-07-18T14:36:43+00:00</td>\n",
       "      <td>positive</td>\n",
       "      <td>Technology</td>\n",
       "    </tr>\n",
       "    <tr>\n",
       "      <th>3498</th>\n",
       "      <td>finanznachrichten</td>\n",
       "      <td>NaN</td>\n",
       "      <td>Biotechnology Market: Surging Investments and ...</td>\n",
       "      <td>WESTFORD, Mass., July 18, 2024 /PRNewswire/ --...</td>\n",
       "      <td>https://www.finanznachrichten.de/nachrichten-2...</td>\n",
       "      <td>2024-07-18T14:36:00+00:00</td>\n",
       "      <td>neutral</td>\n",
       "      <td>Technology</td>\n",
       "    </tr>\n",
       "    <tr>\n",
       "      <th>3499</th>\n",
       "      <td>etfdailynews</td>\n",
       "      <td>MarketBeat News</td>\n",
       "      <td>QRG Capital Management Inc. Sells 1,665 Shares...</td>\n",
       "      <td>QRG Capital Management Inc. reduced its holdin...</td>\n",
       "      <td>https://www.etfdailynews.com/2024/07/18/qrg-ca...</td>\n",
       "      <td>2024-07-18T14:32:46+00:00</td>\n",
       "      <td>positive</td>\n",
       "      <td>Technology</td>\n",
       "    </tr>\n",
       "  </tbody>\n",
       "</table>\n",
       "<p>3500 rows × 8 columns</p>\n",
       "</div>"
      ],
      "text/plain": [
       "                 Source           Author  \\\n",
       "0               stgnews   Bridger Palmer   \n",
       "1         Zimbabwe Mail   Staff Reporter   \n",
       "2             4-traders              NaN   \n",
       "3             4-traders              NaN   \n",
       "4                PLANET              NaN   \n",
       "...                 ...              ...   \n",
       "3495       etfdailynews  MarketBeat News   \n",
       "3496       etfdailynews  MarketBeat News   \n",
       "3497       etfdailynews  MarketBeat News   \n",
       "3498  finanznachrichten              NaN   \n",
       "3499       etfdailynews  MarketBeat News   \n",
       "\n",
       "                                                  Title  \\\n",
       "0     Pine View High teacher wins Best in State awar...   \n",
       "1     Businesses Face Financial Strain Amid Liquidit...   \n",
       "2     Musk donates to super pac working to elect Tru...   \n",
       "3     US FTC issues warning to franchisors over unfa...   \n",
       "4                             Rooftop solar's dark side   \n",
       "...                                                 ...   \n",
       "3495  Arrow Electronics, Inc. (NYSE:ARW) Shares Purc...   \n",
       "3496  3,120 Shares in NICE Ltd. (NASDAQ:NICE) Bought...   \n",
       "3497  QRG Capital Management Inc. Has $857,000 Stock...   \n",
       "3498  Biotechnology Market: Surging Investments and ...   \n",
       "3499  QRG Capital Management Inc. Sells 1,665 Shares...   \n",
       "\n",
       "                                            Description  \\\n",
       "0     ST. GEORGE — Kaitlyn Larson, a first-year teac...   \n",
       "1     Harare, Zimbabwe – Local businesses are grappl...   \n",
       "2     (marketscreener.com) Billionaire Elon Musk has...   \n",
       "3     (marketscreener.com) A U.S. trade regulator on...   \n",
       "4     4.5 million households in the U.S. have solar ...   \n",
       "...                                                 ...   \n",
       "3495  QRG Capital Management Inc. increased its stak...   \n",
       "3496  QRG Capital Management Inc. bought a new posit...   \n",
       "3497  QRG Capital Management Inc. boosted its stake ...   \n",
       "3498  WESTFORD, Mass., July 18, 2024 /PRNewswire/ --...   \n",
       "3499  QRG Capital Management Inc. reduced its holdin...   \n",
       "\n",
       "                                                    URL  \\\n",
       "0     https://www.stgeorgeutah.com/news/archive/2024...   \n",
       "1     https://www.thezimbabwemail.com/business/busin...   \n",
       "2     https://www.marketscreener.com/business-leader...   \n",
       "3     https://www.marketscreener.com/quote/stock/MCD...   \n",
       "4     https://www.npr.org/2024/07/12/1197961036/roof...   \n",
       "...                                                 ...   \n",
       "3495  https://www.etfdailynews.com/2024/07/18/arrow-...   \n",
       "3496  https://www.etfdailynews.com/2024/07/18/3120-s...   \n",
       "3497  https://www.etfdailynews.com/2024/07/18/qrg-ca...   \n",
       "3498  https://www.finanznachrichten.de/nachrichten-2...   \n",
       "3499  https://www.etfdailynews.com/2024/07/18/qrg-ca...   \n",
       "\n",
       "                   Published At Sentiment        Type  \n",
       "0     2024-07-12T23:45:25+00:00  positive    Business  \n",
       "1     2024-07-12T22:59:42+00:00   neutral    Business  \n",
       "2     2024-07-12T22:52:55+00:00  positive    Business  \n",
       "3     2024-07-12T22:41:01+00:00  negative    Business  \n",
       "4     2024-07-12T22:28:19+00:00  positive    Business  \n",
       "...                         ...       ...         ...  \n",
       "3495  2024-07-18T14:36:45+00:00  positive  Technology  \n",
       "3496  2024-07-18T14:36:44+00:00  positive  Technology  \n",
       "3497  2024-07-18T14:36:43+00:00  positive  Technology  \n",
       "3498  2024-07-18T14:36:00+00:00   neutral  Technology  \n",
       "3499  2024-07-18T14:32:46+00:00  positive  Technology  \n",
       "\n",
       "[3500 rows x 8 columns]"
      ]
     },
     "execution_count": 9,
     "metadata": {},
     "output_type": "execute_result"
    }
   ],
   "source": [
    "df = pd.read_csv(\"../../../dados/nlp/news_sentiment_analysis.csv\", encoding=\"utf-8\")\n",
    "df"
   ]
  },
  {
   "cell_type": "code",
   "execution_count": 13,
   "id": "5ff80a05-5a70-4c67-9c81-710ad573ee19",
   "metadata": {},
   "outputs": [
    {
     "data": {
      "text/html": [
       "<div>\n",
       "<style scoped>\n",
       "    .dataframe tbody tr th:only-of-type {\n",
       "        vertical-align: middle;\n",
       "    }\n",
       "\n",
       "    .dataframe tbody tr th {\n",
       "        vertical-align: top;\n",
       "    }\n",
       "\n",
       "    .dataframe thead th {\n",
       "        text-align: right;\n",
       "    }\n",
       "</style>\n",
       "<table border=\"1\" class=\"dataframe\">\n",
       "  <thead>\n",
       "    <tr style=\"text-align: right;\">\n",
       "      <th></th>\n",
       "      <th>Description</th>\n",
       "      <th>Type</th>\n",
       "    </tr>\n",
       "  </thead>\n",
       "  <tbody>\n",
       "    <tr>\n",
       "      <th>0</th>\n",
       "      <td>ST. GEORGE — Kaitlyn Larson, a first-year teac...</td>\n",
       "      <td>Business</td>\n",
       "    </tr>\n",
       "    <tr>\n",
       "      <th>1</th>\n",
       "      <td>Harare, Zimbabwe – Local businesses are grappl...</td>\n",
       "      <td>Business</td>\n",
       "    </tr>\n",
       "    <tr>\n",
       "      <th>2</th>\n",
       "      <td>(marketscreener.com) Billionaire Elon Musk has...</td>\n",
       "      <td>Business</td>\n",
       "    </tr>\n",
       "    <tr>\n",
       "      <th>3</th>\n",
       "      <td>(marketscreener.com) A U.S. trade regulator on...</td>\n",
       "      <td>Business</td>\n",
       "    </tr>\n",
       "    <tr>\n",
       "      <th>4</th>\n",
       "      <td>4.5 million households in the U.S. have solar ...</td>\n",
       "      <td>Business</td>\n",
       "    </tr>\n",
       "    <tr>\n",
       "      <th>...</th>\n",
       "      <td>...</td>\n",
       "      <td>...</td>\n",
       "    </tr>\n",
       "    <tr>\n",
       "      <th>3495</th>\n",
       "      <td>QRG Capital Management Inc. increased its stak...</td>\n",
       "      <td>Technology</td>\n",
       "    </tr>\n",
       "    <tr>\n",
       "      <th>3496</th>\n",
       "      <td>QRG Capital Management Inc. bought a new posit...</td>\n",
       "      <td>Technology</td>\n",
       "    </tr>\n",
       "    <tr>\n",
       "      <th>3497</th>\n",
       "      <td>QRG Capital Management Inc. boosted its stake ...</td>\n",
       "      <td>Technology</td>\n",
       "    </tr>\n",
       "    <tr>\n",
       "      <th>3498</th>\n",
       "      <td>WESTFORD, Mass., July 18, 2024 /PRNewswire/ --...</td>\n",
       "      <td>Technology</td>\n",
       "    </tr>\n",
       "    <tr>\n",
       "      <th>3499</th>\n",
       "      <td>QRG Capital Management Inc. reduced its holdin...</td>\n",
       "      <td>Technology</td>\n",
       "    </tr>\n",
       "  </tbody>\n",
       "</table>\n",
       "<p>3500 rows × 2 columns</p>\n",
       "</div>"
      ],
      "text/plain": [
       "                                            Description        Type\n",
       "0     ST. GEORGE — Kaitlyn Larson, a first-year teac...    Business\n",
       "1     Harare, Zimbabwe – Local businesses are grappl...    Business\n",
       "2     (marketscreener.com) Billionaire Elon Musk has...    Business\n",
       "3     (marketscreener.com) A U.S. trade regulator on...    Business\n",
       "4     4.5 million households in the U.S. have solar ...    Business\n",
       "...                                                 ...         ...\n",
       "3495  QRG Capital Management Inc. increased its stak...  Technology\n",
       "3496  QRG Capital Management Inc. bought a new posit...  Technology\n",
       "3497  QRG Capital Management Inc. boosted its stake ...  Technology\n",
       "3498  WESTFORD, Mass., July 18, 2024 /PRNewswire/ --...  Technology\n",
       "3499  QRG Capital Management Inc. reduced its holdin...  Technology\n",
       "\n",
       "[3500 rows x 2 columns]"
      ]
     },
     "execution_count": 13,
     "metadata": {},
     "output_type": "execute_result"
    }
   ],
   "source": [
    "news_df = df[ [\"Description\", \"Type\"] ]\n",
    "news_df"
   ]
  },
  {
   "cell_type": "code",
   "execution_count": 17,
   "id": "b7d5a1c0-a43e-41b1-9e22-917a5e5d0c32",
   "metadata": {},
   "outputs": [],
   "source": [
    "tokenizer = Tokenizer( num_words = 1000 )"
   ]
  },
  {
   "cell_type": "code",
   "execution_count": 19,
   "id": "c92392da-e4f0-4d65-b846-2f8385563454",
   "metadata": {},
   "outputs": [],
   "source": [
    "tokenizer.fit_on_texts( news_df[\"Description\"] )"
   ]
  },
  {
   "cell_type": "code",
   "execution_count": 31,
   "id": "4013a8ca-c6a3-4f1b-9a8f-773010f53c4e",
   "metadata": {},
   "outputs": [],
   "source": [
    "sequences = tokenizer.texts_to_sequences( news_df[\"Description\"] )"
   ]
  },
  {
   "cell_type": "code",
   "execution_count": 33,
   "id": "3f380f0f-af65-4329-99c7-0f1a4b9d29a8",
   "metadata": {},
   "outputs": [
    {
     "data": {
      "text/plain": [
       "80"
      ]
     },
     "execution_count": 33,
     "metadata": {},
     "output_type": "execute_result"
    }
   ],
   "source": [
    "max_palavras = 0\n",
    "for sequence in sequences:\n",
    "    if len(sequence) > max_palavras:\n",
    "        max_palavras = len(sequence)\n",
    "max_palavras        "
   ]
  },
  {
   "cell_type": "code",
   "execution_count": 96,
   "id": "114fdda4-f93d-4936-91bf-9c76957d8a42",
   "metadata": {},
   "outputs": [
    {
     "data": {
      "text/plain": [
       "array([[598, 117,   5, ...,   0,   0,   0],\n",
       "       [211, 373, 212, ...,   0,   0,   0],\n",
       "       [ 28,  22,  26, ...,   0,   0,   0],\n",
       "       ...,\n",
       "       [216, 231,  36, ...,   0,   0,   0],\n",
       "       [933,  31,  96, ...,   0,   0,   0],\n",
       "       [216, 231,  36, ...,   0,   0,   0]])"
      ]
     },
     "execution_count": 96,
     "metadata": {},
     "output_type": "execute_result"
    }
   ],
   "source": [
    "sequences_padded = pad_sequences( sequences, padding=\"post\" )\n",
    "X = sequences_padded\n",
    "X"
   ]
  },
  {
   "cell_type": "markdown",
   "id": "720d2483-4a8e-4948-9c87-fd02efcc1e28",
   "metadata": {},
   "source": [
    "Business =>  [0, 0, 0, 1] \n",
    "Technology => [0, 0, 1, 0]\n",
    "Processamento => [ 0.002, 0.004, 0.9987, 0.002]"
   ]
  },
  {
   "cell_type": "code",
   "execution_count": 98,
   "id": "2a741058-3c01-4373-a852-3f5489296c54",
   "metadata": {},
   "outputs": [],
   "source": [
    "label_encoder = LabelEncoder()"
   ]
  },
  {
   "cell_type": "code",
   "execution_count": 102,
   "id": "d0d92977-c7dc-4ffc-ba4a-754308e44328",
   "metadata": {},
   "outputs": [
    {
     "data": {
      "text/plain": [
       "(3500,)"
      ]
     },
     "execution_count": 102,
     "metadata": {},
     "output_type": "execute_result"
    }
   ],
   "source": [
    "class_encoded = label_encoder.fit_transform( news_df[\"Type\"] )\n",
    "class_encoded.shape"
   ]
  },
  {
   "cell_type": "code",
   "execution_count": 104,
   "id": "dd8be5d3-18a1-4558-b56d-e6774a058f71",
   "metadata": {},
   "outputs": [],
   "source": [
    "# [[0], [0], [0], ..., [6], [6], [6]]\n",
    "class_encoded_2d = class_encoded.reshape( class_encoded.shape[0], 1 )"
   ]
  },
  {
   "cell_type": "code",
   "execution_count": 106,
   "id": "2a9f4c33-1c2b-409d-abb9-e22fd0381eb2",
   "metadata": {},
   "outputs": [],
   "source": [
    "one_hot_encoder = OneHotEncoder(sparse_output=False)"
   ]
  },
  {
   "cell_type": "code",
   "execution_count": 108,
   "id": "c0c57049-884d-4437-b501-180804ea2127",
   "metadata": {},
   "outputs": [
    {
     "data": {
      "text/plain": [
       "array([[1., 0., 0., ..., 0., 0., 0.],\n",
       "       [1., 0., 0., ..., 0., 0., 0.],\n",
       "       [1., 0., 0., ..., 0., 0., 0.],\n",
       "       ...,\n",
       "       [0., 0., 0., ..., 0., 0., 1.],\n",
       "       [0., 0., 0., ..., 0., 0., 1.],\n",
       "       [0., 0., 0., ..., 0., 0., 1.]])"
      ]
     },
     "execution_count": 108,
     "metadata": {},
     "output_type": "execute_result"
    }
   ],
   "source": [
    "Y = one_hot_encoder.fit_transform( class_encoded_2d )\n",
    "Y"
   ]
  },
  {
   "cell_type": "code",
   "execution_count": 110,
   "id": "17de7810-ab89-4b64-b903-9cbcc2451c53",
   "metadata": {},
   "outputs": [
    {
     "data": {
      "text/plain": [
       "(3500, 7)"
      ]
     },
     "execution_count": 110,
     "metadata": {},
     "output_type": "execute_result"
    }
   ],
   "source": [
    "Y.shape"
   ]
  },
  {
   "cell_type": "code",
   "execution_count": 144,
   "id": "8b3ed516-1905-40b5-873b-cf6c9a00ce0e",
   "metadata": {},
   "outputs": [
    {
     "data": {
      "text/html": [
       "<pre style=\"white-space:pre;overflow-x:auto;line-height:normal;font-family:Menlo,'DejaVu Sans Mono',consolas,'Courier New',monospace\"><span style=\"font-weight: bold\">Model: \"sequential_5\"</span>\n",
       "</pre>\n"
      ],
      "text/plain": [
       "\u001b[1mModel: \"sequential_5\"\u001b[0m\n"
      ]
     },
     "metadata": {},
     "output_type": "display_data"
    },
    {
     "data": {
      "text/html": [
       "<pre style=\"white-space:pre;overflow-x:auto;line-height:normal;font-family:Menlo,'DejaVu Sans Mono',consolas,'Courier New',monospace\">┏━━━━━━━━━━━━━━━━━━━━━━━━━━━━━━━━━━━━━━┳━━━━━━━━━━━━━━━━━━━━━━━━━━━━━┳━━━━━━━━━━━━━━━━━┓\n",
       "┃<span style=\"font-weight: bold\"> Layer (type)                         </span>┃<span style=\"font-weight: bold\"> Output Shape                </span>┃<span style=\"font-weight: bold\">         Param # </span>┃\n",
       "┡━━━━━━━━━━━━━━━━━━━━━━━━━━━━━━━━━━━━━━╇━━━━━━━━━━━━━━━━━━━━━━━━━━━━━╇━━━━━━━━━━━━━━━━━┩\n",
       "│ embedding_5 (<span style=\"color: #0087ff; text-decoration-color: #0087ff\">Embedding</span>)              │ ?                           │     <span style=\"color: #00af00; text-decoration-color: #00af00\">0</span> (unbuilt) │\n",
       "├──────────────────────────────────────┼─────────────────────────────┼─────────────────┤\n",
       "│ global_average_pooling1d_4           │ ?                           │               <span style=\"color: #00af00; text-decoration-color: #00af00\">0</span> │\n",
       "│ (<span style=\"color: #0087ff; text-decoration-color: #0087ff\">GlobalAveragePooling1D</span>)             │                             │                 │\n",
       "├──────────────────────────────────────┼─────────────────────────────┼─────────────────┤\n",
       "│ dense_8 (<span style=\"color: #0087ff; text-decoration-color: #0087ff\">Dense</span>)                      │ ?                           │     <span style=\"color: #00af00; text-decoration-color: #00af00\">0</span> (unbuilt) │\n",
       "├──────────────────────────────────────┼─────────────────────────────┼─────────────────┤\n",
       "│ dense_9 (<span style=\"color: #0087ff; text-decoration-color: #0087ff\">Dense</span>)                      │ ?                           │     <span style=\"color: #00af00; text-decoration-color: #00af00\">0</span> (unbuilt) │\n",
       "└──────────────────────────────────────┴─────────────────────────────┴─────────────────┘\n",
       "</pre>\n"
      ],
      "text/plain": [
       "┏━━━━━━━━━━━━━━━━━━━━━━━━━━━━━━━━━━━━━━┳━━━━━━━━━━━━━━━━━━━━━━━━━━━━━┳━━━━━━━━━━━━━━━━━┓\n",
       "┃\u001b[1m \u001b[0m\u001b[1mLayer (type)                        \u001b[0m\u001b[1m \u001b[0m┃\u001b[1m \u001b[0m\u001b[1mOutput Shape               \u001b[0m\u001b[1m \u001b[0m┃\u001b[1m \u001b[0m\u001b[1m        Param #\u001b[0m\u001b[1m \u001b[0m┃\n",
       "┡━━━━━━━━━━━━━━━━━━━━━━━━━━━━━━━━━━━━━━╇━━━━━━━━━━━━━━━━━━━━━━━━━━━━━╇━━━━━━━━━━━━━━━━━┩\n",
       "│ embedding_5 (\u001b[38;5;33mEmbedding\u001b[0m)              │ ?                           │     \u001b[38;5;34m0\u001b[0m (unbuilt) │\n",
       "├──────────────────────────────────────┼─────────────────────────────┼─────────────────┤\n",
       "│ global_average_pooling1d_4           │ ?                           │               \u001b[38;5;34m0\u001b[0m │\n",
       "│ (\u001b[38;5;33mGlobalAveragePooling1D\u001b[0m)             │                             │                 │\n",
       "├──────────────────────────────────────┼─────────────────────────────┼─────────────────┤\n",
       "│ dense_8 (\u001b[38;5;33mDense\u001b[0m)                      │ ?                           │     \u001b[38;5;34m0\u001b[0m (unbuilt) │\n",
       "├──────────────────────────────────────┼─────────────────────────────┼─────────────────┤\n",
       "│ dense_9 (\u001b[38;5;33mDense\u001b[0m)                      │ ?                           │     \u001b[38;5;34m0\u001b[0m (unbuilt) │\n",
       "└──────────────────────────────────────┴─────────────────────────────┴─────────────────┘\n"
      ]
     },
     "metadata": {},
     "output_type": "display_data"
    },
    {
     "data": {
      "text/html": [
       "<pre style=\"white-space:pre;overflow-x:auto;line-height:normal;font-family:Menlo,'DejaVu Sans Mono',consolas,'Courier New',monospace\"><span style=\"font-weight: bold\"> Total params: </span><span style=\"color: #00af00; text-decoration-color: #00af00\">0</span> (0.00 B)\n",
       "</pre>\n"
      ],
      "text/plain": [
       "\u001b[1m Total params: \u001b[0m\u001b[38;5;34m0\u001b[0m (0.00 B)\n"
      ]
     },
     "metadata": {},
     "output_type": "display_data"
    },
    {
     "data": {
      "text/html": [
       "<pre style=\"white-space:pre;overflow-x:auto;line-height:normal;font-family:Menlo,'DejaVu Sans Mono',consolas,'Courier New',monospace\"><span style=\"font-weight: bold\"> Trainable params: </span><span style=\"color: #00af00; text-decoration-color: #00af00\">0</span> (0.00 B)\n",
       "</pre>\n"
      ],
      "text/plain": [
       "\u001b[1m Trainable params: \u001b[0m\u001b[38;5;34m0\u001b[0m (0.00 B)\n"
      ]
     },
     "metadata": {},
     "output_type": "display_data"
    },
    {
     "data": {
      "text/html": [
       "<pre style=\"white-space:pre;overflow-x:auto;line-height:normal;font-family:Menlo,'DejaVu Sans Mono',consolas,'Courier New',monospace\"><span style=\"font-weight: bold\"> Non-trainable params: </span><span style=\"color: #00af00; text-decoration-color: #00af00\">0</span> (0.00 B)\n",
       "</pre>\n"
      ],
      "text/plain": [
       "\u001b[1m Non-trainable params: \u001b[0m\u001b[38;5;34m0\u001b[0m (0.00 B)\n"
      ]
     },
     "metadata": {},
     "output_type": "display_data"
    }
   ],
   "source": [
    "modelo = Sequential()\n",
    "modelo.add( Embedding( input_dim=1000, output_dim=128 ))\n",
    "modelo.add( GlobalAveragePooling1D() )\n",
    "modelo.add( Dense( 128, activation=\"relu\") )\n",
    "modelo.add( Dense( 7, activation=\"softmax\") )\n",
    "modelo.summary()"
   ]
  },
  {
   "cell_type": "code",
   "execution_count": 158,
   "id": "ce5a4b04-4e39-453b-b3ff-15d2115e95dd",
   "metadata": {},
   "outputs": [],
   "source": [
    "modelo.compile( optimizer=\"adam\", loss=\"categorical_crossentropy\", metrics=[\"accuracy\"])"
   ]
  },
  {
   "cell_type": "code",
   "execution_count": 160,
   "id": "fad68a80-1827-4757-83e0-9fbfb5d3a751",
   "metadata": {},
   "outputs": [],
   "source": [
    "X_train, X_test, Y_train, Y_test = train_test_split(X, Y, random_state=150)"
   ]
  },
  {
   "cell_type": "code",
   "execution_count": 162,
   "id": "5b2615a2-9263-49f5-8271-88d09b218042",
   "metadata": {},
   "outputs": [
    {
     "name": "stdout",
     "output_type": "stream",
     "text": [
      "Epoch 1/20\n",
      "\u001b[1m83/83\u001b[0m \u001b[32m━━━━━━━━━━━━━━━━━━━━\u001b[0m\u001b[37m\u001b[0m \u001b[1m2s\u001b[0m 5ms/step - accuracy: 0.9390 - loss: 0.1479\n",
      "Epoch 2/20\n",
      "\u001b[1m83/83\u001b[0m \u001b[32m━━━━━━━━━━━━━━━━━━━━\u001b[0m\u001b[37m\u001b[0m \u001b[1m1s\u001b[0m 5ms/step - accuracy: 0.9517 - loss: 0.1103\n",
      "Epoch 3/20\n",
      "\u001b[1m83/83\u001b[0m \u001b[32m━━━━━━━━━━━━━━━━━━━━\u001b[0m\u001b[37m\u001b[0m \u001b[1m1s\u001b[0m 7ms/step - accuracy: 0.9500 - loss: 0.1119\n",
      "Epoch 4/20\n",
      "\u001b[1m83/83\u001b[0m \u001b[32m━━━━━━━━━━━━━━━━━━━━\u001b[0m\u001b[37m\u001b[0m \u001b[1m0s\u001b[0m 5ms/step - accuracy: 0.9514 - loss: 0.1232\n",
      "Epoch 5/20\n",
      "\u001b[1m83/83\u001b[0m \u001b[32m━━━━━━━━━━━━━━━━━━━━\u001b[0m\u001b[37m\u001b[0m \u001b[1m0s\u001b[0m 5ms/step - accuracy: 0.9542 - loss: 0.1037\n",
      "Epoch 6/20\n",
      "\u001b[1m83/83\u001b[0m \u001b[32m━━━━━━━━━━━━━━━━━━━━\u001b[0m\u001b[37m\u001b[0m \u001b[1m1s\u001b[0m 8ms/step - accuracy: 0.9531 - loss: 0.1038\n",
      "Epoch 7/20\n",
      "\u001b[1m83/83\u001b[0m \u001b[32m━━━━━━━━━━━━━━━━━━━━\u001b[0m\u001b[37m\u001b[0m \u001b[1m1s\u001b[0m 6ms/step - accuracy: 0.9594 - loss: 0.0994\n",
      "Epoch 8/20\n",
      "\u001b[1m83/83\u001b[0m \u001b[32m━━━━━━━━━━━━━━━━━━━━\u001b[0m\u001b[37m\u001b[0m \u001b[1m0s\u001b[0m 5ms/step - accuracy: 0.9518 - loss: 0.0882\n",
      "Epoch 9/20\n",
      "\u001b[1m83/83\u001b[0m \u001b[32m━━━━━━━━━━━━━━━━━━━━\u001b[0m\u001b[37m\u001b[0m \u001b[1m0s\u001b[0m 5ms/step - accuracy: 0.9512 - loss: 0.0979\n",
      "Epoch 10/20\n",
      "\u001b[1m83/83\u001b[0m \u001b[32m━━━━━━━━━━━━━━━━━━━━\u001b[0m\u001b[37m\u001b[0m \u001b[1m0s\u001b[0m 5ms/step - accuracy: 0.9545 - loss: 0.0887\n",
      "Epoch 11/20\n",
      "\u001b[1m83/83\u001b[0m \u001b[32m━━━━━━━━━━━━━━━━━━━━\u001b[0m\u001b[37m\u001b[0m \u001b[1m0s\u001b[0m 5ms/step - accuracy: 0.9661 - loss: 0.0793\n",
      "Epoch 12/20\n",
      "\u001b[1m83/83\u001b[0m \u001b[32m━━━━━━━━━━━━━━━━━━━━\u001b[0m\u001b[37m\u001b[0m \u001b[1m0s\u001b[0m 5ms/step - accuracy: 0.9615 - loss: 0.0825\n",
      "Epoch 13/20\n",
      "\u001b[1m83/83\u001b[0m \u001b[32m━━━━━━━━━━━━━━━━━━━━\u001b[0m\u001b[37m\u001b[0m \u001b[1m1s\u001b[0m 6ms/step - accuracy: 0.9703 - loss: 0.0700\n",
      "Epoch 14/20\n",
      "\u001b[1m83/83\u001b[0m \u001b[32m━━━━━━━━━━━━━━━━━━━━\u001b[0m\u001b[37m\u001b[0m \u001b[1m1s\u001b[0m 6ms/step - accuracy: 0.9581 - loss: 0.1066\n",
      "Epoch 15/20\n",
      "\u001b[1m83/83\u001b[0m \u001b[32m━━━━━━━━━━━━━━━━━━━━\u001b[0m\u001b[37m\u001b[0m \u001b[1m1s\u001b[0m 6ms/step - accuracy: 0.9661 - loss: 0.0797\n",
      "Epoch 16/20\n",
      "\u001b[1m83/83\u001b[0m \u001b[32m━━━━━━━━━━━━━━━━━━━━\u001b[0m\u001b[37m\u001b[0m \u001b[1m1s\u001b[0m 6ms/step - accuracy: 0.9655 - loss: 0.0773\n",
      "Epoch 17/20\n",
      "\u001b[1m83/83\u001b[0m \u001b[32m━━━━━━━━━━━━━━━━━━━━\u001b[0m\u001b[37m\u001b[0m \u001b[1m0s\u001b[0m 4ms/step - accuracy: 0.9666 - loss: 0.0714\n",
      "Epoch 18/20\n",
      "\u001b[1m83/83\u001b[0m \u001b[32m━━━━━━━━━━━━━━━━━━━━\u001b[0m\u001b[37m\u001b[0m \u001b[1m0s\u001b[0m 4ms/step - accuracy: 0.9617 - loss: 0.0860\n",
      "Epoch 19/20\n",
      "\u001b[1m83/83\u001b[0m \u001b[32m━━━━━━━━━━━━━━━━━━━━\u001b[0m\u001b[37m\u001b[0m \u001b[1m0s\u001b[0m 4ms/step - accuracy: 0.9520 - loss: 0.0923\n",
      "Epoch 20/20\n",
      "\u001b[1m83/83\u001b[0m \u001b[32m━━━━━━━━━━━━━━━━━━━━\u001b[0m\u001b[37m\u001b[0m \u001b[1m0s\u001b[0m 4ms/step - accuracy: 0.9675 - loss: 0.0772\n"
     ]
    }
   ],
   "source": [
    "history_fit = modelo.fit(X_train, Y_train, epochs=20, batch_size=32)"
   ]
  },
  {
   "cell_type": "code",
   "execution_count": 166,
   "id": "49c20238-ef01-43a9-b19b-7cab842b89d7",
   "metadata": {},
   "outputs": [
    {
     "data": {
      "text/plain": [
       "{'accuracy': [0.9440000057220459,\n",
       "  0.9554286003112793,\n",
       "  0.9531428813934326,\n",
       "  0.9489523768424988,\n",
       "  0.9527618885040283,\n",
       "  0.9561904668807983,\n",
       "  0.9561904668807983,\n",
       "  0.9508571624755859,\n",
       "  0.9497143030166626,\n",
       "  0.955047607421875,\n",
       "  0.9603809714317322,\n",
       "  0.9588571190834045,\n",
       "  0.9626666903495789,\n",
       "  0.9588571190834045,\n",
       "  0.9577142596244812,\n",
       "  0.9592381119728088,\n",
       "  0.9588571190834045,\n",
       "  0.9558095335960388,\n",
       "  0.9565714001655579,\n",
       "  0.9615238308906555],\n",
       " 'loss': [0.13270774483680725,\n",
       "  0.10650815814733505,\n",
       "  0.10637135058641434,\n",
       "  0.12741129100322723,\n",
       "  0.10967208445072174,\n",
       "  0.09738529473543167,\n",
       "  0.10456728935241699,\n",
       "  0.09491871297359467,\n",
       "  0.10467556864023209,\n",
       "  0.0911480113863945,\n",
       "  0.08457796275615692,\n",
       "  0.08868052810430527,\n",
       "  0.08882089704275131,\n",
       "  0.09844297915697098,\n",
       "  0.09071151167154312,\n",
       "  0.0851958617568016,\n",
       "  0.08566555380821228,\n",
       "  0.08879466354846954,\n",
       "  0.09130117297172546,\n",
       "  0.0822903960943222]}"
      ]
     },
     "execution_count": 166,
     "metadata": {},
     "output_type": "execute_result"
    }
   ],
   "source": [
    "history_fit.history"
   ]
  },
  {
   "cell_type": "code",
   "execution_count": 168,
   "id": "62250fb9-dec6-441a-bffb-536af23a9125",
   "metadata": {},
   "outputs": [],
   "source": [
    "import matplotlib.pyplot as plt"
   ]
  },
  {
   "cell_type": "code",
   "execution_count": 172,
   "id": "43d49ef9-6278-47be-b7f6-977fd7e3c57f",
   "metadata": {},
   "outputs": [
    {
     "data": {
      "image/png": "[encoded data removed]",
      "text/plain": [
       "<Figure size 640x480 with 1 Axes>"
      ]
     },
     "metadata": {},
     "output_type": "display_data"
    }
   ],
   "source": [
    "plt.plot(history_fit.history[\"accuracy\"], color=\"green\")\n",
    "plt.plot(history_fit.history[\"loss\"], color=\"red\")\n",
    "plt.show()"
   ]
  },
  {
   "cell_type": "code",
   "execution_count": 178,
   "id": "cf52cc6b-4dd8-4c81-9206-b0e107ab8d59",
   "metadata": {},
   "outputs": [
    {
     "ename": "ValueError",
     "evalue": "y contains previously unseen labels: 'IBM sell stock options'",
     "output_type": "error",
     "traceback": [
      "\u001b[1;31m---------------------------------------------------------------------------\u001b[0m",
      "\u001b[1;31mKeyError\u001b[0m                                  Traceback (most recent call last)",
      "File \u001b[1;32mC:\\ProgramData\\anaconda3\\Lib\\site-packages\\sklearn\\utils\\_encode.py:225\u001b[0m, in \u001b[0;36m_encode\u001b[1;34m(values, uniques, check_unknown)\u001b[0m\n\u001b[0;32m    224\u001b[0m \u001b[38;5;28;01mtry\u001b[39;00m:\n\u001b[1;32m--> 225\u001b[0m     \u001b[38;5;28;01mreturn\u001b[39;00m _map_to_integer(values, uniques)\n\u001b[0;32m    226\u001b[0m \u001b[38;5;28;01mexcept\u001b[39;00m \u001b[38;5;167;01mKeyError\u001b[39;00m \u001b[38;5;28;01mas\u001b[39;00m e:\n",
      "File \u001b[1;32mC:\\ProgramData\\anaconda3\\Lib\\site-packages\\sklearn\\utils\\_encode.py:165\u001b[0m, in \u001b[0;36m_map_to_integer\u001b[1;34m(values, uniques)\u001b[0m\n\u001b[0;32m    164\u001b[0m table \u001b[38;5;241m=\u001b[39m _nandict({val: i \u001b[38;5;28;01mfor\u001b[39;00m i, val \u001b[38;5;129;01min\u001b[39;00m \u001b[38;5;28menumerate\u001b[39m(uniques)})\n\u001b[1;32m--> 165\u001b[0m \u001b[38;5;28;01mreturn\u001b[39;00m np\u001b[38;5;241m.\u001b[39marray([table[v] \u001b[38;5;28;01mfor\u001b[39;00m v \u001b[38;5;129;01min\u001b[39;00m values])\n",
      "File \u001b[1;32mC:\\ProgramData\\anaconda3\\Lib\\site-packages\\sklearn\\utils\\_encode.py:159\u001b[0m, in \u001b[0;36m_nandict.__missing__\u001b[1;34m(self, key)\u001b[0m\n\u001b[0;32m    158\u001b[0m     \u001b[38;5;28;01mreturn\u001b[39;00m \u001b[38;5;28mself\u001b[39m\u001b[38;5;241m.\u001b[39mnan_value\n\u001b[1;32m--> 159\u001b[0m \u001b[38;5;28;01mraise\u001b[39;00m \u001b[38;5;167;01mKeyError\u001b[39;00m(key)\n",
      "\u001b[1;31mKeyError\u001b[0m: 'IBM sell stock options'",
      "\nDuring handling of the above exception, another exception occurred:\n",
      "\u001b[1;31mValueError\u001b[0m                                Traceback (most recent call last)",
      "Cell \u001b[1;32mIn[178], line 2\u001b[0m\n\u001b[0;32m      1\u001b[0m texto \u001b[38;5;241m=\u001b[39m \u001b[38;5;124m\"\u001b[39m\u001b[38;5;124mIBM sell stock options\u001b[39m\u001b[38;5;124m\"\u001b[39m\n\u001b[1;32m----> 2\u001b[0m label_encoder\u001b[38;5;241m.\u001b[39mtransform( [texto] )\n",
      "File \u001b[1;32mC:\\ProgramData\\anaconda3\\Lib\\site-packages\\sklearn\\preprocessing\\_label.py:137\u001b[0m, in \u001b[0;36mLabelEncoder.transform\u001b[1;34m(self, y)\u001b[0m\n\u001b[0;32m    134\u001b[0m \u001b[38;5;28;01mif\u001b[39;00m _num_samples(y) \u001b[38;5;241m==\u001b[39m \u001b[38;5;241m0\u001b[39m:\n\u001b[0;32m    135\u001b[0m     \u001b[38;5;28;01mreturn\u001b[39;00m np\u001b[38;5;241m.\u001b[39marray([])\n\u001b[1;32m--> 137\u001b[0m \u001b[38;5;28;01mreturn\u001b[39;00m _encode(y, uniques\u001b[38;5;241m=\u001b[39m\u001b[38;5;28mself\u001b[39m\u001b[38;5;241m.\u001b[39mclasses_)\n",
      "File \u001b[1;32mC:\\ProgramData\\anaconda3\\Lib\\site-packages\\sklearn\\utils\\_encode.py:227\u001b[0m, in \u001b[0;36m_encode\u001b[1;34m(values, uniques, check_unknown)\u001b[0m\n\u001b[0;32m    225\u001b[0m         \u001b[38;5;28;01mreturn\u001b[39;00m _map_to_integer(values, uniques)\n\u001b[0;32m    226\u001b[0m     \u001b[38;5;28;01mexcept\u001b[39;00m \u001b[38;5;167;01mKeyError\u001b[39;00m \u001b[38;5;28;01mas\u001b[39;00m e:\n\u001b[1;32m--> 227\u001b[0m         \u001b[38;5;28;01mraise\u001b[39;00m \u001b[38;5;167;01mValueError\u001b[39;00m(\u001b[38;5;124mf\u001b[39m\u001b[38;5;124m\"\u001b[39m\u001b[38;5;124my contains previously unseen labels: \u001b[39m\u001b[38;5;132;01m{\u001b[39;00m\u001b[38;5;28mstr\u001b[39m(e)\u001b[38;5;132;01m}\u001b[39;00m\u001b[38;5;124m\"\u001b[39m)\n\u001b[0;32m    228\u001b[0m \u001b[38;5;28;01melse\u001b[39;00m:\n\u001b[0;32m    229\u001b[0m     \u001b[38;5;28;01mif\u001b[39;00m check_unknown:\n",
      "\u001b[1;31mValueError\u001b[0m: y contains previously unseen labels: 'IBM sell stock options'"
     ]
    }
   ],
   "source": [
    "texto = \"IBM sell stock options\"\n",
    "... \n",
    "resultado = modelo.predict( [ pad_sequences_texto_a_ser_avaliado] ) \n",
    "label_encoder.inverse_transform( resultado  ) "
   ]
  },
  {
   "cell_type": "code",
   "execution_count": null,
   "id": "aad87e96-803a-426d-b8e2-047f8b5f110d",
   "metadata": {},
   "outputs": [],
   "source": []
  }
 ],
 "metadata": {
  "kernelspec": {
   "display_name": "Python [conda env:base] *",
   "language": "python",
   "name": "conda-base-py"
  },
  "language_info": {
   "codemirror_mode": {
    "name": "ipython",
    "version": 3
   },
   "file_extension": ".py",
   "mimetype": "text/x-python",
   "name": "python",
   "nbconvert_exporter": "python",
   "pygments_lexer": "ipython3",
   "version": "3.12.7"
  }
 },
 "nbformat": 4,
 "nbformat_minor": 5
}
