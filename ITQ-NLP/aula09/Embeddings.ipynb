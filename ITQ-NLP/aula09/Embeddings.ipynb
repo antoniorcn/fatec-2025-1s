{
 "cells": [
  {
   "cell_type": "code",
   "execution_count": 1,
   "id": "6a1a9306-3de1-4673-9a57-20eecfbbec05",
   "metadata": {},
   "outputs": [
    {
     "name": "stdout",
     "output_type": "stream",
     "text": [
      "Defaulting to user installation because normal site-packages is not writeable\n",
      "Looking in indexes: https://pypi.org/simple, https://pypi.ngc.nvidia.com\n",
      "Requirement already satisfied: gensim in c:\\programdata\\anaconda3\\lib\\site-packages (4.3.3)\n",
      "Requirement already satisfied: numpy<2.0,>=1.18.5 in c:\\programdata\\anaconda3\\lib\\site-packages (from gensim) (1.26.4)\n",
      "Requirement already satisfied: scipy<1.14.0,>=1.7.0 in c:\\programdata\\anaconda3\\lib\\site-packages (from gensim) (1.13.1)\n",
      "Requirement already satisfied: smart-open>=1.8.1 in c:\\programdata\\anaconda3\\lib\\site-packages (from gensim) (5.2.1)\n"
     ]
    }
   ],
   "source": [
    "!pip install gensim"
   ]
  },
  {
   "cell_type": "code",
   "execution_count": 35,
   "id": "80ae5fae-6f6d-4e78-a05e-0a8fd9ea215f",
   "metadata": {},
   "outputs": [],
   "source": [
    "import numpy as np"
   ]
  },
  {
   "cell_type": "code",
   "execution_count": 3,
   "id": "42bf2a0e-2a3d-409b-a3ef-0c18fac1d2d8",
   "metadata": {},
   "outputs": [],
   "source": [
    "from gensim.models import Word2Vec, KeyedVectors"
   ]
  },
  {
   "cell_type": "code",
   "execution_count": 9,
   "id": "1d9ec5ff-f3ec-4653-90c8-c008208c9ff4",
   "metadata": {},
   "outputs": [],
   "source": [
    "modelo = KeyedVectors.load_word2vec_format(\"../../../dados/nlp/skip_s100/skip_s100.txt\")"
   ]
  },
  {
   "cell_type": "code",
   "execution_count": 31,
   "id": "2025869e-c45a-427a-aae0-170c067378b9",
   "metadata": {},
   "outputs": [
    {
     "name": "stdout",
     "output_type": "stream",
     "text": [
      "[-0.120855  0.142748  0.33329  -0.458408  0.165795  0.115795 -0.09248\n",
      "  0.118047  0.204536 -0.043614  0.520415 -0.243856 -0.138482  0.013037\n",
      "  0.271511  0.074955  0.169142  0.203659  0.081966  0.206962  0.139761\n",
      "  0.055289  0.180872  0.066996  0.059843 -0.007463  0.064181 -0.02115\n",
      "  0.144298  0.055224 -0.063123 -0.119951 -0.314943 -0.085055  0.085\n",
      " -0.236553 -0.079574 -0.039084 -0.09841   0.320326  0.338962 -0.093811\n",
      "  0.046141 -0.256948 -0.087286 -0.209481  0.152284  0.021496  0.15237\n",
      "  0.217062 -0.260962 -0.460695  0.424814  0.413395  0.178936  0.244298\n",
      " -0.10086  -0.242971 -0.055021  0.480354  0.057856 -0.159296 -0.131148\n",
      " -0.053389 -0.121464  0.083543  0.421867  0.107399  0.029249  0.224346\n",
      "  0.149752  0.321111  0.029659 -0.104618 -0.12109  -0.149852  0.128889\n",
      "  0.201505 -0.261895 -0.274536  0.044398  0.256269 -0.187358  0.012207\n",
      "  0.140001 -0.434473  0.297021  0.075083  0.06117  -0.031541 -0.27074\n",
      "  0.070647 -0.288571 -0.146701 -0.341435 -0.032322 -0.091296  0.059748\n",
      "  0.210659 -0.09091 ]\n"
     ]
    }
   ],
   "source": [
    "try: \n",
    "    print(modelo[\"cachorro\"])    \n",
    "except KeyError as e:\n",
    "    print(e)"
   ]
  },
  {
   "cell_type": "code",
   "execution_count": 61,
   "id": "9948f788-e4ce-43be-9495-76505051dd3f",
   "metadata": {},
   "outputs": [
    {
     "name": "stdout",
     "output_type": "stream",
     "text": [
      "0.39623857\n"
     ]
    }
   ],
   "source": [
    "try: \n",
    "    # cossim = np.dot(modelo[\"berço\"], modelo[\"mamona\"])\n",
    "    cossim = modelo.similarity(\"gato\", \"gata\")\n",
    "    print(cossim) \n",
    "except KeyError as e:\n",
    "    print(e)"
   ]
  },
  {
   "cell_type": "code",
   "execution_count": 63,
   "id": "c1cc357c-70af-4ef3-9eed-6cebec9f181f",
   "metadata": {},
   "outputs": [
    {
     "data": {
      "text/plain": [
       "0.75592977"
      ]
     },
     "execution_count": 63,
     "metadata": {},
     "output_type": "execute_result"
    }
   ],
   "source": [
    "modelo.similarity(\"avião\", \"carro\")"
   ]
  },
  {
   "cell_type": "code",
   "execution_count": 65,
   "id": "b785bf8d-827c-4be6-9fa9-3b15228f00b2",
   "metadata": {},
   "outputs": [
    {
     "data": {
      "text/plain": [
       "0.50488496"
      ]
     },
     "execution_count": 65,
     "metadata": {},
     "output_type": "execute_result"
    }
   ],
   "source": [
    "modelo.similarity(\"avião\", \"cavalo\")"
   ]
  },
  {
   "cell_type": "code",
   "execution_count": 77,
   "id": "ba4a031f-1631-4b59-9868-c6462935a91d",
   "metadata": {},
   "outputs": [
    {
     "data": {
      "text/plain": [
       "0.9269594"
      ]
     },
     "execution_count": 77,
     "metadata": {},
     "output_type": "execute_result"
    }
   ],
   "source": [
    "modelo.similarity(\"carro\", \"veículo\")"
   ]
  },
  {
   "cell_type": "code",
   "execution_count": 71,
   "id": "d6faee50-fb61-4c7c-9da4-4441626c8365",
   "metadata": {},
   "outputs": [
    {
     "data": {
      "text/plain": [
       "[('veículo', 0.9269594550132751),\n",
       " ('caminhão', 0.8951947689056396),\n",
       " ('passageiro', 0.8498534560203552),\n",
       " ('jipe', 0.8236057758331299),\n",
       " ('motorista', 0.8194946646690369),\n",
       " ('trator', 0.8144297003746033),\n",
       " ('furgão', 0.8051446676254272),\n",
       " ('táxi', 0.7928332090377808),\n",
       " ('motociclista', 0.7739293575286865),\n",
       " ('ciclomotor', 0.770149827003479)]"
      ]
     },
     "execution_count": 71,
     "metadata": {},
     "output_type": "execute_result"
    }
   ],
   "source": [
    "modelo.most_similar(\"carro\")"
   ]
  },
  {
   "cell_type": "code",
   "execution_count": 79,
   "id": "02c57271-1003-43db-a2b8-5a27b7be9d5c",
   "metadata": {},
   "outputs": [
    {
     "data": {
      "text/plain": [
       "[('rainha-consorte', 0.7912216186523438),\n",
       " ('primogénita', 0.7738461494445801),\n",
       " ('imperatriz-mãe', 0.7646884322166443),\n",
       " ('paleóloga', 0.752788245677948),\n",
       " ('dama-de-companhia', 0.7478024363517761),\n",
       " ('consorte', 0.7475903630256653),\n",
       " ('princesa-eleitora', 0.7472771406173706),\n",
       " ('piroska', 0.7468665838241577),\n",
       " ('ulrica', 0.7454056143760681),\n",
       " ('ranavalona', 0.7441917657852173)]"
      ]
     },
     "execution_count": 79,
     "metadata": {},
     "output_type": "execute_result"
    }
   ],
   "source": [
    "modelo.most_similar(positive=[\"rei\", \"mulher\"], negative=[\"homem\"])"
   ]
  },
  {
   "cell_type": "code",
   "execution_count": 81,
   "id": "bcd7536b-b261-40aa-83dd-a13adfe38eb7",
   "metadata": {},
   "outputs": [
    {
     "data": {
      "text/plain": [
       "'renda'"
      ]
     },
     "execution_count": 81,
     "metadata": {},
     "output_type": "execute_result"
    }
   ],
   "source": [
    "modelo.doesnt_match( [\"carro\", \"avião\", \"barco\", \"cavalo\", \"bicicleta\", \"renda\"] ) "
   ]
  },
  {
   "cell_type": "code",
   "execution_count": null,
   "id": "af9af456-6105-467f-bf9e-0c34005481cc",
   "metadata": {},
   "outputs": [],
   "source": []
  }
 ],
 "metadata": {
  "kernelspec": {
   "display_name": "Python [conda env:base] *",
   "language": "python",
   "name": "conda-base-py"
  },
  "language_info": {
   "codemirror_mode": {
    "name": "ipython",
    "version": 3
   },
   "file_extension": ".py",
   "mimetype": "text/x-python",
   "name": "python",
   "nbconvert_exporter": "python",
   "pygments_lexer": "ipython3",
   "version": "3.12.7"
  }
 },
 "nbformat": 4,
 "nbformat_minor": 5
}
