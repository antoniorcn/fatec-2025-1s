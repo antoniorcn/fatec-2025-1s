{
 "cells": [
  {
   "cell_type": "code",
   "execution_count": 1,
   "id": "b06a11f6-e591-4054-99db-874b604573d6",
   "metadata": {},
   "outputs": [],
   "source": [
    "import pandas as pd"
   ]
  },
  {
   "cell_type": "code",
   "execution_count": 2,
   "id": "94e7ff0d-839b-4b78-86ae-3bbade1011d9",
   "metadata": {},
   "outputs": [],
   "source": [
    "import numpy as np"
   ]
  },
  {
   "cell_type": "code",
   "execution_count": 3,
   "id": "cca06ed4-3539-4f9e-9b9b-7617fe0b72f7",
   "metadata": {},
   "outputs": [],
   "source": [
    "import tensorflow as tf"
   ]
  },
  {
   "cell_type": "code",
   "execution_count": 4,
   "id": "2ab0bc6b-657b-4412-9b7b-195ef64d1186",
   "metadata": {},
   "outputs": [],
   "source": [
    "from tensorflow.keras.preprocessing.text import Tokenizer"
   ]
  },
  {
   "cell_type": "code",
   "execution_count": 5,
   "id": "9aef21e0-0ad4-459c-a683-fb56b824aa05",
   "metadata": {},
   "outputs": [],
   "source": [
    "from tensorflow.keras.preprocessing.sequence import pad_sequences"
   ]
  },
  {
   "cell_type": "code",
   "execution_count": 6,
   "id": "53e648ba-510b-470b-80bf-d9309f88b72b",
   "metadata": {},
   "outputs": [],
   "source": [
    "from sklearn.preprocessing import LabelEncoder, OneHotEncoder"
   ]
  },
  {
   "cell_type": "code",
   "execution_count": 7,
   "id": "463d7059-4358-4199-8ab8-3f26c73657ea",
   "metadata": {},
   "outputs": [],
   "source": [
    "from sklearn.model_selection import train_test_split"
   ]
  },
  {
   "cell_type": "code",
   "execution_count": 8,
   "id": "5df4ff73-bb9a-4b63-9fb8-67078a923a84",
   "metadata": {},
   "outputs": [],
   "source": [
    "from tensorflow.keras import Sequential"
   ]
  },
  {
   "cell_type": "code",
   "execution_count": 9,
   "id": "cf38afe1-d7f8-4dd4-a3ea-02ee55a1a206",
   "metadata": {
    "scrolled": true
   },
   "outputs": [],
   "source": [
    "from tensorflow.keras.layers import Dense, Embedding, GlobalAveragePooling1D, Input"
   ]
  },
  {
   "cell_type": "code",
   "execution_count": 10,
   "id": "c01e4dd7-8816-4f95-8e8c-cb3a3b919f13",
   "metadata": {
    "scrolled": true
   },
   "outputs": [
    {
     "data": {
      "text/html": [
       "<div>\n",
       "<style scoped>\n",
       "    .dataframe tbody tr th:only-of-type {\n",
       "        vertical-align: middle;\n",
       "    }\n",
       "\n",
       "    .dataframe tbody tr th {\n",
       "        vertical-align: top;\n",
       "    }\n",
       "\n",
       "    .dataframe thead th {\n",
       "        text-align: right;\n",
       "    }\n",
       "</style>\n",
       "<table border=\"1\" class=\"dataframe\">\n",
       "  <thead>\n",
       "    <tr style=\"text-align: right;\">\n",
       "      <th></th>\n",
       "      <th>Source</th>\n",
       "      <th>Author</th>\n",
       "      <th>Title</th>\n",
       "      <th>Description</th>\n",
       "      <th>URL</th>\n",
       "      <th>Published At</th>\n",
       "      <th>Sentiment</th>\n",
       "      <th>Type</th>\n",
       "    </tr>\n",
       "  </thead>\n",
       "  <tbody>\n",
       "    <tr>\n",
       "      <th>0</th>\n",
       "      <td>stgnews</td>\n",
       "      <td>Bridger Palmer</td>\n",
       "      <td>Pine View High teacher wins Best in State awar...</td>\n",
       "      <td>ST. GEORGE — Kaitlyn Larson, a first-year teac...</td>\n",
       "      <td>https://www.stgeorgeutah.com/news/archive/2024...</td>\n",
       "      <td>2024-07-12T23:45:25+00:00</td>\n",
       "      <td>positive</td>\n",
       "      <td>Business</td>\n",
       "    </tr>\n",
       "    <tr>\n",
       "      <th>1</th>\n",
       "      <td>Zimbabwe Mail</td>\n",
       "      <td>Staff Reporter</td>\n",
       "      <td>Businesses Face Financial Strain Amid Liquidit...</td>\n",
       "      <td>Harare, Zimbabwe – Local businesses are grappl...</td>\n",
       "      <td>https://www.thezimbabwemail.com/business/busin...</td>\n",
       "      <td>2024-07-12T22:59:42+00:00</td>\n",
       "      <td>neutral</td>\n",
       "      <td>Business</td>\n",
       "    </tr>\n",
       "    <tr>\n",
       "      <th>2</th>\n",
       "      <td>4-traders</td>\n",
       "      <td>NaN</td>\n",
       "      <td>Musk donates to super pac working to elect Tru...</td>\n",
       "      <td>(marketscreener.com) Billionaire Elon Musk has...</td>\n",
       "      <td>https://www.marketscreener.com/business-leader...</td>\n",
       "      <td>2024-07-12T22:52:55+00:00</td>\n",
       "      <td>positive</td>\n",
       "      <td>Business</td>\n",
       "    </tr>\n",
       "    <tr>\n",
       "      <th>3</th>\n",
       "      <td>4-traders</td>\n",
       "      <td>NaN</td>\n",
       "      <td>US FTC issues warning to franchisors over unfa...</td>\n",
       "      <td>(marketscreener.com) A U.S. trade regulator on...</td>\n",
       "      <td>https://www.marketscreener.com/quote/stock/MCD...</td>\n",
       "      <td>2024-07-12T22:41:01+00:00</td>\n",
       "      <td>negative</td>\n",
       "      <td>Business</td>\n",
       "    </tr>\n",
       "    <tr>\n",
       "      <th>4</th>\n",
       "      <td>PLANET</td>\n",
       "      <td>NaN</td>\n",
       "      <td>Rooftop solar's dark side</td>\n",
       "      <td>4.5 million households in the U.S. have solar ...</td>\n",
       "      <td>https://www.npr.org/2024/07/12/1197961036/roof...</td>\n",
       "      <td>2024-07-12T22:28:19+00:00</td>\n",
       "      <td>positive</td>\n",
       "      <td>Business</td>\n",
       "    </tr>\n",
       "    <tr>\n",
       "      <th>...</th>\n",
       "      <td>...</td>\n",
       "      <td>...</td>\n",
       "      <td>...</td>\n",
       "      <td>...</td>\n",
       "      <td>...</td>\n",
       "      <td>...</td>\n",
       "      <td>...</td>\n",
       "      <td>...</td>\n",
       "    </tr>\n",
       "    <tr>\n",
       "      <th>3495</th>\n",
       "      <td>etfdailynews</td>\n",
       "      <td>MarketBeat News</td>\n",
       "      <td>Arrow Electronics, Inc. (NYSE:ARW) Shares Purc...</td>\n",
       "      <td>QRG Capital Management Inc. increased its stak...</td>\n",
       "      <td>https://www.etfdailynews.com/2024/07/18/arrow-...</td>\n",
       "      <td>2024-07-18T14:36:45+00:00</td>\n",
       "      <td>positive</td>\n",
       "      <td>Technology</td>\n",
       "    </tr>\n",
       "    <tr>\n",
       "      <th>3496</th>\n",
       "      <td>etfdailynews</td>\n",
       "      <td>MarketBeat News</td>\n",
       "      <td>3,120 Shares in NICE Ltd. (NASDAQ:NICE) Bought...</td>\n",
       "      <td>QRG Capital Management Inc. bought a new posit...</td>\n",
       "      <td>https://www.etfdailynews.com/2024/07/18/3120-s...</td>\n",
       "      <td>2024-07-18T14:36:44+00:00</td>\n",
       "      <td>positive</td>\n",
       "      <td>Technology</td>\n",
       "    </tr>\n",
       "    <tr>\n",
       "      <th>3497</th>\n",
       "      <td>etfdailynews</td>\n",
       "      <td>MarketBeat News</td>\n",
       "      <td>QRG Capital Management Inc. Has $857,000 Stock...</td>\n",
       "      <td>QRG Capital Management Inc. boosted its stake ...</td>\n",
       "      <td>https://www.etfdailynews.com/2024/07/18/qrg-ca...</td>\n",
       "      <td>2024-07-18T14:36:43+00:00</td>\n",
       "      <td>positive</td>\n",
       "      <td>Technology</td>\n",
       "    </tr>\n",
       "    <tr>\n",
       "      <th>3498</th>\n",
       "      <td>finanznachrichten</td>\n",
       "      <td>NaN</td>\n",
       "      <td>Biotechnology Market: Surging Investments and ...</td>\n",
       "      <td>WESTFORD, Mass., July 18, 2024 /PRNewswire/ --...</td>\n",
       "      <td>https://www.finanznachrichten.de/nachrichten-2...</td>\n",
       "      <td>2024-07-18T14:36:00+00:00</td>\n",
       "      <td>neutral</td>\n",
       "      <td>Technology</td>\n",
       "    </tr>\n",
       "    <tr>\n",
       "      <th>3499</th>\n",
       "      <td>etfdailynews</td>\n",
       "      <td>MarketBeat News</td>\n",
       "      <td>QRG Capital Management Inc. Sells 1,665 Shares...</td>\n",
       "      <td>QRG Capital Management Inc. reduced its holdin...</td>\n",
       "      <td>https://www.etfdailynews.com/2024/07/18/qrg-ca...</td>\n",
       "      <td>2024-07-18T14:32:46+00:00</td>\n",
       "      <td>positive</td>\n",
       "      <td>Technology</td>\n",
       "    </tr>\n",
       "  </tbody>\n",
       "</table>\n",
       "<p>3500 rows × 8 columns</p>\n",
       "</div>"
      ],
      "text/plain": [
       "                 Source           Author  \\\n",
       "0               stgnews   Bridger Palmer   \n",
       "1         Zimbabwe Mail   Staff Reporter   \n",
       "2             4-traders              NaN   \n",
       "3             4-traders              NaN   \n",
       "4                PLANET              NaN   \n",
       "...                 ...              ...   \n",
       "3495       etfdailynews  MarketBeat News   \n",
       "3496       etfdailynews  MarketBeat News   \n",
       "3497       etfdailynews  MarketBeat News   \n",
       "3498  finanznachrichten              NaN   \n",
       "3499       etfdailynews  MarketBeat News   \n",
       "\n",
       "                                                  Title  \\\n",
       "0     Pine View High teacher wins Best in State awar...   \n",
       "1     Businesses Face Financial Strain Amid Liquidit...   \n",
       "2     Musk donates to super pac working to elect Tru...   \n",
       "3     US FTC issues warning to franchisors over unfa...   \n",
       "4                             Rooftop solar's dark side   \n",
       "...                                                 ...   \n",
       "3495  Arrow Electronics, Inc. (NYSE:ARW) Shares Purc...   \n",
       "3496  3,120 Shares in NICE Ltd. (NASDAQ:NICE) Bought...   \n",
       "3497  QRG Capital Management Inc. Has $857,000 Stock...   \n",
       "3498  Biotechnology Market: Surging Investments and ...   \n",
       "3499  QRG Capital Management Inc. Sells 1,665 Shares...   \n",
       "\n",
       "                                            Description  \\\n",
       "0     ST. GEORGE — Kaitlyn Larson, a first-year teac...   \n",
       "1     Harare, Zimbabwe – Local businesses are grappl...   \n",
       "2     (marketscreener.com) Billionaire Elon Musk has...   \n",
       "3     (marketscreener.com) A U.S. trade regulator on...   \n",
       "4     4.5 million households in the U.S. have solar ...   \n",
       "...                                                 ...   \n",
       "3495  QRG Capital Management Inc. increased its stak...   \n",
       "3496  QRG Capital Management Inc. bought a new posit...   \n",
       "3497  QRG Capital Management Inc. boosted its stake ...   \n",
       "3498  WESTFORD, Mass., July 18, 2024 /PRNewswire/ --...   \n",
       "3499  QRG Capital Management Inc. reduced its holdin...   \n",
       "\n",
       "                                                    URL  \\\n",
       "0     https://www.stgeorgeutah.com/news/archive/2024...   \n",
       "1     https://www.thezimbabwemail.com/business/busin...   \n",
       "2     https://www.marketscreener.com/business-leader...   \n",
       "3     https://www.marketscreener.com/quote/stock/MCD...   \n",
       "4     https://www.npr.org/2024/07/12/1197961036/roof...   \n",
       "...                                                 ...   \n",
       "3495  https://www.etfdailynews.com/2024/07/18/arrow-...   \n",
       "3496  https://www.etfdailynews.com/2024/07/18/3120-s...   \n",
       "3497  https://www.etfdailynews.com/2024/07/18/qrg-ca...   \n",
       "3498  https://www.finanznachrichten.de/nachrichten-2...   \n",
       "3499  https://www.etfdailynews.com/2024/07/18/qrg-ca...   \n",
       "\n",
       "                   Published At Sentiment        Type  \n",
       "0     2024-07-12T23:45:25+00:00  positive    Business  \n",
       "1     2024-07-12T22:59:42+00:00   neutral    Business  \n",
       "2     2024-07-12T22:52:55+00:00  positive    Business  \n",
       "3     2024-07-12T22:41:01+00:00  negative    Business  \n",
       "4     2024-07-12T22:28:19+00:00  positive    Business  \n",
       "...                         ...       ...         ...  \n",
       "3495  2024-07-18T14:36:45+00:00  positive  Technology  \n",
       "3496  2024-07-18T14:36:44+00:00  positive  Technology  \n",
       "3497  2024-07-18T14:36:43+00:00  positive  Technology  \n",
       "3498  2024-07-18T14:36:00+00:00   neutral  Technology  \n",
       "3499  2024-07-18T14:32:46+00:00  positive  Technology  \n",
       "\n",
       "[3500 rows x 8 columns]"
      ]
     },
     "execution_count": 10,
     "metadata": {},
     "output_type": "execute_result"
    }
   ],
   "source": [
    "df = pd.read_csv(\"../../../dados/nlp/news_sentiment_analysis.csv\", encoding=\"utf-8\")\n",
    "df"
   ]
  },
  {
   "cell_type": "code",
   "execution_count": 11,
   "id": "5ff80a05-5a70-4c67-9c81-710ad573ee19",
   "metadata": {},
   "outputs": [],
   "source": [
    "news_df = df[ [\"Description\", \"Type\"] ]\n",
    "# news_df"
   ]
  },
  {
   "cell_type": "code",
   "execution_count": 12,
   "id": "b7d5a1c0-a43e-41b1-9e22-917a5e5d0c32",
   "metadata": {},
   "outputs": [],
   "source": [
    "tokenizer = Tokenizer( num_words = 1000 )"
   ]
  },
  {
   "cell_type": "code",
   "execution_count": 13,
   "id": "c92392da-e4f0-4d65-b846-2f8385563454",
   "metadata": {},
   "outputs": [],
   "source": [
    "tokenizer.fit_on_texts( news_df[\"Description\"] )"
   ]
  },
  {
   "cell_type": "code",
   "execution_count": 14,
   "id": "4013a8ca-c6a3-4f1b-9a8f-773010f53c4e",
   "metadata": {},
   "outputs": [],
   "source": [
    "sequences = tokenizer.texts_to_sequences( news_df[\"Description\"] )"
   ]
  },
  {
   "cell_type": "code",
   "execution_count": 15,
   "id": "895d1018-6c0c-435a-a8d1-c0b3e6d2d254",
   "metadata": {},
   "outputs": [],
   "source": [
    "# sequences"
   ]
  },
  {
   "cell_type": "code",
   "execution_count": 16,
   "id": "ba1bd9b4-d766-43d7-a675-4102c9749f23",
   "metadata": {},
   "outputs": [],
   "source": [
    "# tokenizer.word_index"
   ]
  },
  {
   "cell_type": "code",
   "execution_count": 17,
   "id": "3f380f0f-af65-4329-99c7-0f1a4b9d29a8",
   "metadata": {},
   "outputs": [
    {
     "data": {
      "text/plain": [
       "80"
      ]
     },
     "execution_count": 17,
     "metadata": {},
     "output_type": "execute_result"
    }
   ],
   "source": [
    "max_palavras = 0\n",
    "for sequence in sequences:\n",
    "    if len(sequence) > max_palavras:\n",
    "        max_palavras = len(sequence)\n",
    "max_palavras        "
   ]
  },
  {
   "cell_type": "code",
   "execution_count": 18,
   "id": "114fdda4-f93d-4936-91bf-9c76957d8a42",
   "metadata": {},
   "outputs": [
    {
     "data": {
      "text/plain": [
       "array([[598, 117,   5, ...,   0,   0,   0],\n",
       "       [211, 373, 212, ...,   0,   0,   0],\n",
       "       [ 28,  22,  26, ...,   0,   0,   0],\n",
       "       ...,\n",
       "       [216, 231,  36, ...,   0,   0,   0],\n",
       "       [933,  31,  96, ...,   0,   0,   0],\n",
       "       [216, 231,  36, ...,   0,   0,   0]])"
      ]
     },
     "execution_count": 18,
     "metadata": {},
     "output_type": "execute_result"
    }
   ],
   "source": [
    "sequences_padded = pad_sequences( sequences, padding=\"post\" )\n",
    "X = sequences_padded\n",
    "X"
   ]
  },
  {
   "cell_type": "code",
   "execution_count": 19,
   "id": "a9b6a824-3f8d-40c1-a876-4364a8d75bcc",
   "metadata": {},
   "outputs": [
    {
     "data": {
      "text/plain": [
       "array(['Business', 'Entertainment', 'General', 'Health', 'Science',\n",
       "       'Sports', 'Technology'], dtype=object)"
      ]
     },
     "execution_count": 19,
     "metadata": {},
     "output_type": "execute_result"
    }
   ],
   "source": [
    "news_df[\"Type\"].unique()"
   ]
  },
  {
   "cell_type": "markdown",
   "id": "720d2483-4a8e-4948-9c87-fd02efcc1e28",
   "metadata": {},
   "source": [
    "Business =>  [0, 0, 0, 1] \n",
    "Technology => [0, 0, 1, 0]\n",
    "Processamento => [ 0.002, 0.004, 0.9987, 0.002]"
   ]
  },
  {
   "cell_type": "markdown",
   "id": "d0312bfb-42d9-4276-8c02-a7db925308f7",
   "metadata": {},
   "source": [
    "['Business' ==> [1, 0, 0, 0, 0, 0, 0], \n",
    " 'Entertainment' ==> [0, 1, 0, 0, 0, 0, 0], \n",
    " 'General' ==> [0, 0, 1, 0, 0, 0, 0], \n",
    " 'Health' ==> [0, 0, 0, 1, 0, 0, 0], \n",
    " 'Science' ==> [0, 0, 0, 0, 1, 0, 0], \n",
    " 'Sports' ==> [0, 0, 0, 0, 0, 1, 0], \n",
    " 'Technology' ==> [0, 0, 0, 0, 0, 0, 1]]"
   ]
  },
  {
   "cell_type": "markdown",
   "id": "cac34179-1d03-4be2-97d2-33a71d659386",
   "metadata": {},
   "source": [
    "saida -> [0.5, 0.4, 0.2, 0.1, 0.8, 0.9, 0.6]\n",
    "saida calculada -> [0, 0, 0, 0, 0, 1, 0]\n",
    "saida esperada -> [0, 0, 0, 0, 0, 0, 1]\n",
    "erro -> [0, 0, 0, 0, 0, 1, -1]\n",
    "ajusta os pesos "
   ]
  },
  {
   "cell_type": "code",
   "execution_count": 23,
   "id": "2a741058-3c01-4373-a852-3f5489296c54",
   "metadata": {},
   "outputs": [],
   "source": [
    "label_encoder = LabelEncoder()"
   ]
  },
  {
   "cell_type": "code",
   "execution_count": 24,
   "id": "d0d92977-c7dc-4ffc-ba4a-754308e44328",
   "metadata": {
    "scrolled": true
   },
   "outputs": [
    {
     "data": {
      "text/plain": [
       "(3500,)"
      ]
     },
     "execution_count": 24,
     "metadata": {},
     "output_type": "execute_result"
    }
   ],
   "source": [
    "class_encoded = label_encoder.fit_transform( news_df[\"Type\"] )\n",
    "class_encoded.shape"
   ]
  },
  {
   "cell_type": "code",
   "execution_count": 25,
   "id": "b0cfcac2-8b35-4854-a36c-4054ca417f13",
   "metadata": {},
   "outputs": [
    {
     "data": {
      "text/plain": [
       "array([0, 0, 0, ..., 6, 6, 6])"
      ]
     },
     "execution_count": 25,
     "metadata": {},
     "output_type": "execute_result"
    }
   ],
   "source": [
    "class_encoded"
   ]
  },
  {
   "cell_type": "code",
   "execution_count": 26,
   "id": "dd8be5d3-18a1-4558-b56d-e6774a058f71",
   "metadata": {},
   "outputs": [],
   "source": [
    "# [[0], [0], [0], ..., [6], [6], [6]]\n",
    "class_encoded_2d = class_encoded.reshape( class_encoded.shape[0], 1 )"
   ]
  },
  {
   "cell_type": "code",
   "execution_count": 27,
   "id": "2a9f4c33-1c2b-409d-abb9-e22fd0381eb2",
   "metadata": {},
   "outputs": [],
   "source": [
    "one_hot_encoder = OneHotEncoder(sparse_output=False)"
   ]
  },
  {
   "cell_type": "code",
   "execution_count": 28,
   "id": "c0c57049-884d-4437-b501-180804ea2127",
   "metadata": {},
   "outputs": [
    {
     "data": {
      "text/plain": [
       "array([[1., 0., 0., ..., 0., 0., 0.],\n",
       "       [1., 0., 0., ..., 0., 0., 0.],\n",
       "       [1., 0., 0., ..., 0., 0., 0.],\n",
       "       ...,\n",
       "       [0., 0., 0., ..., 0., 0., 1.],\n",
       "       [0., 0., 0., ..., 0., 0., 1.],\n",
       "       [0., 0., 0., ..., 0., 0., 1.]])"
      ]
     },
     "execution_count": 28,
     "metadata": {},
     "output_type": "execute_result"
    }
   ],
   "source": [
    "Y = one_hot_encoder.fit_transform( class_encoded_2d )\n",
    "Y"
   ]
  },
  {
   "cell_type": "code",
   "execution_count": 29,
   "id": "17de7810-ab89-4b64-b903-9cbcc2451c53",
   "metadata": {},
   "outputs": [
    {
     "data": {
      "text/plain": [
       "(3500, 7)"
      ]
     },
     "execution_count": 29,
     "metadata": {},
     "output_type": "execute_result"
    }
   ],
   "source": [
    "Y.shape"
   ]
  },
  {
   "cell_type": "code",
   "execution_count": 30,
   "id": "8b3ed516-1905-40b5-873b-cf6c9a00ce0e",
   "metadata": {},
   "outputs": [
    {
     "data": {
      "text/html": [
       "<pre style=\"white-space:pre;overflow-x:auto;line-height:normal;font-family:Menlo,'DejaVu Sans Mono',consolas,'Courier New',monospace\"><span style=\"font-weight: bold\">Model: \"sequential\"</span>\n",
       "</pre>\n"
      ],
      "text/plain": [
       "\u001b[1mModel: \"sequential\"\u001b[0m\n"
      ]
     },
     "metadata": {},
     "output_type": "display_data"
    },
    {
     "data": {
      "text/html": [
       "<pre style=\"white-space:pre;overflow-x:auto;line-height:normal;font-family:Menlo,'DejaVu Sans Mono',consolas,'Courier New',monospace\">┏━━━━━━━━━━━━━━━━━━━━━━━━━━━━━━━━━━━━━━┳━━━━━━━━━━━━━━━━━━━━━━━━━━━━━┳━━━━━━━━━━━━━━━━━┓\n",
       "┃<span style=\"font-weight: bold\"> Layer (type)                         </span>┃<span style=\"font-weight: bold\"> Output Shape                </span>┃<span style=\"font-weight: bold\">         Param # </span>┃\n",
       "┡━━━━━━━━━━━━━━━━━━━━━━━━━━━━━━━━━━━━━━╇━━━━━━━━━━━━━━━━━━━━━━━━━━━━━╇━━━━━━━━━━━━━━━━━┩\n",
       "│ embedding (<span style=\"color: #0087ff; text-decoration-color: #0087ff\">Embedding</span>)                │ ?                           │     <span style=\"color: #00af00; text-decoration-color: #00af00\">0</span> (unbuilt) │\n",
       "├──────────────────────────────────────┼─────────────────────────────┼─────────────────┤\n",
       "│ global_average_pooling1d             │ ?                           │               <span style=\"color: #00af00; text-decoration-color: #00af00\">0</span> │\n",
       "│ (<span style=\"color: #0087ff; text-decoration-color: #0087ff\">GlobalAveragePooling1D</span>)             │                             │                 │\n",
       "├──────────────────────────────────────┼─────────────────────────────┼─────────────────┤\n",
       "│ dense (<span style=\"color: #0087ff; text-decoration-color: #0087ff\">Dense</span>)                        │ ?                           │     <span style=\"color: #00af00; text-decoration-color: #00af00\">0</span> (unbuilt) │\n",
       "├──────────────────────────────────────┼─────────────────────────────┼─────────────────┤\n",
       "│ dense_1 (<span style=\"color: #0087ff; text-decoration-color: #0087ff\">Dense</span>)                      │ ?                           │     <span style=\"color: #00af00; text-decoration-color: #00af00\">0</span> (unbuilt) │\n",
       "└──────────────────────────────────────┴─────────────────────────────┴─────────────────┘\n",
       "</pre>\n"
      ],
      "text/plain": [
       "┏━━━━━━━━━━━━━━━━━━━━━━━━━━━━━━━━━━━━━━┳━━━━━━━━━━━━━━━━━━━━━━━━━━━━━┳━━━━━━━━━━━━━━━━━┓\n",
       "┃\u001b[1m \u001b[0m\u001b[1mLayer (type)                        \u001b[0m\u001b[1m \u001b[0m┃\u001b[1m \u001b[0m\u001b[1mOutput Shape               \u001b[0m\u001b[1m \u001b[0m┃\u001b[1m \u001b[0m\u001b[1m        Param #\u001b[0m\u001b[1m \u001b[0m┃\n",
       "┡━━━━━━━━━━━━━━━━━━━━━━━━━━━━━━━━━━━━━━╇━━━━━━━━━━━━━━━━━━━━━━━━━━━━━╇━━━━━━━━━━━━━━━━━┩\n",
       "│ embedding (\u001b[38;5;33mEmbedding\u001b[0m)                │ ?                           │     \u001b[38;5;34m0\u001b[0m (unbuilt) │\n",
       "├──────────────────────────────────────┼─────────────────────────────┼─────────────────┤\n",
       "│ global_average_pooling1d             │ ?                           │               \u001b[38;5;34m0\u001b[0m │\n",
       "│ (\u001b[38;5;33mGlobalAveragePooling1D\u001b[0m)             │                             │                 │\n",
       "├──────────────────────────────────────┼─────────────────────────────┼─────────────────┤\n",
       "│ dense (\u001b[38;5;33mDense\u001b[0m)                        │ ?                           │     \u001b[38;5;34m0\u001b[0m (unbuilt) │\n",
       "├──────────────────────────────────────┼─────────────────────────────┼─────────────────┤\n",
       "│ dense_1 (\u001b[38;5;33mDense\u001b[0m)                      │ ?                           │     \u001b[38;5;34m0\u001b[0m (unbuilt) │\n",
       "└──────────────────────────────────────┴─────────────────────────────┴─────────────────┘\n"
      ]
     },
     "metadata": {},
     "output_type": "display_data"
    },
    {
     "data": {
      "text/html": [
       "<pre style=\"white-space:pre;overflow-x:auto;line-height:normal;font-family:Menlo,'DejaVu Sans Mono',consolas,'Courier New',monospace\"><span style=\"font-weight: bold\"> Total params: </span><span style=\"color: #00af00; text-decoration-color: #00af00\">0</span> (0.00 B)\n",
       "</pre>\n"
      ],
      "text/plain": [
       "\u001b[1m Total params: \u001b[0m\u001b[38;5;34m0\u001b[0m (0.00 B)\n"
      ]
     },
     "metadata": {},
     "output_type": "display_data"
    },
    {
     "data": {
      "text/html": [
       "<pre style=\"white-space:pre;overflow-x:auto;line-height:normal;font-family:Menlo,'DejaVu Sans Mono',consolas,'Courier New',monospace\"><span style=\"font-weight: bold\"> Trainable params: </span><span style=\"color: #00af00; text-decoration-color: #00af00\">0</span> (0.00 B)\n",
       "</pre>\n"
      ],
      "text/plain": [
       "\u001b[1m Trainable params: \u001b[0m\u001b[38;5;34m0\u001b[0m (0.00 B)\n"
      ]
     },
     "metadata": {},
     "output_type": "display_data"
    },
    {
     "data": {
      "text/html": [
       "<pre style=\"white-space:pre;overflow-x:auto;line-height:normal;font-family:Menlo,'DejaVu Sans Mono',consolas,'Courier New',monospace\"><span style=\"font-weight: bold\"> Non-trainable params: </span><span style=\"color: #00af00; text-decoration-color: #00af00\">0</span> (0.00 B)\n",
       "</pre>\n"
      ],
      "text/plain": [
       "\u001b[1m Non-trainable params: \u001b[0m\u001b[38;5;34m0\u001b[0m (0.00 B)\n"
      ]
     },
     "metadata": {},
     "output_type": "display_data"
    }
   ],
   "source": [
    "modelo = Sequential()\n",
    "\n",
    "# modelo.add( Input( [max_palavras] ) )\n",
    "modelo.add( Embedding( input_dim=1000, output_dim=128 ))\n",
    "modelo.add( GlobalAveragePooling1D() )\n",
    "modelo.add( Dense( 128, activation=\"relu\") )\n",
    "modelo.add( Dense( 7, activation=\"softmax\") )\n",
    "modelo.summary()"
   ]
  },
  {
   "cell_type": "code",
   "execution_count": 31,
   "id": "ce5a4b04-4e39-453b-b3ff-15d2115e95dd",
   "metadata": {},
   "outputs": [],
   "source": [
    "modelo.compile( optimizer=\"adam\", loss=\"categorical_crossentropy\", metrics=[\"accuracy\"])"
   ]
  },
  {
   "cell_type": "code",
   "execution_count": 32,
   "id": "fad68a80-1827-4757-83e0-9fbfb5d3a751",
   "metadata": {},
   "outputs": [],
   "source": [
    "X_train, X_test, Y_train, Y_test = train_test_split(X, Y, random_state=150)"
   ]
  },
  {
   "cell_type": "code",
   "execution_count": 33,
   "id": "5b2615a2-9263-49f5-8271-88d09b218042",
   "metadata": {},
   "outputs": [
    {
     "name": "stdout",
     "output_type": "stream",
     "text": [
      "Epoch 1/20\n",
      "\u001b[1m83/83\u001b[0m \u001b[32m━━━━━━━━━━━━━━━━━━━━\u001b[0m\u001b[37m\u001b[0m \u001b[1m2s\u001b[0m 3ms/step - accuracy: 0.2103 - loss: 1.9335\n",
      "Epoch 2/20\n",
      "\u001b[1m83/83\u001b[0m \u001b[32m━━━━━━━━━━━━━━━━━━━━\u001b[0m\u001b[37m\u001b[0m \u001b[1m0s\u001b[0m 4ms/step - accuracy: 0.4120 - loss: 1.7266\n",
      "Epoch 3/20\n",
      "\u001b[1m83/83\u001b[0m \u001b[32m━━━━━━━━━━━━━━━━━━━━\u001b[0m\u001b[37m\u001b[0m \u001b[1m0s\u001b[0m 4ms/step - accuracy: 0.5632 - loss: 1.3348\n",
      "Epoch 4/20\n",
      "\u001b[1m83/83\u001b[0m \u001b[32m━━━━━━━━━━━━━━━━━━━━\u001b[0m\u001b[37m\u001b[0m \u001b[1m0s\u001b[0m 4ms/step - accuracy: 0.6612 - loss: 1.0455\n",
      "Epoch 5/20\n",
      "\u001b[1m83/83\u001b[0m \u001b[32m━━━━━━━━━━━━━━━━━━━━\u001b[0m\u001b[37m\u001b[0m \u001b[1m0s\u001b[0m 4ms/step - accuracy: 0.8393 - loss: 0.6658\n",
      "Epoch 6/20\n",
      "\u001b[1m83/83\u001b[0m \u001b[32m━━━━━━━━━━━━━━━━━━━━\u001b[0m\u001b[37m\u001b[0m \u001b[1m0s\u001b[0m 5ms/step - accuracy: 0.8967 - loss: 0.4676\n",
      "Epoch 7/20\n",
      "\u001b[1m83/83\u001b[0m \u001b[32m━━━━━━━━━━━━━━━━━━━━\u001b[0m\u001b[37m\u001b[0m \u001b[1m0s\u001b[0m 4ms/step - accuracy: 0.9017 - loss: 0.3750\n",
      "Epoch 8/20\n",
      "\u001b[1m83/83\u001b[0m \u001b[32m━━━━━━━━━━━━━━━━━━━━\u001b[0m\u001b[37m\u001b[0m \u001b[1m0s\u001b[0m 5ms/step - accuracy: 0.9066 - loss: 0.3275\n",
      "Epoch 9/20\n",
      "\u001b[1m83/83\u001b[0m \u001b[32m━━━━━━━━━━━━━━━━━━━━\u001b[0m\u001b[37m\u001b[0m \u001b[1m0s\u001b[0m 4ms/step - accuracy: 0.9311 - loss: 0.2577\n",
      "Epoch 10/20\n",
      "\u001b[1m83/83\u001b[0m \u001b[32m━━━━━━━━━━━━━━━━━━━━\u001b[0m\u001b[37m\u001b[0m \u001b[1m0s\u001b[0m 4ms/step - accuracy: 0.9269 - loss: 0.2411\n",
      "Epoch 11/20\n",
      "\u001b[1m83/83\u001b[0m \u001b[32m━━━━━━━━━━━━━━━━━━━━\u001b[0m\u001b[37m\u001b[0m \u001b[1m0s\u001b[0m 4ms/step - accuracy: 0.9365 - loss: 0.2043\n",
      "Epoch 12/20\n",
      "\u001b[1m83/83\u001b[0m \u001b[32m━━━━━━━━━━━━━━━━━━━━\u001b[0m\u001b[37m\u001b[0m \u001b[1m1s\u001b[0m 6ms/step - accuracy: 0.9289 - loss: 0.2047\n",
      "Epoch 13/20\n",
      "\u001b[1m83/83\u001b[0m \u001b[32m━━━━━━━━━━━━━━━━━━━━\u001b[0m\u001b[37m\u001b[0m \u001b[1m0s\u001b[0m 4ms/step - accuracy: 0.9427 - loss: 0.1712\n",
      "Epoch 14/20\n",
      "\u001b[1m83/83\u001b[0m \u001b[32m━━━━━━━━━━━━━━━━━━━━\u001b[0m\u001b[37m\u001b[0m \u001b[1m0s\u001b[0m 4ms/step - accuracy: 0.9501 - loss: 0.1411\n",
      "Epoch 15/20\n",
      "\u001b[1m83/83\u001b[0m \u001b[32m━━━━━━━━━━━━━━━━━━━━\u001b[0m\u001b[37m\u001b[0m \u001b[1m0s\u001b[0m 4ms/step - accuracy: 0.9553 - loss: 0.1368\n",
      "Epoch 16/20\n",
      "\u001b[1m83/83\u001b[0m \u001b[32m━━━━━━━━━━━━━━━━━━━━\u001b[0m\u001b[37m\u001b[0m \u001b[1m0s\u001b[0m 4ms/step - accuracy: 0.9433 - loss: 0.1466\n",
      "Epoch 17/20\n",
      "\u001b[1m83/83\u001b[0m \u001b[32m━━━━━━━━━━━━━━━━━━━━\u001b[0m\u001b[37m\u001b[0m \u001b[1m0s\u001b[0m 5ms/step - accuracy: 0.9368 - loss: 0.1484\n",
      "Epoch 18/20\n",
      "\u001b[1m83/83\u001b[0m \u001b[32m━━━━━━━━━━━━━━━━━━━━\u001b[0m\u001b[37m\u001b[0m \u001b[1m0s\u001b[0m 4ms/step - accuracy: 0.9578 - loss: 0.1160\n",
      "Epoch 19/20\n",
      "\u001b[1m83/83\u001b[0m \u001b[32m━━━━━━━━━━━━━━━━━━━━\u001b[0m\u001b[37m\u001b[0m \u001b[1m0s\u001b[0m 5ms/step - accuracy: 0.9572 - loss: 0.1145\n",
      "Epoch 20/20\n",
      "\u001b[1m83/83\u001b[0m \u001b[32m━━━━━━━━━━━━━━━━━━━━\u001b[0m\u001b[37m\u001b[0m \u001b[1m0s\u001b[0m 5ms/step - accuracy: 0.9517 - loss: 0.1190\n"
     ]
    }
   ],
   "source": [
    "history_fit = modelo.fit(X_train, Y_train, epochs=20, batch_size=32)"
   ]
  },
  {
   "cell_type": "code",
   "execution_count": 34,
   "id": "49c20238-ef01-43a9-b19b-7cab842b89d7",
   "metadata": {},
   "outputs": [
    {
     "data": {
      "text/plain": [
       "{'accuracy': [0.2826666533946991,\n",
       "  0.4540952444076538,\n",
       "  0.6190476417541504,\n",
       "  0.7379047870635986,\n",
       "  0.8468571305274963,\n",
       "  0.8929523825645447,\n",
       "  0.9005714058876038,\n",
       "  0.909333348274231,\n",
       "  0.9299047589302063,\n",
       "  0.9295238256454468,\n",
       "  0.9359999895095825,\n",
       "  0.936380922794342,\n",
       "  0.9420952200889587,\n",
       "  0.9440000057220459,\n",
       "  0.9504761695861816,\n",
       "  0.9417142868041992,\n",
       "  0.9413333535194397,\n",
       "  0.9474285840988159,\n",
       "  0.9554286003112793,\n",
       "  0.9485714435577393],\n",
       " 'loss': [1.9112824201583862,\n",
       "  1.637694001197815,\n",
       "  1.2225159406661987,\n",
       "  0.9060330986976624,\n",
       "  0.6144959330558777,\n",
       "  0.4524786174297333,\n",
       "  0.36819806694984436,\n",
       "  0.31515514850616455,\n",
       "  0.251272588968277,\n",
       "  0.22702708840370178,\n",
       "  0.20183491706848145,\n",
       "  0.18482491374015808,\n",
       "  0.17116688191890717,\n",
       "  0.15336228907108307,\n",
       "  0.1456790715456009,\n",
       "  0.1528877466917038,\n",
       "  0.13809625804424286,\n",
       "  0.13216692209243774,\n",
       "  0.11816693097352982,\n",
       "  0.12460453063249588]}"
      ]
     },
     "execution_count": 34,
     "metadata": {},
     "output_type": "execute_result"
    }
   ],
   "source": [
    "history_fit.history"
   ]
  },
  {
   "cell_type": "code",
   "execution_count": 35,
   "id": "62250fb9-dec6-441a-bffb-536af23a9125",
   "metadata": {},
   "outputs": [],
   "source": [
    "import matplotlib.pyplot as plt"
   ]
  },
  {
   "cell_type": "code",
   "execution_count": 36,
   "id": "43d49ef9-6278-47be-b7f6-977fd7e3c57f",
   "metadata": {},
   "outputs": [
    {
     "data": {
      "image/png": "[encoded data removed]",
      "text/plain": [
       "<Figure size 640x480 with 1 Axes>"
      ]
     },
     "metadata": {},
     "output_type": "display_data"
    }
   ],
   "source": [
    "plt.plot(history_fit.history[\"accuracy\"], color=\"green\")\n",
    "plt.plot(history_fit.history[\"loss\"], color=\"red\")\n",
    "plt.show()"
   ]
  },
  {
   "cell_type": "code",
   "execution_count": 37,
   "id": "5c48bb32-8b4c-4d25-a889-8e137ce89e42",
   "metadata": {},
   "outputs": [
    {
     "name": "stdout",
     "output_type": "stream",
     "text": [
      "\u001b[1m28/28\u001b[0m \u001b[32m━━━━━━━━━━━━━━━━━━━━\u001b[0m\u001b[37m\u001b[0m \u001b[1m0s\u001b[0m 3ms/step - accuracy: 0.8749 - loss: 0.4020\n"
     ]
    },
    {
     "data": {
      "text/plain": [
       "[0.43219321966171265, 0.868571400642395]"
      ]
     },
     "execution_count": 37,
     "metadata": {},
     "output_type": "execute_result"
    }
   ],
   "source": [
    "modelo.evaluate(X_test, Y_test)"
   ]
  },
  {
   "cell_type": "code",
   "execution_count": 38,
   "id": "cf52cc6b-4dd8-4c81-9206-b0e107ab8d59",
   "metadata": {},
   "outputs": [
    {
     "name": "stdout",
     "output_type": "stream",
     "text": [
      "\u001b[1m1/1\u001b[0m \u001b[32m━━━━━━━━━━━━━━━━━━━━\u001b[0m\u001b[37m\u001b[0m \u001b[1m0s\u001b[0m 86ms/step\n"
     ]
    },
    {
     "name": "stderr",
     "output_type": "stream",
     "text": [
      "C:\\Users\\anton\\AppData\\Roaming\\Python\\Python312\\site-packages\\keras\\src\\models\\functional.py:238: UserWarning: The structure of `inputs` doesn't match the expected structure.\n",
      "Expected: keras_tensor\n",
      "Received: inputs=('Tensor(shape=(1, 80))',)\n",
      "  warnings.warn(msg)\n"
     ]
    },
    {
     "data": {
      "text/plain": [
       "array([[0.05578408, 0.2639351 , 0.04675204, 0.05275631, 0.2085945 ,\n",
       "        0.02731708, 0.34486088]], dtype=float32)"
      ]
     },
     "execution_count": 38,
     "metadata": {},
     "output_type": "execute_result"
    }
   ],
   "source": [
    "texto = \"IBM sell stock options\"\n",
    "texto_em_sequencias = np.array(tokenizer.texts_to_sequences( [texto] ))\n",
    "sequencias_padded = pad_sequences( texto_em_sequencias, maxlen=max_palavras, padding=\"post\" )\n",
    "sequencias_padded\n",
    "modelo.predict([sequencias_padded])"
   ]
  },
  {
   "cell_type": "code",
   "execution_count": null,
   "id": "aad87e96-803a-426d-b8e2-047f8b5f110d",
   "metadata": {},
   "outputs": [],
   "source": []
  }
 ],
 "metadata": {
  "kernelspec": {
   "display_name": "Python [conda env:base] *",
   "language": "python",
   "name": "conda-base-py"
  },
  "language_info": {
   "codemirror_mode": {
    "name": "ipython",
    "version": 3
   },
   "file_extension": ".py",
   "mimetype": "text/x-python",
   "name": "python",
   "nbconvert_exporter": "python",
   "pygments_lexer": "ipython3",
   "version": "3.12.7"
  }
 },
 "nbformat": 4,
 "nbformat_minor": 5
}
