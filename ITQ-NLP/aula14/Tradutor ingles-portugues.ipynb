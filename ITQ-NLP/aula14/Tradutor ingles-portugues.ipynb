{
 "cells": [
  {
   "cell_type": "code",
   "execution_count": 1,
   "id": "3f35fbf4-b78b-40be-84b4-6049e3fed60a",
   "metadata": {},
   "outputs": [],
   "source": [
    "import numpy as np\n",
    "import tensorflow as tf"
   ]
  },
  {
   "cell_type": "code",
   "execution_count": 70,
   "id": "894175dd-30e6-45a3-b19d-124535d159b9",
   "metadata": {},
   "outputs": [],
   "source": [
    "from tensorflow.keras.models import Model\n",
    "from tensorflow.keras.layers import Embedding, LSTM, Dense, Bidirectional, Input\n",
    "from tensorflow.keras.optimizers import Adam"
   ]
  },
  {
   "cell_type": "code",
   "execution_count": 58,
   "id": "982b8b74-bfaa-49ca-9413-4be37e2f6fc2",
   "metadata": {},
   "outputs": [],
   "source": [
    "from sklearn.preprocessing import LabelEncoder, OneHotEncoder\n",
    "from tensorflow.keras.preprocessing.text import Tokenizer\n",
    "from tensorflow.keras.utils import pad_sequences, to_categorical"
   ]
  },
  {
   "cell_type": "code",
   "execution_count": 4,
   "id": "4181c88f-2d59-4f0f-8b50-eb224b2166c7",
   "metadata": {},
   "outputs": [],
   "source": [
    "pares = [\n",
    "    (\"Hello\", \"Olá\"),\n",
    "    (\"Good morning\", \"Bom dia\"),\n",
    "    (\"Good afternoon\", \"Boa tarde\"),\n",
    "    (\"Good evening\", \"Boa noite\"),\n",
    "    (\"Good night\", \"Boa noite\"),\n",
    "    (\"How are you?\", \"Como você está?\"),\n",
    "    (\"I'm fine, thank you.\", \"Estou bem, obrigado.\"),\n",
    "    (\"What's your name?\", \"Qual é o seu nome?\"),\n",
    "    (\"My name is John.\", \"Meu nome é John.\"),\n",
    "    (\"Nice to meet you.\", \"Prazer em conhecê-lo.\"),\n",
    "    (\"Please\", \"Por favor\"),\n",
    "    (\"Thank you\", \"Obrigado\"),\n",
    "    (\"You're welcome\", \"De nada\"),\n",
    "    (\"Excuse me\", \"Com licença\"),\n",
    "    (\"I'm sorry\", \"Desculpe\"),\n",
    "    (\"Yes\", \"Sim\"),\n",
    "    (\"No\", \"Não\"),\n",
    "    (\"Maybe\", \"Talvez\"),\n",
    "    (\"I don't know\", \"Eu não sei\"),\n",
    "    (\"I understand\", \"Eu entendo\"),\n",
    "    (\"I don't understand\", \"Eu não entendo\"),\n",
    "    (\"Can you help me?\", \"Você pode me ajudar?\"),\n",
    "    (\"Where is the bathroom?\", \"Onde fica o banheiro?\"),\n",
    "    (\"How much does it cost?\", \"Quanto custa?\"),\n",
    "    (\"I would like a coffee.\", \"Eu gostaria de um café.\"),\n",
    "    (\"Do you speak English?\", \"Você fala inglês?\"),\n",
    "    (\"I speak a little Portuguese.\", \"Eu falo um pouco de português.\"),\n",
    "    (\"What time is it?\", \"Que horas são?\"),\n",
    "    (\"I'm hungry.\", \"Estou com fome.\"),\n",
    "    (\"I'm thirsty.\", \"Estou com sede.\"),\n",
    "    (\"I'm tired.\", \"Estou cansado.\"),\n",
    "    (\"I need a doctor.\", \"Eu preciso de um médico.\"),\n",
    "    (\"Call the police!\", \"Chame a polícia!\"),\n",
    "    (\"I love you.\", \"Eu te amo.\"),\n",
    "    (\"Congratulations!\", \"Parabéns!\"),\n",
    "    (\"Happy birthday!\", \"Feliz aniversário!\"),\n",
    "    (\"Merry Christmas!\", \"Feliz Natal!\"),\n",
    "    (\"Happy New Year!\", \"Feliz Ano Novo!\"),\n",
    "    (\"Good luck!\", \"Boa sorte!\"),\n",
    "    (\"Have a nice day!\", \"Tenha um bom dia!\"),\n",
    "    (\"See you later.\", \"Até mais.\"),\n",
    "    (\"Goodbye\", \"Adeus\"),\n",
    "    (\"What's your phone number?\", \"Qual é o seu número de telefone?\"),\n",
    "    (\"Where do you live?\", \"Onde você mora?\"),\n",
    "    (\"I live in São Paulo.\", \"Eu moro em São Paulo.\"),\n",
    "    (\"I'm from Brazil.\", \"Eu sou do Brasil.\"),\n",
    "    (\"What do you do?\", \"O que você faz?\"),\n",
    "    (\"I'm a teacher.\", \"Eu sou professor.\"),\n",
    "    (\"I work in an office.\", \"Eu trabalho em um escritório.\"),\n",
    "    (\"I'm a student.\", \"Eu sou estudante.\"),\n",
    "    (\"I like to read books.\", \"Eu gosto de ler livros.\"),\n",
    "    (\"I enjoy listening to music.\", \"Eu gosto de ouvir música.\"),\n",
    "    (\"I like to travel.\", \"Eu gosto de viajar.\"),\n",
    "    (\"What's your favorite food?\", \"Qual é a sua comida favorita?\"),\n",
    "    (\"I like pizza.\", \"Eu gosto de pizza.\"),\n",
    "    (\"Do you have any pets?\", \"Você tem animais de estimação?\"),\n",
    "    (\"I have a dog.\", \"Eu tenho um cachorro.\"),\n",
    "    (\"I don't have any pets.\", \"Eu não tenho animais de estimação.\"),\n",
    "    (\"What's your favorite color?\", \"Qual é a sua cor favorita?\"),\n",
    "    (\"My favorite color is blue.\", \"Minha cor favorita é azul.\"),\n",
    "    (\"Do you like sports?\", \"Você gosta de esportes?\"),\n",
    "    (\"I like soccer.\", \"Eu gosto de futebol.\"),\n",
    "    (\"I don't like sports.\", \"Eu não gosto de esportes.\"),\n",
    "    (\"What did you do yesterday?\", \"O que você fez ontem?\"),\n",
    "    (\"I went to the movies.\", \"Eu fui ao cinema.\"),\n",
    "    (\"I stayed at home.\", \"Eu fiquei em casa.\"),\n",
    "    (\"What are you doing now?\", \"O que você está fazendo agora?\"),\n",
    "    (\"I'm studying English.\", \"Estou estudando inglês.\"),\n",
    "    (\"I'm watching TV.\", \"Estou assistindo TV.\"),\n",
    "    (\"Do you have brothers or sisters?\", \"Você tem irmãos ou irmãs?\"),\n",
    "    (\"I have one brother.\", \"Eu tenho um irmão.\"),\n",
    "    (\"I have two sisters.\", \"Eu tenho duas irmãs.\"),\n",
    "    (\"I'm an only child.\", \"Eu sou filho único.\"),\n",
    "    (\"What time do you wake up?\", \"A que horas você acorda?\"),\n",
    "    (\"I wake up at 7 a.m.\", \"Eu acordo às 7 da manhã.\"),\n",
    "    (\"What time do you go to bed?\", \"A que horas você vai dormir?\"),\n",
    "    (\"I go to bed at 10 p.m.\", \"Eu vou dormir às 10 da noite.\"),\n",
    "    (\"Do you like to cook?\", \"Você gosta de cozinhar?\"),\n",
    "    (\"Yes, I love cooking.\", \"Sim, eu adoro cozinhar.\"),\n",
    "    (\"No, I don't like to cook.\", \"Não, eu não gosto de cozinhar.\"),\n",
    "    (\"What's your favorite movie?\", \"Qual é o seu filme favorito?\"),\n",
    "    (\"I like action movies.\", \"Eu gosto de filmes de ação.\"),\n",
    "    (\"I prefer comedies.\", \"Eu prefiro comédias.\"),\n",
    "    (\"Do you play any instruments?\", \"Você toca algum instrumento?\"),\n",
    "    (\"I play the guitar.\", \"Eu toco violão.\"),\n",
    "    (\"I don't play any instruments.\", \"Eu não toco nenhum instrumento.\"),\n",
    "    (\"What's the weather like?\", \"Como está o tempo?\"),\n",
    "    (\"It's sunny.\", \"Está ensolarado.\"),\n",
    "    (\"It's raining.\", \"Está chovendo.\"),\n",
    "    (\"It's cold.\", \"Está frio.\"),\n",
    "    (\"It's hot.\", \"Está quente.\"),\n",
    "    (\"Do you like reading?\", \"Você gosta de ler?\"),\n",
    "    (\"Yes, I read every day.\", \"Sim, eu leio todos os dias.\"),\n",
    "    (\"No, I prefer watching movies.\", \"Não, eu prefiro assistir filmes.\"),\n",
    "    (\"What's your favorite book?\", \"Qual é o seu livro favorito?\"),\n",
    "    (\"I like mystery novels.\", \"Eu gosto de romances de mistério.\"),\n",
    "    (\"I enjoy science fiction.\", \"Eu gosto de ficção científica.\"),\n",
    "    (\"Can you drive?\", \"Você sabe dirigir?\"),\n",
    "    (\"Yes, I have a driver's license.\", \"Sim, eu tenho carteira de motorista.\"),\n",
    "    (\"No, I don't drive.\", \"Não, eu não dirijo.\"),\n",
    "    (\"Do you like coffee or tea?\", \"Você gosta de café ou chá?\"),\n",
    "    (\"I prefer coffee.\", \"Eu prefiro café.\"),\n",
    "    (\"I like both.\", \"Eu gosto dos dois.\"),\n",
    "    (\"I don't like either.\", \"Eu não gosto de nenhum.\"),\n",
    "]"
   ]
  },
  {
   "cell_type": "code",
   "execution_count": 5,
   "id": "7eb03919-aa3e-4627-a6a1-6eee6ed2541a",
   "metadata": {},
   "outputs": [],
   "source": [
    "entrada_textos = []\n",
    "saida_textos = []\n",
    "\n",
    "# <BOS> - Begin of Sentence\n",
    "# <EOS> - End of Sentence"
   ]
  },
  {
   "cell_type": "code",
   "execution_count": 6,
   "id": "c8dad7ba-3641-47b4-a0c5-7f2e041cb899",
   "metadata": {},
   "outputs": [],
   "source": [
    "for par in pares: \n",
    "    #               0                       1\n",
    "    # par ==> (\"I don't like either.\", \"Eu não gosto de nenhum.\")\n",
    "    entrada_textos.append( par[0].lower() )\n",
    "    saida_textos.append( f\"<BOS> {par[1]} <EOS>\")"
   ]
  },
  {
   "cell_type": "code",
   "execution_count": 7,
   "id": "49055fe6-8b5d-402b-8c46-d032ff8eb646",
   "metadata": {},
   "outputs": [],
   "source": [
    "entrada_tokenizer = Tokenizer()  # Textos em ingles - entrada\n",
    "entrada_tokenizer.fit_on_texts(entrada_textos)\n",
    "entrada_vocabulario = entrada_tokenizer.word_index"
   ]
  },
  {
   "cell_type": "code",
   "execution_count": 8,
   "id": "d2e42b0f-3854-4b23-a5cd-1ac5c4abdb26",
   "metadata": {},
   "outputs": [],
   "source": [
    "saida_tokenizer = Tokenizer() # Textos em portugues - saida\n",
    "saida_tokenizer.fit_on_texts(saida_textos)\n",
    "saida_vocabulario = saida_tokenizer.word_index"
   ]
  },
  {
   "cell_type": "code",
   "execution_count": 9,
   "id": "99bdf56e-21a1-405e-ab22-3a62750b98c3",
   "metadata": {},
   "outputs": [],
   "source": [
    "entrada_sequencias = entrada_tokenizer.texts_to_sequences( entrada_textos )\n",
    "saida_sequencias = saida_tokenizer.texts_to_sequences( saida_textos )\n",
    "entrada_vocabulario_tam = len(entrada_vocabulario) + 1\n",
    "saida_vocabulario_tam = len(saida_vocabulario) + 1"
   ]
  },
  {
   "cell_type": "code",
   "execution_count": 52,
   "id": "14dc1264-5502-483f-ba42-546cc9b15888",
   "metadata": {},
   "outputs": [
    {
     "data": {
      "text/plain": [
       "179"
      ]
     },
     "execution_count": 52,
     "metadata": {},
     "output_type": "execute_result"
    }
   ],
   "source": [
    "saida_vocabulario_tam"
   ]
  },
  {
   "cell_type": "code",
   "execution_count": 10,
   "id": "4cfd8e38-a17e-40a9-bf2f-81f9d71d2b00",
   "metadata": {},
   "outputs": [
    {
     "data": {
      "text/plain": [
       "8"
      ]
     },
     "execution_count": 10,
     "metadata": {},
     "output_type": "execute_result"
    }
   ],
   "source": [
    "entrada_maximo_palavras = 0\n",
    "for seq in entrada_sequencias:\n",
    "    if len(seq) > entrada_maximo_palavras:\n",
    "        entrada_maximo_palavras = len(seq)\n",
    "entrada_maximo_palavras"
   ]
  },
  {
   "cell_type": "code",
   "execution_count": 11,
   "id": "bc2e19d4-a5bd-4794-9035-7f58c6791d5c",
   "metadata": {},
   "outputs": [
    {
     "data": {
      "text/plain": [
       "9"
      ]
     },
     "execution_count": 11,
     "metadata": {},
     "output_type": "execute_result"
    }
   ],
   "source": [
    "saida_maximo_palavras = 0\n",
    "for seq in saida_sequencias:\n",
    "    if len(seq) > saida_maximo_palavras:\n",
    "        saida_maximo_palavras = len(seq)\n",
    "saida_maximo_palavras"
   ]
  },
  {
   "cell_type": "code",
   "execution_count": 106,
   "id": "c77c6601-b66f-4641-8b4d-4d43de756f6a",
   "metadata": {},
   "outputs": [],
   "source": [
    "entrada_padded = pad_sequences(entrada_sequencias, maxlen=saida_maximo_palavras, padding=\"pre\")"
   ]
  },
  {
   "cell_type": "code",
   "execution_count": 108,
   "id": "26c12080-ec5e-4ecc-aeff-2976a892910e",
   "metadata": {},
   "outputs": [
    {
     "data": {
      "text/plain": [
       "array([[  0,   0,   0,   0,   0,   0,   0,   0,  62],\n",
       "       [  0,   0,   0,   0,   0,   0,   0,  13,  63],\n",
       "       [  0,   0,   0,   0,   0,   0,   0,  13,  64],\n",
       "       [  0,   0,   0,   0,   0,   0,   0,  13,  65],\n",
       "       [  0,   0,   0,   0,   0,   0,   0,  13,  66],\n",
       "       [  0,   0,   0,   0,   0,   0,  27,  28,   2],\n",
       "       [  0,   0,   0,   0,   0,   5,  67,  29,   2],\n",
       "       [  0,   0,   0,   0,   0,   0,  10,  11,  30],\n",
       "       [  0,   0,   0,   0,   0,  31,  30,  16,  68],\n",
       "       [  0,   0,   0,   0,   0,  32,   6,  69,   2],\n",
       "       [  0,   0,   0,   0,   0,   0,   0,   0,  70],\n",
       "       [  0,   0,   0,   0,   0,   0,   0,  29,   2],\n",
       "       [  0,   0,   0,   0,   0,   0,   0,  71,  72],\n",
       "       [  0,   0,   0,   0,   0,   0,   0,  73,  33],\n",
       "       [  0,   0,   0,   0,   0,   0,   0,   5,  74],\n",
       "       [  0,   0,   0,   0,   0,   0,   0,   0,  17],\n",
       "       [  0,   0,   0,   0,   0,   0,   0,   0,  18],\n",
       "       [  0,   0,   0,   0,   0,   0,   0,   0,  75],\n",
       "       [  0,   0,   0,   0,   0,   0,   1,   8,  76],\n",
       "       [  0,   0,   0,   0,   0,   0,   0,   1,  34],\n",
       "       [  0,   0,   0,   0,   0,   0,   1,   8,  34],\n",
       "       [  0,   0,   0,   0,   0,  35,   2,  77,  33],\n",
       "       [  0,   0,   0,   0,   0,  36,  16,  14,  78],\n",
       "       [  0,   0,   0,   0,  27,  79,  80,  37,  81],\n",
       "       [  0,   0,   0,   0,   1,  82,   3,   7,  21],\n",
       "       [  0,   0,   0,   0,   0,   4,   2,  38,  39],\n",
       "       [  0,   0,   0,   0,   1,  38,   7,  83,  84],\n",
       "       [  0,   0,   0,   0,   0,  12,  22,  16,  37],\n",
       "       [  0,   0,   0,   0,   0,   0,   0,   5,  85],\n",
       "       [  0,   0,   0,   0,   0,   0,   0,   5,  86],\n",
       "       [  0,   0,   0,   0,   0,   0,   0,   5,  87],\n",
       "       [  0,   0,   0,   0,   0,   1,  88,   7,  89],\n",
       "       [  0,   0,   0,   0,   0,   0,  90,  14,  91],\n",
       "       [  0,   0,   0,   0,   0,   0,   1,  40,   2],\n",
       "       [  0,   0,   0,   0,   0,   0,   0,   0,  92],\n",
       "       [  0,   0,   0,   0,   0,   0,   0,  41,  93],\n",
       "       [  0,   0,   0,   0,   0,   0,   0,  94,  95],\n",
       "       [  0,   0,   0,   0,   0,   0,  41,  96,  97],\n",
       "       [  0,   0,   0,   0,   0,   0,   0,  13,  98],\n",
       "       [  0,   0,   0,   0,   0,   9,   7,  32,  42],\n",
       "       [  0,   0,   0,   0,   0,   0,  99,   2, 100],\n",
       "       [  0,   0,   0,   0,   0,   0,   0,   0, 101],\n",
       "       [  0,   0,   0,   0,   0,  10,  11, 102, 103],\n",
       "       [  0,   0,   0,   0,   0,  36,   4,   2,  43],\n",
       "       [  0,   0,   0,   0,   1,  43,  44, 104, 105],\n",
       "       [  0,   0,   0,   0,   0,   0,   5, 106, 107],\n",
       "       [  0,   0,   0,   0,   0,  12,   4,   2,   4],\n",
       "       [  0,   0,   0,   0,   0,   0,   5,   7, 108],\n",
       "       [  0,   0,   0,   0,   1, 109,  44,  45, 110],\n",
       "       [  0,   0,   0,   0,   0,   0,   5,   7, 111],\n",
       "       [  0,   0,   0,   0,   1,   3,   6,  46, 112],\n",
       "       [  0,   0,   0,   0,   1,  47, 113,   6, 114],\n",
       "       [  0,   0,   0,   0,   0,   1,   3,   6, 115],\n",
       "       [  0,   0,   0,   0,   0,  10,  11,  15, 116],\n",
       "       [  0,   0,   0,   0,   0,   0,   1,   3, 117],\n",
       "       [  0,   0,   0,   0,   4,   2,   9,  19,  48],\n",
       "       [  0,   0,   0,   0,   0,   1,   9,   7, 118],\n",
       "       [  0,   0,   0,   0,   1,   8,   9,  19,  48],\n",
       "       [  0,   0,   0,   0,   0,  10,  11,  15,  49],\n",
       "       [  0,   0,   0,   0,  31,  15,  49,  16, 119],\n",
       "       [  0,   0,   0,   0,   0,   4,   2,   3,  50],\n",
       "       [  0,   0,   0,   0,   0,   0,   1,   3, 120],\n",
       "       [  0,   0,   0,   0,   0,   1,   8,   3,  50],\n",
       "       [  0,   0,   0,   0,  12, 121,   2,   4, 122],\n",
       "       [  0,   0,   0,   0,   1, 123,   6,  14,  23],\n",
       "       [  0,   0,   0,   0,   0,   1, 124,  24, 125],\n",
       "       [  0,   0,   0,   0,  12,  28,   2, 126, 127],\n",
       "       [  0,   0,   0,   0,   0,   0,   5, 128,  39],\n",
       "       [  0,   0,   0,   0,   0,   0,   5,  51, 129],\n",
       "       [  0,   0,   0,   4,   2,   9, 130,  52,  53],\n",
       "       [  0,   0,   0,   0,   0,   1,   9, 131, 132],\n",
       "       [  0,   0,   0,   0,   0,   1,   9, 133,  53],\n",
       "       [  0,   0,   0,   0,   0,   5,  45, 134, 135],\n",
       "       [  0,   0,   0,  12,  22,   4,   2,  54,  55],\n",
       "       [  0,   0,   1,  54,  55,  24, 136,   7,  56],\n",
       "       [  0,   0,  12,  22,   4,   2,  57,   6,  58],\n",
       "       [  0,   1,  57,   6,  58,  24, 137, 138,  56],\n",
       "       [  0,   0,   0,   0,   4,   2,   3,   6,  59],\n",
       "       [  0,   0,   0,   0,   0,  17,   1,  40, 139],\n",
       "       [  0,   0,   0,  18,   1,   8,   3,   6,  59],\n",
       "       [  0,   0,   0,   0,   0,  10,  11,  15, 140],\n",
       "       [  0,   0,   0,   0,   0,   1,   3, 141,  23],\n",
       "       [  0,   0,   0,   0,   0,   0,   1,  25, 142],\n",
       "       [  0,   0,   0,   0,   4,   2,  26,  19,  60],\n",
       "       [  0,   0,   0,   0,   0,   1,  26,  14, 143],\n",
       "       [  0,   0,   0,   0,   1,   8,  26,  19,  60],\n",
       "       [  0,   0,   0,   0,   0,  10,  14, 144,   3],\n",
       "       [  0,   0,   0,   0,   0,   0,   0,  20, 145],\n",
       "       [  0,   0,   0,   0,   0,   0,   0,  20, 146],\n",
       "       [  0,   0,   0,   0,   0,   0,   0,  20, 147],\n",
       "       [  0,   0,   0,   0,   0,   0,   0,  20, 148],\n",
       "       [  0,   0,   0,   0,   0,   4,   2,   3, 149],\n",
       "       [  0,   0,   0,   0,  17,   1,  46, 150,  42],\n",
       "       [  0,   0,   0,   0,  18,   1,  25,  51,  23],\n",
       "       [  0,   0,   0,   0,   0,  10,  11,  15, 151],\n",
       "       [  0,   0,   0,   0,   0,   1,   3, 152, 153],\n",
       "       [  0,   0,   0,   0,   0,   1,  47, 154, 155],\n",
       "       [  0,   0,   0,   0,   0,   0,  35,   2,  61],\n",
       "       [  0,   0,   0,  17,   1,   9,   7, 156, 157],\n",
       "       [  0,   0,   0,   0,   0,  18,   1,   8,  61],\n",
       "       [  0,   0,   0,   4,   2,   3,  21,  52, 158],\n",
       "       [  0,   0,   0,   0,   0,   0,   1,  25,  21],\n",
       "       [  0,   0,   0,   0,   0,   0,   1,   3, 159],\n",
       "       [  0,   0,   0,   0,   0,   1,   8,   3, 160]])"
      ]
     },
     "execution_count": 108,
     "metadata": {},
     "output_type": "execute_result"
    }
   ],
   "source": [
    "entrada_padded"
   ]
  },
  {
   "cell_type": "code",
   "execution_count": 110,
   "id": "cd4743cd-5682-4d1d-b688-151c97e0ab18",
   "metadata": {},
   "outputs": [],
   "source": [
    "# outralista = [seq[:-1] for seq in saida_sequencias]\n",
    "# outralista"
   ]
  },
  {
   "cell_type": "code",
   "execution_count": 112,
   "id": "8f55df6f-af3a-4664-9eb9-0b13c5e43f98",
   "metadata": {},
   "outputs": [],
   "source": [
    "decoder_entrada_dados = pad_sequences([seq[:-1] for seq in saida_sequencias], maxlen=saida_maximo_palavras, padding=\"pre\")\n",
    "decoder_saida_dados = pad_sequences([seq[1:] for seq in saida_sequencias], maxlen=saida_maximo_palavras, padding=\"pre\")"
   ]
  },
  {
   "cell_type": "code",
   "execution_count": 114,
   "id": "39dadf4a-ac68-4387-99e1-2dafb6f2cee8",
   "metadata": {},
   "outputs": [
    {
     "data": {
      "text/plain": [
       "array([ 0,  0,  0,  0,  0,  0, 17, 58,  2])"
      ]
     },
     "execution_count": 114,
     "metadata": {},
     "output_type": "execute_result"
    }
   ],
   "source": [
    "decoder_saida_dados[2]"
   ]
  },
  {
   "cell_type": "code",
   "execution_count": 130,
   "id": "33df12ea-4a08-4642-9015-a581b946c1b1",
   "metadata": {},
   "outputs": [
    {
     "data": {
      "text/plain": [
       "array([[1., 0., 0., ..., 0., 0., 0.],\n",
       "       [1., 0., 0., ..., 0., 0., 0.],\n",
       "       [1., 0., 0., ..., 0., 0., 0.],\n",
       "       ...,\n",
       "       [0., 0., 0., ..., 0., 0., 0.],\n",
       "       [0., 0., 0., ..., 0., 0., 0.],\n",
       "       [0., 0., 1., ..., 0., 0., 0.]])"
      ]
     },
     "execution_count": 130,
     "metadata": {},
     "output_type": "execute_result"
    }
   ],
   "source": [
    "decoder_saida_onehot_dados = to_categorical( decoder_saida_dados, num_classes=saida_vocabulario_tam )\n",
    "decoder_saida_onehot_dados[1]"
   ]
  },
  {
   "cell_type": "code",
   "execution_count": 118,
   "id": "56214442-43c4-4678-86af-4644170ec9e9",
   "metadata": {},
   "outputs": [],
   "source": [
    "embedding_dim = 100\n",
    "lstm_encoder_nodes = 200"
   ]
  },
  {
   "cell_type": "code",
   "execution_count": 120,
   "id": "87ddf304-8bd3-4e7e-a29c-0bd209f18a80",
   "metadata": {},
   "outputs": [],
   "source": [
    "encoder_input = Input( shape=(None,) )\n",
    "encoder_embedding = Embedding(input_dim = entrada_vocabulario_tam, output_dim = embedding_dim)(encoder_input)\n",
    "encoder_lstm, state_h, state_c = LSTM(lstm_encoder_nodes, return_state = True)(encoder_embedding)\n",
    "encoder_state = [state_h, state_c]"
   ]
  },
  {
   "cell_type": "code",
   "execution_count": 122,
   "id": "6e8c50d8-4c33-4a3f-b63e-5646976bdc21",
   "metadata": {},
   "outputs": [],
   "source": [
    "decoder_input = Input( shape=(None,) )\n",
    "decoder_embedding_layer = Embedding(input_dim=saida_vocabulario_tam, output_dim = embedding_dim)\n",
    "decoder_embedding = decoder_embedding_layer(decoder_input)\n",
    "lstm_decoder_layer = LSTM(lstm_encoder_nodes, return_state=True, return_sequences=True)\n",
    "decoder_lstm_output, _, _ = lstm_decoder_layer(decoder_embedding, initial_state = encoder_state)\n",
    "decoder_output_layer = Dense(saida_vocabulario_tam, activation=\"softmax\")\n",
    "decorder_output = decoder_output_layer( decoder_lstm_output )"
   ]
  },
  {
   "cell_type": "code",
   "execution_count": 124,
   "id": "b139a090-67d9-49ab-ba9b-442783900867",
   "metadata": {},
   "outputs": [],
   "source": [
    "model = Model( [encoder_input, decoder_input], decorder_output )"
   ]
  },
  {
   "cell_type": "code",
   "execution_count": 126,
   "id": "8922fb68-8efa-40f6-8cb6-d0f9c40cc2c5",
   "metadata": {},
   "outputs": [],
   "source": [
    "adam = Adam(learning_rate = 0.001)\n",
    "model.compile(optimizer=adam, loss=\"categorical_crossentropy\", metrics=[\"accuracy\"])"
   ]
  },
  {
   "cell_type": "code",
   "execution_count": 132,
   "id": "c5f68de5-d337-4397-b6d4-dc27a96b6b9e",
   "metadata": {},
   "outputs": [
    {
     "name": "stdout",
     "output_type": "stream",
     "text": [
      "Epoch 1/100\n"
     ]
    },
    {
     "ename": "ValueError",
     "evalue": "Creating variables on a non-first call to a function decorated with tf.function.",
     "output_type": "error",
     "traceback": [
      "\u001b[1;31m---------------------------------------------------------------------------\u001b[0m",
      "\u001b[1;31mValueError\u001b[0m                                Traceback (most recent call last)",
      "Cell \u001b[1;32mIn[132], line 1\u001b[0m\n\u001b[1;32m----> 1\u001b[0m resultado \u001b[38;5;241m=\u001b[39m model\u001b[38;5;241m.\u001b[39mfit([entrada_padded, decoder_entrada_dados], decoder_saida_onehot_dados, \n\u001b[0;32m      2\u001b[0m           batch_size\u001b[38;5;241m=\u001b[39m\u001b[38;5;241m4\u001b[39m, epochs\u001b[38;5;241m=\u001b[39m\u001b[38;5;241m100\u001b[39m, validation_split\u001b[38;5;241m=\u001b[39m\u001b[38;5;241m0.2\u001b[39m)\n",
      "File \u001b[1;32m~\\AppData\\Roaming\\Python\\Python312\\site-packages\\keras\\src\\utils\\traceback_utils.py:122\u001b[0m, in \u001b[0;36mfilter_traceback.<locals>.error_handler\u001b[1;34m(*args, **kwargs)\u001b[0m\n\u001b[0;32m    119\u001b[0m     filtered_tb \u001b[38;5;241m=\u001b[39m _process_traceback_frames(e\u001b[38;5;241m.\u001b[39m__traceback__)\n\u001b[0;32m    120\u001b[0m     \u001b[38;5;66;03m# To get the full stack trace, call:\u001b[39;00m\n\u001b[0;32m    121\u001b[0m     \u001b[38;5;66;03m# `keras.config.disable_traceback_filtering()`\u001b[39;00m\n\u001b[1;32m--> 122\u001b[0m     \u001b[38;5;28;01mraise\u001b[39;00m e\u001b[38;5;241m.\u001b[39mwith_traceback(filtered_tb) \u001b[38;5;28;01mfrom\u001b[39;00m \u001b[38;5;28;01mNone\u001b[39;00m\n\u001b[0;32m    123\u001b[0m \u001b[38;5;28;01mfinally\u001b[39;00m:\n\u001b[0;32m    124\u001b[0m     \u001b[38;5;28;01mdel\u001b[39;00m filtered_tb\n",
      "File \u001b[1;32m~\\AppData\\Roaming\\Python\\Python312\\site-packages\\keras\\src\\backend\\tensorflow\\trainer.py:129\u001b[0m, in \u001b[0;36mTensorFlowTrainer._make_function.<locals>.multi_step_on_iterator\u001b[1;34m(iterator)\u001b[0m\n\u001b[0;32m    125\u001b[0m \u001b[38;5;129m@tf\u001b[39m\u001b[38;5;241m.\u001b[39mautograph\u001b[38;5;241m.\u001b[39mexperimental\u001b[38;5;241m.\u001b[39mdo_not_convert\n\u001b[0;32m    126\u001b[0m \u001b[38;5;28;01mdef\u001b[39;00m \u001b[38;5;21mmulti_step_on_iterator\u001b[39m(iterator):\n\u001b[0;32m    127\u001b[0m     \u001b[38;5;28;01mif\u001b[39;00m \u001b[38;5;28mself\u001b[39m\u001b[38;5;241m.\u001b[39msteps_per_execution \u001b[38;5;241m==\u001b[39m \u001b[38;5;241m1\u001b[39m:\n\u001b[0;32m    128\u001b[0m         \u001b[38;5;28;01mreturn\u001b[39;00m tf\u001b[38;5;241m.\u001b[39mexperimental\u001b[38;5;241m.\u001b[39mOptional\u001b[38;5;241m.\u001b[39mfrom_value(\n\u001b[1;32m--> 129\u001b[0m             one_step_on_data(iterator\u001b[38;5;241m.\u001b[39mget_next())\n\u001b[0;32m    130\u001b[0m         )\n\u001b[0;32m    132\u001b[0m     \u001b[38;5;66;03m# the spec is set lazily during the tracing of `tf.while_loop`\u001b[39;00m\n\u001b[0;32m    133\u001b[0m     empty_outputs \u001b[38;5;241m=\u001b[39m tf\u001b[38;5;241m.\u001b[39mexperimental\u001b[38;5;241m.\u001b[39mOptional\u001b[38;5;241m.\u001b[39mempty(\u001b[38;5;28;01mNone\u001b[39;00m)\n",
      "\u001b[1;31mValueError\u001b[0m: Creating variables on a non-first call to a function decorated with tf.function."
     ]
    }
   ],
   "source": [
    "resultado = model.fit([entrada_padded, decoder_entrada_dados], decoder_saida_onehot_dados, \n",
    "          batch_size=4, epochs=100, validation_split=0.2)"
   ]
  },
  {
   "cell_type": "code",
   "execution_count": null,
   "id": "33b50053-09cb-44ff-b4be-6e786bd67fdd",
   "metadata": {},
   "outputs": [],
   "source": []
  }
 ],
 "metadata": {
  "kernelspec": {
   "display_name": "Python [conda env:base] *",
   "language": "python",
   "name": "conda-base-py"
  },
  "language_info": {
   "codemirror_mode": {
    "name": "ipython",
    "version": 3
   },
   "file_extension": ".py",
   "mimetype": "text/x-python",
   "name": "python",
   "nbconvert_exporter": "python",
   "pygments_lexer": "ipython3",
   "version": "3.12.7"
  }
 },
 "nbformat": 4,
 "nbformat_minor": 5
}
