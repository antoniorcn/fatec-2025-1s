{
 "cells": [
  {
   "cell_type": "code",
   "execution_count": 3,
   "id": "968208d8-3cc4-4c1e-9d8a-aaa19a448f9c",
   "metadata": {},
   "outputs": [
    {
     "data": {
      "text/plain": [
       "50"
      ]
     },
     "execution_count": 3,
     "metadata": {},
     "output_type": "execute_result"
    }
   ],
   "source": [
    "a = 20 + 30                         # 50\n",
    "a"
   ]
  },
  {
   "cell_type": "code",
   "execution_count": 5,
   "id": "b771925f-da27-4456-b06d-5d3b9e7fcd1f",
   "metadata": {},
   "outputs": [
    {
     "data": {
      "text/plain": [
       "' O valor do numero é  30'"
      ]
     },
     "execution_count": 5,
     "metadata": {},
     "output_type": "execute_result"
    }
   ],
   "source": [
    "b = \" O valor do numero é  \" + str( 30 )  # \"O valor do número é 30 \"\n",
    "b"
   ]
  },
  {
   "cell_type": "code",
   "execution_count": 7,
   "id": "aa5c63b3-8672-4fcd-844b-038b16b5805b",
   "metadata": {},
   "outputs": [
    {
     "data": {
      "text/plain": [
       "'0xdb75c'"
      ]
     },
     "execution_count": 7,
     "metadata": {},
     "output_type": "execute_result"
    }
   ],
   "source": [
    "c = hex ( 898908 )      # DB75C\n",
    "c"
   ]
  },
  {
   "cell_type": "code",
   "execution_count": 9,
   "id": "ee43ab76-0dcf-4326-959d-7514abe923c8",
   "metadata": {},
   "outputs": [
    {
     "data": {
      "text/plain": [
       "9"
      ]
     },
     "execution_count": 9,
     "metadata": {},
     "output_type": "execute_result"
    }
   ],
   "source": [
    "d = len ( \"Ola mundo\" )      #\n",
    "d"
   ]
  },
  {
   "cell_type": "code",
   "execution_count": 11,
   "id": "d04929d0-d1af-4914-a53f-06ce12eb508a",
   "metadata": {},
   "outputs": [
    {
     "data": {
      "text/plain": [
       "313"
      ]
     },
     "execution_count": 11,
     "metadata": {},
     "output_type": "execute_result"
    }
   ],
   "source": [
    "e =  int( \"153\" ) + 160     # 313\n",
    "e"
   ]
  },
  {
   "cell_type": "code",
   "execution_count": 23,
   "id": "48e40c7c-375c-4463-8152-8b879b548c99",
   "metadata": {},
   "outputs": [
    {
     "data": {
      "text/plain": [
       "-1"
      ]
     },
     "execution_count": 23,
     "metadata": {},
     "output_type": "execute_result"
    }
   ],
   "source": [
    "f = \"PROVA NLP\"\n",
    "f.find( \"P\", 9 )             # 8 "
   ]
  },
  {
   "cell_type": "code",
   "execution_count": 25,
   "id": "97a51beb-f510-4713-ab4c-362f3c22968b",
   "metadata": {},
   "outputs": [
    {
     "data": {
      "text/plain": [
       "25"
      ]
     },
     "execution_count": 25,
     "metadata": {},
     "output_type": "execute_result"
    }
   ],
   "source": [
    "5 ** 2"
   ]
  },
  {
   "cell_type": "code",
   "execution_count": 27,
   "id": "be5f5327-4f0a-483e-b8ae-873e96496a7c",
   "metadata": {},
   "outputs": [
    {
     "data": {
      "text/plain": [
       "125"
      ]
     },
     "execution_count": 27,
     "metadata": {},
     "output_type": "execute_result"
    }
   ],
   "source": [
    "5 ** 3"
   ]
  },
  {
   "cell_type": "code",
   "execution_count": 33,
   "id": "2a9cca99-b83a-47f0-aeb1-909736d4242d",
   "metadata": {},
   "outputs": [
    {
     "data": {
      "text/plain": [
       "2"
      ]
     },
     "execution_count": 33,
     "metadata": {},
     "output_type": "execute_result"
    }
   ],
   "source": [
    "# (dividendo)  20 |__3__ (divisor)\n",
    "# (resto)       2   06 (quociente)\n",
    "\n",
    "# 20 / 3    =   6.666666666666667 \n",
    "# 20 // 3    = 6       (quociente)\n",
    "# 20 % 3     = 2       (resto)"
   ]
  },
  {
   "cell_type": "code",
   "execution_count": 35,
   "id": "9c2ff392-3e51-4d7c-b9d8-87f9106ff331",
   "metadata": {},
   "outputs": [
    {
     "name": "stdout",
     "output_type": "stream",
     "text": [
      "numero esta fora da faixa\n"
     ]
    }
   ],
   "source": [
    "numero = 5 \n",
    "\n",
    "inicio = 10\n",
    "termino = 20\n",
    "\n",
    "if numero >= inicio and numero <= termino: \n",
    "    print(\"numero esta na faixa\")\n",
    "else:\n",
    "    print(\"numero esta fora da faixa\")"
   ]
  },
  {
   "cell_type": "code",
   "execution_count": null,
   "id": "8805e300-7230-4b85-ba63-bdae4b7fa4d5",
   "metadata": {},
   "outputs": [],
   "source": [
    "i = 10\n",
    "# i = i + 1   ==>   i += 1\n",
    "# i -= 3      ==>   i = i - 3"
   ]
  },
  {
   "cell_type": "code",
   "execution_count": 39,
   "id": "35148e1f-f57c-4588-9cfb-44233217a8d0",
   "metadata": {},
   "outputs": [
    {
     "name": "stdout",
     "output_type": "stream",
     "text": [
      "O numero: 40 está na lista\n"
     ]
    }
   ],
   "source": [
    "lista = [10, 20, 30, 40, 50]\n",
    "\n",
    "numero = 40\n",
    "\n",
    "if numero in lista:\n",
    "    print(f\"O numero: {numero} está na lista\")\n",
    "else:\n",
    "    print(f\"O numero: {numero} não está na lista\")\n"
   ]
  },
  {
   "cell_type": "code",
   "execution_count": 43,
   "id": "234cc0dc-1081-4ab5-a916-15e609e52b68",
   "metadata": {},
   "outputs": [
    {
     "name": "stdout",
     "output_type": "stream",
     "text": [
      "A: Ola mundo\n",
      "B: Ola mundo\n",
      "A é o mesmo que a varivel texto\n",
      "B não é o mesmo que a varivel texto\n"
     ]
    }
   ],
   "source": [
    "texto = \"Ola mundo\"\n",
    "a = texto\n",
    "b = \"Ola mundo\"\n",
    "\n",
    "print(f\"A: {a}\")\n",
    "print(f\"B: {b}\")\n",
    "if a is texto:\n",
    "    print(f\"A é o mesmo que a varivel texto\")\n",
    "else:\n",
    "    print(f\"A não é o mesmo que a varivel texto\")\n",
    "if b is texto:\n",
    "    print(f\"B é o mesmo que a varivel texto\")\n",
    "else:\n",
    "    print(f\"B não é o mesmo que a varivel texto\")"
   ]
  },
  {
   "cell_type": "code",
   "execution_count": null,
   "id": "741d9210-ee87-406e-84f9-1699586fa6c5",
   "metadata": {},
   "outputs": [],
   "source": []
  }
 ],
 "metadata": {
  "kernelspec": {
   "display_name": "Python [conda env:base] *",
   "language": "python",
   "name": "conda-base-py"
  },
  "language_info": {
   "codemirror_mode": {
    "name": "ipython",
    "version": 3
   },
   "file_extension": ".py",
   "mimetype": "text/x-python",
   "name": "python",
   "nbconvert_exporter": "python",
   "pygments_lexer": "ipython3",
   "version": "3.12.7"
  }
 },
 "nbformat": 4,
 "nbformat_minor": 5
}
