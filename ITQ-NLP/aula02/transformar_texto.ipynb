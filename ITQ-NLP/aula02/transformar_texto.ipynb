{
 "cells": [
  {
   "cell_type": "code",
   "execution_count": 51,
   "id": "a29ea771-8d30-4318-aa44-3516a4c0c177",
   "metadata": {},
   "outputs": [],
   "source": [
    "# ! pip install nltk"
   ]
  },
  {
   "cell_type": "code",
   "execution_count": 49,
   "id": "96d5b6ef-bc0d-493f-8b6d-98da789bbec4",
   "metadata": {},
   "outputs": [],
   "source": [
    "import nltk   # Natural Language Toolkit"
   ]
  },
  {
   "cell_type": "code",
   "execution_count": 67,
   "id": "48de5630-a227-427f-9b01-c72a264a159a",
   "metadata": {},
   "outputs": [],
   "source": [
    "from string import punctuation"
   ]
  },
  {
   "cell_type": "code",
   "execution_count": 71,
   "id": "6a9f96c4-2a42-403b-9d10-0346b76a328c",
   "metadata": {},
   "outputs": [],
   "source": [
    "from sklearn.feature_extraction.text import CountVectorizer"
   ]
  },
  {
   "cell_type": "code",
   "execution_count": 53,
   "id": "2cb12910-8c1f-4f94-ab5e-efedc4cfa3a8",
   "metadata": {},
   "outputs": [
    {
     "name": "stderr",
     "output_type": "stream",
     "text": [
      "[nltk_data] Downloading package stopwords to\n",
      "[nltk_data]     C:\\Users\\anton\\AppData\\Roaming\\nltk_data...\n",
      "[nltk_data]   Unzipping corpora\\stopwords.zip.\n"
     ]
    },
    {
     "data": {
      "text/plain": [
       "True"
      ]
     },
     "execution_count": 53,
     "metadata": {},
     "output_type": "execute_result"
    }
   ],
   "source": [
    "nltk.download('stopwords')"
   ]
  },
  {
   "cell_type": "code",
   "execution_count": 55,
   "id": "6c3d57c2-800f-48bb-9fff-3259e01f3689",
   "metadata": {},
   "outputs": [],
   "source": [
    "stopwords_nltk = nltk.corpus.stopwords.words('portuguese')"
   ]
  },
  {
   "cell_type": "code",
   "execution_count": 61,
   "id": "82c3a7f2-2ce4-4389-a5fe-7dcf728795a5",
   "metadata": {},
   "outputs": [],
   "source": [
    "stopwords_nltk.append('pouco')"
   ]
  },
  {
   "cell_type": "code",
   "execution_count": 63,
   "id": "f8f8030b-1143-42a1-9b28-ac24467c9ec5",
   "metadata": {},
   "outputs": [
    {
     "name": "stdout",
     "output_type": "stream",
     "text": [
      "['a', 'à', 'ao', 'aos', 'aquela', 'aquelas', 'aquele', 'aqueles', 'aquilo', 'as', 'às', 'até', 'com', 'como', 'da', 'das', 'de', 'dela', 'delas', 'dele', 'deles', 'depois', 'do', 'dos', 'e', 'é', 'ela', 'elas', 'ele', 'eles', 'em', 'entre', 'era', 'eram', 'éramos', 'essa', 'essas', 'esse', 'esses', 'esta', 'está', 'estamos', 'estão', 'estar', 'estas', 'estava', 'estavam', 'estávamos', 'este', 'esteja', 'estejam', 'estejamos', 'estes', 'esteve', 'estive', 'estivemos', 'estiver', 'estivera', 'estiveram', 'estivéramos', 'estiverem', 'estivermos', 'estivesse', 'estivessem', 'estivéssemos', 'estou', 'eu', 'foi', 'fomos', 'for', 'fora', 'foram', 'fôramos', 'forem', 'formos', 'fosse', 'fossem', 'fôssemos', 'fui', 'há', 'haja', 'hajam', 'hajamos', 'hão', 'havemos', 'haver', 'hei', 'houve', 'houvemos', 'houver', 'houvera', 'houverá', 'houveram', 'houvéramos', 'houverão', 'houverei', 'houverem', 'houveremos', 'houveria', 'houveriam', 'houveríamos', 'houvermos', 'houvesse', 'houvessem', 'houvéssemos', 'isso', 'isto', 'já', 'lhe', 'lhes', 'mais', 'mas', 'me', 'mesmo', 'meu', 'meus', 'minha', 'minhas', 'muito', 'na', 'não', 'nas', 'nem', 'no', 'nos', 'nós', 'nossa', 'nossas', 'nosso', 'nossos', 'num', 'numa', 'o', 'os', 'ou', 'para', 'pela', 'pelas', 'pelo', 'pelos', 'por', 'qual', 'quando', 'que', 'quem', 'são', 'se', 'seja', 'sejam', 'sejamos', 'sem', 'ser', 'será', 'serão', 'serei', 'seremos', 'seria', 'seriam', 'seríamos', 'seu', 'seus', 'só', 'somos', 'sou', 'sua', 'suas', 'também', 'te', 'tem', 'tém', 'temos', 'tenha', 'tenham', 'tenhamos', 'tenho', 'terá', 'terão', 'terei', 'teremos', 'teria', 'teriam', 'teríamos', 'teu', 'teus', 'teve', 'tinha', 'tinham', 'tínhamos', 'tive', 'tivemos', 'tiver', 'tivera', 'tiveram', 'tivéramos', 'tiverem', 'tivermos', 'tivesse', 'tivessem', 'tivéssemos', 'tu', 'tua', 'tuas', 'um', 'uma', 'você', 'vocês', 'vos', 'pouco']\n"
     ]
    }
   ],
   "source": [
    "print(stopwords_nltk)"
   ]
  },
  {
   "cell_type": "code",
   "execution_count": 69,
   "id": "71b61727-ad2d-466f-a60c-a7a9ed4283ef",
   "metadata": {},
   "outputs": [
    {
     "name": "stdout",
     "output_type": "stream",
     "text": [
      "!\"#$%&'()*+,-./:;<=>?@[\\]^_`{|}~\n"
     ]
    }
   ],
   "source": [
    "print(punctuation)"
   ]
  },
  {
   "cell_type": "code",
   "execution_count": 1,
   "id": "8da572a8-8dde-475a-9c0a-66ad878dd3e9",
   "metadata": {},
   "outputs": [],
   "source": [
    "texto = \"\"\"rato roeu a roupa do rei de Roma,\n",
    "O rato roeu a roupa do rei da Rússia,\n",
    "O rato roeu a roupa do RodovaIho...\n",
    "O rato a roer roía\n",
    "E a rosa Rita Ramalho do rato a roer se ria.\n",
    "O rato roeu a roupa do rei de roma\n",
    "a rainha com raiva roeu o resto.\"\"\""
   ]
  },
  {
   "cell_type": "code",
   "execution_count": 5,
   "id": "e20a9343-c1a4-4d54-8982-4215716759fc",
   "metadata": {},
   "outputs": [
    {
     "data": {
      "text/plain": [
       "'rato roeu a roupa do rei de roma,\\no rato roeu a roupa do rei da rússia,\\no rato roeu a roupa do rodovaiho...\\no rato a roer roía\\ne a rosa rita ramalho do rato a roer se ria.\\no rato roeu a roupa do rei de roma\\na rainha com raiva roeu o resto.'"
      ]
     },
     "execution_count": 5,
     "metadata": {},
     "output_type": "execute_result"
    }
   ],
   "source": [
    "texto_minusculo = texto.lower()\n",
    "texto_minusculo"
   ]
  },
  {
   "cell_type": "code",
   "execution_count": 9,
   "id": "a4e52d93-a3a8-4965-b76d-927cf36b787e",
   "metadata": {},
   "outputs": [
    {
     "data": {
      "text/plain": [
       "'rato roeu a roupa do rei de roma o rato roeu a roupa do rei da rússia o rato roeu a roupa do rodovaiho o rato a roer roía e a rosa rita ramalho do rato a roer se ria o rato roeu a roupa do rei de roma a rainha com raiva roeu o resto'"
      ]
     },
     "execution_count": 9,
     "metadata": {},
     "output_type": "execute_result"
    }
   ],
   "source": [
    "# texto_limpo = texto_minusculo.replace(\",\", \"\")\n",
    "# texto_limpo = texto_limpo.replace(\".\", \"\")\n",
    "# texto_limpo = texto_limpo.replace(\"\\n\", \" \")\n",
    "\n",
    "texto_limpo = texto_minusculo.replace(\",\", \"\").replace(\".\", \"\").replace(\"\\n\", \" \")\n",
    "texto_limpo"
   ]
  },
  {
   "cell_type": "code",
   "execution_count": 45,
   "id": "b1e2080b-02af-4eb5-842d-9fad27e404e2",
   "metadata": {},
   "outputs": [
    {
     "name": "stdout",
     "output_type": "stream",
     "text": [
      "['rato', 'roeu', 'a', 'roupa', 'do', 'rei', 'de', 'roma', 'o', 'rato', 'roeu', 'a', 'roupa', 'do', 'rei', 'da', 'rússia', 'o', 'rato', 'roeu', 'a', 'roupa', 'do', 'rodovaiho', 'o', 'rato', 'a', 'roer', 'roía', 'e', 'a', 'rosa', 'rita', 'ramalho', 'do', 'rato', 'a', 'roer', 'se', 'ria', 'o', 'rato', 'roeu', 'a', 'roupa', 'do', 'rei', 'de', 'roma', 'a', 'rainha', 'com', 'raiva', 'roeu', 'o', 'resto']\n"
     ]
    }
   ],
   "source": [
    "tokens = texto_limpo.split(\" \")\n",
    "print(tokens)"
   ]
  },
  {
   "cell_type": "code",
   "execution_count": 47,
   "id": "8c48a9b0-f6e8-486f-a1d4-fa08c75d2e88",
   "metadata": {},
   "outputs": [
    {
     "name": "stdout",
     "output_type": "stream",
     "text": [
      "{'rato': 6, 'roeu': 5, 'a': 8, 'roupa': 4, 'do': 5, 'rei': 3, 'de': 2, 'roma': 2, 'o': 5, 'da': 1, 'rússia': 1, 'rodovaiho': 1, 'roer': 2, 'roía': 1, 'e': 1, 'rosa': 1, 'rita': 1, 'ramalho': 1, 'se': 1, 'ria': 1, 'rainha': 1, 'com': 1, 'raiva': 1, 'resto': 1}\n"
     ]
    }
   ],
   "source": [
    "vocabulario = dict()\n",
    "for token in tokens:\n",
    "    if token in vocabulario:\n",
    "        vocabulario[token] += 1\n",
    "    else:\n",
    "        vocabulario[token] = 1\n",
    "print(vocabulario)"
   ]
  },
  {
   "cell_type": "code",
   "execution_count": 19,
   "id": "e4ea65b6-29cb-41bf-a5cd-d914de760dc4",
   "metadata": {},
   "outputs": [
    {
     "data": {
      "text/plain": [
       "dict_keys(['rato', 'roeu', 'a', 'roupa', 'do', 'rei', 'de', 'roma', 'o', 'da', 'rússia', 'rodovaiho', 'roer', 'roía', 'e', 'rosa', 'rita', 'ramalho', 'se', 'ria', 'rainha', 'com', 'raiva', 'resto'])"
      ]
     },
     "execution_count": 19,
     "metadata": {},
     "output_type": "execute_result"
    }
   ],
   "source": [
    "vocabulario.keys()"
   ]
  },
  {
   "cell_type": "code",
   "execution_count": 21,
   "id": "ac9a618c-a4a3-45f0-ac37-76e579929b08",
   "metadata": {},
   "outputs": [
    {
     "data": {
      "text/plain": [
       "0.42857142857142855"
      ]
     },
     "execution_count": 21,
     "metadata": {},
     "output_type": "execute_result"
    }
   ],
   "source": [
    "riqueza_lexical = len(vocabulario.keys()) / len(tokens)\n",
    "riqueza_lexical"
   ]
  },
  {
   "cell_type": "code",
   "execution_count": 27,
   "id": "d625d070-6131-4562-84e3-70a0160cb644",
   "metadata": {},
   "outputs": [
    {
     "data": {
      "text/plain": [
       "'rato roeu a roupa do rei de roma o rato roeu a roupa do rei da rússia o rato roeu a roupa do rodovaiho o rato a roer roía e a rosa rita ramalho do rato a roer se ria o rato roeu a roupa do rei de roma a rainha com raiva roeu o resto'"
      ]
     },
     "execution_count": 27,
     "metadata": {},
     "output_type": "execute_result"
    }
   ],
   "source": [
    "# \" \".join(tokens)"
   ]
  },
  {
   "cell_type": "code",
   "execution_count": 35,
   "id": "a08cf7b2-b582-4388-836b-93e3a618b817",
   "metadata": {},
   "outputs": [],
   "source": [
    "stop_words = ['o', 'a', 'do', 'da', 'de', 'e', 'com']"
   ]
  },
  {
   "cell_type": "code",
   "execution_count": 39,
   "id": "6c956fa5-140b-4337-b0f7-aa531edfb64a",
   "metadata": {},
   "outputs": [
    {
     "name": "stdout",
     "output_type": "stream",
     "text": [
      "rato  roeu  roupa  rei  roma  rato  roeu  roupa  rei  rússia  rato  roeu  roupa  rodovaiho  rato  roer  roía  rosa  rita  ramalho  rato  roer  se  ria  rato  roeu  roupa  rei  roma  rainha  raiva  roeu  resto  "
     ]
    }
   ],
   "source": [
    "tokens_limpos = []\n",
    "for token in tokens:\n",
    "    if token not in stop_words:\n",
    "        tokens_limpos.append( token )\n",
    "        print(token, \" \", end=\"\")"
   ]
  },
  {
   "cell_type": "code",
   "execution_count": 43,
   "id": "5da4e65f-4174-4f4e-86ae-8d272cb1d834",
   "metadata": {},
   "outputs": [
    {
     "name": "stdout",
     "output_type": "stream",
     "text": [
      "['rato', 'roeu', 'roupa', 'rei', 'roma', 'rato', 'roeu', 'roupa', 'rei', 'rússia', 'rato', 'roeu', 'roupa', 'rodovaiho', 'rato', 'roer', 'roía', 'rosa', 'rita', 'ramalho', 'rato', 'roer', 'se', 'ria', 'rato', 'roeu', 'roupa', 'rei', 'roma', 'rainha', 'raiva', 'roeu', 'resto']\n"
     ]
    }
   ],
   "source": [
    "print(tokens_limpos)"
   ]
  },
  {
   "cell_type": "code",
   "execution_count": 89,
   "id": "6396bd58-35d8-41d7-a701-142c28cfb4ad",
   "metadata": {},
   "outputs": [],
   "source": [
    "textos = [ \n",
    "    \"Pet shop anhanguera faz tosa e banho de cachorros gratuitamente\", \n",
    "    \"Em Santana o pet shop zzz trata os gatos de forma especial, garantindo um banho adequado neste pet\",\n",
    "    \"No largo da batata a empresa pet care, cuida das aves, faz serviços veterinários assim como tosa e banho\"]"
   ]
  },
  {
   "cell_type": "code",
   "execution_count": 91,
   "id": "4f8c74fa-a3ea-4981-8125-9e0826e03f8c",
   "metadata": {},
   "outputs": [],
   "source": [
    "vetorizador = CountVectorizer( lowercase = True )\n",
    "\n",
    "bag_of_words = vetorizador.fit_transform( textos )\n"
   ]
  },
  {
   "cell_type": "code",
   "execution_count": 93,
   "id": "b48f8e30-6207-4b53-8bd9-56e5498432d3",
   "metadata": {},
   "outputs": [
    {
     "data": {
      "text/plain": [
       "<1x34 sparse matrix of type '<class 'numpy.int64'>'\n",
       "\twith 9 stored elements in Compressed Sparse Row format>"
      ]
     },
     "execution_count": 93,
     "metadata": {},
     "output_type": "execute_result"
    }
   ],
   "source": [
    "bag_of_words[0]"
   ]
  },
  {
   "cell_type": "code",
   "execution_count": 95,
   "id": "46d912de-fa99-4a3b-bf8f-9cad7600b5e9",
   "metadata": {},
   "outputs": [
    {
     "data": {
      "text/plain": [
       "array([[0, 1, 0, 0, 1, 0, 1, 0, 0, 0, 0, 0, 1, 0, 0, 0, 1, 0, 0, 0, 1, 0,\n",
       "        0, 0, 0, 1, 0, 0, 1, 1, 0, 0, 0, 0],\n",
       "       [1, 0, 0, 0, 1, 0, 0, 0, 0, 0, 0, 0, 1, 1, 0, 1, 0, 1, 1, 1, 0, 0,\n",
       "        1, 0, 1, 2, 1, 0, 1, 0, 1, 1, 0, 1],\n",
       "       [0, 0, 1, 1, 1, 1, 0, 1, 1, 1, 1, 1, 0, 0, 1, 0, 1, 0, 0, 0, 0, 1,\n",
       "        0, 1, 0, 1, 0, 1, 0, 1, 0, 0, 1, 0]], dtype=int64)"
      ]
     },
     "execution_count": 95,
     "metadata": {},
     "output_type": "execute_result"
    }
   ],
   "source": [
    "bag_of_words.toarray()"
   ]
  },
  {
   "cell_type": "code",
   "execution_count": 87,
   "id": "41700962-f99d-4370-862a-0e79d6fc55c9",
   "metadata": {},
   "outputs": [
    {
     "data": {
      "text/plain": [
       "array(['adequado', 'anhanguera', 'assim', 'aves', 'banho', 'batata',\n",
       "       'cachorros', 'care', 'como', 'cuida', 'da', 'das', 'de', 'em',\n",
       "       'empresa', 'especial', 'faz', 'forma', 'garantindo', 'gatos',\n",
       "       'gratuitamente', 'largo', 'no', 'os', 'pet', 'santana', 'serviços',\n",
       "       'shop', 'tosa', 'trata', 'um', 'veterinários', 'zzz'], dtype=object)"
      ]
     },
     "execution_count": 87,
     "metadata": {},
     "output_type": "execute_result"
    }
   ],
   "source": [
    "vetorizador.get_feature_names_out()"
   ]
  },
  {
   "cell_type": "code",
   "execution_count": null,
   "id": "60844cc9-a837-4d1c-bb3f-6bed938e0339",
   "metadata": {},
   "outputs": [],
   "source": []
  }
 ],
 "metadata": {
  "kernelspec": {
   "display_name": "Python [conda env:base] *",
   "language": "python",
   "name": "conda-base-py"
  },
  "language_info": {
   "codemirror_mode": {
    "name": "ipython",
    "version": 3
   },
   "file_extension": ".py",
   "mimetype": "text/x-python",
   "name": "python",
   "nbconvert_exporter": "python",
   "pygments_lexer": "ipython3",
   "version": "3.12.7"
  }
 },
 "nbformat": 4,
 "nbformat_minor": 5
}
