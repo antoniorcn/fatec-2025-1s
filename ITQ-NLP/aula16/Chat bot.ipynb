{
 "cells": [
  {
   "cell_type": "code",
   "execution_count": 28,
   "id": "3f35fbf4-b78b-40be-84b4-6049e3fed60a",
   "metadata": {},
   "outputs": [],
   "source": [
    "import numpy as np\n",
    "import tensorflow as tf\n",
    "import pandas as pd"
   ]
  },
  {
   "cell_type": "code",
   "execution_count": 29,
   "id": "894175dd-30e6-45a3-b19d-124535d159b9",
   "metadata": {},
   "outputs": [],
   "source": [
    "from tensorflow.keras.models import Model\n",
    "from tensorflow.keras.layers import Bidirectional, Embedding, LSTM, Dense, Bidirectional, Input\n",
    "from tensorflow.keras.optimizers import Adam"
   ]
  },
  {
   "cell_type": "code",
   "execution_count": 30,
   "id": "982b8b74-bfaa-49ca-9413-4be37e2f6fc2",
   "metadata": {},
   "outputs": [],
   "source": [
    "from sklearn.preprocessing import LabelEncoder, OneHotEncoder\n",
    "from tensorflow.keras.preprocessing.text import Tokenizer\n",
    "from tensorflow.keras.utils import pad_sequences, to_categorical"
   ]
  },
  {
   "cell_type": "code",
   "execution_count": 31,
   "id": "7bb1abe4-98a0-4fb7-ad12-cbe858172c5a",
   "metadata": {},
   "outputs": [],
   "source": [
    "import matplotlib.pyplot as plt"
   ]
  },
  {
   "cell_type": "code",
   "execution_count": 32,
   "id": "a00dbdba-4fb1-4a34-a0dc-abbcb9495c55",
   "metadata": {},
   "outputs": [],
   "source": [
    "PADDING_POS = \"pre\""
   ]
  },
  {
   "cell_type": "code",
   "execution_count": 33,
   "id": "b86f2688-b28b-4c5d-8ec8-476748f6cd49",
   "metadata": {},
   "outputs": [
    {
     "data": {
      "text/html": [
       "<div>\n",
       "<style scoped>\n",
       "    .dataframe tbody tr th:only-of-type {\n",
       "        vertical-align: middle;\n",
       "    }\n",
       "\n",
       "    .dataframe tbody tr th {\n",
       "        vertical-align: top;\n",
       "    }\n",
       "\n",
       "    .dataframe thead th {\n",
       "        text-align: right;\n",
       "    }\n",
       "</style>\n",
       "<table border=\"1\" class=\"dataframe\">\n",
       "  <thead>\n",
       "    <tr style=\"text-align: right;\">\n",
       "      <th></th>\n",
       "      <th>charA</th>\n",
       "      <th>charB</th>\n",
       "    </tr>\n",
       "  </thead>\n",
       "  <tbody>\n",
       "    <tr>\n",
       "      <th>0</th>\n",
       "      <td>hi, how are you doing?</td>\n",
       "      <td>i'm fine. how about yourself?</td>\n",
       "    </tr>\n",
       "    <tr>\n",
       "      <th>1</th>\n",
       "      <td>i'm fine. how about yourself?</td>\n",
       "      <td>i'm pretty good. thanks for asking.</td>\n",
       "    </tr>\n",
       "    <tr>\n",
       "      <th>2</th>\n",
       "      <td>i'm pretty good. thanks for asking.</td>\n",
       "      <td>no problem. so how have you been?</td>\n",
       "    </tr>\n",
       "    <tr>\n",
       "      <th>3</th>\n",
       "      <td>no problem. so how have you been?</td>\n",
       "      <td>i've been great. what about you?</td>\n",
       "    </tr>\n",
       "    <tr>\n",
       "      <th>4</th>\n",
       "      <td>i've been great. what about you?</td>\n",
       "      <td>i've been good. i'm in school right now.</td>\n",
       "    </tr>\n",
       "    <tr>\n",
       "      <th>...</th>\n",
       "      <td>...</td>\n",
       "      <td>...</td>\n",
       "    </tr>\n",
       "    <tr>\n",
       "      <th>3720</th>\n",
       "      <td>that's a good question. maybe it's not old age.</td>\n",
       "      <td>are you right-handed?</td>\n",
       "    </tr>\n",
       "    <tr>\n",
       "      <th>3721</th>\n",
       "      <td>are you right-handed?</td>\n",
       "      <td>yes. all my life.</td>\n",
       "    </tr>\n",
       "    <tr>\n",
       "      <th>3722</th>\n",
       "      <td>yes. all my life.</td>\n",
       "      <td>you're wearing out your right hand. stop using...</td>\n",
       "    </tr>\n",
       "    <tr>\n",
       "      <th>3723</th>\n",
       "      <td>you're wearing out your right hand. stop using...</td>\n",
       "      <td>but i do all my writing with my right hand.</td>\n",
       "    </tr>\n",
       "    <tr>\n",
       "      <th>3724</th>\n",
       "      <td>but i do all my writing with my right hand.</td>\n",
       "      <td>start typing instead. that way your left hand ...</td>\n",
       "    </tr>\n",
       "  </tbody>\n",
       "</table>\n",
       "<p>3725 rows × 2 columns</p>\n",
       "</div>"
      ],
      "text/plain": [
       "                                                  charA  \\\n",
       "0                                hi, how are you doing?   \n",
       "1                         i'm fine. how about yourself?   \n",
       "2                   i'm pretty good. thanks for asking.   \n",
       "3                     no problem. so how have you been?   \n",
       "4                      i've been great. what about you?   \n",
       "...                                                 ...   \n",
       "3720    that's a good question. maybe it's not old age.   \n",
       "3721                              are you right-handed?   \n",
       "3722                                  yes. all my life.   \n",
       "3723  you're wearing out your right hand. stop using...   \n",
       "3724        but i do all my writing with my right hand.   \n",
       "\n",
       "                                                  charB  \n",
       "0                         i'm fine. how about yourself?  \n",
       "1                   i'm pretty good. thanks for asking.  \n",
       "2                     no problem. so how have you been?  \n",
       "3                      i've been great. what about you?  \n",
       "4              i've been good. i'm in school right now.  \n",
       "...                                                 ...  \n",
       "3720                              are you right-handed?  \n",
       "3721                                  yes. all my life.  \n",
       "3722  you're wearing out your right hand. stop using...  \n",
       "3723        but i do all my writing with my right hand.  \n",
       "3724  start typing instead. that way your left hand ...  \n",
       "\n",
       "[3725 rows x 2 columns]"
      ]
     },
     "execution_count": 33,
     "metadata": {},
     "output_type": "execute_result"
    }
   ],
   "source": [
    "df_textos = pd.read_csv(\"../../../dados/nlp/dialogs.txt\", sep=\"\\t\", encoding=\"utf-8\", names=[\"charA\", \"charB\"])\n",
    "df_textos"
   ]
  },
  {
   "cell_type": "code",
   "execution_count": 34,
   "id": "9ebb9217-99b2-4686-bbff-29fe830eddd5",
   "metadata": {},
   "outputs": [],
   "source": [
    "contraction_dict = {\n",
    "                    \"aren't\": \"are not\",\t\t\"can't\": \"can not\",\t\t\"could've\": \"could have\",\n",
    "                    \"couldn't\": \"could not\",\t\"daren't\": \"dare not\",\t\"didn't\": \"did not\",\n",
    "                    \"doesn't\": \"does not\",\t\t\"don't\": \"do not\",\t\t\"hadn't\": \"had not\",\n",
    "                    \"hasn't\": \"has not\",\t\t\"haven't\": \"have not\",\t\"he's\": \"he is\",\n",
    "                    \"how'd\": \"how had\",\t\t\t\"how're\": \"how are\",\t\"how's\": \"how is\",\n",
    "                    \"how've\": \"how have\",\t\t\"i'd\": \"i had\",\t\t\t\"i'm\": \"i am\",\n",
    "                    \"i've\": \"i have\",\t\t\t\"isn't\": \"is+ not\",\t\t\"it's\": \"it is\",\n",
    "                    \"might've\": \"might have\",\t\"mightn't\": \"might not\",\t\"must've\": \"must have\",\n",
    "                    \"mustn't\": \"must not\",\t\t\"needn't\": \"need not\",\t\"oughtn't\": \"ought not\",\n",
    "                    \"shan't\": \"shall not\",\t\t\"she'd\": \"she had\",\t\t\"she's\": \"she is\",\n",
    "                    \"should've\": \"should have\",\t\"shouldn't\": \"should not\",\t\"that'd\": \"that had\",\n",
    "                    \"that's\": \"that is\",\t\t\"there'd\": \"there had\",\t\"there's\": \"there is\",\n",
    "                    \"they'd\": \"they had\",\t\t\"they're\": \"you are\",\t\"they've\": \"they have\",\n",
    "                    \"wasn't\": \"was+ not\",\t\t\"we'd\": \"we had\",\t\t\"we're\": \"we are\",\n",
    "                    \"we've\": \"we have\",\t\t\t\"weren't\": \"were not\",\t\"what'd\": \"what had\",\n",
    "                    \"what're\": \"what are\",\t\t\"what's\": \"what is\",\t\"what've\": \"what have\",\n",
    "                    \"when'd\": \"when had\",\t\t\"when're\": \"when are\",\t\"when's\": \"when is\",\n",
    "                    \"when've\": \"when have\",\t\t\"where'd\": \"where had\",\t\"where're\": \"where are\",\n",
    "                    \"where's\": \"where is\",\t\t\"where've\": \"where have\",\t\"who'd\": \"who had\",\n",
    "                    \"who're\": \"who are\",\t\t\"who's\": \"who is\",\t\t\"who've\": \"who have\",\n",
    "                    \"why'd\": \"why had\",\t\t\t\"why're\": \"why are\",\t\"why's\": \"why is\",\n",
    "                    \"why've\": \"why have\",\t\t\"would've\": \"would have\",\t\"wouldn't\": \"would not\",\n",
    "                    \"you're\": \"you are\",\t\t\"you've\": \"you have\",\t\"'cause\": \"because\", \n",
    "                    \"ain't\": \"is not\", \t\t\t\"aren't\": \"are not\",\t\"can't\": \"cannot\", \n",
    "                    \"could've\": \"could have\",\t\"he's\": \"he is\",\t\t\"how'll\": \"how will\",\n",
    "                    \"i'll\": \"i will\",\t\t\t\"it'll\": \"it will\",\t\t\"it's\": \"it is\", \n",
    "                    \"she'll\": \"she will\",\t\t\"she's\": \"she is\",\t\t\"that'll\": \"that will\",\n",
    "                    \"there'll\": \"there will\",\t\"they'll\": \"they will\",\t\"they're\": \"they are\",\n",
    "                    \"we'll\": \"we will\",\t\t\t\"we're\": \"we are\",\t\t\"what'll\": \"what will\",\n",
    "                    \"when'll\": \"when will\",\t\t\"where'll\": \"where will\",\t\"who'll\": \"who will\",\n",
    "                    \"yo're\": \"you are\",\t\t\t\"you'll\": \"you will\"\n",
    "            }"
   ]
  },
  {
   "cell_type": "code",
   "execution_count": 35,
   "id": "30cb426d-45b7-438b-b986-8c548068ca28",
   "metadata": {},
   "outputs": [],
   "source": [
    "def pre_processa_texto( texto ):\n",
    "    global contraction_dict\n",
    "    tokens = texto.lower().split(\" \")\n",
    "    novos_tokens = []\n",
    "    for token in tokens:\n",
    "        if token in contraction_dict:\n",
    "            token = contraction_dict[token]\n",
    "        novos_tokens.append(token)\n",
    "    return \" \".join(novos_tokens)\n",
    "        "
   ]
  },
  {
   "cell_type": "code",
   "execution_count": 36,
   "id": "a3e8f564-6fe6-4005-ac33-a050a13040de",
   "metadata": {},
   "outputs": [
    {
     "data": {
      "text/plain": [
       "'it is okay. it is a really big campus.'"
      ]
     },
     "execution_count": 36,
     "metadata": {},
     "output_type": "execute_result"
    }
   ],
   "source": [
    "pre_processa_texto(\"it's okay. it's a really big campus.\")"
   ]
  },
  {
   "cell_type": "code",
   "execution_count": 37,
   "id": "011d5324-738b-4fb4-8199-d67051502670",
   "metadata": {},
   "outputs": [],
   "source": [
    "df_textos[\"charA_limpo\"] = df_textos[\"charA\"].apply( pre_processa_texto )\n",
    "df_textos[\"charB_limpo\"] = df_textos[\"charB\"].apply( pre_processa_texto )"
   ]
  },
  {
   "cell_type": "code",
   "execution_count": 38,
   "id": "4130a77c-71f8-4707-a626-64ae7c6ac2f8",
   "metadata": {},
   "outputs": [
    {
     "data": {
      "text/html": [
       "<div>\n",
       "<style scoped>\n",
       "    .dataframe tbody tr th:only-of-type {\n",
       "        vertical-align: middle;\n",
       "    }\n",
       "\n",
       "    .dataframe tbody tr th {\n",
       "        vertical-align: top;\n",
       "    }\n",
       "\n",
       "    .dataframe thead th {\n",
       "        text-align: right;\n",
       "    }\n",
       "</style>\n",
       "<table border=\"1\" class=\"dataframe\">\n",
       "  <thead>\n",
       "    <tr style=\"text-align: right;\">\n",
       "      <th></th>\n",
       "      <th>charA</th>\n",
       "      <th>charB</th>\n",
       "      <th>charA_limpo</th>\n",
       "      <th>charB_limpo</th>\n",
       "    </tr>\n",
       "  </thead>\n",
       "  <tbody>\n",
       "    <tr>\n",
       "      <th>0</th>\n",
       "      <td>hi, how are you doing?</td>\n",
       "      <td>i'm fine. how about yourself?</td>\n",
       "      <td>hi, how are you doing?</td>\n",
       "      <td>i am fine. how about yourself?</td>\n",
       "    </tr>\n",
       "    <tr>\n",
       "      <th>1</th>\n",
       "      <td>i'm fine. how about yourself?</td>\n",
       "      <td>i'm pretty good. thanks for asking.</td>\n",
       "      <td>i am fine. how about yourself?</td>\n",
       "      <td>i am pretty good. thanks for asking.</td>\n",
       "    </tr>\n",
       "    <tr>\n",
       "      <th>2</th>\n",
       "      <td>i'm pretty good. thanks for asking.</td>\n",
       "      <td>no problem. so how have you been?</td>\n",
       "      <td>i am pretty good. thanks for asking.</td>\n",
       "      <td>no problem. so how have you been?</td>\n",
       "    </tr>\n",
       "    <tr>\n",
       "      <th>3</th>\n",
       "      <td>no problem. so how have you been?</td>\n",
       "      <td>i've been great. what about you?</td>\n",
       "      <td>no problem. so how have you been?</td>\n",
       "      <td>i have been great. what about you?</td>\n",
       "    </tr>\n",
       "    <tr>\n",
       "      <th>4</th>\n",
       "      <td>i've been great. what about you?</td>\n",
       "      <td>i've been good. i'm in school right now.</td>\n",
       "      <td>i have been great. what about you?</td>\n",
       "      <td>i have been good. i am in school right now.</td>\n",
       "    </tr>\n",
       "    <tr>\n",
       "      <th>...</th>\n",
       "      <td>...</td>\n",
       "      <td>...</td>\n",
       "      <td>...</td>\n",
       "      <td>...</td>\n",
       "    </tr>\n",
       "    <tr>\n",
       "      <th>3720</th>\n",
       "      <td>that's a good question. maybe it's not old age.</td>\n",
       "      <td>are you right-handed?</td>\n",
       "      <td>that is a good question. maybe it is not old age.</td>\n",
       "      <td>are you right-handed?</td>\n",
       "    </tr>\n",
       "    <tr>\n",
       "      <th>3721</th>\n",
       "      <td>are you right-handed?</td>\n",
       "      <td>yes. all my life.</td>\n",
       "      <td>are you right-handed?</td>\n",
       "      <td>yes. all my life.</td>\n",
       "    </tr>\n",
       "    <tr>\n",
       "      <th>3722</th>\n",
       "      <td>yes. all my life.</td>\n",
       "      <td>you're wearing out your right hand. stop using...</td>\n",
       "      <td>yes. all my life.</td>\n",
       "      <td>you are wearing out your right hand. stop usin...</td>\n",
       "    </tr>\n",
       "    <tr>\n",
       "      <th>3723</th>\n",
       "      <td>you're wearing out your right hand. stop using...</td>\n",
       "      <td>but i do all my writing with my right hand.</td>\n",
       "      <td>you are wearing out your right hand. stop usin...</td>\n",
       "      <td>but i do all my writing with my right hand.</td>\n",
       "    </tr>\n",
       "    <tr>\n",
       "      <th>3724</th>\n",
       "      <td>but i do all my writing with my right hand.</td>\n",
       "      <td>start typing instead. that way your left hand ...</td>\n",
       "      <td>but i do all my writing with my right hand.</td>\n",
       "      <td>start typing instead. that way your left hand ...</td>\n",
       "    </tr>\n",
       "  </tbody>\n",
       "</table>\n",
       "<p>3725 rows × 4 columns</p>\n",
       "</div>"
      ],
      "text/plain": [
       "                                                  charA  \\\n",
       "0                                hi, how are you doing?   \n",
       "1                         i'm fine. how about yourself?   \n",
       "2                   i'm pretty good. thanks for asking.   \n",
       "3                     no problem. so how have you been?   \n",
       "4                      i've been great. what about you?   \n",
       "...                                                 ...   \n",
       "3720    that's a good question. maybe it's not old age.   \n",
       "3721                              are you right-handed?   \n",
       "3722                                  yes. all my life.   \n",
       "3723  you're wearing out your right hand. stop using...   \n",
       "3724        but i do all my writing with my right hand.   \n",
       "\n",
       "                                                  charB  \\\n",
       "0                         i'm fine. how about yourself?   \n",
       "1                   i'm pretty good. thanks for asking.   \n",
       "2                     no problem. so how have you been?   \n",
       "3                      i've been great. what about you?   \n",
       "4              i've been good. i'm in school right now.   \n",
       "...                                                 ...   \n",
       "3720                              are you right-handed?   \n",
       "3721                                  yes. all my life.   \n",
       "3722  you're wearing out your right hand. stop using...   \n",
       "3723        but i do all my writing with my right hand.   \n",
       "3724  start typing instead. that way your left hand ...   \n",
       "\n",
       "                                            charA_limpo  \\\n",
       "0                                hi, how are you doing?   \n",
       "1                        i am fine. how about yourself?   \n",
       "2                  i am pretty good. thanks for asking.   \n",
       "3                     no problem. so how have you been?   \n",
       "4                    i have been great. what about you?   \n",
       "...                                                 ...   \n",
       "3720  that is a good question. maybe it is not old age.   \n",
       "3721                              are you right-handed?   \n",
       "3722                                  yes. all my life.   \n",
       "3723  you are wearing out your right hand. stop usin...   \n",
       "3724        but i do all my writing with my right hand.   \n",
       "\n",
       "                                            charB_limpo  \n",
       "0                        i am fine. how about yourself?  \n",
       "1                  i am pretty good. thanks for asking.  \n",
       "2                     no problem. so how have you been?  \n",
       "3                    i have been great. what about you?  \n",
       "4           i have been good. i am in school right now.  \n",
       "...                                                 ...  \n",
       "3720                              are you right-handed?  \n",
       "3721                                  yes. all my life.  \n",
       "3722  you are wearing out your right hand. stop usin...  \n",
       "3723        but i do all my writing with my right hand.  \n",
       "3724  start typing instead. that way your left hand ...  \n",
       "\n",
       "[3725 rows x 4 columns]"
      ]
     },
     "execution_count": 38,
     "metadata": {},
     "output_type": "execute_result"
    }
   ],
   "source": [
    "df_textos"
   ]
  },
  {
   "cell_type": "code",
   "execution_count": 39,
   "id": "7eb03919-aa3e-4627-a6a1-6eee6ed2541a",
   "metadata": {},
   "outputs": [],
   "source": [
    "entrada_textos = \"<bos> \" + df_textos[\"charA_limpo\"]\n",
    "saida_textos = \"<bos> \" + df_textos[\"charB_limpo\"] + \" <eos>\"\n",
    "\n",
    "# <BOS> - Begin of Sentence\n",
    "# <EOS> - End of Sentence\n",
    "# dicionario = {\"<BOS>\": 1, \"<EOS>\": 2}\n",
    "# \"<BOS> i am pretty good. thanks for asking. <EOS>\"\n",
    "# \"bos I am pretty good. thanks for asking eos\""
   ]
  },
  {
   "cell_type": "code",
   "execution_count": 40,
   "id": "49055fe6-8b5d-402b-8c46-d032ff8eb646",
   "metadata": {},
   "outputs": [],
   "source": [
    "tokenizer = Tokenizer(oov_token=\"<oov>\", filters=\"\")  # Textos do Personagem A - entrada\n",
    "tokenizer.fit_on_texts(entrada_textos + saida_textos)\n",
    "vocabulario = tokenizer.word_index"
   ]
  },
  {
   "cell_type": "code",
   "execution_count": 41,
   "id": "99bdf56e-21a1-405e-ab22-3a62750b98c3",
   "metadata": {},
   "outputs": [],
   "source": [
    "entrada_sequencias = tokenizer.texts_to_sequences( entrada_textos )\n",
    "saida_sequencias = tokenizer.texts_to_sequences( saida_textos )\n",
    "vocabulario_tam = len(vocabulario) + 1"
   ]
  },
  {
   "cell_type": "code",
   "execution_count": 42,
   "id": "4cfd8e38-a17e-40a9-bf2f-81f9d71d2b00",
   "metadata": {},
   "outputs": [
    {
     "data": {
      "text/plain": [
       "21"
      ]
     },
     "execution_count": 42,
     "metadata": {},
     "output_type": "execute_result"
    }
   ],
   "source": [
    "maximo_palavras = 0\n",
    "for seq in entrada_sequencias:\n",
    "    if len(seq) > maximo_palavras:\n",
    "        maximo_palavras = len(seq)\n",
    "maximo_palavras"
   ]
  },
  {
   "cell_type": "code",
   "execution_count": 43,
   "id": "bc2e19d4-a5bd-4794-9035-7f58c6791d5c",
   "metadata": {},
   "outputs": [
    {
     "data": {
      "text/plain": [
       "22"
      ]
     },
     "execution_count": 43,
     "metadata": {},
     "output_type": "execute_result"
    }
   ],
   "source": [
    "for seq in saida_sequencias:\n",
    "    if len(seq) > maximo_palavras:\n",
    "        maximo_palavras = len(seq)\n",
    "maximo_palavras"
   ]
  },
  {
   "cell_type": "code",
   "execution_count": 44,
   "id": "c77c6601-b66f-4641-8b4d-4d43de756f6a",
   "metadata": {},
   "outputs": [
    {
     "data": {
      "text/plain": [
       "array([[   0,    0,    0, ...,   15,    5,  963],\n",
       "       [   0,    0,    0, ...,   34,   33, 1461],\n",
       "       [   0,    0,    0, ...,  604,   30, 1463],\n",
       "       ...,\n",
       "       [   0,    0,    0, ...,   48,   27,  842],\n",
       "       [   0,    0,    0, ...,   10,   31,  461],\n",
       "       [   0,    0,    0, ...,   27,  120, 1340]])"
      ]
     },
     "execution_count": 44,
     "metadata": {},
     "output_type": "execute_result"
    }
   ],
   "source": [
    "encoder_entrada_dados = pad_sequences([seq[1:] for seq in entrada_sequencias], maxlen=maximo_palavras, padding=PADDING_POS)\n",
    "encoder_entrada_dados"
   ]
  },
  {
   "cell_type": "code",
   "execution_count": 45,
   "id": "ceee802d-fcc6-47e2-bf18-4c20171f191d",
   "metadata": {},
   "outputs": [
    {
     "data": {
      "text/plain": [
       "[2, 1791, 34, 15, 5, 963]"
      ]
     },
     "execution_count": 45,
     "metadata": {},
     "output_type": "execute_result"
    }
   ],
   "source": [
    "entrada_sequencias[0]"
   ]
  },
  {
   "cell_type": "code",
   "execution_count": 46,
   "id": "26c12080-ec5e-4ecc-aeff-2976a892910e",
   "metadata": {},
   "outputs": [
    {
     "data": {
      "text/plain": [
       "array([   0,    0,    0,    0,    0,    0,    0,    0,    0,    0,    0,\n",
       "          0,    0,    0,    0,    0,    0, 1791,   34,   15,    5,  963])"
      ]
     },
     "execution_count": 46,
     "metadata": {},
     "output_type": "execute_result"
    }
   ],
   "source": [
    "encoder_entrada_dados[0]"
   ]
  },
  {
   "cell_type": "code",
   "execution_count": 47,
   "id": "cd4743cd-5682-4d1d-b688-151c97e0ab18",
   "metadata": {},
   "outputs": [],
   "source": [
    "# outralista = [seq[:-1] for seq in saida_sequencias]\n",
    "# outralista"
   ]
  },
  {
   "cell_type": "code",
   "execution_count": 48,
   "id": "8f55df6f-af3a-4664-9eb9-0b13c5e43f98",
   "metadata": {},
   "outputs": [],
   "source": [
    "decoder_entrada_dados = pad_sequences(entrada_sequencias, maxlen=maximo_palavras, padding=PADDING_POS)\n",
    "decoder_saida_dados = pad_sequences([seq[1:] for seq in saida_sequencias], maxlen=maximo_palavras, padding=PADDING_POS)"
   ]
  },
  {
   "cell_type": "code",
   "execution_count": 49,
   "id": "39dadf4a-ac68-4387-99e1-2dafb6f2cee8",
   "metadata": {},
   "outputs": [
    {
     "data": {
      "text/plain": [
       "array([   0,    0,    0,    0,    0,    0,    0,    0,    0,    0,    0,\n",
       "          0,    0,    0,    0,    0,    2, 1791,   34,   15,    5,  963])"
      ]
     },
     "execution_count": 49,
     "metadata": {},
     "output_type": "execute_result"
    }
   ],
   "source": [
    "decoder_entrada_dados[0]"
   ]
  },
  {
   "cell_type": "code",
   "execution_count": 50,
   "id": "0a5e3a21-ec60-44ca-a14a-72ab8a9d5000",
   "metadata": {},
   "outputs": [
    {
     "data": {
      "text/plain": [
       "5499"
      ]
     },
     "execution_count": 50,
     "metadata": {},
     "output_type": "execute_result"
    }
   ],
   "source": [
    "vocabulario_tam"
   ]
  },
  {
   "cell_type": "code",
   "execution_count": 51,
   "id": "2c29062d-48f9-4145-abb3-79538d46f511",
   "metadata": {},
   "outputs": [
    {
     "data": {
      "text/plain": [
       "array([   0,    0,    0,    0,    0,    0,    0,    0,    0,    0,    0,\n",
       "          0,    0,    0,    0,    4,   26,  928,   34,   33, 1461,    3])"
      ]
     },
     "execution_count": 51,
     "metadata": {},
     "output_type": "execute_result"
    }
   ],
   "source": [
    "decoder_saida_dados[0]"
   ]
  },
  {
   "cell_type": "code",
   "execution_count": 52,
   "id": "33df12ea-4a08-4642-9015-a581b946c1b1",
   "metadata": {},
   "outputs": [
    {
     "data": {
      "text/plain": [
       "array([[1., 0., 0., ..., 0., 0., 0.],\n",
       "       [1., 0., 0., ..., 0., 0., 0.],\n",
       "       [1., 0., 0., ..., 0., 0., 0.],\n",
       "       ...,\n",
       "       [0., 0., 0., ..., 0., 0., 0.],\n",
       "       [0., 0., 0., ..., 0., 0., 0.],\n",
       "       [0., 0., 0., ..., 0., 0., 0.]])"
      ]
     },
     "execution_count": 52,
     "metadata": {},
     "output_type": "execute_result"
    }
   ],
   "source": [
    "decoder_saida_onehot_dados = to_categorical( decoder_saida_dados, num_classes=vocabulario_tam )\n",
    "decoder_saida_onehot_dados[0]"
   ]
  },
  {
   "cell_type": "code",
   "execution_count": 53,
   "id": "56214442-43c4-4678-86af-4644170ec9e9",
   "metadata": {},
   "outputs": [],
   "source": [
    "embedding_dim = 100\n",
    "lstm_encoder_nodes = 100"
   ]
  },
  {
   "cell_type": "code",
   "execution_count": 55,
   "id": "87ddf304-8bd3-4e7e-a29c-0bd209f18a80",
   "metadata": {},
   "outputs": [],
   "source": [
    "encoder_input = Input( shape=(None,) )\n",
    "encoder_embedding = Embedding(input_dim = vocabulario_tam, output_dim = embedding_dim, mask_zero=True)(encoder_input)\n",
    "encoder_lstm, state_h, state_c = LSTM(lstm_encoder_nodes, return_state = True)(encoder_embedding)\n",
    "encoder_states = [state_h, state_c]"
   ]
  },
  {
   "cell_type": "code",
   "execution_count": 57,
   "id": "6e8c50d8-4c33-4a3f-b63e-5646976bdc21",
   "metadata": {},
   "outputs": [],
   "source": [
    "decoder_input = Input( shape=(None,) )\n",
    "decoder_embedding_layer = Embedding(input_dim=vocabulario_tam, output_dim = embedding_dim, mask_zero=True)\n",
    "decoder_embedding = decoder_embedding_layer(decoder_input)\n",
    "lstm_decoder_layer = LSTM(lstm_encoder_nodes, return_state=True, return_sequences=True)\n",
    "decoder_lstm_output, _, _ = lstm_decoder_layer(decoder_embedding, initial_state = encoder_states)\n",
    "decoder_output_layer = Dense(vocabulario_tam, activation=\"softmax\")\n",
    "decorder_output = decoder_output_layer( decoder_lstm_output )"
   ]
  },
  {
   "cell_type": "code",
   "execution_count": 59,
   "id": "b139a090-67d9-49ab-ba9b-442783900867",
   "metadata": {},
   "outputs": [],
   "source": [
    "model = Model( [encoder_input, decoder_input], decorder_output )"
   ]
  },
  {
   "cell_type": "code",
   "execution_count": 61,
   "id": "8922fb68-8efa-40f6-8cb6-d0f9c40cc2c5",
   "metadata": {},
   "outputs": [
    {
     "data": {
      "text/html": [
       "<pre style=\"white-space:pre;overflow-x:auto;line-height:normal;font-family:Menlo,'DejaVu Sans Mono',consolas,'Courier New',monospace\"><span style=\"font-weight: bold\">Model: \"functional\"</span>\n",
       "</pre>\n"
      ],
      "text/plain": [
       "\u001b[1mModel: \"functional\"\u001b[0m\n"
      ]
     },
     "metadata": {},
     "output_type": "display_data"
    },
    {
     "data": {
      "text/html": [
       "<pre style=\"white-space:pre;overflow-x:auto;line-height:normal;font-family:Menlo,'DejaVu Sans Mono',consolas,'Courier New',monospace\">┏━━━━━━━━━━━━━━━━━━━━━━━━━━━━━━━┳━━━━━━━━━━━━━━━━━━━━━━━━━━━┳━━━━━━━━━━━━━━━━━┳━━━━━━━━━━━━━━━━━━━━━━━━━━━━┓\n",
       "┃<span style=\"font-weight: bold\"> Layer (type)                  </span>┃<span style=\"font-weight: bold\"> Output Shape              </span>┃<span style=\"font-weight: bold\">         Param # </span>┃<span style=\"font-weight: bold\"> Connected to               </span>┃\n",
       "┡━━━━━━━━━━━━━━━━━━━━━━━━━━━━━━━╇━━━━━━━━━━━━━━━━━━━━━━━━━━━╇━━━━━━━━━━━━━━━━━╇━━━━━━━━━━━━━━━━━━━━━━━━━━━━┩\n",
       "│ input_layer_2 (<span style=\"color: #0087ff; text-decoration-color: #0087ff\">InputLayer</span>)    │ (<span style=\"color: #00d7ff; text-decoration-color: #00d7ff\">None</span>, <span style=\"color: #00d7ff; text-decoration-color: #00d7ff\">None</span>)              │               <span style=\"color: #00af00; text-decoration-color: #00af00\">0</span> │ -                          │\n",
       "├───────────────────────────────┼───────────────────────────┼─────────────────┼────────────────────────────┤\n",
       "│ input_layer_3 (<span style=\"color: #0087ff; text-decoration-color: #0087ff\">InputLayer</span>)    │ (<span style=\"color: #00d7ff; text-decoration-color: #00d7ff\">None</span>, <span style=\"color: #00d7ff; text-decoration-color: #00d7ff\">None</span>)              │               <span style=\"color: #00af00; text-decoration-color: #00af00\">0</span> │ -                          │\n",
       "├───────────────────────────────┼───────────────────────────┼─────────────────┼────────────────────────────┤\n",
       "│ embedding_2 (<span style=\"color: #0087ff; text-decoration-color: #0087ff\">Embedding</span>)       │ (<span style=\"color: #00d7ff; text-decoration-color: #00d7ff\">None</span>, <span style=\"color: #00d7ff; text-decoration-color: #00d7ff\">None</span>, <span style=\"color: #00af00; text-decoration-color: #00af00\">100</span>)         │         <span style=\"color: #00af00; text-decoration-color: #00af00\">549,900</span> │ input_layer_2[<span style=\"color: #00af00; text-decoration-color: #00af00\">0</span>][<span style=\"color: #00af00; text-decoration-color: #00af00\">0</span>]        │\n",
       "├───────────────────────────────┼───────────────────────────┼─────────────────┼────────────────────────────┤\n",
       "│ not_equal_2 (<span style=\"color: #0087ff; text-decoration-color: #0087ff\">NotEqual</span>)        │ (<span style=\"color: #00d7ff; text-decoration-color: #00d7ff\">None</span>, <span style=\"color: #00d7ff; text-decoration-color: #00d7ff\">None</span>)              │               <span style=\"color: #00af00; text-decoration-color: #00af00\">0</span> │ input_layer_2[<span style=\"color: #00af00; text-decoration-color: #00af00\">0</span>][<span style=\"color: #00af00; text-decoration-color: #00af00\">0</span>]        │\n",
       "├───────────────────────────────┼───────────────────────────┼─────────────────┼────────────────────────────┤\n",
       "│ embedding_3 (<span style=\"color: #0087ff; text-decoration-color: #0087ff\">Embedding</span>)       │ (<span style=\"color: #00d7ff; text-decoration-color: #00d7ff\">None</span>, <span style=\"color: #00d7ff; text-decoration-color: #00d7ff\">None</span>, <span style=\"color: #00af00; text-decoration-color: #00af00\">100</span>)         │         <span style=\"color: #00af00; text-decoration-color: #00af00\">549,900</span> │ input_layer_3[<span style=\"color: #00af00; text-decoration-color: #00af00\">0</span>][<span style=\"color: #00af00; text-decoration-color: #00af00\">0</span>]        │\n",
       "├───────────────────────────────┼───────────────────────────┼─────────────────┼────────────────────────────┤\n",
       "│ lstm_2 (<span style=\"color: #0087ff; text-decoration-color: #0087ff\">LSTM</span>)                 │ [(<span style=\"color: #00d7ff; text-decoration-color: #00d7ff\">None</span>, <span style=\"color: #00af00; text-decoration-color: #00af00\">100</span>), (<span style=\"color: #00d7ff; text-decoration-color: #00d7ff\">None</span>,      │          <span style=\"color: #00af00; text-decoration-color: #00af00\">80,400</span> │ embedding_2[<span style=\"color: #00af00; text-decoration-color: #00af00\">0</span>][<span style=\"color: #00af00; text-decoration-color: #00af00\">0</span>],         │\n",
       "│                               │ <span style=\"color: #00af00; text-decoration-color: #00af00\">100</span>), (<span style=\"color: #00d7ff; text-decoration-color: #00d7ff\">None</span>, <span style=\"color: #00af00; text-decoration-color: #00af00\">100</span>)]        │                 │ not_equal_2[<span style=\"color: #00af00; text-decoration-color: #00af00\">0</span>][<span style=\"color: #00af00; text-decoration-color: #00af00\">0</span>]          │\n",
       "├───────────────────────────────┼───────────────────────────┼─────────────────┼────────────────────────────┤\n",
       "│ lstm_3 (<span style=\"color: #0087ff; text-decoration-color: #0087ff\">LSTM</span>)                 │ [(<span style=\"color: #00d7ff; text-decoration-color: #00d7ff\">None</span>, <span style=\"color: #00d7ff; text-decoration-color: #00d7ff\">None</span>, <span style=\"color: #00af00; text-decoration-color: #00af00\">100</span>),       │          <span style=\"color: #00af00; text-decoration-color: #00af00\">80,400</span> │ embedding_3[<span style=\"color: #00af00; text-decoration-color: #00af00\">0</span>][<span style=\"color: #00af00; text-decoration-color: #00af00\">0</span>],         │\n",
       "│                               │ (<span style=\"color: #00d7ff; text-decoration-color: #00d7ff\">None</span>, <span style=\"color: #00af00; text-decoration-color: #00af00\">100</span>), (<span style=\"color: #00d7ff; text-decoration-color: #00d7ff\">None</span>, <span style=\"color: #00af00; text-decoration-color: #00af00\">100</span>)] │                 │ lstm_2[<span style=\"color: #00af00; text-decoration-color: #00af00\">0</span>][<span style=\"color: #00af00; text-decoration-color: #00af00\">1</span>], lstm_2[<span style=\"color: #00af00; text-decoration-color: #00af00\">0</span>][<span style=\"color: #00af00; text-decoration-color: #00af00\">2</span>] │\n",
       "├───────────────────────────────┼───────────────────────────┼─────────────────┼────────────────────────────┤\n",
       "│ dense (<span style=\"color: #0087ff; text-decoration-color: #0087ff\">Dense</span>)                 │ (<span style=\"color: #00d7ff; text-decoration-color: #00d7ff\">None</span>, <span style=\"color: #00d7ff; text-decoration-color: #00d7ff\">None</span>, <span style=\"color: #00af00; text-decoration-color: #00af00\">5499</span>)        │         <span style=\"color: #00af00; text-decoration-color: #00af00\">555,399</span> │ lstm_3[<span style=\"color: #00af00; text-decoration-color: #00af00\">0</span>][<span style=\"color: #00af00; text-decoration-color: #00af00\">0</span>]               │\n",
       "└───────────────────────────────┴───────────────────────────┴─────────────────┴────────────────────────────┘\n",
       "</pre>\n"
      ],
      "text/plain": [
       "┏━━━━━━━━━━━━━━━━━━━━━━━━━━━━━━━┳━━━━━━━━━━━━━━━━━━━━━━━━━━━┳━━━━━━━━━━━━━━━━━┳━━━━━━━━━━━━━━━━━━━━━━━━━━━━┓\n",
       "┃\u001b[1m \u001b[0m\u001b[1mLayer (type)                 \u001b[0m\u001b[1m \u001b[0m┃\u001b[1m \u001b[0m\u001b[1mOutput Shape             \u001b[0m\u001b[1m \u001b[0m┃\u001b[1m \u001b[0m\u001b[1m        Param #\u001b[0m\u001b[1m \u001b[0m┃\u001b[1m \u001b[0m\u001b[1mConnected to              \u001b[0m\u001b[1m \u001b[0m┃\n",
       "┡━━━━━━━━━━━━━━━━━━━━━━━━━━━━━━━╇━━━━━━━━━━━━━━━━━━━━━━━━━━━╇━━━━━━━━━━━━━━━━━╇━━━━━━━━━━━━━━━━━━━━━━━━━━━━┩\n",
       "│ input_layer_2 (\u001b[38;5;33mInputLayer\u001b[0m)    │ (\u001b[38;5;45mNone\u001b[0m, \u001b[38;5;45mNone\u001b[0m)              │               \u001b[38;5;34m0\u001b[0m │ -                          │\n",
       "├───────────────────────────────┼───────────────────────────┼─────────────────┼────────────────────────────┤\n",
       "│ input_layer_3 (\u001b[38;5;33mInputLayer\u001b[0m)    │ (\u001b[38;5;45mNone\u001b[0m, \u001b[38;5;45mNone\u001b[0m)              │               \u001b[38;5;34m0\u001b[0m │ -                          │\n",
       "├───────────────────────────────┼───────────────────────────┼─────────────────┼────────────────────────────┤\n",
       "│ embedding_2 (\u001b[38;5;33mEmbedding\u001b[0m)       │ (\u001b[38;5;45mNone\u001b[0m, \u001b[38;5;45mNone\u001b[0m, \u001b[38;5;34m100\u001b[0m)         │         \u001b[38;5;34m549,900\u001b[0m │ input_layer_2[\u001b[38;5;34m0\u001b[0m][\u001b[38;5;34m0\u001b[0m]        │\n",
       "├───────────────────────────────┼───────────────────────────┼─────────────────┼────────────────────────────┤\n",
       "│ not_equal_2 (\u001b[38;5;33mNotEqual\u001b[0m)        │ (\u001b[38;5;45mNone\u001b[0m, \u001b[38;5;45mNone\u001b[0m)              │               \u001b[38;5;34m0\u001b[0m │ input_layer_2[\u001b[38;5;34m0\u001b[0m][\u001b[38;5;34m0\u001b[0m]        │\n",
       "├───────────────────────────────┼───────────────────────────┼─────────────────┼────────────────────────────┤\n",
       "│ embedding_3 (\u001b[38;5;33mEmbedding\u001b[0m)       │ (\u001b[38;5;45mNone\u001b[0m, \u001b[38;5;45mNone\u001b[0m, \u001b[38;5;34m100\u001b[0m)         │         \u001b[38;5;34m549,900\u001b[0m │ input_layer_3[\u001b[38;5;34m0\u001b[0m][\u001b[38;5;34m0\u001b[0m]        │\n",
       "├───────────────────────────────┼───────────────────────────┼─────────────────┼────────────────────────────┤\n",
       "│ lstm_2 (\u001b[38;5;33mLSTM\u001b[0m)                 │ [(\u001b[38;5;45mNone\u001b[0m, \u001b[38;5;34m100\u001b[0m), (\u001b[38;5;45mNone\u001b[0m,      │          \u001b[38;5;34m80,400\u001b[0m │ embedding_2[\u001b[38;5;34m0\u001b[0m][\u001b[38;5;34m0\u001b[0m],         │\n",
       "│                               │ \u001b[38;5;34m100\u001b[0m), (\u001b[38;5;45mNone\u001b[0m, \u001b[38;5;34m100\u001b[0m)]        │                 │ not_equal_2[\u001b[38;5;34m0\u001b[0m][\u001b[38;5;34m0\u001b[0m]          │\n",
       "├───────────────────────────────┼───────────────────────────┼─────────────────┼────────────────────────────┤\n",
       "│ lstm_3 (\u001b[38;5;33mLSTM\u001b[0m)                 │ [(\u001b[38;5;45mNone\u001b[0m, \u001b[38;5;45mNone\u001b[0m, \u001b[38;5;34m100\u001b[0m),       │          \u001b[38;5;34m80,400\u001b[0m │ embedding_3[\u001b[38;5;34m0\u001b[0m][\u001b[38;5;34m0\u001b[0m],         │\n",
       "│                               │ (\u001b[38;5;45mNone\u001b[0m, \u001b[38;5;34m100\u001b[0m), (\u001b[38;5;45mNone\u001b[0m, \u001b[38;5;34m100\u001b[0m)] │                 │ lstm_2[\u001b[38;5;34m0\u001b[0m][\u001b[38;5;34m1\u001b[0m], lstm_2[\u001b[38;5;34m0\u001b[0m][\u001b[38;5;34m2\u001b[0m] │\n",
       "├───────────────────────────────┼───────────────────────────┼─────────────────┼────────────────────────────┤\n",
       "│ dense (\u001b[38;5;33mDense\u001b[0m)                 │ (\u001b[38;5;45mNone\u001b[0m, \u001b[38;5;45mNone\u001b[0m, \u001b[38;5;34m5499\u001b[0m)        │         \u001b[38;5;34m555,399\u001b[0m │ lstm_3[\u001b[38;5;34m0\u001b[0m][\u001b[38;5;34m0\u001b[0m]               │\n",
       "└───────────────────────────────┴───────────────────────────┴─────────────────┴────────────────────────────┘\n"
      ]
     },
     "metadata": {},
     "output_type": "display_data"
    },
    {
     "data": {
      "text/html": [
       "<pre style=\"white-space:pre;overflow-x:auto;line-height:normal;font-family:Menlo,'DejaVu Sans Mono',consolas,'Courier New',monospace\"><span style=\"font-weight: bold\"> Total params: </span><span style=\"color: #00af00; text-decoration-color: #00af00\">1,815,999</span> (6.93 MB)\n",
       "</pre>\n"
      ],
      "text/plain": [
       "\u001b[1m Total params: \u001b[0m\u001b[38;5;34m1,815,999\u001b[0m (6.93 MB)\n"
      ]
     },
     "metadata": {},
     "output_type": "display_data"
    },
    {
     "data": {
      "text/html": [
       "<pre style=\"white-space:pre;overflow-x:auto;line-height:normal;font-family:Menlo,'DejaVu Sans Mono',consolas,'Courier New',monospace\"><span style=\"font-weight: bold\"> Trainable params: </span><span style=\"color: #00af00; text-decoration-color: #00af00\">1,815,999</span> (6.93 MB)\n",
       "</pre>\n"
      ],
      "text/plain": [
       "\u001b[1m Trainable params: \u001b[0m\u001b[38;5;34m1,815,999\u001b[0m (6.93 MB)\n"
      ]
     },
     "metadata": {},
     "output_type": "display_data"
    },
    {
     "data": {
      "text/html": [
       "<pre style=\"white-space:pre;overflow-x:auto;line-height:normal;font-family:Menlo,'DejaVu Sans Mono',consolas,'Courier New',monospace\"><span style=\"font-weight: bold\"> Non-trainable params: </span><span style=\"color: #00af00; text-decoration-color: #00af00\">0</span> (0.00 B)\n",
       "</pre>\n"
      ],
      "text/plain": [
       "\u001b[1m Non-trainable params: \u001b[0m\u001b[38;5;34m0\u001b[0m (0.00 B)\n"
      ]
     },
     "metadata": {},
     "output_type": "display_data"
    }
   ],
   "source": [
    "# adam = Adam(learning_rate = 0.001)\n",
    "model.compile(optimizer=\"rmsprop\", loss=\"categorical_crossentropy\", metrics=[\"accuracy\"])\n",
    "model.summary()"
   ]
  },
  {
   "cell_type": "code",
   "execution_count": null,
   "id": "c5f68de5-d337-4397-b6d4-dc27a96b6b9e",
   "metadata": {},
   "outputs": [],
   "source": [
    "resultado = model.fit([encoder_entrada_dados, decoder_entrada_dados], decoder_saida_onehot_dados, \n",
    "          batch_size=4, epochs=100, validation_split=0.2)"
   ]
  },
  {
   "cell_type": "code",
   "execution_count": null,
   "id": "33b50053-09cb-44ff-b4be-6e786bd67fdd",
   "metadata": {},
   "outputs": [],
   "source": [
    "loss = np.array(resultado.history[\"loss\"])\n",
    "loss_max = np.max(loss)\n",
    "loss_norm = loss/loss_max\n",
    "# accuracy = np.array(resultado.history[\"accuracy\"])\n",
    "# accuracy_max = np.max(accuracy)\n",
    "# accuracy_norm = accuracy / accuracy_max\n",
    "plt.plot(loss_norm, color=\"red\", label=\"Loss\")\n",
    "plt.plot(resultado.history[\"accuracy\"], color=\"green\", label=\"Accuracy\")\n",
    "plt.legend()\n",
    "plt.show()"
   ]
  },
  {
   "cell_type": "code",
   "execution_count": null,
   "id": "3233747a-dc67-45de-9ba1-6296dc7a503f",
   "metadata": {},
   "outputs": [],
   "source": [
    "modelo_encoder = Model( encoder_input, encoder_states )"
   ]
  },
  {
   "cell_type": "code",
   "execution_count": null,
   "id": "d1dabd8a-8d87-4679-bac7-26837e496c39",
   "metadata": {},
   "outputs": [],
   "source": [
    "decoder_state_h = Input( shape=(lstm_encoder_nodes,) )\n",
    "decoder_state_c = Input( shape=(lstm_encoder_nodes,) )\n",
    "decoder_states_input = [decoder_state_h, decoder_state_c]"
   ]
  },
  {
   "cell_type": "code",
   "execution_count": null,
   "id": "a60bfd74-e699-4440-818d-bbc034aa80cc",
   "metadata": {},
   "outputs": [],
   "source": [
    "# decoder_embedding2 = decoder_embedding_layer(decoder_input)"
   ]
  },
  {
   "cell_type": "code",
   "execution_count": null,
   "id": "5dc3433a-e09b-4d34-9ebf-b101635e0a11",
   "metadata": {},
   "outputs": [],
   "source": [
    "decoder_output2, state_h2, state_c2 = lstm_decoder_layer(decoder_embedding, initial_state = decoder_states_input)\n",
    "decoder_output_states = [state_h2, state_c2]\n",
    "decoder_saida2 = decoder_output_layer(decoder_output2)"
   ]
  },
  {
   "cell_type": "code",
   "execution_count": null,
   "id": "5b964f35-0a2e-4a27-9658-adacebf48ecf",
   "metadata": {},
   "outputs": [],
   "source": [
    "modelo_decoder = Model( [decoder_input] + decoder_states_input, \n",
    "                        [decoder_saida2] + decoder_output_states )\n",
    "modelo_decoder.summary()"
   ]
  },
  {
   "cell_type": "code",
   "execution_count": null,
   "id": "b4c15ab0-4e44-40be-acb5-6a7ce827f142",
   "metadata": {},
   "outputs": [],
   "source": [
    "# Origem = \"Goog morning\"\n",
    "# Target = \"<BOS>\"   # Ate que seja gerado <EOS>"
   ]
  },
  {
   "cell_type": "code",
   "execution_count": null,
   "id": "9c893246-d0c5-4150-97f3-a71f4d0bf44a",
   "metadata": {},
   "outputs": [],
   "source": [
    "def chat_bot( texto, max_words = 10  ):\n",
    "    global entrada_tokenizer\n",
    "    texto_processado = pre_processa_texto( texto )\n",
    "    persona_a_sequencia = tokenizer.texts_to_sequences( [texto_processado.lower()] )\n",
    "    persona_a_padded = pad_sequences( persona_a_sequencia, maxlen=maximo_palavras, padding=\"pre\")\n",
    "\n",
    "    state_value = modelo_encoder.predict( persona_a_padded )\n",
    "\n",
    "    target_text = \"<BOS>\"\n",
    "    target_sequence = np.array(tokenizer.texts_to_sequences([target_text]))\n",
    "    print(\"target_sequence: \", target_sequence)\n",
    "    final_sentenca = False\n",
    "    sentenca = \"\"\n",
    "    counter = 0\n",
    "    while not final_sentenca and counter < max_words:    # texto for diferente de <EOS>\n",
    "        # target_padded = pad_sequences( target_sequence, maxlen=saida_maximo_palavras, padding=\"pre\")\n",
    "        # print(\"Decode: \", [target_sequence] + state_value)\n",
    "        tokens_ouput, decoder_state_h2, decoder_state_c2 = modelo_decoder.predict([target_sequence] + state_value)\n",
    "        state_value = [decoder_state_h2, decoder_state_c2]\n",
    "        token_provavel = np.argmax(tokens_ouput[0, -1, :])\n",
    "        texto_provavel = tokenizer.sequences_to_texts( [[token_provavel]] )\n",
    "        # print(\"Token Provavel: \", token_provavel, \"Texto Provavel: \", texto_provavel)\n",
    "        # print(\"Target Sequence: \", target_sequence)\n",
    "        # print(\"Sentenca: \", sentenca)\n",
    "        if texto_provavel[0] == \"<eos>\": \n",
    "            final_sentenca = True\n",
    "        else: \n",
    "            if texto_provavel[0] != \"<oov>\":\n",
    "                sentenca += (texto_provavel[0] + \" \")\n",
    "            target_text = target_text + \" \" + texto_provavel[0]\n",
    "            target_sequence = np.array(tokenizer.texts_to_sequences([target_text]))\n",
    "            counter += 1\n",
    "    return sentenca\n",
    "    "
   ]
  },
  {
   "cell_type": "code",
   "execution_count": null,
   "id": "5a0c2fa7-26d0-494f-85b7-fcb6a9583937",
   "metadata": {},
   "outputs": [],
   "source": [
    "def gerar_texto( texto_entrada, max_palavras = 10 ): \n",
    "    textos_sequence = tokenizer.texts_to_sequences( [texto_entrada] )\n",
    "    textos_padded = pad_sequences( textos_sequence, padding=\"post\", maxlen=maximo_palavras)\n",
    "    print(\"Textos padded: \", textos_padded)\n",
    "    state_values = modelo_encoder.predict( textos_padded )\n",
    "    palavra_start = tokenizer.word_index[\"<bos>\"]\n",
    "    palavra_end = tokenizer.word_index[\"<eos>\"]\n",
    "    index_palavra = palavra_start\n",
    "    texto_saida = \"\"\n",
    "    for i in range(max_palavras):\n",
    "        target_sequence = np.zeros((1, 1))\n",
    "        target_sequence[0, 0] = index_palavra\n",
    "        print(\"Target Sequence: \", target_sequence)\n",
    "        dec_output, saida_state_h, saida_state_c = modelo_decoder.predict( [target_sequence] + state_values )\n",
    "        state_values = [saida_state_h, saida_state_c]\n",
    "        index_palavra = np.argmax(dec_output[0, 0])\n",
    "        print(\"Numero Palavra: \", index_palavra)\n",
    "        if index_palavra == palavra_end:\n",
    "            break\n",
    "        # print(\"Palavra: \", palavra)\n",
    "        palavra_saida = tokenizer.sequences_to_texts([[ index_palavra ]])[0]\n",
    "        texto_saida = texto_saida + \" \" + palavra_saida\n",
    "    return texto_saida\n",
    "        "
   ]
  },
  {
   "cell_type": "code",
   "execution_count": null,
   "id": "21b3cba0-64d8-4e4b-a8b0-5003296c6f98",
   "metadata": {},
   "outputs": [],
   "source": [
    "gerar_texto(\"are you right-handed?\")"
   ]
  },
  {
   "cell_type": "code",
   "execution_count": null,
   "id": "f1e6df7f-74f1-4c7d-a929-99c634dedfc3",
   "metadata": {},
   "outputs": [],
   "source": []
  }
 ],
 "metadata": {
  "kernelspec": {
   "display_name": "Python [conda env:base] *",
   "language": "python",
   "name": "conda-base-py"
  },
  "language_info": {
   "codemirror_mode": {
    "name": "ipython",
    "version": 3
   },
   "file_extension": ".py",
   "mimetype": "text/x-python",
   "name": "python",
   "nbconvert_exporter": "python",
   "pygments_lexer": "ipython3",
   "version": "3.12.7"
  }
 },
 "nbformat": 4,
 "nbformat_minor": 5
}
