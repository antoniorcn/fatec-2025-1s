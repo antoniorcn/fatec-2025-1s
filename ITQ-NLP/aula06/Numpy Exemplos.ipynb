{
 "cells": [
  {
   "cell_type": "code",
   "execution_count": 1,
   "id": "3d310cc8-ab1e-44db-8d1e-519084a325bc",
   "metadata": {},
   "outputs": [],
   "source": [
    "import numpy as np "
   ]
  },
  {
   "cell_type": "code",
   "execution_count": 25,
   "id": "beb058a5-8ca1-4de8-96a9-515a1cf95709",
   "metadata": {},
   "outputs": [
    {
     "data": {
      "text/plain": [
       "array([[10, 20],\n",
       "       [30, 40]], dtype=uint8)"
      ]
     },
     "execution_count": 25,
     "metadata": {},
     "output_type": "execute_result"
    }
   ],
   "source": [
    "a = np.array(  [ [10, 20], [30, 40] ], dtype = np.uint8)\n",
    "a"
   ]
  },
  {
   "cell_type": "code",
   "execution_count": 27,
   "id": "29a20cf8-fc31-42ed-bfbe-72777654a0e1",
   "metadata": {},
   "outputs": [
    {
     "data": {
      "text/plain": [
       "dtype('uint8')"
      ]
     },
     "execution_count": 27,
     "metadata": {},
     "output_type": "execute_result"
    }
   ],
   "source": [
    "a.dtype"
   ]
  },
  {
   "cell_type": "raw",
   "id": "370e047f-7fda-4b73-8199-fcd14496d0ff",
   "metadata": {},
   "source": [
    "## int8 --> Utilizam 8 bits de espaço ( 0 .. 255 ) \n",
    "    128  64 32 16  8  4  2  1\n",
    "   [   |   |  |  |  |   |  |  ]\n",
    "\n",
    "\n",
    "## uint16 --> Utilizam 16 bits de espaço  ( -32768 .. 0 .. 32767 ) \n",
    "    Sig   16384 8192 4096 2048 1024 512 256 128 64 32 16  8  4  2  1\n",
    "   [     |     |    |    |    |    |   |   |   |  |  |  |   |  |  | ]"
   ]
  },
  {
   "cell_type": "code",
   "execution_count": 46,
   "id": "42389495-3d26-42c5-bbda-1cc26fdfbd12",
   "metadata": {},
   "outputs": [
    {
     "data": {
      "text/plain": [
       "(2, 2)"
      ]
     },
     "execution_count": 46,
     "metadata": {},
     "output_type": "execute_result"
    }
   ],
   "source": [
    "a.shape"
   ]
  },
  {
   "cell_type": "code",
   "execution_count": 34,
   "id": "116d7066-bd36-4ad8-803b-a9a83fdc5c46",
   "metadata": {
    "scrolled": true
   },
   "outputs": [
    {
     "data": {
      "text/plain": [
       "2"
      ]
     },
     "execution_count": 34,
     "metadata": {},
     "output_type": "execute_result"
    }
   ],
   "source": [
    "a.ndim"
   ]
  },
  {
   "cell_type": "code",
   "execution_count": 38,
   "id": "1da33844-0ec0-4da6-8651-e78b4cbd93e9",
   "metadata": {},
   "outputs": [],
   "source": [
    "b = np.array( [ \n",
    "    [ [10, 20], [30, 40] ], \n",
    "    [ [50, 60], [70, 80] ], \n",
    "    [ [90, 100], [110, 120] ]\n",
    "])"
   ]
  },
  {
   "cell_type": "code",
   "execution_count": 40,
   "id": "595a94bd-6939-4b48-afc3-0ba8e2792355",
   "metadata": {},
   "outputs": [
    {
     "data": {
      "text/plain": [
       "3"
      ]
     },
     "execution_count": 40,
     "metadata": {},
     "output_type": "execute_result"
    }
   ],
   "source": [
    "b.ndim"
   ]
  },
  {
   "cell_type": "code",
   "execution_count": 42,
   "id": "304f484c-6a06-4c84-9871-6e5dc2072594",
   "metadata": {},
   "outputs": [
    {
     "data": {
      "text/plain": [
       "dtype('int32')"
      ]
     },
     "execution_count": 42,
     "metadata": {},
     "output_type": "execute_result"
    }
   ],
   "source": [
    "b.dtype"
   ]
  },
  {
   "cell_type": "code",
   "execution_count": 44,
   "id": "469554e0-6e77-4eb0-ac0e-b0a6adde2db3",
   "metadata": {},
   "outputs": [
    {
     "data": {
      "text/plain": [
       "(3, 2, 2)"
      ]
     },
     "execution_count": 44,
     "metadata": {},
     "output_type": "execute_result"
    }
   ],
   "source": [
    "b.shape"
   ]
  },
  {
   "cell_type": "code",
   "execution_count": 56,
   "id": "349ab827-8b5e-4764-b7c7-fffd964306c4",
   "metadata": {},
   "outputs": [
    {
     "data": {
      "text/plain": [
       "array([[1., 1., 1., 1., 1., 1., 1., 1.],\n",
       "       [1., 1., 1., 1., 1., 1., 1., 1.],\n",
       "       [1., 1., 1., 1., 1., 1., 1., 1.],\n",
       "       [1., 1., 1., 1., 1., 1., 1., 1.],\n",
       "       [1., 1., 1., 1., 1., 1., 1., 1.],\n",
       "       [1., 1., 1., 1., 1., 1., 1., 1.],\n",
       "       [1., 1., 1., 1., 1., 1., 1., 1.],\n",
       "       [1., 1., 1., 1., 1., 1., 1., 1.]])"
      ]
     },
     "execution_count": 56,
     "metadata": {},
     "output_type": "execute_result"
    }
   ],
   "source": [
    "z = np.ones([8, 8])\n",
    "z"
   ]
  },
  {
   "cell_type": "code",
   "execution_count": 66,
   "id": "a35143f5-501f-425b-b0d5-8b9d14c6d4b1",
   "metadata": {},
   "outputs": [
    {
     "data": {
      "text/plain": [
       "array([0. , 0.1, 0.2, 0.3, 0.4, 0.5, 0.6, 0.7, 0.8, 0.9, 1. , 1.1, 1.2,\n",
       "       1.3, 1.4, 1.5, 1.6, 1.7, 1.8, 1.9, 2. , 2.1, 2.2, 2.3, 2.4, 2.5,\n",
       "       2.6, 2.7, 2.8, 2.9, 3. , 3.1, 3.2, 3.3, 3.4, 3.5, 3.6, 3.7, 3.8,\n",
       "       3.9, 4. , 4.1, 4.2, 4.3, 4.4, 4.5, 4.6, 4.7, 4.8, 4.9, 5. , 5.1,\n",
       "       5.2, 5.3, 5.4, 5.5, 5.6, 5.7, 5.8, 5.9, 6. , 6.1, 6.2, 6.3, 6.4,\n",
       "       6.5, 6.6, 6.7, 6.8, 6.9, 7. , 7.1, 7.2, 7.3, 7.4, 7.5, 7.6, 7.7,\n",
       "       7.8, 7.9, 8. , 8.1, 8.2, 8.3, 8.4, 8.5, 8.6, 8.7, 8.8, 8.9, 9. ,\n",
       "       9.1, 9.2, 9.3, 9.4, 9.5, 9.6, 9.7, 9.8, 9.9])"
      ]
     },
     "execution_count": 66,
     "metadata": {},
     "output_type": "execute_result"
    }
   ],
   "source": [
    "faixa = np.arange(0, 10, 0.1)\n",
    "faixa"
   ]
  },
  {
   "cell_type": "code",
   "execution_count": 68,
   "id": "d7319db0-4934-4aef-8c5b-21a31b6c2e5b",
   "metadata": {},
   "outputs": [
    {
     "data": {
      "text/plain": [
       "array([0. , 0.1, 0.2, 0.3, 0.4, 0.5, 0.6, 0.7, 0.8, 0.9, 1. , 1.1, 1.2,\n",
       "       1.3, 1.4, 1.5, 1.6, 1.7, 1.8, 1.9, 2. , 2.1, 2.2, 2.3, 2.4, 2.5,\n",
       "       2.6, 2.7, 2.8, 2.9, 3. , 3.1, 3.2, 3.3, 3.4, 3.5, 3.6, 3.7, 3.8,\n",
       "       3.9, 4. , 4.1, 4.2, 4.3, 4.4, 4.5, 4.6, 4.7, 4.8, 4.9])"
      ]
     },
     "execution_count": 68,
     "metadata": {},
     "output_type": "execute_result"
    }
   ],
   "source": [
    "faixa1 = np.arange(0, 5, 0.1)\n",
    "faixa1"
   ]
  },
  {
   "cell_type": "code",
   "execution_count": 72,
   "id": "6b4ce53d-e47d-4a4e-a541-1f1713316cce",
   "metadata": {},
   "outputs": [
    {
     "data": {
      "text/plain": [
       "array([-5. , -4.9, -4.8, -4.7, -4.6, -4.5, -4.4, -4.3, -4.2, -4.1, -4. ,\n",
       "       -3.9, -3.8, -3.7, -3.6, -3.5, -3.4, -3.3, -3.2, -3.1, -3. , -2.9,\n",
       "       -2.8, -2.7, -2.6, -2.5, -2.4, -2.3, -2.2, -2.1, -2. , -1.9, -1.8,\n",
       "       -1.7, -1.6, -1.5, -1.4, -1.3, -1.2, -1.1, -1. , -0.9, -0.8, -0.7,\n",
       "       -0.6, -0.5, -0.4, -0.3, -0.2, -0.1])"
      ]
     },
     "execution_count": 72,
     "metadata": {},
     "output_type": "execute_result"
    }
   ],
   "source": [
    "faixa2 = np.arange(-5, 0, 0.1)\n",
    "faixa2"
   ]
  },
  {
   "cell_type": "code",
   "execution_count": 82,
   "id": "93718967-ec1f-4430-8abd-b47912fccfa6",
   "metadata": {},
   "outputs": [
    {
     "data": {
      "text/plain": [
       "array([-5. , -4.9, -4.8, -4.7, -4.6, -4.5, -4.4, -4.3, -4.2, -4.1, -4. ,\n",
       "       -3.9, -3.8, -3.7, -3.6, -3.5, -3.4, -3.3, -3.2, -3.1, -3. , -2.9,\n",
       "       -2.8, -2.7, -2.6, -2.5, -2.4, -2.3, -2.2, -2.1, -2. , -1.9, -1.8,\n",
       "       -1.7, -1.6, -1.5, -1.4, -1.3, -1.2, -1.1, -1. , -0.9, -0.8, -0.7,\n",
       "       -0.6, -0.5, -0.4, -0.3, -0.2, -0.1,  0. ,  0.1,  0.2,  0.3,  0.4,\n",
       "        0.5,  0.6,  0.7,  0.8,  0.9,  1. ,  1.1,  1.2,  1.3,  1.4,  1.5,\n",
       "        1.6,  1.7,  1.8,  1.9,  2. ,  2.1,  2.2,  2.3,  2.4,  2.5,  2.6,\n",
       "        2.7,  2.8,  2.9,  3. ,  3.1,  3.2,  3.3,  3.4,  3.5,  3.6,  3.7,\n",
       "        3.8,  3.9,  4. ,  4.1,  4.2,  4.3,  4.4,  4.5,  4.6,  4.7,  4.8,\n",
       "        4.9])"
      ]
     },
     "execution_count": 82,
     "metadata": {},
     "output_type": "execute_result"
    }
   ],
   "source": [
    "faixa_total = np.concatenate([faixa2, faixa1])\n",
    "faixa_total"
   ]
  },
  {
   "cell_type": "code",
   "execution_count": 84,
   "id": "cb7a5dd0-3649-48ca-9982-e7c66c00e3a7",
   "metadata": {},
   "outputs": [
    {
     "data": {
      "text/plain": [
       "array([-5, -4, -4, -4, -4, -4, -4, -4, -4, -4, -4, -3, -3, -3, -3, -3, -3,\n",
       "       -3, -3, -3, -3, -2, -2, -2, -2, -2, -2, -2, -2, -2, -2, -1, -1, -1,\n",
       "       -1, -1, -1, -1, -1, -1, -1,  0,  0,  0,  0,  0,  0,  0,  0,  0,  0,\n",
       "        0,  0,  0,  0,  0,  0,  0,  0,  0,  1,  1,  1,  1,  1,  1,  1,  1,\n",
       "        1,  1,  2,  2,  2,  2,  2,  2,  2,  2,  2,  2,  3,  3,  3,  3,  3,\n",
       "        3,  3,  3,  3,  3,  4,  4,  4,  4,  4,  4,  4,  4,  4,  4])"
      ]
     },
     "execution_count": 84,
     "metadata": {},
     "output_type": "execute_result"
    }
   ],
   "source": [
    "faixa_total.astype(np.int32)"
   ]
  },
  {
   "cell_type": "code",
   "execution_count": 86,
   "id": "ffab369b-49b1-4264-8407-e0b0cc225808",
   "metadata": {},
   "outputs": [
    {
     "data": {
      "text/plain": [
       "array([[1., 1., 1., 1., 1., 1., 1., 1.],\n",
       "       [1., 1., 1., 1., 1., 1., 1., 1.],\n",
       "       [1., 1., 1., 1., 1., 1., 1., 1.],\n",
       "       [1., 1., 1., 1., 1., 1., 1., 1.],\n",
       "       [1., 1., 1., 1., 1., 1., 1., 1.],\n",
       "       [1., 1., 1., 1., 1., 1., 1., 1.],\n",
       "       [1., 1., 1., 1., 1., 1., 1., 1.],\n",
       "       [1., 1., 1., 1., 1., 1., 1., 1.]])"
      ]
     },
     "execution_count": 86,
     "metadata": {},
     "output_type": "execute_result"
    }
   ],
   "source": [
    "uns = np.ones([8, 8])\n",
    "uns"
   ]
  },
  {
   "cell_type": "code",
   "execution_count": 94,
   "id": "a7e15aa4-0672-4ef4-8f99-910660bcca3c",
   "metadata": {},
   "outputs": [
    {
     "data": {
      "text/plain": [
       "array([0., 0., 0., 0., 0., 0., 0., 0., 0., 0., 0., 0., 0., 0., 0., 0., 0.,\n",
       "       0., 0., 0., 0., 0., 0., 0., 0., 0., 0., 0., 0., 0., 0., 0., 0., 0.,\n",
       "       0., 0., 0., 0., 0., 0., 0., 0., 0., 0., 0., 0., 0., 0., 0., 0., 0.,\n",
       "       0., 0., 0., 0., 0., 0., 0., 0., 0., 0., 0., 0., 0., 0., 0., 0., 0.,\n",
       "       0., 0., 0., 0., 0., 0., 0., 0., 0., 0., 0., 0., 0., 0., 0., 0., 0.,\n",
       "       0., 0., 0., 0., 0., 0., 0., 0., 0., 0., 0., 0., 0., 0., 0.])"
      ]
     },
     "execution_count": 94,
     "metadata": {},
     "output_type": "execute_result"
    }
   ],
   "source": [
    "np.zeros_like( faixa_total )"
   ]
  },
  {
   "cell_type": "code",
   "execution_count": 108,
   "id": "dac54688-8f9b-4d23-b843-26f2d7287d44",
   "metadata": {},
   "outputs": [
    {
     "data": {
      "text/plain": [
       "array([[ 8, 10, 10,  2],\n",
       "       [ 1,  5,  6,  5],\n",
       "       [16, 17,  4, 10],\n",
       "       [ 5,  4, 19,  7],\n",
       "       [16, 17, 11, 17]])"
      ]
     },
     "execution_count": 108,
     "metadata": {},
     "output_type": "execute_result"
    }
   ],
   "source": [
    "np.random.randint(1, 20, [5,4])"
   ]
  },
  {
   "cell_type": "code",
   "execution_count": 110,
   "id": "5b3db4fa-92f5-4d6e-bd43-fe1d27f1258f",
   "metadata": {},
   "outputs": [
    {
     "data": {
      "text/plain": [
       "array([[5.79296392e-01, 9.31727180e-01, 3.01768902e-01, 3.37228331e-01,\n",
       "        5.64421390e-01, 8.86997642e-01, 4.37317878e-01, 3.21527506e-01],\n",
       "       [1.19916139e-01, 4.15682967e-01, 3.81533127e-01, 3.38096927e-02,\n",
       "        4.16282793e-01, 2.57840245e-01, 1.61597877e-01, 1.88054101e-01],\n",
       "       [8.98838486e-01, 2.73403148e-01, 6.76349038e-01, 7.48429409e-01,\n",
       "        3.52984383e-01, 2.33114751e-01, 6.80347067e-01, 9.40672916e-01],\n",
       "       [5.16022281e-01, 6.38210190e-01, 3.73254758e-04, 8.34709282e-01,\n",
       "        4.67692602e-02, 1.72355136e-01, 7.60302357e-02, 8.52324730e-01],\n",
       "       [8.63112723e-01, 8.57414594e-01, 1.40817842e-01, 2.69266477e-01,\n",
       "        2.21917595e-01, 7.93117134e-01, 2.87011939e-02, 7.22479555e-01],\n",
       "       [9.17919295e-02, 3.09232493e-01, 1.29550995e-01, 7.39110169e-02,\n",
       "        5.19597402e-01, 6.15707136e-01, 1.57943695e-01, 2.59002436e-01],\n",
       "       [5.35500409e-01, 3.78439545e-01, 5.16297008e-02, 4.85968344e-01,\n",
       "        3.31264089e-01, 7.70784316e-01, 6.68139846e-01, 1.03719823e-01],\n",
       "       [2.78989044e-01, 5.50260900e-01, 1.74067445e-01, 2.64826596e-02,\n",
       "        3.46260979e-01, 1.42995399e-01, 2.11029110e-01, 3.12126303e-01]])"
      ]
     },
     "execution_count": 110,
     "metadata": {},
     "output_type": "execute_result"
    }
   ],
   "source": [
    "np.random.random([8,8])"
   ]
  },
  {
   "cell_type": "code",
   "execution_count": 120,
   "id": "b127ef28-a5f1-41e5-bb31-a7862f8d2189",
   "metadata": {},
   "outputs": [
    {
     "data": {
      "text/plain": [
       "array([ 1,  2,  3,  4,  5,  6,  7,  8,  9, 10, 11, 12, 13, 14, 15, 16, 17,\n",
       "       18, 19, 20, 21, 22, 23, 24, 25, 26, 27, 28, 29, 30, 31, 32, 33, 34,\n",
       "       35, 36, 37, 38, 39, 40, 41, 42, 43, 44, 45, 46, 47, 48, 49, 50])"
      ]
     },
     "execution_count": 120,
     "metadata": {},
     "output_type": "execute_result"
    }
   ],
   "source": [
    "numeros = np.arange(1, 51)\n",
    "numeros"
   ]
  },
  {
   "cell_type": "code",
   "execution_count": 130,
   "id": "e68de47b-40db-48f1-bee3-fd275ffe0f72",
   "metadata": {},
   "outputs": [
    {
     "ename": "ValueError",
     "evalue": "cannot reshape array of size 50 into shape (6)",
     "output_type": "error",
     "traceback": [
      "\u001b[1;31m---------------------------------------------------------------------------\u001b[0m",
      "\u001b[1;31mValueError\u001b[0m                                Traceback (most recent call last)",
      "Cell \u001b[1;32mIn[130], line 1\u001b[0m\n\u001b[1;32m----> 1\u001b[0m numeros\u001b[38;5;241m.\u001b[39mreshape( [\u001b[38;5;241m-\u001b[39m\u001b[38;5;241m1\u001b[39m, \u001b[38;5;241m6\u001b[39m] )\n",
      "\u001b[1;31mValueError\u001b[0m: cannot reshape array of size 50 into shape (6)"
     ]
    }
   ],
   "source": [
    "numeros.reshape( [-1, 6] ) "
   ]
  },
  {
   "cell_type": "code",
   "execution_count": 132,
   "id": "6460cb01-6585-4cee-9502-91a5b15c7a03",
   "metadata": {},
   "outputs": [
    {
     "data": {
      "text/plain": [
       "array([ 1,  2,  3,  4,  5,  6,  7,  8,  9, 10, 11, 12, 13, 14, 15, 16, 17,\n",
       "       18, 19, 20, 21, 22, 23, 24, 25, 26, 27, 28, 29, 30, 31, 32, 33, 34,\n",
       "       35, 36, 37, 38, 39, 40, 41, 42, 43, 44, 45, 46, 47, 48, 49, 50])"
      ]
     },
     "execution_count": 132,
     "metadata": {},
     "output_type": "execute_result"
    }
   ],
   "source": [
    "numeros.ravel()"
   ]
  },
  {
   "cell_type": "code",
   "execution_count": 134,
   "id": "b82ea3b9-826b-4d34-a8d4-c0ffbf34a470",
   "metadata": {},
   "outputs": [
    {
     "data": {
      "text/plain": [
       "array([[  0,   1,   2,   3,   4,   5,   6,   7,   8,   9],\n",
       "       [ 10,  11,  12,  13,  14,  15,  16,  17,  18,  19],\n",
       "       [ 20,  21,  22,  23,  24,  25,  26,  27,  28,  29],\n",
       "       [ 30,  31,  32,  33,  34,  35,  36,  37,  38,  39],\n",
       "       [ 40,  41,  42,  43,  44,  45,  46,  47,  48,  49],\n",
       "       [ 50,  51,  52,  53,  54,  55,  56,  57,  58,  59],\n",
       "       [ 60,  61,  62,  63,  64,  65,  66,  67,  68,  69],\n",
       "       [ 70,  71,  72,  73,  74,  75,  76,  77,  78,  79],\n",
       "       [ 80,  81,  82,  83,  84,  85,  86,  87,  88,  89],\n",
       "       [ 90,  91,  92,  93,  94,  95,  96,  97,  98,  99],\n",
       "       [100, 101, 102, 103, 104, 105, 106, 107, 108, 109],\n",
       "       [110, 111, 112, 113, 114, 115, 116, 117, 118, 119],\n",
       "       [120, 121, 122, 123, 124, 125, 126, 127, 128, 129],\n",
       "       [130, 131, 132, 133, 134, 135, 136, 137, 138, 139],\n",
       "       [140, 141, 142, 143, 144, 145, 146, 147, 148, 149],\n",
       "       [150, 151, 152, 153, 154, 155, 156, 157, 158, 159],\n",
       "       [160, 161, 162, 163, 164, 165, 166, 167, 168, 169],\n",
       "       [170, 171, 172, 173, 174, 175, 176, 177, 178, 179],\n",
       "       [180, 181, 182, 183, 184, 185, 186, 187, 188, 189],\n",
       "       [190, 191, 192, 193, 194, 195, 196, 197, 198, 199]])"
      ]
     },
     "execution_count": 134,
     "metadata": {},
     "output_type": "execute_result"
    }
   ],
   "source": [
    "matriz1 = np.arange(0, 200).reshape([20, -1])\n",
    "matriz1"
   ]
  },
  {
   "cell_type": "code",
   "execution_count": 136,
   "id": "b3e93a4d-12cc-49f4-9212-f6e01e53bc43",
   "metadata": {},
   "outputs": [
    {
     "data": {
      "text/plain": [
       "array([  0,   1,   2,   3,   4,   5,   6,   7,   8,   9,  10,  11,  12,\n",
       "        13,  14,  15,  16,  17,  18,  19,  20,  21,  22,  23,  24,  25,\n",
       "        26,  27,  28,  29,  30,  31,  32,  33,  34,  35,  36,  37,  38,\n",
       "        39,  40,  41,  42,  43,  44,  45,  46,  47,  48,  49,  50,  51,\n",
       "        52,  53,  54,  55,  56,  57,  58,  59,  60,  61,  62,  63,  64,\n",
       "        65,  66,  67,  68,  69,  70,  71,  72,  73,  74,  75,  76,  77,\n",
       "        78,  79,  80,  81,  82,  83,  84,  85,  86,  87,  88,  89,  90,\n",
       "        91,  92,  93,  94,  95,  96,  97,  98,  99, 100, 101, 102, 103,\n",
       "       104, 105, 106, 107, 108, 109, 110, 111, 112, 113, 114, 115, 116,\n",
       "       117, 118, 119, 120, 121, 122, 123, 124, 125, 126, 127, 128, 129,\n",
       "       130, 131, 132, 133, 134, 135, 136, 137, 138, 139, 140, 141, 142,\n",
       "       143, 144, 145, 146, 147, 148, 149, 150, 151, 152, 153, 154, 155,\n",
       "       156, 157, 158, 159, 160, 161, 162, 163, 164, 165, 166, 167, 168,\n",
       "       169, 170, 171, 172, 173, 174, 175, 176, 177, 178, 179, 180, 181,\n",
       "       182, 183, 184, 185, 186, 187, 188, 189, 190, 191, 192, 193, 194,\n",
       "       195, 196, 197, 198, 199])"
      ]
     },
     "execution_count": 136,
     "metadata": {},
     "output_type": "execute_result"
    }
   ],
   "source": [
    "matriz1.ravel()"
   ]
  },
  {
   "cell_type": "code",
   "execution_count": 142,
   "id": "bf788e5a-51eb-4baa-9088-55ef1cb03bbe",
   "metadata": {},
   "outputs": [
    {
     "data": {
      "text/plain": [
       "array([  0,   1,   2,   3,   4,   5,   6,   7,   8,   9,  10,  11,  12,\n",
       "        13,  14,  15,  16,  17,  18,  19,  20,  21,  22,  23,  24,  25,\n",
       "        26,  27,  28,  29,  30,  31,  32,  33,  34,  35,  36,  37,  38,\n",
       "        39,  40,  41,  42,  43,  44,  45,  46,  47,  48,  49,  50,  51,\n",
       "        52,  53,  54,  55,  56,  57,  58,  59,  60,  61,  62,  63,  64,\n",
       "        65,  66,  67,  68,  69,  70,  71,  72,  73,  74,  75,  76,  77,\n",
       "        78,  79,  80,  81,  82,  83,  84,  85,  86,  87,  88,  89,  90,\n",
       "        91,  92,  93,  94,  95,  96,  97,  98,  99, 100, 101, 102, 103,\n",
       "       104, 105, 106, 107, 108, 109, 110, 111, 112, 113, 114, 115, 116,\n",
       "       117, 118, 119, 120, 121, 122, 123, 124, 125, 126, 127, 128, 129,\n",
       "       130, 131, 132, 133, 134, 135, 136, 137, 138, 139, 140, 141, 142,\n",
       "       143, 144, 145, 146, 147, 148, 149, 150, 151, 152, 153, 154, 155,\n",
       "       156, 157, 158, 159, 160, 161, 162, 163, 164, 165, 166, 167, 168,\n",
       "       169, 170, 171, 172, 173, 174, 175, 176, 177, 178, 179, 180, 181,\n",
       "       182, 183, 184, 185, 186, 187, 188, 189, 190, 191, 192, 193, 194,\n",
       "       195, 196, 197, 198, 199])"
      ]
     },
     "execution_count": 142,
     "metadata": {},
     "output_type": "execute_result"
    }
   ],
   "source": [
    "matriz2 = matriz1.flatten().copy()\n",
    "matriz2"
   ]
  },
  {
   "cell_type": "code",
   "execution_count": 150,
   "id": "ef2d836f-b2a3-4e38-869d-c6a933fa55e7",
   "metadata": {},
   "outputs": [
    {
     "data": {
      "text/plain": [
       "array([[ 0, 10],\n",
       "       [20, 30],\n",
       "       [40, 50],\n",
       "       [60, 70],\n",
       "       [80, 90]])"
      ]
     },
     "execution_count": 150,
     "metadata": {},
     "output_type": "execute_result"
    }
   ],
   "source": [
    "matriz_original = np.arange( 0, 100, 10 ).reshape([5, 2])\n",
    "matriz_original"
   ]
  },
  {
   "cell_type": "code",
   "execution_count": 152,
   "id": "4ef42cfe-248d-480a-936a-a1f610e4cbe4",
   "metadata": {
    "scrolled": true
   },
   "outputs": [
    {
     "data": {
      "text/plain": [
       "array([[ 0, 10, 20, 30, 40],\n",
       "       [50, 60, 70, 80, 90]])"
      ]
     },
     "execution_count": 152,
     "metadata": {},
     "output_type": "execute_result"
    }
   ],
   "source": [
    "matriz_original.reshape([2, -1])"
   ]
  },
  {
   "cell_type": "code",
   "execution_count": 154,
   "id": "d90fb780-4ff5-431d-8687-e7ae7d4a57b6",
   "metadata": {},
   "outputs": [
    {
     "data": {
      "text/plain": [
       "array([[ 0, 20, 40, 60, 80],\n",
       "       [10, 30, 50, 70, 90]])"
      ]
     },
     "execution_count": 154,
     "metadata": {},
     "output_type": "execute_result"
    }
   ],
   "source": [
    "matriz_original.transpose()"
   ]
  },
  {
   "cell_type": "code",
   "execution_count": 158,
   "id": "0f00c663-60c6-4b1b-a710-0e764d4212b2",
   "metadata": {},
   "outputs": [
    {
     "data": {
      "text/plain": [
       "array([[ 0, 20, 40, 60, 80],\n",
       "       [10, 30, 50, 70, 90]])"
      ]
     },
     "execution_count": 158,
     "metadata": {},
     "output_type": "execute_result"
    }
   ],
   "source": [
    "matriz_transposta = matriz_original.T\n",
    "matriz_transposta"
   ]
  },
  {
   "cell_type": "code",
   "execution_count": 160,
   "id": "67adc8d2-d971-4a44-bdf0-64dbad170135",
   "metadata": {},
   "outputs": [],
   "source": [
    "np.savez('matriz.npz', matriz=matriz_transposta)"
   ]
  },
  {
   "cell_type": "code",
   "execution_count": 172,
   "id": "1ec98d24-a094-4d7c-b1f6-257fd2139607",
   "metadata": {},
   "outputs": [
    {
     "data": {
      "text/plain": [
       "array([[ 0, 20, 40, 60, 80],\n",
       "       [10, 30, 50, 70, 90]])"
      ]
     },
     "execution_count": 172,
     "metadata": {},
     "output_type": "execute_result"
    }
   ],
   "source": [
    "matriz_carregada = np.load('matriz.npz')[\"matriz\"]\n",
    "matriz_carregada"
   ]
  },
  {
   "cell_type": "code",
   "execution_count": 174,
   "id": "dddc66d2-5616-4391-80d1-11343801701e",
   "metadata": {},
   "outputs": [
    {
     "data": {
      "text/plain": [
       "array([[ 0, 10, 20, 30, 40],\n",
       "       [50, 60, 70, 80, 90]])"
      ]
     },
     "execution_count": 174,
     "metadata": {},
     "output_type": "execute_result"
    }
   ],
   "source": [
    "matriz_original.reshape([2, -1])\n"
   ]
  },
  {
   "cell_type": "code",
   "execution_count": 178,
   "id": "15a4373b-baf0-451c-ad71-e25c8682ad2f",
   "metadata": {},
   "outputs": [
    {
     "data": {
      "text/plain": [
       "array([[   0,  200,  800, 1800, 3200],\n",
       "       [ 500, 1800, 3500, 5600, 8100]])"
      ]
     },
     "execution_count": 178,
     "metadata": {},
     "output_type": "execute_result"
    }
   ],
   "source": [
    "matriz_carregada * matriz_original.reshape([2, -1])"
   ]
  },
  {
   "cell_type": "code",
   "execution_count": 182,
   "id": "af53f435-377c-4d14-b907-ae08f9093999",
   "metadata": {},
   "outputs": [
    {
     "data": {
      "text/plain": [
       "array([[ 0, 20, 40, 60, 80],\n",
       "       [10, 30, 50, 70, 90]])"
      ]
     },
     "execution_count": 182,
     "metadata": {},
     "output_type": "execute_result"
    }
   ],
   "source": [
    "matriz_carregada"
   ]
  },
  {
   "cell_type": "code",
   "execution_count": 188,
   "id": "05f1d1bd-8983-4d0d-bb77-62f0180a7076",
   "metadata": {},
   "outputs": [
    {
     "data": {
      "text/plain": [
       "array([[ True, False, False,  True, False],\n",
       "       [False,  True, False, False,  True]])"
      ]
     },
     "execution_count": 188,
     "metadata": {},
     "output_type": "execute_result"
    }
   ],
   "source": [
    "matriz_carregada % 3 == 0"
   ]
  },
  {
   "cell_type": "code",
   "execution_count": 198,
   "id": "b25c6b59-d76b-4163-bf4c-5be0b55b1bba",
   "metadata": {},
   "outputs": [
    {
     "data": {
      "text/plain": [
       "array([[ 0, 20, 40, 60, 80],\n",
       "       [10, 30, 50, 70, 90]])"
      ]
     },
     "execution_count": 198,
     "metadata": {},
     "output_type": "execute_result"
    }
   ],
   "source": [
    "copia1 = matriz_carregada.view()\n",
    "copia1"
   ]
  },
  {
   "cell_type": "code",
   "execution_count": 200,
   "id": "e53d0830-5992-4764-ac7a-c72028748a15",
   "metadata": {},
   "outputs": [],
   "source": [
    "copia1 = copia1 % 3 == 0"
   ]
  },
  {
   "cell_type": "code",
   "execution_count": 202,
   "id": "03394a31-c2e6-4f1a-9292-54276d9758f4",
   "metadata": {},
   "outputs": [
    {
     "data": {
      "text/plain": [
       "array([[ True, False, False,  True, False],\n",
       "       [False,  True, False, False,  True]])"
      ]
     },
     "execution_count": 202,
     "metadata": {},
     "output_type": "execute_result"
    }
   ],
   "source": [
    "copia1"
   ]
  },
  {
   "cell_type": "code",
   "execution_count": 204,
   "id": "e64f8d4c-c0d2-421d-bab7-0a737bfa670d",
   "metadata": {},
   "outputs": [
    {
     "data": {
      "text/plain": [
       "array([[ 0, 20, 40, 60, 80],\n",
       "       [10, 30, 50, 70, 90]])"
      ]
     },
     "execution_count": 204,
     "metadata": {},
     "output_type": "execute_result"
    }
   ],
   "source": [
    "matriz_carregada"
   ]
  },
  {
   "cell_type": "code",
   "execution_count": 230,
   "id": "37c87e0e-ee17-426b-aae5-e248535b57f0",
   "metadata": {},
   "outputs": [
    {
     "name": "stderr",
     "output_type": "stream",
     "text": [
      "C:\\Users\\anton\\AppData\\Local\\Temp\\ipykernel_18688\\1881799409.py:1: RuntimeWarning: divide by zero encountered in divide\n",
      "  matriz_carregada/0\n",
      "C:\\Users\\anton\\AppData\\Local\\Temp\\ipykernel_18688\\1881799409.py:1: RuntimeWarning: invalid value encountered in divide\n",
      "  matriz_carregada/0\n"
     ]
    },
    {
     "data": {
      "text/plain": [
       "array([[nan, inf, inf, inf, inf],\n",
       "       [inf, inf, inf, inf, inf]])"
      ]
     },
     "execution_count": 230,
     "metadata": {},
     "output_type": "execute_result"
    }
   ],
   "source": [
    "matriz_carregada/0"
   ]
  },
  {
   "cell_type": "code",
   "execution_count": 242,
   "id": "b629fd63-64b1-45a4-88b5-25211cbe1e4c",
   "metadata": {},
   "outputs": [
    {
     "data": {
      "text/plain": [
       "array([[60, 80],\n",
       "       [70, 90]])"
      ]
     },
     "execution_count": 242,
     "metadata": {},
     "output_type": "execute_result"
    }
   ],
   "source": [
    "matriz_carregada[:, -2:]"
   ]
  },
  {
   "cell_type": "code",
   "execution_count": 258,
   "id": "e08f115e-dd27-4eed-98ef-88d595ae1261",
   "metadata": {},
   "outputs": [
    {
     "data": {
      "text/plain": [
       "array([[6, 3, 5, 3, 4, 7, 6, 4],\n",
       "       [8, 8, 5, 9, 1, 9, 6, 3],\n",
       "       [4, 7, 3, 1, 6, 8, 2, 8],\n",
       "       [7, 8, 9, 5, 7, 4, 6, 1],\n",
       "       [8, 4, 9, 4, 4, 9, 7, 5],\n",
       "       [5, 9, 6, 9, 1, 3, 5, 7],\n",
       "       [7, 7, 1, 8, 2, 9, 3, 2],\n",
       "       [8, 1, 8, 8, 9, 3, 3, 6]])"
      ]
     },
     "execution_count": 258,
     "metadata": {},
     "output_type": "execute_result"
    }
   ],
   "source": [
    "tabuleiro = np.random.randint(1, 10, [8, 8])\n",
    "tabuleiro"
   ]
  },
  {
   "cell_type": "code",
   "execution_count": 264,
   "id": "4f14e2dd-16d8-468d-96d4-c8bb257c395e",
   "metadata": {},
   "outputs": [],
   "source": [
    "outra_matriz = tabuleiro[1:-1, 1:-1]"
   ]
  },
  {
   "cell_type": "code",
   "execution_count": 276,
   "id": "aa1770f3-bcd8-4a6b-8c31-94ff286f1b6c",
   "metadata": {},
   "outputs": [
    {
     "data": {
      "text/plain": [
       "array([[0, 5, 9, 1, 9, 0],\n",
       "       [7, 3, 1, 0, 0, 0],\n",
       "       [0, 9, 5, 7, 0, 0],\n",
       "       [0, 9, 0, 0, 9, 7],\n",
       "       [9, 0, 9, 1, 3, 5],\n",
       "       [7, 1, 0, 0, 9, 3]])"
      ]
     },
     "execution_count": 276,
     "metadata": {},
     "output_type": "execute_result"
    }
   ],
   "source": [
    "outra_matriz[outra_matriz %2 == 0] = 0\n",
    "outra_matriz"
   ]
  },
  {
   "cell_type": "code",
   "execution_count": 280,
   "id": "ec67b7fd-4ae4-42c6-9cd6-3001bd5378d7",
   "metadata": {},
   "outputs": [
    {
     "data": {
      "text/plain": [
       "array([1, 0, 9, 9, 3, 5])"
      ]
     },
     "execution_count": 280,
     "metadata": {},
     "output_type": "execute_result"
    }
   ],
   "source": [
    "outra_matriz[ ::-1, 1 ] "
   ]
  },
  {
   "cell_type": "code",
   "execution_count": 296,
   "id": "a8614b71-4b51-43f3-b426-d22a83961df2",
   "metadata": {},
   "outputs": [
    {
     "data": {
      "text/plain": [
       "array([24, 11, 21, 25, 27, 20])"
      ]
     },
     "execution_count": 296,
     "metadata": {},
     "output_type": "execute_result"
    }
   ],
   "source": [
    "outra_matriz.sum(axis=1)"
   ]
  },
  {
   "cell_type": "code",
   "execution_count": 298,
   "id": "1ef4a7c4-92ee-4251-b70d-102b81dd28e0",
   "metadata": {},
   "outputs": [
    {
     "data": {
      "text/plain": [
       "array([[0, 5, 9, 1, 9, 0],\n",
       "       [7, 3, 1, 0, 0, 0],\n",
       "       [0, 9, 5, 7, 0, 0],\n",
       "       [0, 9, 0, 0, 9, 7],\n",
       "       [9, 0, 9, 1, 3, 5],\n",
       "       [7, 1, 0, 0, 9, 3]])"
      ]
     },
     "execution_count": 298,
     "metadata": {},
     "output_type": "execute_result"
    }
   ],
   "source": [
    "outra_matriz"
   ]
  },
  {
   "cell_type": "code",
   "execution_count": 302,
   "id": "3c784cd5-2f69-4215-8cf5-c14530057533",
   "metadata": {},
   "outputs": [
    {
     "data": {
      "text/plain": [
       "array([[ 0, 20, 40, 60, 80],\n",
       "       [10, 30, 50, 70, 90]])"
      ]
     },
     "execution_count": 302,
     "metadata": {},
     "output_type": "execute_result"
    }
   ],
   "source": [
    "matrix1 = matriz_carregada\n",
    "matrix1"
   ]
  },
  {
   "cell_type": "code",
   "execution_count": 320,
   "id": "6aac08ea-8803-4a20-b9a1-be50ce4cc6b8",
   "metadata": {},
   "outputs": [
    {
     "data": {
      "text/plain": [
       "array([[ 0, 50],\n",
       "       [10, 60],\n",
       "       [20, 70],\n",
       "       [30, 80],\n",
       "       [40, 90]])"
      ]
     },
     "execution_count": 320,
     "metadata": {},
     "output_type": "execute_result"
    }
   ],
   "source": [
    "matrix2 = matriz_original.reshape([2, -1])\n",
    "matrix2.T"
   ]
  },
  {
   "cell_type": "code",
   "execution_count": 316,
   "id": "53bf7b66-b756-4499-97ba-51391f9be94a",
   "metadata": {},
   "outputs": [
    {
     "data": {
      "text/plain": [
       "(2, 5)"
      ]
     },
     "execution_count": 316,
     "metadata": {},
     "output_type": "execute_result"
    }
   ],
   "source": [
    "matrix1.shape"
   ]
  },
  {
   "cell_type": "code",
   "execution_count": 314,
   "id": "5ea735e8-cde4-48d1-9f5b-dfbd0d55e35b",
   "metadata": {},
   "outputs": [
    {
     "data": {
      "text/plain": [
       "(2, 5)"
      ]
     },
     "execution_count": 314,
     "metadata": {},
     "output_type": "execute_result"
    }
   ],
   "source": [
    " matrix2.shape"
   ]
  },
  {
   "cell_type": "code",
   "execution_count": 318,
   "id": "d02dd070-95fd-40c4-83ba-e940e813da5a",
   "metadata": {},
   "outputs": [
    {
     "data": {
      "text/plain": [
       "array([[ 6000, 16000],\n",
       "       [ 7000, 19500]])"
      ]
     },
     "execution_count": 318,
     "metadata": {},
     "output_type": "execute_result"
    }
   ],
   "source": [
    "np.dot(matrix1, matrix2.T)"
   ]
  },
  {
   "cell_type": "code",
   "execution_count": null,
   "id": "6a50c6ce-acf9-45cf-9262-c6dd9388925a",
   "metadata": {},
   "outputs": [],
   "source": []
  }
 ],
 "metadata": {
  "kernelspec": {
   "display_name": "Python [conda env:base] *",
   "language": "python",
   "name": "conda-base-py"
  },
  "language_info": {
   "codemirror_mode": {
    "name": "ipython",
    "version": 3
   },
   "file_extension": ".py",
   "mimetype": "text/x-python",
   "name": "python",
   "nbconvert_exporter": "python",
   "pygments_lexer": "ipython3",
   "version": "3.12.7"
  }
 },
 "nbformat": 4,
 "nbformat_minor": 5
}
