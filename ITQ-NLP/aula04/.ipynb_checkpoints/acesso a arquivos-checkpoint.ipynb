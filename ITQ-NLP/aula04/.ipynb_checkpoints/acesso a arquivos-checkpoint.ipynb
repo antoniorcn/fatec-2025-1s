{
 "cells": [
  {
   "cell_type": "code",
   "execution_count": 210,
   "id": "bfc359d7-e65d-425c-a14c-ee2fd47808b0",
   "metadata": {},
   "outputs": [],
   "source": [
    "from string import punctuation"
   ]
  },
  {
   "cell_type": "code",
   "execution_count": 31,
   "id": "dae0831c-09f6-40e6-8ca2-da4c9aa2f1b7",
   "metadata": {},
   "outputs": [
    {
     "data": {
      "text/plain": [
       "<_io.TextIOWrapper name='./hello.txt' mode='r' encoding='utf-8'>"
      ]
     },
     "execution_count": 31,
     "metadata": {},
     "output_type": "execute_result"
    }
   ],
   "source": [
    "acesso_arquivo = open(\"./hello.txt\", \"r\", encoding=\"utf-8\")\n",
    "acesso_arquivo"
   ]
  },
  {
   "cell_type": "code",
   "execution_count": 33,
   "id": "75428dda-908d-4686-8735-767ac90acbbd",
   "metadata": {},
   "outputs": [
    {
     "data": {
      "text/plain": [
       "'H'"
      ]
     },
     "execution_count": 33,
     "metadata": {},
     "output_type": "execute_result"
    }
   ],
   "source": [
    "acesso_arquivo.read(1)"
   ]
  },
  {
   "cell_type": "code",
   "execution_count": 35,
   "id": "7991c73a-c589-4137-8050-ee28d2328ea1",
   "metadata": {},
   "outputs": [
    {
     "data": {
      "text/plain": [
       "'E'"
      ]
     },
     "execution_count": 35,
     "metadata": {},
     "output_type": "execute_result"
    }
   ],
   "source": [
    "acesso_arquivo.read(1)"
   ]
  },
  {
   "cell_type": "code",
   "execution_count": 37,
   "id": "cb7e4a41-df58-4e69-9aca-b5057b7d2119",
   "metadata": {},
   "outputs": [
    {
     "data": {
      "text/plain": [
       "'LLO WORLD NLP - 123\\nLINHA 2\\n\\n'"
      ]
     },
     "execution_count": 37,
     "metadata": {},
     "output_type": "execute_result"
    }
   ],
   "source": [
    "acesso_arquivo.read()"
   ]
  },
  {
   "cell_type": "code",
   "execution_count": 39,
   "id": "ca719c1a-0d00-4fc5-9c9f-d0b073d89b45",
   "metadata": {},
   "outputs": [],
   "source": [
    "acesso_arquivo.close()"
   ]
  },
  {
   "cell_type": "markdown",
   "id": "7eac76e8-581f-4394-afe5-b436a239720b",
   "metadata": {},
   "source": [
    "## Ler arquivo de texto delimitado usando readline"
   ]
  },
  {
   "cell_type": "code",
   "execution_count": 160,
   "id": "db367fe9-e7da-45aa-8f46-a83ed4bcd415",
   "metadata": {},
   "outputs": [],
   "source": [
    "arquivo_alunos = open(\"./alunos.delimitado.txt\", \"r\", encoding=\"utf-8\")\n",
    "linha = arquivo_alunos.readline()\n",
    "while len(linha) >= 60:\n",
    "    matricula = linha[0:5]\n",
    "    nome = linha[5:55]\n",
    "    nota = linha[55:60]\n",
    "    aluno_nota = float(nota)\n",
    "    print(f\"Matricula: {matricula}\\t Nome: {nome}\\t Nota: {aluno_nota}\")\n",
    "    linha = arquivo_alunos.readline()\n",
    "arquivo_alunos.close()"
   ]
  },
  {
   "cell_type": "markdown",
   "id": "aba9edb1-bc69-458d-9f43-86627625fa55",
   "metadata": {},
   "source": [
    "## Ler arquivo de texto delimitado usando readlines"
   ]
  },
  {
   "cell_type": "code",
   "execution_count": 168,
   "id": "dbbc07ae-4017-461d-bf74-6fb065f3b188",
   "metadata": {
    "scrolled": true
   },
   "outputs": [
    {
     "name": "stdout",
     "output_type": "stream",
     "text": [
      "['00123Antonio Silva                                      89.5 \\n', '00456Bruna Souza                                        74.3 \\n', '00789Carlos Oliveira                                    91.8 \\n', '01012Daniela Costa                                      85.7 \\n', '01345Eduardo Lima                                       78.2 \\n', '01678Fernanda Pereira                                   82.9 \\n', '01901Gabriela Mendes                                    88.4 \\n', '02234Hugo Almeida                                       93.1 \\n', '02567Isabela Barbosa                                    77.6 \\n', '02890João Santos                                        80.5\\n']\n"
     ]
    }
   ],
   "source": [
    "arquivo_alunos = open(\"./alunos.delimitado.txt\", \"r\", encoding=\"utf-8\")\n",
    "linhas = arquivo_alunos.readlines()\n",
    "print(linhas)\n",
    "arquivo_alunos.close()"
   ]
  },
  {
   "cell_type": "markdown",
   "id": "978f2b61-8198-443f-91dc-9cb7de26a76a",
   "metadata": {},
   "source": [
    "### Gravar em arquivo"
   ]
  },
  {
   "cell_type": "code",
   "execution_count": 175,
   "id": "e0616165-8ce4-4fd6-b2d8-2113bd0aaa47",
   "metadata": {},
   "outputs": [],
   "source": [
    "arquivo_teste = open(\"./teste.txt\", \"w\")\n",
    "arquivo_teste.write(\"Teste de gravacao de texto no arquivo\\n\")\n",
    "arquivo_teste.write(\"Linha 2\\n\")\n",
    "arquivo_teste.write(\"Linha 3\\n\")\n",
    "arquivo_teste.close()"
   ]
  },
  {
   "cell_type": "markdown",
   "id": "ee572441-2c31-41f6-bd38-45c043310e72",
   "metadata": {},
   "source": [
    "### Ler de um arquivo e gravar em outro"
   ]
  },
  {
   "cell_type": "code",
   "execution_count": 179,
   "id": "53593755-5339-4731-9a09-9b0e3a126e78",
   "metadata": {},
   "outputs": [],
   "source": [
    "arquivo_alunos = open(\"./alunos.delimitado.txt\", \"r\", encoding=\"utf-8\")\n",
    "linhas = arquivo_alunos.readlines()\n",
    "arquivo_alunos.close()\n",
    "\n",
    "arquivo_saida = open(\"./notas.delimitado\", \"w\")\n",
    "for linha in linhas:\n",
    "    if len(linha) >= 60:\n",
    "        matricula = linha[0:5]\n",
    "        nome = linha[5:55]\n",
    "        nota = linha[55:60]\n",
    "        aluno_nota = float(nota)\n",
    "        arquivo_saida.write(f\"{matricula}{aluno_nota}\\n\")\n",
    "arquivo_saida.close()\n"
   ]
  },
  {
   "cell_type": "code",
   "execution_count": 102,
   "id": "9fa4c564-8616-47e4-92bd-5a5a945e4d70",
   "metadata": {},
   "outputs": [
    {
     "name": "stdout",
     "output_type": "stream",
     "text": [
      "Matricula: \t Nome: \t Nota: \n"
     ]
    }
   ],
   "source": [
    "# matricula = arquivo_alunos.read(5)\n",
    "# nome = arquivo_alunos.read(50)\n",
    "# nota = arquivo_alunos.read(5)\n",
    "# enter = arquivo_alunos.read(2)\n",
    "# print(f\"Matricula: {matricula}\\t Nome: {nome}\\t Nota: {nota}\")"
   ]
  },
  {
   "cell_type": "code",
   "execution_count": 79,
   "id": "b11d8e08-0ca5-4bf4-9f08-c27aa7019d93",
   "metadata": {},
   "outputs": [
    {
     "name": "stdout",
     "output_type": "stream",
     "text": [
      "Matricula: 01012\t Nome: Daniela Costa                                     \t Nota:  85.7\n"
     ]
    }
   ],
   "source": []
  },
  {
   "cell_type": "code",
   "execution_count": 124,
   "id": "0949798a-0d2e-4ebd-85f5-ece6e38d8e7d",
   "metadata": {},
   "outputs": [],
   "source": [
    "arquivo_alunos.close()"
   ]
  },
  {
   "cell_type": "markdown",
   "id": "bb64a351-9dae-4671-8771-e0a3473b739b",
   "metadata": {},
   "source": [
    "## Rotina para leitura e calculo da média dos alunos"
   ]
  },
  {
   "cell_type": "code",
   "execution_count": 110,
   "id": "83956efc-d370-437a-95d4-a3ce46c4198f",
   "metadata": {},
   "outputs": [],
   "source": [
    "def leitura_calculo_media(): \n",
    "    arquivo_aluno = open(\"./alunos.delimitado.txt\", \"r\")\n",
    "    matricula = None\n",
    "    soma = 0\n",
    "    contador = 0\n",
    "    while matricula != \"\":\n",
    "        matricula = arquivo_alunos.read(5)\n",
    "        nome = arquivo_alunos.read(50)\n",
    "        nota = arquivo_alunos.read(5)\n",
    "        enter = arquivo_alunos.read(2)\n",
    "\n",
    "        if nota != \"\":\n",
    "            aluno_nota = float(nota)\n",
    "            soma += aluno_nota\n",
    "            contador += 1\n",
    "            print(f\"Matricula: {matricula}\\t Nome: {nome}\\t Nota: {aluno_nota}\")\n",
    "    print(f\"Soma das notas: {soma}\\t Media: {soma/contador}\")\n",
    "    arquivo_aluno.close()"
   ]
  },
  {
   "cell_type": "code",
   "execution_count": 112,
   "id": "21a57b62-620e-42b1-91af-78d228749e8f",
   "metadata": {},
   "outputs": [
    {
     "name": "stdout",
     "output_type": "stream",
     "text": [
      "Matricula: 00123\t Nome: Antonio Silva                                     \t Nota: 89.5\n",
      "Matricula: 00456\t Nome: Bruna Souza                                       \t Nota: 74.3\n",
      "Matricula: 00789\t Nome: Carlos Oliveira                                   \t Nota: 91.8\n",
      "Matricula: 01012\t Nome: Daniela Costa                                     \t Nota: 85.7\n",
      "Matricula: 01345\t Nome: Eduardo Lima                                      \t Nota: 78.2\n",
      "Matricula: 01678\t Nome: Fernanda Pereira                                  \t Nota: 82.9\n",
      "Matricula: 01901\t Nome: Gabriela Mendes                                   \t Nota: 88.4\n",
      "Matricula: 02234\t Nome: Hugo Almeida                                      \t Nota: 93.1\n",
      "Matricula: 02567\t Nome: Isabela Barbosa                                   \t Nota: 77.6\n",
      "Matricula: 02890\t Nome: JoÃ£o Santos                                      \t Nota: 80.0\n",
      "Soma das notas: 841.5\t Media: 84.15\n"
     ]
    }
   ],
   "source": [
    "leitura_calculo_media()"
   ]
  },
  {
   "cell_type": "markdown",
   "id": "ac15b30e-9224-4084-b4d5-5d12a4cd721c",
   "metadata": {},
   "source": [
    "### Carregar os tokens e seus pesos"
   ]
  },
  {
   "cell_type": "code",
   "execution_count": 220,
   "id": "fe353830-8c8c-4d2a-9f78-46c268a49d4c",
   "metadata": {},
   "outputs": [],
   "source": [
    "lexico = {}"
   ]
  },
  {
   "cell_type": "code",
   "execution_count": 222,
   "id": "3d9a19a6-d438-420f-808f-e2aa96321894",
   "metadata": {},
   "outputs": [
    {
     "name": "stdout",
     "output_type": "stream",
     "text": [
      "Leitura finalizada, lexico pronto\n"
     ]
    }
   ],
   "source": [
    "arquivo_lexico = open(\"C:\\\\git\\\\dados\\\\nlp\\\\lexico_v3.0.txt\", \"r\")\n",
    "linha = arquivo_lexico.readline()\n",
    "while linha != \"\":\n",
    "    colunas = linha.split(\",\")\n",
    "    chave = colunas[0]\n",
    "    valor = int(colunas[2])\n",
    "    lexico[chave] = valor\n",
    "    linha = arquivo_lexico.readline()\n",
    "arquivo_lexico.close()\n",
    "print(\"Leitura finalizada, lexico pronto\")"
   ]
  },
  {
   "cell_type": "code",
   "execution_count": 224,
   "id": "b7a33dea-9e26-4dd3-aa13-9d244ad92932",
   "metadata": {},
   "outputs": [
    {
     "name": "stdout",
     "output_type": "stream",
     "text": [
      "Foram lidos 32119 tokens\n"
     ]
    }
   ],
   "source": [
    "print(f\"Foram lidos {len(lexico.keys())} tokens\")"
   ]
  },
  {
   "cell_type": "code",
   "execution_count": 212,
   "id": "b01bd4e3-3b78-4d29-8545-a3ef8b48cb47",
   "metadata": {},
   "outputs": [
    {
     "data": {
      "text/plain": [
       "'!\"#$%&\\'()*+,-./:;<=>?@[\\\\]^_`{|}~'"
      ]
     },
     "execution_count": 212,
     "metadata": {},
     "output_type": "execute_result"
    }
   ],
   "source": [
    "punctuation"
   ]
  },
  {
   "cell_type": "code",
   "execution_count": 258,
   "id": "831c4d06-2aae-4a1c-a1d1-a5d03d1af6fa",
   "metadata": {},
   "outputs": [],
   "source": [
    "def analise_texto( texto ):\n",
    "    texto = texto.lower()\n",
    "    translation_table = str.maketrans('', '', punctuation)\n",
    "    cleaned_text = texto.translate(translation_table)\n",
    "    tokens = cleaned_text.split(\" \")\n",
    "    soma = 0\n",
    "    # print(cleaned_text)\n",
    "    for token in tokens:\n",
    "        if token in lexico:\n",
    "            valor = lexico[token]\n",
    "            soma = soma + valor\n",
    "            # print(f\"Token: {token}\\t Valor: {valor}\")\n",
    "    return soma"
   ]
  },
  {
   "cell_type": "code",
   "execution_count": 260,
   "id": "8df1e0ac-ac1a-404e-9426-a95fd32dcd72",
   "metadata": {},
   "outputs": [
    {
     "data": {
      "text/plain": [
       "-2"
      ]
     },
     "execution_count": 260,
     "metadata": {},
     "output_type": "execute_result"
    }
   ],
   "source": [
    "analise_texto('\"Infeliz, o ônibus atraso e chegar tarde ao trabalho.\"')"
   ]
  },
  {
   "cell_type": "code",
   "execution_count": 262,
   "id": "521976ed-d88c-4ca6-9cb1-c8611882cf16",
   "metadata": {},
   "outputs": [
    {
     "name": "stdout",
     "output_type": "stream",
     "text": [
      "Sentimento: 2\t Texto: \"Hoje o dia está ensolarado e perfeito para um passeio no parque.\"\n",
      "Sentimento: 0\t Texto: \"Infelizmente, o ônibus atrasou e cheguei tarde ao trabalho.\"\n",
      "Sentimento: 1\t Texto: \"O café na cozinha acabou e preciso comprar mais.\"\n",
      "Sentimento: 1\t Texto: \"Recebi uma promoção no trabalho e estou muito feliz com a notícia!\"\n",
      "Sentimento: -1\t Texto: \"Perdi meu celular e estou me sentindo frustrado.\"\n",
      "Sentimento: 0\t Texto: \"O jantar foi servido às sete da noite como de costume.\"\n",
      "Sentimento: 0\t Texto: \"Passei no exame final e agora posso me formar.\"\n",
      "Sentimento: 1\t Texto: \"A chuva forte causou muitos transtornos no trânsito hoje.\"\n",
      "Sentimento: 0\t Texto: \"A reunião foi agendada para a próxima quarta-feira às três horas.\"\n",
      "Sentimento: 3\t Texto: \"Ganhei um presente maravilhoso de aniversário da minha melhor amiga.\"\n",
      "Sentimento: 0\t Texto: \"Briguei com um amigo e agora estou me sentindo triste.\"\n",
      "Sentimento: 1\t Texto: \"Fui ao supermercado e comprei frutas e vegetais frescos.\"\n",
      "Sentimento: 1\t Texto: \"O show da minha banda favorita foi incrível e inesquecível.\"\n",
      "Sentimento: 1\t Texto: \"Estou doente e preciso descansar em casa.\"\n",
      "Sentimento: 0\t Texto: \"O correio entregou a correspondência hoje pela manhã.\"\n",
      "Sentimento: 2\t Texto: \"Recebi elogios do chefe pelo excelente trabalho realizado.\"\n",
      "Sentimento: -1\t Texto: \"O computador está lento e atrapalha meu trabalho.\"\n",
      "Sentimento: 1\t Texto: \"A previsão do tempo para amanhã é de sol e céu claro.\"\n",
      "Sentimento: 1\t Texto: \"A festa de casamento foi maravilhosa e todos se divertiram.\"\n",
      "Sentimento: -1\t Texto: \"A reunião foi cansativa e durou o dia todo.\"\n",
      "Sentimento: 0\t Texto: \"A entrega dos produtos ocorreu conforme o planejado.\"\n",
      "Sentimento: 1\t Texto: \"Ganhei na loteria e estou muito animado!\"\n",
      "Sentimento: -1\t Texto: \"O carro quebrou no meio da estrada e foi um grande inconveniente.\"\n",
      "Sentimento: 0\t Texto: \"A biblioteca está aberta das nove às cinco todos os dias.\"\n",
      "Sentimento: 0\t Texto: \"Passei um tempo agradável com minha família no final de semana.\"\n",
      "Sentimento: 2\t Texto: \"Perdi meu voo e agora preciso esperar pelo próximo.\"\n",
      "Sentimento: 0\t Texto: \"O relatório foi enviado para revisão ontem à tarde.\"\n",
      "Sentimento: 0\t Texto: \"A performance no teatro foi incrível e cheia de emoção.\"\n",
      "Sentimento: -1\t Texto: \"Estou decepcionado com o resultado do jogo de futebol.\"\n",
      "Sentimento: -1\t Texto: \"O ônibus passa a cada meia hora durante o dia.\"\n"
     ]
    }
   ],
   "source": [
    "textos_portugues = open(\"C:\\\\git\\\\dados\\\\nlp\\\\analise_sentimento_portugues.csv\", \"r\", encoding=\"utf-8\")\n",
    "linha = textos_portugues.readline()\n",
    "linha = textos_portugues.readline()\n",
    "while linha != \"\":\n",
    "    pos = linha.find(\",\")\n",
    "    sentimento = linha[0:pos].strip()\n",
    "    texto = linha[pos + 1:].strip()\n",
    "    valor_sentimento = analise_texto(texto)\n",
    "    print(f\"Sentimento: {valor_sentimento}\\t Texto: {texto}\")\n",
    "    linha = textos_portugues.readline()\n",
    "textos_portugues.close()"
   ]
  },
  {
   "cell_type": "code",
   "execution_count": null,
   "id": "b5ab6fd1-2eaa-4917-9b35-267f4f4d9d22",
   "metadata": {},
   "outputs": [],
   "source": []
  }
 ],
 "metadata": {
  "kernelspec": {
   "display_name": "Python [conda env:base] *",
   "language": "python",
   "name": "conda-base-py"
  },
  "language_info": {
   "codemirror_mode": {
    "name": "ipython",
    "version": 3
   },
   "file_extension": ".py",
   "mimetype": "text/x-python",
   "name": "python",
   "nbconvert_exporter": "python",
   "pygments_lexer": "ipython3",
   "version": "3.12.7"
  }
 },
 "nbformat": 4,
 "nbformat_minor": 5
}
